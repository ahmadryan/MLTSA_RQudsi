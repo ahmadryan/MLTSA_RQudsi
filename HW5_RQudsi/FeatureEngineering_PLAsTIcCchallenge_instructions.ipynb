{
  "nbformat": 4,
  "nbformat_minor": 0,
  "metadata": {
    "kernelspec": {
      "display_name": "Python 3",
      "language": "python",
      "name": "python3"
    },
    "language_info": {
      "codemirror_mode": {
        "name": "ipython",
        "version": 3
      },
      "file_extension": ".py",
      "mimetype": "text/x-python",
      "name": "python",
      "nbconvert_exporter": "python",
      "pygments_lexer": "ipython3",
      "version": "3.7.3"
    },
    "latex_envs": {
      "LaTeX_envs_menu_present": true,
      "autoclose": false,
      "autocomplete": true,
      "bibliofile": "biblio.bib",
      "cite_by": "apalike",
      "current_citInitial": 1,
      "eqLabelWithNumbers": true,
      "eqNumInitial": 1,
      "hotkeys": {
        "equation": "Ctrl-E",
        "itemize": "Ctrl-I"
      },
      "labels_anchors": false,
      "latex_user_defs": false,
      "report_style_numbering": false,
      "user_envs_cfg": false
    },
    "nbTranslate": {
      "displayLangs": [
        "*"
      ],
      "hotkey": "alt-t",
      "langInMainMenu": true,
      "sourceLang": "en",
      "targetLang": "fr",
      "useGoogleTranslate": true
    },
    "toc": {
      "base_numbering": 1,
      "nav_menu": {},
      "number_sections": true,
      "sideBar": true,
      "skip_h1_title": false,
      "title_cell": "Table of Contents",
      "title_sidebar": "Contents",
      "toc_cell": false,
      "toc_position": {},
      "toc_section_display": true,
      "toc_window_display": false
    },
    "colab": {
      "name": "FeatureEngineering_PLAsTIcCchallenge_instructions.ipynb",
      "provenance": [],
      "collapsed_sections": [
        "crTHhQyeckOq"
      ],
      "include_colab_link": true
    }
  },
  "cells": [
    {
      "cell_type": "markdown",
      "metadata": {
        "id": "view-in-github",
        "colab_type": "text"
      },
      "source": [
        "<a href=\"https://colab.research.google.com/github/ahmadryan/MLTSA_RQudsi/blob/master/HW5_RQudsi/FeatureEngineering_PLAsTIcCchallenge_instructions.ipynb\" target=\"_parent\"><img src=\"https://colab.research.google.com/assets/colab-badge.svg\" alt=\"Open In Colab\"/></a>"
      ]
    },
    {
      "cell_type": "markdown",
      "metadata": {
        "id": "FB7qV-unckNZ",
        "colab_type": "text"
      },
      "source": [
        "## this homework will be split into 2. In the first part, due by Thursday 9th at noon, you will engineer features from time series. In the second half, due Wednesday 15th at midnight, you will use those features to find structure in the feature space (unsupervised learning, i.e. clustering) and classify by example with CART (supervised learning with random forest or gradient boosted tree models)\n",
        "\n",
        "# Classifying astrophysical transients from photometry"
      ]
    },
    {
      "cell_type": "markdown",
      "metadata": {
        "id": "e_n_xwqHckNa",
        "colab_type": "text"
      },
      "source": [
        "## OVERVIEW\n",
        "\n",
        "The PLAsTiCC challend is a Kaggle challange to classify astrophysical objects (e.g. stars, exploding stars, stars with planets transiting, black holes) based on their time variability in the light emission in 6 different bands. The sampling (the cadence of the observations) is designed to show what the upcming Rubin Observatory LSST (Legacy Survey of Space and Time) will see when it starts observing (in 2023). \n",
        "\n",
        "You can refer to this notebook https://www.kaggle.com/michaelapers/the-plasticc-astronomy-starter-kit (written by my good riend Gautham Narayan in fact!) to get started and ingest and preprocess the PLASTiCC challenge data. However, this is written with a class (object oriented) and we have not talked about this syntax in class. If you are not familiar with classes do not worry about it (but you should learn them!). Also I do want you to extract the features yourself. So use it as a guideline, but do not just copy and paste.\n",
        "\n",
        "Your task is to extract features, i.e. representations of the time series, and run 2 models on these feautes: a cluster model, and a classification tree. \n",
        "\n"
      ]
    },
    {
      "cell_type": "code",
      "metadata": {
        "ExecuteTime": {
          "end_time": "2020-04-05T15:08:27.530325Z",
          "start_time": "2020-04-05T15:08:26.971473Z"
        },
        "id": "926ZMJPWckNa",
        "colab_type": "code",
        "outputId": "2a3f7d31-8ad2-46bc-a407-318807e2f6ad",
        "colab": {
          "base_uri": "https://localhost:8080/",
          "height": 34
        }
      },
      "source": [
        "import pandas as pd\n",
        "import numpy as np\n",
        "import pylab as pl\n",
        "from numpy import *\n",
        "%pylab inline\n"
      ],
      "execution_count": 1,
      "outputs": [
        {
          "output_type": "stream",
          "text": [
            "Populating the interactive namespace from numpy and matplotlib\n"
          ],
          "name": "stdout"
        }
      ]
    },
    {
      "cell_type": "markdown",
      "metadata": {
        "ExecuteTime": {
          "end_time": "2020-04-05T14:30:57.608296Z",
          "start_time": "2020-04-05T14:30:57.606452Z"
        },
        "id": "k_zOltC1ckNe",
        "colab_type": "text"
      },
      "source": [
        "# TASK:  Data Acquisition\n",
        " You can download the data from kaggle\n",
        " --- https://www.kaggle.com/c/PLAsTiCC-2018\n",
        " or from zenodo\n",
        " --- https://zenodo.org/record/2539456#.XonrIdNKjOQ\n",
        " Choose how to do it but make sure that it is a reproducible way (i.e. that Yuqic an grade each notebook and the data will be accessed automatically without modifications to the code). You will need the training data and the metadata files\n"
      ]
    },
    {
      "cell_type": "code",
      "metadata": {
        "id": "UVvNfCW-dZj2",
        "colab_type": "code",
        "outputId": "c0b9a175-97a0-4bc9-a40b-566bf4997c8b",
        "colab": {
          "base_uri": "https://localhost:8080/",
          "height": 212
        }
      },
      "source": [
        "!pip install kaggle"
      ],
      "execution_count": 2,
      "outputs": [
        {
          "output_type": "stream",
          "text": [
            "Requirement already satisfied: kaggle in /usr/local/lib/python3.6/dist-packages (1.5.6)\n",
            "Requirement already satisfied: certifi in /usr/local/lib/python3.6/dist-packages (from kaggle) (2019.11.28)\n",
            "Requirement already satisfied: requests in /usr/local/lib/python3.6/dist-packages (from kaggle) (2.21.0)\n",
            "Requirement already satisfied: python-dateutil in /usr/local/lib/python3.6/dist-packages (from kaggle) (2.8.1)\n",
            "Requirement already satisfied: tqdm in /usr/local/lib/python3.6/dist-packages (from kaggle) (4.38.0)\n",
            "Requirement already satisfied: six>=1.10 in /usr/local/lib/python3.6/dist-packages (from kaggle) (1.12.0)\n",
            "Requirement already satisfied: python-slugify in /usr/local/lib/python3.6/dist-packages (from kaggle) (4.0.0)\n",
            "Requirement already satisfied: urllib3<1.25,>=1.21.1 in /usr/local/lib/python3.6/dist-packages (from kaggle) (1.24.3)\n",
            "Requirement already satisfied: chardet<3.1.0,>=3.0.2 in /usr/local/lib/python3.6/dist-packages (from requests->kaggle) (3.0.4)\n",
            "Requirement already satisfied: idna<2.9,>=2.5 in /usr/local/lib/python3.6/dist-packages (from requests->kaggle) (2.8)\n",
            "Requirement already satisfied: text-unidecode>=1.3 in /usr/local/lib/python3.6/dist-packages (from python-slugify->kaggle) (1.3)\n"
          ],
          "name": "stdout"
        }
      ]
    },
    {
      "cell_type": "code",
      "metadata": {
        "id": "y2WZVz-Pddnr",
        "colab_type": "code",
        "outputId": "efafef5b-8c9c-49d2-b9fb-ac5e8ecd49d1",
        "colab": {
          "base_uri": "https://localhost:8080/",
          "height": 125
        }
      },
      "source": [
        "from google.colab import drive\n",
        "\n",
        "drive.mount(\"/content/gdrive\")"
      ],
      "execution_count": 3,
      "outputs": [
        {
          "output_type": "stream",
          "text": [
            "Go to this URL in a browser: https://accounts.google.com/o/oauth2/auth?client_id=947318989803-6bn6qk8qdgf4n4g3pfee6491hc0brc4i.apps.googleusercontent.com&redirect_uri=urn%3aietf%3awg%3aoauth%3a2.0%3aoob&response_type=code&scope=email%20https%3a%2f%2fwww.googleapis.com%2fauth%2fdocs.test%20https%3a%2f%2fwww.googleapis.com%2fauth%2fdrive%20https%3a%2f%2fwww.googleapis.com%2fauth%2fdrive.photos.readonly%20https%3a%2f%2fwww.googleapis.com%2fauth%2fpeopleapi.readonly\n",
            "\n",
            "Enter your authorization code:\n",
            "··········\n",
            "Mounted at /content/gdrive\n"
          ],
          "name": "stdout"
        }
      ]
    },
    {
      "cell_type": "code",
      "metadata": {
        "id": "HNTzlKnBdlWT",
        "colab_type": "code",
        "outputId": "9a818c86-c172-4cee-8f0e-0cc5f1811042",
        "colab": {
          "base_uri": "https://localhost:8080/",
          "height": 34
        }
      },
      "source": [
        "cd gdrive/My\\ Drive/"
      ],
      "execution_count": 4,
      "outputs": [
        {
          "output_type": "stream",
          "text": [
            "/content/gdrive/My Drive\n"
          ],
          "name": "stdout"
        }
      ]
    },
    {
      "cell_type": "code",
      "metadata": {
        "id": "6iQdsw6Rd_Q3",
        "colab_type": "code",
        "colab": {}
      },
      "source": [
        "import json\n",
        "import os\n",
        "envs = json.load(open(\"kaggle.json\", \"r\"))\n",
        "os.environ[\"KAGGLE_USERNAME\"] = envs['username']\n",
        "os.environ[\"KAGGLE_KEY\"] = envs['key']"
      ],
      "execution_count": 0,
      "outputs": []
    },
    {
      "cell_type": "code",
      "metadata": {
        "id": "EvXpzfiFeI-q",
        "colab_type": "code",
        "outputId": "6a52b240-e6d3-45d8-e5ff-8af2de0ebd66",
        "colab": {
          "base_uri": "https://localhost:8080/",
          "height": 54
        }
      },
      "source": [
        "os.environ"
      ],
      "execution_count": 6,
      "outputs": [
        {
          "output_type": "execute_result",
          "data": {
            "text/plain": [
              "environ({'ENV': '/root/.bashrc', 'GCS_READ_CACHE_BLOCK_SIZE_MB': '16', 'CLOUDSDK_CONFIG': '/content/.config', 'CUDA_VERSION': '10.1.243', 'PATH': '/usr/local/nvidia/bin:/usr/local/cuda/bin:/usr/local/sbin:/usr/local/bin:/usr/sbin:/usr/bin:/sbin:/bin:/tools/node/bin:/tools/google-cloud-sdk/bin:/opt/bin', 'HOME': '/root', 'LD_LIBRARY_PATH': '/usr/local/nvidia/lib:/usr/local/nvidia/lib64', 'LANG': 'en_US.UTF-8', 'SHELL': '/bin/bash', 'LIBRARY_PATH': '/usr/local/cuda/lib64/stubs', 'CUDA_PKG_VERSION': '10-1=10.1.243-1', 'SHLVL': '1', 'GCE_METADATA_TIMEOUT': '0', 'NCCL_VERSION': '2.4.8', 'NVIDIA_VISIBLE_DEVICES': 'all', 'TF_FORCE_GPU_ALLOW_GROWTH': 'true', 'DEBIAN_FRONTEND': 'noninteractive', 'CUDNN_VERSION': '7.6.5.32', 'LAST_FORCED_REBUILD': '20200316', 'JPY_PARENT_PID': '23', 'PYTHONPATH': '/env/python', 'DATALAB_SETTINGS_OVERRIDES': '{\"kernelManagerProxyPort\":6000,\"kernelManagerProxyHost\":\"172.28.0.3\",\"jupyterArgs\":[\"--ip=\\\\\"172.28.0.2\\\\\"\"]}', 'NO_GCE_CHECK': 'True', 'GLIBCXX_FORCE_NEW': '1', 'NVIDIA_DRIVER_CAPABILITIES': 'compute,utility', '_': '/tools/node/bin/node', 'LD_PRELOAD': '/usr/lib/x86_64-linux-gnu/libtcmalloc.so.4', 'NVIDIA_REQUIRE_CUDA': 'cuda>=10.1 brand=tesla,driver>=384,driver<385 brand=tesla,driver>=396,driver<397 brand=tesla,driver>=410,driver<411', 'OLDPWD': '/', 'HOSTNAME': 'b4f993dc1cd5', 'COLAB_GPU': '0', 'PWD': '/', 'GLIBCPP_FORCE_NEW': '1', 'PYTHONWARNINGS': 'ignore:::pip._internal.cli.base_command', 'TBE_CREDS_ADDR': '172.28.0.1:8008', 'TERM': 'xterm-color', 'CLICOLOR': '1', 'PAGER': 'cat', 'GIT_PAGER': 'cat', 'MPLBACKEND': 'module://ipykernel.pylab.backend_inline', 'KAGGLE_USERNAME': 'ramizqudsi', 'KAGGLE_KEY': 'e6116d3ffccaafa9e9ef2d69f1137657'})"
            ]
          },
          "metadata": {
            "tags": []
          },
          "execution_count": 6
        }
      ]
    },
    {
      "cell_type": "code",
      "metadata": {
        "id": "Bk9dYc8ieLlR",
        "colab_type": "code",
        "outputId": "a9ac5fab-0128-4a4d-f6fd-7e85adfc55b4",
        "colab": {
          "base_uri": "https://localhost:8080/",
          "height": 34
        }
      },
      "source": [
        "cd data/"
      ],
      "execution_count": 7,
      "outputs": [
        {
          "output_type": "stream",
          "text": [
            "/content/gdrive/My Drive/data\n"
          ],
          "name": "stdout"
        }
      ]
    },
    {
      "cell_type": "code",
      "metadata": {
        "id": "CV07Zm4sfWjH",
        "colab_type": "code",
        "outputId": "2fd4d2ae-69b1-47c2-ca01-1a0833acdc00",
        "colab": {
          "base_uri": "https://localhost:8080/",
          "height": 994
        }
      },
      "source": [
        "!kaggle competitions download -c PLAsTiCC-2018"
      ],
      "execution_count": 0,
      "outputs": [
        {
          "output_type": "stream",
          "text": [
            "Warning: Looks like you're using an outdated API Version, please consider updating (server 1.5.6 / client 1.5.4)\n",
            "Downloading test_set.csv.zip to /content/gdrive/My Drive/data\n",
            "100% 6.79G/6.80G [01:42<00:00, 82.9MB/s]\n",
            "100% 6.80G/6.80G [01:45<00:00, 69.3MB/s]\n",
            "Downloading test_set_batch7.csv.zip to /content/gdrive/My Drive/data\n",
            "100% 680M/682M [00:12<00:00, 28.1MB/s]\n",
            "100% 682M/682M [00:13<00:00, 54.3MB/s]\n",
            "Downloading test_set_batch8.csv.zip to /content/gdrive/My Drive/data\n",
            "100% 682M/682M [00:22<00:00, 30.3MB/s]\n",
            "100% 682M/682M [00:22<00:00, 31.6MB/s]\n",
            "Downloading test_set_sample.csv.zip to /content/gdrive/My Drive/data\n",
            " 76% 10.0M/13.2M [00:00<00:00, 27.8MB/s]\n",
            "100% 13.2M/13.2M [00:00<00:00, 29.7MB/s]\n",
            "Downloading test_set_batch11.csv.zip to /content/gdrive/My Drive/data\n",
            "100% 683M/683M [00:21<00:00, 27.9MB/s]\n",
            "100% 683M/683M [00:21<00:00, 32.6MB/s]\n",
            "Downloading test_set_batch4.csv.zip to /content/gdrive/My Drive/data\n",
            "100% 682M/683M [00:24<00:00, 24.9MB/s]\n",
            "100% 683M/683M [00:24<00:00, 29.7MB/s]\n",
            "Downloading data_note.pdf.zip to /content/gdrive/My Drive/data\n",
            "  0% 0.00/1.26M [00:00<?, ?B/s]\n",
            "100% 1.26M/1.26M [00:00<00:00, 11.6MB/s]\n",
            "Downloading training_set_metadata.csv to /content/gdrive/My Drive/data\n",
            "  0% 0.00/689k [00:00<?, ?B/s]\n",
            "100% 689k/689k [00:00<00:00, 11.1MB/s]\n",
            "Downloading test_set_batch3.csv.zip to /content/gdrive/My Drive/data\n",
            "100% 680M/682M [00:21<00:00, 33.7MB/s]\n",
            "100% 682M/682M [00:21<00:00, 32.7MB/s]\n",
            "Downloading training_set.csv.zip to /content/gdrive/My Drive/data\n",
            " 87% 18.0M/20.7M [00:00<00:00, 36.7MB/s]\n",
            "100% 20.7M/20.7M [00:00<00:00, 35.2MB/s]\n",
            "Downloading test_set_batch5.csv.zip to /content/gdrive/My Drive/data\n",
            "100% 682M/682M [00:20<00:00, 27.8MB/s]\n",
            "100% 682M/682M [00:20<00:00, 34.9MB/s]\n",
            "Downloading test_set_batch2.csv.zip to /content/gdrive/My Drive/data\n",
            "100% 679M/682M [00:19<00:00, 65.1MB/s]\n",
            "100% 682M/682M [00:19<00:00, 36.1MB/s]\n",
            "Downloading sample_submission.csv.zip to /content/gdrive/My Drive/data\n",
            " 84% 9.00M/10.7M [00:00<00:00, 44.6MB/s]\n",
            "100% 10.7M/10.7M [00:00<00:00, 42.6MB/s]\n",
            "Downloading test_set_batch9.csv.zip to /content/gdrive/My Drive/data\n",
            " 98% 667M/683M [00:05<00:00, 128MB/s]\n",
            "100% 683M/683M [00:05<00:00, 135MB/s]\n",
            "Downloading test_set_batch10.csv.zip to /content/gdrive/My Drive/data\n",
            " 99% 676M/684M [00:06<00:00, 108MB/s]\n",
            "100% 684M/684M [00:06<00:00, 110MB/s]\n",
            "Downloading test_set_batch6.csv.zip to /content/gdrive/My Drive/data\n",
            "100% 679M/682M [00:07<00:00, 97.2MB/s]\n",
            "100% 682M/682M [00:07<00:00, 98.1MB/s]\n",
            "Downloading test_set_batch1.csv.zip to /content/gdrive/My Drive/data\n",
            " 96% 137M/143M [00:01<00:00, 104MB/s]\n",
            "100% 143M/143M [00:01<00:00, 98.3MB/s]\n",
            "Downloading test_set_metadata.csv.zip to /content/gdrive/My Drive/data\n",
            " 96% 106M/110M [00:00<00:00, 121MB/s] \n",
            "100% 110M/110M [00:01<00:00, 113MB/s]\n"
          ],
          "name": "stdout"
        }
      ]
    },
    {
      "cell_type": "code",
      "metadata": {
        "id": "i3gp6T6Jf49U",
        "colab_type": "code",
        "outputId": "7f646756-f1d0-4dc0-848d-fd8937004ecd",
        "colab": {
          "base_uri": "https://localhost:8080/",
          "height": 123
        }
      },
      "source": [
        "!ls"
      ],
      "execution_count": 0,
      "outputs": [
        {
          "output_type": "stream",
          "text": [
            "data_note.pdf.zip\t   test_set_batch3.csv.zip  test_set_batch9.csv.zip\n",
            "sample_submission.csv.zip  test_set_batch4.csv.zip  test_set.csv.zip\n",
            "test_set_batch10.csv.zip   test_set_batch5.csv.zip  test_set_metadata.csv.zip\n",
            "test_set_batch11.csv.zip   test_set_batch6.csv.zip  test_set_sample.csv.zip\n",
            "test_set_batch1.csv.zip    test_set_batch7.csv.zip  training_set.csv.zip\n",
            "test_set_batch2.csv.zip    test_set_batch8.csv.zip  training_set_metadata.csv\n"
          ],
          "name": "stdout"
        }
      ]
    },
    {
      "cell_type": "code",
      "metadata": {
        "id": "Fw19LOKxiUu-",
        "colab_type": "code",
        "colab": {}
      },
      "source": [
        "%%time\n",
        "\n",
        "import os, zipfile\n",
        "\n",
        "dir_name = '/content/gdrive/My Drive/data'\n",
        "extension = \".zip\"\n",
        "\n",
        "os.chdir(dir_name) # change directory from working dir to dir with files\n",
        "\n",
        "for item in os.listdir(dir_name): # loop through items in dir\n",
        "    print(item)\n",
        "    if item.endswith(extension): # check for \".zip\" extension\n",
        "        file_name = os.path.abspath(item) # get full path of files\n",
        "        zip_ref = zipfile.ZipFile(file_name) # create zipfile object\n",
        "        zip_ref.extractall(dir_name) # extract file to dir\n",
        "        zip_ref.close() # close file\n",
        "        print('file %s unzipped' %(item))\n",
        "        os.remove(file_name) # delete zipped file"
      ],
      "execution_count": 0,
      "outputs": []
    },
    {
      "cell_type": "code",
      "metadata": {
        "ExecuteTime": {
          "end_time": "2020-04-05T15:08:28.258932Z",
          "start_time": "2020-04-05T15:08:27.532127Z"
        },
        "id": "Ov73_5E9ckNf",
        "colab_type": "code",
        "outputId": "fa1fe5bc-9360-4f33-cc6f-4699483ce00b",
        "colab": {
          "base_uri": "https://localhost:8080/",
          "height": 34
        }
      },
      "source": [
        "# NOTE::: this is not a reproducible way to do it!!!!!! this would cost points\n",
        "\n",
        "lcvs = pd.read_csv(\"training_set.csv\")\n",
        "\n",
        "# The Zenodo data include 1.4 million datapoints. \n",
        "## -- I am subsampling the data to develop the code \n",
        "# by using only the first 10000 datapoints (lcvs[:10000])\n",
        "## -- When I am done I will run this on the larger dataset (commenting out #[:10000])\n",
        "## note that I am choosing the first N=1000, as opposed to 1 every 100 or whatever \n",
        "## because there are 6 time series per obects in 6 filters (colors)\n",
        "\n",
        "lcvs = lcvs#[:10000]\n",
        "print(\"The dataset contains: (observations, columns)\", lcvs.shape)"
      ],
      "execution_count": 8,
      "outputs": [
        {
          "output_type": "stream",
          "text": [
            "The dataset contains: (observations, columns) (1421705, 6)\n"
          ],
          "name": "stdout"
        }
      ]
    },
    {
      "cell_type": "code",
      "metadata": {
        "ExecuteTime": {
          "end_time": "2020-04-05T15:08:28.271205Z",
          "start_time": "2020-04-05T15:08:28.260522Z"
        },
        "id": "zn0vpPJXckNh",
        "colab_type": "code",
        "outputId": "1b120be6-b905-4114-e60f-c1a79aeece35",
        "colab": {
          "base_uri": "https://localhost:8080/",
          "height": 197
        }
      },
      "source": [
        "lcvs.head()"
      ],
      "execution_count": 9,
      "outputs": [
        {
          "output_type": "execute_result",
          "data": {
            "text/html": [
              "<div>\n",
              "<style scoped>\n",
              "    .dataframe tbody tr th:only-of-type {\n",
              "        vertical-align: middle;\n",
              "    }\n",
              "\n",
              "    .dataframe tbody tr th {\n",
              "        vertical-align: top;\n",
              "    }\n",
              "\n",
              "    .dataframe thead th {\n",
              "        text-align: right;\n",
              "    }\n",
              "</style>\n",
              "<table border=\"1\" class=\"dataframe\">\n",
              "  <thead>\n",
              "    <tr style=\"text-align: right;\">\n",
              "      <th></th>\n",
              "      <th>object_id</th>\n",
              "      <th>mjd</th>\n",
              "      <th>passband</th>\n",
              "      <th>flux</th>\n",
              "      <th>flux_err</th>\n",
              "      <th>detected</th>\n",
              "    </tr>\n",
              "  </thead>\n",
              "  <tbody>\n",
              "    <tr>\n",
              "      <th>0</th>\n",
              "      <td>615</td>\n",
              "      <td>59750.4229</td>\n",
              "      <td>2</td>\n",
              "      <td>-544.810303</td>\n",
              "      <td>3.622952</td>\n",
              "      <td>1</td>\n",
              "    </tr>\n",
              "    <tr>\n",
              "      <th>1</th>\n",
              "      <td>615</td>\n",
              "      <td>59750.4306</td>\n",
              "      <td>1</td>\n",
              "      <td>-816.434326</td>\n",
              "      <td>5.553370</td>\n",
              "      <td>1</td>\n",
              "    </tr>\n",
              "    <tr>\n",
              "      <th>2</th>\n",
              "      <td>615</td>\n",
              "      <td>59750.4383</td>\n",
              "      <td>3</td>\n",
              "      <td>-471.385529</td>\n",
              "      <td>3.801213</td>\n",
              "      <td>1</td>\n",
              "    </tr>\n",
              "    <tr>\n",
              "      <th>3</th>\n",
              "      <td>615</td>\n",
              "      <td>59750.4450</td>\n",
              "      <td>4</td>\n",
              "      <td>-388.984985</td>\n",
              "      <td>11.395031</td>\n",
              "      <td>1</td>\n",
              "    </tr>\n",
              "    <tr>\n",
              "      <th>4</th>\n",
              "      <td>615</td>\n",
              "      <td>59752.4070</td>\n",
              "      <td>2</td>\n",
              "      <td>-681.858887</td>\n",
              "      <td>4.041204</td>\n",
              "      <td>1</td>\n",
              "    </tr>\n",
              "  </tbody>\n",
              "</table>\n",
              "</div>"
            ],
            "text/plain": [
              "   object_id         mjd  passband        flux   flux_err  detected\n",
              "0        615  59750.4229         2 -544.810303   3.622952         1\n",
              "1        615  59750.4306         1 -816.434326   5.553370         1\n",
              "2        615  59750.4383         3 -471.385529   3.801213         1\n",
              "3        615  59750.4450         4 -388.984985  11.395031         1\n",
              "4        615  59752.4070         2 -681.858887   4.041204         1"
            ]
          },
          "metadata": {
            "tags": []
          },
          "execution_count": 9
        }
      ]
    },
    {
      "cell_type": "markdown",
      "metadata": {
        "id": "bOQ9U08WckNj",
        "colab_type": "text"
      },
      "source": [
        "read the Kaggle challenge for a description of the data . This \"Starter Kit\" which includes a notebook (written by my good friend Gautham Narayan) may be especially useful\n",
        "https://www.kaggle.com/michaelapers/the-plasticc-astronomy-starter-kit"
      ]
    },
    {
      "cell_type": "markdown",
      "metadata": {
        "id": "hLxFydEMckNk",
        "colab_type": "text"
      },
      "source": [
        "For each object there are 6 time series in 6 different passbands (see overview.) "
      ]
    },
    {
      "cell_type": "code",
      "metadata": {
        "ExecuteTime": {
          "end_time": "2020-04-05T15:08:28.281141Z",
          "start_time": "2020-04-05T15:08:28.273051Z"
        },
        "id": "iHfc4BobckNk",
        "colab_type": "code",
        "outputId": "95a85036-17b7-4cc8-9ba1-f9319ff177b8",
        "colab": {
          "base_uri": "https://localhost:8080/",
          "height": 34
        }
      },
      "source": [
        "bands = lcvs[\"passband\"].unique()\n",
        "print(\"Passbands (filter) identifiers:\", bands)"
      ],
      "execution_count": 10,
      "outputs": [
        {
          "output_type": "stream",
          "text": [
            "Passbands (filter) identifiers: [2 1 3 4 5 0]\n"
          ],
          "name": "stdout"
        }
      ]
    },
    {
      "cell_type": "code",
      "metadata": {
        "id": "gfc2wNEhvcEV",
        "colab_type": "code",
        "outputId": "22aae4bc-3295-4ea4-bd01-4ba9d1e256eb",
        "colab": {
          "base_uri": "https://localhost:8080/",
          "height": 34
        }
      },
      "source": [
        "lcvs.keys()"
      ],
      "execution_count": 11,
      "outputs": [
        {
          "output_type": "execute_result",
          "data": {
            "text/plain": [
              "Index(['object_id', 'mjd', 'passband', 'flux', 'flux_err', 'detected'], dtype='object')"
            ]
          },
          "metadata": {
            "tags": []
          },
          "execution_count": 11
        }
      ]
    },
    {
      "cell_type": "code",
      "metadata": {
        "ExecuteTime": {
          "end_time": "2020-04-05T15:08:28.299030Z",
          "start_time": "2020-04-05T15:08:28.283127Z"
        },
        "id": "C7ByBGTyckNm",
        "colab_type": "code",
        "outputId": "169d3c3d-72bf-47da-e95a-b8b0fa0a6ed5",
        "colab": {
          "base_uri": "https://localhost:8080/",
          "height": 34
        }
      },
      "source": [
        "objects = lcvs[\"object_id\"].unique()\n",
        "print(\"There are {} astrophysical simulated objects in my dataset\".format(objects.shape[0]))"
      ],
      "execution_count": 12,
      "outputs": [
        {
          "output_type": "stream",
          "text": [
            "There are 7848 astrophysical simulated objects in my dataset\n"
          ],
          "name": "stdout"
        }
      ]
    },
    {
      "cell_type": "code",
      "metadata": {
        "id": "QZrMkL6Cv10J",
        "colab_type": "code",
        "outputId": "6fabf066-e90b-4ca1-928b-c496e27b345a",
        "colab": {
          "base_uri": "https://localhost:8080/",
          "height": 52
        }
      },
      "source": [
        "objects"
      ],
      "execution_count": 13,
      "outputs": [
        {
          "output_type": "execute_result",
          "data": {
            "text/plain": [
              "array([      615,       713,       730, ..., 130762946, 130772921,\n",
              "       130779836])"
            ]
          },
          "metadata": {
            "tags": []
          },
          "execution_count": 13
        }
      ]
    },
    {
      "cell_type": "code",
      "metadata": {
        "ExecuteTime": {
          "end_time": "2020-04-05T15:08:28.348921Z",
          "start_time": "2020-04-05T15:08:28.300402Z"
        },
        "id": "1cnNvHekckNp",
        "colab_type": "code",
        "outputId": "b48a7558-e775-43d0-a412-0e861cb4a423",
        "colab": {
          "base_uri": "https://localhost:8080/",
          "height": 197
        }
      },
      "source": [
        "metadata = pd.read_csv(\"test_set_metadata.csv\")\n",
        "metadata.head()"
      ],
      "execution_count": 14,
      "outputs": [
        {
          "output_type": "execute_result",
          "data": {
            "text/html": [
              "<div>\n",
              "<style scoped>\n",
              "    .dataframe tbody tr th:only-of-type {\n",
              "        vertical-align: middle;\n",
              "    }\n",
              "\n",
              "    .dataframe tbody tr th {\n",
              "        vertical-align: top;\n",
              "    }\n",
              "\n",
              "    .dataframe thead th {\n",
              "        text-align: right;\n",
              "    }\n",
              "</style>\n",
              "<table border=\"1\" class=\"dataframe\">\n",
              "  <thead>\n",
              "    <tr style=\"text-align: right;\">\n",
              "      <th></th>\n",
              "      <th>object_id</th>\n",
              "      <th>ra</th>\n",
              "      <th>decl</th>\n",
              "      <th>gal_l</th>\n",
              "      <th>gal_b</th>\n",
              "      <th>ddf</th>\n",
              "      <th>hostgal_specz</th>\n",
              "      <th>hostgal_photoz</th>\n",
              "      <th>hostgal_photoz_err</th>\n",
              "      <th>distmod</th>\n",
              "      <th>mwebv</th>\n",
              "    </tr>\n",
              "  </thead>\n",
              "  <tbody>\n",
              "    <tr>\n",
              "      <th>0</th>\n",
              "      <td>13</td>\n",
              "      <td>34.453125</td>\n",
              "      <td>-5.229529</td>\n",
              "      <td>169.987075</td>\n",
              "      <td>-59.956185</td>\n",
              "      <td>1</td>\n",
              "      <td>0.3048</td>\n",
              "      <td>0.3193</td>\n",
              "      <td>0.0542</td>\n",
              "      <td>41.1123</td>\n",
              "      <td>0.019</td>\n",
              "    </tr>\n",
              "    <tr>\n",
              "      <th>1</th>\n",
              "      <td>14</td>\n",
              "      <td>33.398438</td>\n",
              "      <td>-4.331149</td>\n",
              "      <td>167.226341</td>\n",
              "      <td>-59.936551</td>\n",
              "      <td>1</td>\n",
              "      <td>NaN</td>\n",
              "      <td>0.6323</td>\n",
              "      <td>0.0179</td>\n",
              "      <td>42.8774</td>\n",
              "      <td>0.018</td>\n",
              "    </tr>\n",
              "    <tr>\n",
              "      <th>2</th>\n",
              "      <td>17</td>\n",
              "      <td>348.529419</td>\n",
              "      <td>-61.755440</td>\n",
              "      <td>321.293980</td>\n",
              "      <td>-51.763351</td>\n",
              "      <td>1</td>\n",
              "      <td>NaN</td>\n",
              "      <td>0.8297</td>\n",
              "      <td>0.0605</td>\n",
              "      <td>43.6000</td>\n",
              "      <td>0.016</td>\n",
              "    </tr>\n",
              "    <tr>\n",
              "      <th>3</th>\n",
              "      <td>23</td>\n",
              "      <td>34.804688</td>\n",
              "      <td>-5.829153</td>\n",
              "      <td>171.307861</td>\n",
              "      <td>-60.174401</td>\n",
              "      <td>1</td>\n",
              "      <td>NaN</td>\n",
              "      <td>0.6533</td>\n",
              "      <td>0.1479</td>\n",
              "      <td>42.9640</td>\n",
              "      <td>0.023</td>\n",
              "    </tr>\n",
              "    <tr>\n",
              "      <th>4</th>\n",
              "      <td>34</td>\n",
              "      <td>351.321442</td>\n",
              "      <td>-64.198746</td>\n",
              "      <td>317.458993</td>\n",
              "      <td>-50.429931</td>\n",
              "      <td>1</td>\n",
              "      <td>0.4557</td>\n",
              "      <td>0.4617</td>\n",
              "      <td>0.0122</td>\n",
              "      <td>42.0540</td>\n",
              "      <td>0.023</td>\n",
              "    </tr>\n",
              "  </tbody>\n",
              "</table>\n",
              "</div>"
            ],
            "text/plain": [
              "   object_id          ra       decl  ...  hostgal_photoz_err  distmod  mwebv\n",
              "0         13   34.453125  -5.229529  ...              0.0542  41.1123  0.019\n",
              "1         14   33.398438  -4.331149  ...              0.0179  42.8774  0.018\n",
              "2         17  348.529419 -61.755440  ...              0.0605  43.6000  0.016\n",
              "3         23   34.804688  -5.829153  ...              0.1479  42.9640  0.023\n",
              "4         34  351.321442 -64.198746  ...              0.0122  42.0540  0.023\n",
              "\n",
              "[5 rows x 11 columns]"
            ]
          },
          "metadata": {
            "tags": []
          },
          "execution_count": 14
        }
      ]
    },
    {
      "cell_type": "code",
      "metadata": {
        "ExecuteTime": {
          "end_time": "2020-04-05T15:08:28.358952Z",
          "start_time": "2020-04-05T15:08:28.356130Z"
        },
        "id": "uQ8UPWYwckNt",
        "colab_type": "code",
        "outputId": "d3412b6d-b4e8-4760-b9d0-4add712bbbf1",
        "colab": {
          "base_uri": "https://localhost:8080/",
          "height": 34
        }
      },
      "source": [
        "print(\"The metadata dataset contains more information for each time series: (time-series, columns)\", metadata.shape)"
      ],
      "execution_count": 15,
      "outputs": [
        {
          "output_type": "stream",
          "text": [
            "The metadata dataset contains more information for each time series: (time-series, columns) (3492890, 11)\n"
          ],
          "name": "stdout"
        }
      ]
    },
    {
      "cell_type": "markdown",
      "metadata": {
        "id": "5PuJsMeyckNv",
        "colab_type": "text"
      },
      "source": [
        "* Deliverable: make sure you print statements like the ones above summarizing the size of the datasets you acquire and you show the beginning of each dataset\n",
        "\n"
      ]
    },
    {
      "cell_type": "markdown",
      "metadata": {
        "id": "uw9TlJnAckNw",
        "colab_type": "text"
      },
      "source": [
        "# TASK : data visualization - plot some time series \n",
        "You always need to visualize your data to get a sense of what we are working with\n",
        "that for each object I have 6 bands: each object is plotted separately, all bands for each object are plotted together.\n",
        "\n",
        "**Include object 84716**\n"
      ]
    },
    {
      "cell_type": "code",
      "metadata": {
        "ExecuteTime": {
          "end_time": "2020-04-05T15:08:28.363280Z",
          "start_time": "2020-04-05T15:08:28.360761Z"
        },
        "id": "l7mVsslBckNw",
        "colab_type": "code",
        "colab": {}
      },
      "source": [
        "# preparing a normalization to pass to the color map to map red filters to red blue filters to blue\n",
        "norm_band = Normalize(vmin=bands.min(), vmax=bands.max())"
      ],
      "execution_count": 0,
      "outputs": []
    },
    {
      "cell_type": "code",
      "metadata": {
        "id": "kUqWXKvMvS0Y",
        "colab_type": "code",
        "outputId": "db7d028a-0789-4f39-a1bf-c22213e52991",
        "colab": {
          "base_uri": "https://localhost:8080/",
          "height": 1000
        }
      },
      "source": [
        "# -- plot one every 100 objects\n",
        "object_list = []\n",
        "for c in objects[0::100][0:10] :\n",
        "    object_list.append(c)\n",
        "    fig, ax = pl.subplots(figsize=(5,4))\n",
        "    for b in bands:\n",
        "        new_df = lcvs.loc[(lcvs['object_id'] == c) & (lcvs['passband'] == b)]\n",
        "        pl.errorbar( new_df.mjd, new_df.flux, yerr=new_df.flux_err, ls='', marker='o', ms=3, label=f )\n",
        "        pl.xlable('mjd', fontsize=10)\n",
        "        pl.ylable('flux', fontsize=10)\n",
        "        pl.title(\"Object ID:%s\" %(c), fontsize=10)\n",
        "\n",
        "# Make sure that the object ID 84716 is included in the list and is plotted\n",
        "if(~(84716 in object_list)) :\n",
        "    object_list.append(84716)\n",
        "    for b in bands :\n",
        "        new_df = lcvs.loc[(lcvs['object_id'] == 84716) & (lcvs['passband'] == b)]\n",
        "        pl.errorbar( new_df.mjd, new_df.flux, yerr=new_df.flux_err, ls='', marker='o', ms=3, label=f )\n",
        "        pl.title(\"Object ID:84716\", fontsize=10)\n",
        "        pl.xlable('mjd', fontsize=10)\n",
        "        pl.ylable('flux', fontsize=10)"
      ],
      "execution_count": 17,
      "outputs": [
        {
          "output_type": "display_data",
          "data": {
            "image/png": "[encoded data removed]",
            "text/plain": [
              "<Figure size 360x288 with 1 Axes>"
            ]
          },
          "metadata": {
            "tags": []
          }
        },
        {
          "output_type": "display_data",
          "data": {
            "image/png": "[encoded data removed]",
            "text/plain": [
              "<Figure size 360x288 with 1 Axes>"
            ]
          },
          "metadata": {
            "tags": []
          }
        },
        {
          "output_type": "display_data",
          "data": {
            "image/png": "[encoded data removed]",
            "text/plain": [
              "<Figure size 360x288 with 1 Axes>"
            ]
          },
          "metadata": {
            "tags": []
          }
        },
        {
          "output_type": "display_data",
          "data": {
            "image/png": "[encoded data removed]",
            "text/plain": [
              "<Figure size 360x288 with 1 Axes>"
            ]
          },
          "metadata": {
            "tags": []
          }
        },
        {
          "output_type": "display_data",
          "data": {
            "image/png": "[encoded data removed]",
            "text/plain": [
              "<Figure size 360x288 with 1 Axes>"
            ]
          },
          "metadata": {
            "tags": []
          }
        },
        {
          "output_type": "display_data",
          "data": {
            "image/png": "[encoded data removed]",
            "text/plain": [
              "<Figure size 360x288 with 1 Axes>"
            ]
          },
          "metadata": {
            "tags": []
          }
        },
        {
          "output_type": "display_data",
          "data": {
            "image/png": "[encoded data removed]",
            "text/plain": [
              "<Figure size 360x288 with 1 Axes>"
            ]
          },
          "metadata": {
            "tags": []
          }
        },
        {
          "output_type": "display_data",
          "data": {
            "image/png": "[encoded data removed]",
            "text/plain": [
              "<Figure size 360x288 with 1 Axes>"
            ]
          },
          "metadata": {
            "tags": []
          }
        },
        {
          "output_type": "display_data",
          "data": {
            "image/png": "[encoded data removed]",
            "text/plain": [
              "<Figure size 360x288 with 1 Axes>"
            ]
          },
          "metadata": {
            "tags": []
          }
        },
        {
          "output_type": "display_data",
          "data": {
            "image/png": "[encoded data removed]",
            "text/plain": [
              "<Figure size 360x288 with 1 Axes>"
            ]
          },
          "metadata": {
            "tags": []
          }
        }
      ]
    },
    {
      "cell_type": "markdown",
      "metadata": {
        "id": "dFBKuY7EckN1",
        "colab_type": "text"
      },
      "source": [
        "Figure 1: PLot of flux against modified Julian days, along with errorbars for 10 different objects, selected as 100th object in the entire list. Points corresponding to different bands (5 in this case) are plotted in different colors (though same color for each band in each figure). Note the peak in flux for various different objects on different days and the typical duration of them. Specially for object 84716, for which there is steep rise in flux and then a gradual decrease. Similar pattern is observed for several other objects like 131629, 70046 etc. The change in flux for object 34299 on the other hand is quite symmetric."
      ]
    },
    {
      "cell_type": "markdown",
      "metadata": {
        "id": "rMnjdWSUckN1",
        "colab_type": "text"
      },
      "source": [
        "* Deliverable: make a plot for a subset of the objects (~10 at least). Describe what you are plotting and any notable things you see in the figure. Make sure you plot the time series (flux) against time (mjd) and also display the uncertainties int he measurement (fluxerr)"
      ]
    },
    {
      "cell_type": "markdown",
      "metadata": {
        "id": "NoxrZTLhckN1",
        "colab_type": "text"
      },
      "source": [
        "# TASK: Extract features\n",
        "*You do not have to extract exaclyt the features I am extracting! These are just examples! Extract at least 6 features including 2 features from all three category below* \n",
        "\n",
        "The code that won the callenge did a number of smart things, of course. It was a feature based classification scheme, which included Gaussian Processes in the preprocessing. The feature extraction part of the code is here. https://github.com/kboone/avocado/blob/master/avocado/plasticc.py\n",
        "\n",
        "We will work similarly, extracting some basic features for each lightcurve. \n",
        "\n",
        "Note: we are working with bigg-ish data! \n",
        "First off: every new piece should be developed on a subset of the dataset, then run on all the data only when ready. \n",
        "Still, if you try achieve goals by implementing for loops you are not going to be able to run the notebook for the whole data, or even only 1 batch of the full datase. A good solution is to use the groupby() method in pandas. I used groupby everywhere. Also it may be wise to write out intermediate outputs, so you do not have to loose work if your kernel dies or something similar. \n",
        "\n",
        "My plan is to extract:\n",
        "\n",
        "- **from the original lightcurve**: \n",
        "    - mean, \n",
        "    - standard deviation, \n",
        "    - skewness, \n",
        "    - kurthosis, \n",
        "    - minimum \n",
        "    - maximmum,\n",
        "    - error on the minimum and \n",
        "    - error on the maximum, \n",
        "- **from the standardized lightcurve**:\n",
        "    - median \n",
        "    - slop of a line fit\n",
        "    - intercept of a line fit\n",
        "    - likelihood of the line fit\n",
        "    - likelihood of a quadratic fit\n",
        "    - sign of the quadratic parameter\n",
        "\n",
        "\n",
        "- **from the metadata file**:\n",
        "    - decl ; important because the position on the sky may determin if it is a galactic or extragalactic object\n",
        "    - ddf_bool ; the kind of survey i.e. the data collection scheme that lead to the time series\n",
        "    - hostgal_photoz\n",
        "    - hostgal_photoz_err\n",
        "    \n",
        "The feature in the metadata files are the hardest ones to decide on because they require domain knowledge.\n",
        "Most of the other features in the metadata are unknown for test objects (only known for the training set)\n",
        "\n",
        "I am ok with you extracting different features! \n",
        "\n",
        "Extract **at least 6 features including 2 features from all three category above**: original lcv, standardized lcv, metadata. Justify each feature. Remember that if the features are extracted from the time series there will be 6 features for each choice of feature (for 6 passbands) so I end up with 94 features with the scheme outlined above"
      ]
    },
    {
      "cell_type": "markdown",
      "metadata": {
        "id": "MVMcwsZdckN2",
        "colab_type": "text"
      },
      "source": [
        "## TASK: 4.1\n",
        "describe each feature you plan to extract. Briefly indicate why you think it is a valuable feature and what data type is it (e.g. continuous, binary, categorical, if continuous does it have a max or min value or is it unbound?)\n",
        "\n",
        "        "
      ]
    },
    {
      "cell_type": "markdown",
      "metadata": {
        "id": "CXh_VLILckN2",
        "colab_type": "text"
      },
      "source": [
        "## TASK 4.2 extract some features from the raw lightcurve - \n",
        "I have some examples of how I did it in the next few lines of code"
      ]
    },
    {
      "cell_type": "markdown",
      "metadata": {
        "id": "1CjdfDxFckN2",
        "colab_type": "text"
      },
      "source": [
        "### Example get the mean and standard deviation of the flux in each band for each object"
      ]
    },
    {
      "cell_type": "code",
      "metadata": {
        "ExecuteTime": {
          "end_time": "2020-04-05T15:08:31.653520Z",
          "start_time": "2020-04-05T15:08:31.493218Z"
        },
        "id": "XEeA-PQLckN3",
        "colab_type": "code",
        "colab": {}
      },
      "source": [
        "means = lcvs.groupby([\"object_id\", \"passband\"])[[\"flux\"]].mean()\n",
        "stds =  lcvs.groupby([\"object_id\", \"passband\"])[[\"flux\"]].std()"
      ],
      "execution_count": 0,
      "outputs": []
    },
    {
      "cell_type": "code",
      "metadata": {
        "ExecuteTime": {
          "end_time": "2020-04-05T15:23:11.031717Z",
          "start_time": "2020-04-05T15:23:11.016579Z"
        },
        "id": "GYiazA9ickN5",
        "colab_type": "code",
        "colab": {}
      },
      "source": [
        "features = means.rename({\"flux\": \"mean\"}, \n",
        "                        axis=1).merge(stds.rename({\"flux\": \"std\"}, \n",
        "                                axis=1), left_index=True, right_index=True)"
      ],
      "execution_count": 0,
      "outputs": []
    },
    {
      "cell_type": "code",
      "metadata": {
        "id": "1gzNjEon7VXf",
        "colab_type": "code",
        "outputId": "b1a1e63c-cd9a-400e-f2c1-80148b17465d",
        "colab": {
          "base_uri": "https://localhost:8080/",
          "height": 227
        }
      },
      "source": [
        "features.head()"
      ],
      "execution_count": 20,
      "outputs": [
        {
          "output_type": "execute_result",
          "data": {
            "text/html": [
              "<div>\n",
              "<style scoped>\n",
              "    .dataframe tbody tr th:only-of-type {\n",
              "        vertical-align: middle;\n",
              "    }\n",
              "\n",
              "    .dataframe tbody tr th {\n",
              "        vertical-align: top;\n",
              "    }\n",
              "\n",
              "    .dataframe thead th {\n",
              "        text-align: right;\n",
              "    }\n",
              "</style>\n",
              "<table border=\"1\" class=\"dataframe\">\n",
              "  <thead>\n",
              "    <tr style=\"text-align: right;\">\n",
              "      <th></th>\n",
              "      <th></th>\n",
              "      <th>mean</th>\n",
              "      <th>std</th>\n",
              "    </tr>\n",
              "    <tr>\n",
              "      <th>object_id</th>\n",
              "      <th>passband</th>\n",
              "      <th></th>\n",
              "      <th></th>\n",
              "    </tr>\n",
              "  </thead>\n",
              "  <tbody>\n",
              "    <tr>\n",
              "      <th rowspan=\"5\" valign=\"top\">615</th>\n",
              "      <th>0</th>\n",
              "      <td>-3.254554</td>\n",
              "      <td>83.944735</td>\n",
              "    </tr>\n",
              "    <tr>\n",
              "      <th>1</th>\n",
              "      <td>-385.699911</td>\n",
              "      <td>601.787302</td>\n",
              "    </tr>\n",
              "    <tr>\n",
              "      <th>2</th>\n",
              "      <td>-134.146566</td>\n",
              "      <td>455.121346</td>\n",
              "    </tr>\n",
              "    <tr>\n",
              "      <th>3</th>\n",
              "      <td>-121.103501</td>\n",
              "      <td>335.425053</td>\n",
              "    </tr>\n",
              "    <tr>\n",
              "      <th>4</th>\n",
              "      <td>-55.954592</td>\n",
              "      <td>291.803449</td>\n",
              "    </tr>\n",
              "  </tbody>\n",
              "</table>\n",
              "</div>"
            ],
            "text/plain": [
              "                          mean         std\n",
              "object_id passband                        \n",
              "615       0          -3.254554   83.944735\n",
              "          1        -385.699911  601.787302\n",
              "          2        -134.146566  455.121346\n",
              "          3        -121.103501  335.425053\n",
              "          4         -55.954592  291.803449"
            ]
          },
          "metadata": {
            "tags": []
          },
          "execution_count": 20
        }
      ]
    },
    {
      "cell_type": "markdown",
      "metadata": {
        "id": "mMKy63Z0ckN7",
        "colab_type": "text"
      },
      "source": [
        "### higher order moments of the distribution can be obtained with the scipy.stats.moment() function which can be applied to a grouby() object\n",
        "note that this way you can apply a function that takes only one argument, the argument over which groupby iterates (the flux here). But moments take 2: the value and the moment Create a unction call"
      ]
    },
    {
      "cell_type": "code",
      "metadata": {
        "ExecuteTime": {
          "end_time": "2020-04-05T15:08:48.782109Z",
          "start_time": "2020-04-05T15:08:31.676698Z"
        },
        "colab_type": "code",
        "outputId": "046f68c3-599e-4712-bce1-5e6382f20e95",
        "id": "hn3f0jI7FqSP",
        "colab": {
          "base_uri": "https://localhost:8080/",
          "height": 52
        }
      },
      "source": [
        "%%time\n",
        "from scipy import stats \n",
        "def moment_computation(x, moment_order):\n",
        "    '''Define a function to compute moment of a distribution given the \n",
        "    distribution and order of moment\n",
        "    '''\n",
        "    return stats.moment(x, moment = moment_order)\n",
        "variance = lcvs.groupby([\"object_id\", \"passband\"])[\"flux\"].apply(\n",
        "                                       moment_computation, moment_order=2 )\n",
        "skewness = lcvs.groupby([\"object_id\", \"passband\"])[\"flux\"].apply(\n",
        "                                       moment_computation, moment_order=3 )\n",
        "kurtosis = lcvs.groupby([\"object_id\", \"passband\"])[\"flux\"].apply(\n",
        "                                       moment_computation, moment_order=4 )"
      ],
      "execution_count": 21,
      "outputs": [
        {
          "output_type": "stream",
          "text": [
            "CPU times: user 35.1 s, sys: 451 ms, total: 35.5 s\n",
            "Wall time: 34.9 s\n"
          ],
          "name": "stdout"
        }
      ]
    },
    {
      "cell_type": "code",
      "metadata": {
        "id": "vJ_AWsZ6IE3p",
        "colab_type": "code",
        "outputId": "85beec42-f9fa-43a9-af48-3ddfae65f65d",
        "colab": {
          "base_uri": "https://localhost:8080/",
          "height": 247
        }
      },
      "source": [
        "variance"
      ],
      "execution_count": 22,
      "outputs": [
        {
          "output_type": "execute_result",
          "data": {
            "text/plain": [
              "object_id  passband\n",
              "615        0           6.934866e+03\n",
              "           1           3.559040e+05\n",
              "           2           2.035641e+05\n",
              "           3           1.105701e+05\n",
              "           4           8.368116e+04\n",
              "                           ...     \n",
              "130779836  1           1.314631e+06\n",
              "           2           3.981988e+07\n",
              "           3           1.989993e+06\n",
              "           4           1.164893e+08\n",
              "           5           7.169244e+07\n",
              "Name: flux, Length: 47088, dtype: float64"
            ]
          },
          "metadata": {
            "tags": []
          },
          "execution_count": 22
        }
      ]
    },
    {
      "cell_type": "code",
      "metadata": {
        "id": "GGFpACXvIzS7",
        "colab_type": "code",
        "colab": {}
      },
      "source": [
        "features['variance'] = variance\n",
        "features['skewness'] = skewness\n",
        "features['kurtosis'] = kurtosis"
      ],
      "execution_count": 0,
      "outputs": []
    },
    {
      "cell_type": "code",
      "metadata": {
        "id": "8f3XW8ZAJMyJ",
        "colab_type": "code",
        "outputId": "e063bb83-386e-4aeb-89ee-8a0fd7c75e4a",
        "colab": {
          "base_uri": "https://localhost:8080/",
          "height": 436
        }
      },
      "source": [
        "features"
      ],
      "execution_count": 24,
      "outputs": [
        {
          "output_type": "execute_result",
          "data": {
            "text/html": [
              "<div>\n",
              "<style scoped>\n",
              "    .dataframe tbody tr th:only-of-type {\n",
              "        vertical-align: middle;\n",
              "    }\n",
              "\n",
              "    .dataframe tbody tr th {\n",
              "        vertical-align: top;\n",
              "    }\n",
              "\n",
              "    .dataframe thead th {\n",
              "        text-align: right;\n",
              "    }\n",
              "</style>\n",
              "<table border=\"1\" class=\"dataframe\">\n",
              "  <thead>\n",
              "    <tr style=\"text-align: right;\">\n",
              "      <th></th>\n",
              "      <th></th>\n",
              "      <th>mean</th>\n",
              "      <th>std</th>\n",
              "      <th>variance</th>\n",
              "      <th>skewness</th>\n",
              "      <th>kurtosis</th>\n",
              "    </tr>\n",
              "    <tr>\n",
              "      <th>object_id</th>\n",
              "      <th>passband</th>\n",
              "      <th></th>\n",
              "      <th></th>\n",
              "      <th></th>\n",
              "      <th></th>\n",
              "      <th></th>\n",
              "    </tr>\n",
              "  </thead>\n",
              "  <tbody>\n",
              "    <tr>\n",
              "      <th rowspan=\"5\" valign=\"top\">615</th>\n",
              "      <th>0</th>\n",
              "      <td>-3.254554</td>\n",
              "      <td>83.944735</td>\n",
              "      <td>6.934866e+03</td>\n",
              "      <td>7.266579e+04</td>\n",
              "      <td>7.433032e+07</td>\n",
              "    </tr>\n",
              "    <tr>\n",
              "      <th>1</th>\n",
              "      <td>-385.699911</td>\n",
              "      <td>601.787302</td>\n",
              "      <td>3.559040e+05</td>\n",
              "      <td>8.593916e+07</td>\n",
              "      <td>2.215166e+11</td>\n",
              "    </tr>\n",
              "    <tr>\n",
              "      <th>2</th>\n",
              "      <td>-134.146566</td>\n",
              "      <td>455.121346</td>\n",
              "      <td>2.035641e+05</td>\n",
              "      <td>3.040627e+07</td>\n",
              "      <td>6.659406e+10</td>\n",
              "    </tr>\n",
              "    <tr>\n",
              "      <th>3</th>\n",
              "      <td>-121.103501</td>\n",
              "      <td>335.425053</td>\n",
              "      <td>1.105701e+05</td>\n",
              "      <td>1.049664e+07</td>\n",
              "      <td>1.919999e+10</td>\n",
              "    </tr>\n",
              "    <tr>\n",
              "      <th>4</th>\n",
              "      <td>-55.954592</td>\n",
              "      <td>291.803449</td>\n",
              "      <td>8.368116e+04</td>\n",
              "      <td>4.717542e+06</td>\n",
              "      <td>1.036570e+10</td>\n",
              "    </tr>\n",
              "    <tr>\n",
              "      <th>...</th>\n",
              "      <th>...</th>\n",
              "      <td>...</td>\n",
              "      <td>...</td>\n",
              "      <td>...</td>\n",
              "      <td>...</td>\n",
              "      <td>...</td>\n",
              "    </tr>\n",
              "    <tr>\n",
              "      <th rowspan=\"5\" valign=\"top\">130779836</th>\n",
              "      <th>1</th>\n",
              "      <td>725.169852</td>\n",
              "      <td>1197.557111</td>\n",
              "      <td>1.314631e+06</td>\n",
              "      <td>2.360077e+09</td>\n",
              "      <td>6.519913e+12</td>\n",
              "    </tr>\n",
              "    <tr>\n",
              "      <th>2</th>\n",
              "      <td>2690.360415</td>\n",
              "      <td>6440.422386</td>\n",
              "      <td>3.981988e+07</td>\n",
              "      <td>9.572595e+11</td>\n",
              "      <td>2.746095e+16</td>\n",
              "    </tr>\n",
              "    <tr>\n",
              "      <th>3</th>\n",
              "      <td>755.993902</td>\n",
              "      <td>1443.868085</td>\n",
              "      <td>1.989993e+06</td>\n",
              "      <td>6.673022e+09</td>\n",
              "      <td>2.923373e+13</td>\n",
              "    </tr>\n",
              "    <tr>\n",
              "      <th>4</th>\n",
              "      <td>3489.185336</td>\n",
              "      <td>11006.766106</td>\n",
              "      <td>1.164893e+08</td>\n",
              "      <td>5.307167e+12</td>\n",
              "      <td>2.715703e+17</td>\n",
              "    </tr>\n",
              "    <tr>\n",
              "      <th>5</th>\n",
              "      <td>4151.358875</td>\n",
              "      <td>8687.101173</td>\n",
              "      <td>7.169244e+07</td>\n",
              "      <td>1.380872e+12</td>\n",
              "      <td>3.407459e+16</td>\n",
              "    </tr>\n",
              "  </tbody>\n",
              "</table>\n",
              "<p>47088 rows × 5 columns</p>\n",
              "</div>"
            ],
            "text/plain": [
              "                           mean           std  ...      skewness      kurtosis\n",
              "object_id passband                             ...                            \n",
              "615       0           -3.254554     83.944735  ...  7.266579e+04  7.433032e+07\n",
              "          1         -385.699911    601.787302  ...  8.593916e+07  2.215166e+11\n",
              "          2         -134.146566    455.121346  ...  3.040627e+07  6.659406e+10\n",
              "          3         -121.103501    335.425053  ...  1.049664e+07  1.919999e+10\n",
              "          4          -55.954592    291.803449  ...  4.717542e+06  1.036570e+10\n",
              "...                         ...           ...  ...           ...           ...\n",
              "130779836 1          725.169852   1197.557111  ...  2.360077e+09  6.519913e+12\n",
              "          2         2690.360415   6440.422386  ...  9.572595e+11  2.746095e+16\n",
              "          3          755.993902   1443.868085  ...  6.673022e+09  2.923373e+13\n",
              "          4         3489.185336  11006.766106  ...  5.307167e+12  2.715703e+17\n",
              "          5         4151.358875   8687.101173  ...  1.380872e+12  3.407459e+16\n",
              "\n",
              "[47088 rows x 5 columns]"
            ]
          },
          "metadata": {
            "tags": []
          },
          "execution_count": 24
        }
      ]
    },
    {
      "cell_type": "markdown",
      "metadata": {
        "id": "4auo7vq8ckN_",
        "colab_type": "text"
      },
      "source": [
        "### Even with the same standard deviation two distribution can be very different. \n",
        "Look at the this article for a great demonstation of that! https://heap.io/blog/data-stories/anscombes-quartet-and-why-summary-statistics-dont-tell-the-whole-story\n",
        "\n",
        "I extracted  the max and min, but also their uncertainties becaus outlier points may be measurement issues, in which case the uncertainty may be large : see the plot you made for 84716!\n",
        "\n",
        "If a distribution has spikes the standard deviation will be larger even if the other datapoints are exactly the same. Save the mean and the max of both original distribution and the standardized one (standardized = mean subtracted and divided by the standard deviation). \n"
      ]
    },
    {
      "cell_type": "code",
      "metadata": {
        "ExecuteTime": {
          "end_time": "2020-04-05T15:08:48.931839Z",
          "start_time": "2020-04-05T15:08:48.783635Z"
        },
        "id": "WRynNq2PckOA",
        "colab_type": "code",
        "colab": {}
      },
      "source": [
        "maxs = lcvs.groupby([\"object_id\", \"passband\"])[\"flux\"].max()\n",
        "mins =  lcvs.groupby([\"object_id\", \"passband\"])[\"flux\"].min()"
      ],
      "execution_count": 0,
      "outputs": []
    },
    {
      "cell_type": "code",
      "metadata": {
        "ExecuteTime": {
          "end_time": "2020-04-05T15:23:27.183976Z",
          "start_time": "2020-04-05T15:23:27.164525Z"
        },
        "id": "GaZpW-beckOC",
        "colab_type": "code",
        "colab": {}
      },
      "source": [
        "features[\"maxs\"] = maxs\n",
        "features[\"mins\"] = mins"
      ],
      "execution_count": 0,
      "outputs": []
    },
    {
      "cell_type": "code",
      "metadata": {
        "id": "bsJcZCtMLc_W",
        "colab_type": "code",
        "colab": {
          "base_uri": "https://localhost:8080/",
          "height": 52
        },
        "outputId": "6c61342b-0950-4d5e-9f17-43737a4b5fc8"
      },
      "source": [
        "%%time\n",
        "max_std = lcvs.groupby([\"object_id\", \"passband\"])[\"flux\"].transform(lambda x: (x - x.mean()) / x.std())\n",
        "max_std"
      ],
      "execution_count": 27,
      "outputs": [
        {
          "output_type": "stream",
          "text": [
            "CPU times: user 38.3 s, sys: 1.2 s, total: 39.5 s\n",
            "Wall time: 37.6 s\n"
          ],
          "name": "stdout"
        }
      ]
    },
    {
      "cell_type": "code",
      "metadata": {
        "id": "vK5czFVaNe3h",
        "colab_type": "code",
        "colab": {}
      },
      "source": [
        "def normalize_by_group(df, by):\n",
        "    groups = df.groupby(by)\n",
        "    # computes group-wise mean/std,\n",
        "    # then auto broadcasts to size of group chunk\n",
        "    mean = groups.transform(np.mean)\n",
        "    std = groups.transform(np.std)\n",
        "    return (df[mean.columns] - mean) / std"
      ],
      "execution_count": 0,
      "outputs": []
    },
    {
      "cell_type": "code",
      "metadata": {
        "id": "O5SyHFsNO9qC",
        "colab_type": "code",
        "outputId": "4927b8ab-e8be-45f4-d3c9-f350ed1c0466",
        "colab": {
          "base_uri": "https://localhost:8080/",
          "height": 52
        }
      },
      "source": [
        "%%time\n",
        "def normed_max(x) :\n",
        "    return max(( x -  x.mean() ) /x.std())\n",
        "\n",
        "max_std = lcvs.groupby([\"object_id\", \"passband\"])[\"flux\"].apply(normed_max)"
      ],
      "execution_count": 29,
      "outputs": [
        {
          "output_type": "stream",
          "text": [
            "CPU times: user 29.4 s, sys: 760 ms, total: 30.2 s\n",
            "Wall time: 29 s\n"
          ],
          "name": "stdout"
        }
      ]
    },
    {
      "cell_type": "code",
      "metadata": {
        "id": "Ro3dwlqFTBc9",
        "colab_type": "code",
        "outputId": "dbee73f8-142f-42d6-c762-e08378c2b975",
        "colab": {
          "base_uri": "https://localhost:8080/",
          "height": 52
        }
      },
      "source": [
        "%%time\n",
        "def normed_min(x) :\n",
        "    return min(( x -  x.mean() ) /x.std())\n",
        "\n",
        "min_std = lcvs.groupby([\"object_id\", \"passband\"])[\"flux\"].apply(normed_min)"
      ],
      "execution_count": 30,
      "outputs": [
        {
          "output_type": "stream",
          "text": [
            "CPU times: user 26.5 s, sys: 142 ms, total: 26.7 s\n",
            "Wall time: 26.5 s\n"
          ],
          "name": "stdout"
        }
      ]
    },
    {
      "cell_type": "code",
      "metadata": {
        "id": "gPCgSkx8LL0p",
        "colab_type": "code",
        "colab": {}
      },
      "source": [
        "features[\"max_std\"] = max_std\n",
        "features[\"min_std\"] = min_std"
      ],
      "execution_count": 0,
      "outputs": []
    },
    {
      "cell_type": "code",
      "metadata": {
        "id": "zk_2BH22LSHR",
        "colab_type": "code",
        "outputId": "eb95c72c-af97-4842-b8a3-384768f79f01",
        "colab": {
          "base_uri": "https://localhost:8080/",
          "height": 436
        }
      },
      "source": [
        "features"
      ],
      "execution_count": 32,
      "outputs": [
        {
          "output_type": "execute_result",
          "data": {
            "text/html": [
              "<div>\n",
              "<style scoped>\n",
              "    .dataframe tbody tr th:only-of-type {\n",
              "        vertical-align: middle;\n",
              "    }\n",
              "\n",
              "    .dataframe tbody tr th {\n",
              "        vertical-align: top;\n",
              "    }\n",
              "\n",
              "    .dataframe thead th {\n",
              "        text-align: right;\n",
              "    }\n",
              "</style>\n",
              "<table border=\"1\" class=\"dataframe\">\n",
              "  <thead>\n",
              "    <tr style=\"text-align: right;\">\n",
              "      <th></th>\n",
              "      <th></th>\n",
              "      <th>mean</th>\n",
              "      <th>std</th>\n",
              "      <th>variance</th>\n",
              "      <th>skewness</th>\n",
              "      <th>kurtosis</th>\n",
              "      <th>maxs</th>\n",
              "      <th>mins</th>\n",
              "      <th>max_std</th>\n",
              "      <th>min_std</th>\n",
              "    </tr>\n",
              "    <tr>\n",
              "      <th>object_id</th>\n",
              "      <th>passband</th>\n",
              "      <th></th>\n",
              "      <th></th>\n",
              "      <th></th>\n",
              "      <th></th>\n",
              "      <th></th>\n",
              "      <th></th>\n",
              "      <th></th>\n",
              "      <th></th>\n",
              "      <th></th>\n",
              "    </tr>\n",
              "  </thead>\n",
              "  <tbody>\n",
              "    <tr>\n",
              "      <th rowspan=\"5\" valign=\"top\">615</th>\n",
              "      <th>0</th>\n",
              "      <td>-3.254554</td>\n",
              "      <td>83.944735</td>\n",
              "      <td>6.934866e+03</td>\n",
              "      <td>7.266579e+04</td>\n",
              "      <td>7.433032e+07</td>\n",
              "      <td>125.182808</td>\n",
              "      <td>-116.913223</td>\n",
              "      <td>1.530023</td>\n",
              "      <td>-1.353970</td>\n",
              "    </tr>\n",
              "    <tr>\n",
              "      <th>1</th>\n",
              "      <td>-385.699911</td>\n",
              "      <td>601.787302</td>\n",
              "      <td>3.559040e+05</td>\n",
              "      <td>8.593916e+07</td>\n",
              "      <td>2.215166e+11</td>\n",
              "      <td>660.626343</td>\n",
              "      <td>-1100.440063</td>\n",
              "      <td>1.738698</td>\n",
              "      <td>-1.187696</td>\n",
              "    </tr>\n",
              "    <tr>\n",
              "      <th>2</th>\n",
              "      <td>-134.146566</td>\n",
              "      <td>455.121346</td>\n",
              "      <td>2.035641e+05</td>\n",
              "      <td>3.040627e+07</td>\n",
              "      <td>6.659406e+10</td>\n",
              "      <td>611.984558</td>\n",
              "      <td>-681.858887</td>\n",
              "      <td>1.639411</td>\n",
              "      <td>-1.203442</td>\n",
              "    </tr>\n",
              "    <tr>\n",
              "      <th>3</th>\n",
              "      <td>-121.103501</td>\n",
              "      <td>335.425053</td>\n",
              "      <td>1.105701e+05</td>\n",
              "      <td>1.049664e+07</td>\n",
              "      <td>1.919999e+10</td>\n",
              "      <td>445.737061</td>\n",
              "      <td>-530.644592</td>\n",
              "      <td>1.689917</td>\n",
              "      <td>-1.220962</td>\n",
              "    </tr>\n",
              "    <tr>\n",
              "      <th>4</th>\n",
              "      <td>-55.954592</td>\n",
              "      <td>291.803449</td>\n",
              "      <td>8.368116e+04</td>\n",
              "      <td>4.717542e+06</td>\n",
              "      <td>1.036570e+10</td>\n",
              "      <td>381.953735</td>\n",
              "      <td>-422.184509</td>\n",
              "      <td>1.500696</td>\n",
              "      <td>-1.255057</td>\n",
              "    </tr>\n",
              "    <tr>\n",
              "      <th>...</th>\n",
              "      <th>...</th>\n",
              "      <td>...</td>\n",
              "      <td>...</td>\n",
              "      <td>...</td>\n",
              "      <td>...</td>\n",
              "      <td>...</td>\n",
              "      <td>...</td>\n",
              "      <td>...</td>\n",
              "      <td>...</td>\n",
              "      <td>...</td>\n",
              "    </tr>\n",
              "    <tr>\n",
              "      <th rowspan=\"5\" valign=\"top\">130779836</th>\n",
              "      <th>1</th>\n",
              "      <td>725.169852</td>\n",
              "      <td>1197.557111</td>\n",
              "      <td>1.314631e+06</td>\n",
              "      <td>2.360077e+09</td>\n",
              "      <td>6.519913e+12</td>\n",
              "      <td>3320.936279</td>\n",
              "      <td>-34.273514</td>\n",
              "      <td>2.167551</td>\n",
              "      <td>-0.634160</td>\n",
              "    </tr>\n",
              "    <tr>\n",
              "      <th>2</th>\n",
              "      <td>2690.360415</td>\n",
              "      <td>6440.422386</td>\n",
              "      <td>3.981988e+07</td>\n",
              "      <td>9.572595e+11</td>\n",
              "      <td>2.746095e+16</td>\n",
              "      <td>31437.089844</td>\n",
              "      <td>-14.478923</td>\n",
              "      <td>4.463485</td>\n",
              "      <td>-0.419979</td>\n",
              "    </tr>\n",
              "    <tr>\n",
              "      <th>3</th>\n",
              "      <td>755.993902</td>\n",
              "      <td>1443.868085</td>\n",
              "      <td>1.989993e+06</td>\n",
              "      <td>6.673022e+09</td>\n",
              "      <td>2.923373e+13</td>\n",
              "      <td>4995.144043</td>\n",
              "      <td>-41.850040</td>\n",
              "      <td>2.935968</td>\n",
              "      <td>-0.552574</td>\n",
              "    </tr>\n",
              "    <tr>\n",
              "      <th>4</th>\n",
              "      <td>3489.185336</td>\n",
              "      <td>11006.766106</td>\n",
              "      <td>1.164893e+08</td>\n",
              "      <td>5.307167e+12</td>\n",
              "      <td>2.715703e+17</td>\n",
              "      <td>54982.875000</td>\n",
              "      <td>-72.634567</td>\n",
              "      <td>4.678367</td>\n",
              "      <td>-0.323603</td>\n",
              "    </tr>\n",
              "    <tr>\n",
              "      <th>5</th>\n",
              "      <td>4151.358875</td>\n",
              "      <td>8687.101173</td>\n",
              "      <td>7.169244e+07</td>\n",
              "      <td>1.380872e+12</td>\n",
              "      <td>3.407459e+16</td>\n",
              "      <td>29058.212891</td>\n",
              "      <td>-86.457382</td>\n",
              "      <td>2.867108</td>\n",
              "      <td>-0.487829</td>\n",
              "    </tr>\n",
              "  </tbody>\n",
              "</table>\n",
              "<p>47088 rows × 9 columns</p>\n",
              "</div>"
            ],
            "text/plain": [
              "                           mean           std  ...   max_std   min_std\n",
              "object_id passband                             ...                    \n",
              "615       0           -3.254554     83.944735  ...  1.530023 -1.353970\n",
              "          1         -385.699911    601.787302  ...  1.738698 -1.187696\n",
              "          2         -134.146566    455.121346  ...  1.639411 -1.203442\n",
              "          3         -121.103501    335.425053  ...  1.689917 -1.220962\n",
              "          4          -55.954592    291.803449  ...  1.500696 -1.255057\n",
              "...                         ...           ...  ...       ...       ...\n",
              "130779836 1          725.169852   1197.557111  ...  2.167551 -0.634160\n",
              "          2         2690.360415   6440.422386  ...  4.463485 -0.419979\n",
              "          3          755.993902   1443.868085  ...  2.935968 -0.552574\n",
              "          4         3489.185336  11006.766106  ...  4.678367 -0.323603\n",
              "          5         4151.358875   8687.101173  ...  2.867108 -0.487829\n",
              "\n",
              "[47088 rows x 9 columns]"
            ]
          },
          "metadata": {
            "tags": []
          },
          "execution_count": 32
        }
      ]
    },
    {
      "cell_type": "markdown",
      "metadata": {
        "id": "p41RCngtckOE",
        "colab_type": "text"
      },
      "source": [
        "## TASK 4.3 Standardize the lcvs and extract some features from the raw lightcurve - \n",
        "I have some examples of how I did it in the next few lines of code"
      ]
    },
    {
      "cell_type": "code",
      "metadata": {
        "ExecuteTime": {
          "end_time": "2020-04-05T15:08:48.937895Z",
          "start_time": "2020-04-05T15:08:48.933106Z"
        },
        "id": "YuFcMWBMckOE",
        "colab_type": "code",
        "colab": {}
      },
      "source": [
        "lcvs[\"fluxnormed\"] = 0."
      ],
      "execution_count": 0,
      "outputs": []
    },
    {
      "cell_type": "code",
      "metadata": {
        "ExecuteTime": {
          "end_time": "2020-04-05T15:09:54.550533Z",
          "start_time": "2020-04-05T15:08:48.939753Z"
        },
        "id": "BbXWWkPWckOG",
        "colab_type": "code",
        "outputId": "876bf4d5-b0ad-4a32-c0d6-6b5d2878a756",
        "colab": {
          "base_uri": "https://localhost:8080/",
          "height": 52
        }
      },
      "source": [
        "%%time\n",
        "\n",
        "# normalize each LC this is very slow. can you make  it faster?\n",
        "def normed(df):\n",
        "    return ( df -  df.mean() ) /df.std()\n",
        "\n",
        "lcvs['fluxnormed'] = lcvs.groupby([\"object_id\", \"passband\"])[\"flux\"].apply(normed)\n",
        "lcvs['fluxnormed_err'] = lcvs.groupby([\"object_id\", \"passband\"])[\"flux_err\"].apply(normed)\n",
        "# this is how it could be done in a for loop. But it would take hours!!\n",
        "#for obj in  objects:\n",
        "#    for band in bands:\n",
        "#        lcvs[lcvs.object_id == obj][lcvs.passband == band].normedflux =\\\n",
        "#             lcvs[lcvs.object_id == obj][lcvs.passband == band].flux - means.loc[obj, band]\n",
        "#        lcvs[lcvs.object_id == obj][lcvs.passband == band].normedflux /= stds.loc[obj, band]        "
      ],
      "execution_count": 33,
      "outputs": [
        {
          "output_type": "stream",
          "text": [
            "CPU times: user 58.3 s, sys: 1.2 s, total: 59.5 s\n",
            "Wall time: 58.1 s\n"
          ],
          "name": "stdout"
        }
      ]
    },
    {
      "cell_type": "code",
      "metadata": {
        "ExecuteTime": {
          "end_time": "2020-04-05T15:09:54.723517Z",
          "start_time": "2020-04-05T15:09:54.552158Z"
        },
        "id": "7iPGclEFckOI",
        "colab_type": "code",
        "outputId": "ff36b17d-e379-44b4-ffc4-850adbfaf4fd",
        "colab": {
          "base_uri": "https://localhost:8080/",
          "height": 1000
        }
      },
      "source": [
        "# replot the normalized time series to make sure I did it right\n",
        "# -- plot one every 100 objects\n",
        "object_list = []\n",
        "for c in objects[0::100][0:10] :\n",
        "    object_list.append(c)\n",
        "    fig, ax = pl.subplots(figsize=(5,4))\n",
        "    for b in bands:\n",
        "        new_df = lcvs.loc[(lcvs['object_id'] == c) & (lcvs['passband'] == b)]\n",
        "        pl.errorbar( new_df.mjd, new_df.fluxnormed, yerr=None, ls='', marker='o', ms=3, label=f )\n",
        "        pl.xlable('mjd', fontsize=10)\n",
        "        pl.ylable('flux', fontsize=10)\n",
        "        pl.title(\"Object ID:%s\" %(c), fontsize=10)\n",
        "\n",
        "# Make sure that the object ID 84716 is included in the list and is plotted\n",
        "if(~(84716 in object_list)) :\n",
        "    object_list.append(84716)\n",
        "    for b in bands :\n",
        "        new_df = lcvs.loc[(lcvs['object_id'] == 84716) & (lcvs['passband'] == b)]\n",
        "        pl.errorbar( new_df.mjd, new_df.fluxnormed, yerr=None, ls='', marker='o', ms=3, label=f )\n",
        "        pl.xlable('mjd', fontsize=10)\n",
        "        pl.ylable('flux', fontsize=10)\n",
        "        pl.title(\"Object ID:84716\", fontsize=10)"
      ],
      "execution_count": 34,
      "outputs": [
        {
          "output_type": "display_data",
          "data": {
            "image/png": "[encoded data removed]",
            "text/plain": [
              "<Figure size 360x288 with 1 Axes>"
            ]
          },
          "metadata": {
            "tags": []
          }
        },
        {
          "output_type": "display_data",
          "data": {
            "image/png": "[encoded data removed]",
            "text/plain": [
              "<Figure size 360x288 with 1 Axes>"
            ]
          },
          "metadata": {
            "tags": []
          }
        },
        {
          "output_type": "display_data",
          "data": {
            "image/png": "[encoded data removed]",
            "text/plain": [
              "<Figure size 360x288 with 1 Axes>"
            ]
          },
          "metadata": {
            "tags": []
          }
        },
        {
          "output_type": "display_data",
          "data": {
            "image/png": "[encoded data removed]",
            "text/plain": [
              "<Figure size 360x288 with 1 Axes>"
            ]
          },
          "metadata": {
            "tags": []
          }
        },
        {
          "output_type": "display_data",
          "data": {
            "image/png": "[encoded data removed]",
            "text/plain": [
              "<Figure size 360x288 with 1 Axes>"
            ]
          },
          "metadata": {
            "tags": []
          }
        },
        {
          "output_type": "display_data",
          "data": {
            "image/png": "[encoded data removed]",
            "text/plain": [
              "<Figure size 360x288 with 1 Axes>"
            ]
          },
          "metadata": {
            "tags": []
          }
        },
        {
          "output_type": "display_data",
          "data": {
            "image/png": "[encoded data removed]",
            "text/plain": [
              "<Figure size 360x288 with 1 Axes>"
            ]
          },
          "metadata": {
            "tags": []
          }
        },
        {
          "output_type": "display_data",
          "data": {
            "image/png": "[encoded data removed]",
            "text/plain": [
              "<Figure size 360x288 with 1 Axes>"
            ]
          },
          "metadata": {
            "tags": []
          }
        },
        {
          "output_type": "display_data",
          "data": {
            "image/png": "[encoded data removed]",
            "text/plain": [
              "<Figure size 360x288 with 1 Axes>"
            ]
          },
          "metadata": {
            "tags": []
          }
        },
        {
          "output_type": "display_data",
          "data": {
            "image/png": "[encoded data removed]",
            "text/plain": [
              "<Figure size 360x288 with 1 Axes>"
            ]
          },
          "metadata": {
            "tags": []
          }
        }
      ]
    },
    {
      "cell_type": "markdown",
      "metadata": {
        "ExecuteTime": {
          "end_time": "2020-04-05T15:20:24.617557Z",
          "start_time": "2020-04-05T15:12:14.642Z"
        },
        "id": "RVX0M785ckOJ",
        "colab_type": "text"
      },
      "source": [
        "Figure 2: PLot of standardised flux against modified Julian days, along with errorbars for 10 different objects, selected as 100th object in the entire list. Points corresponding to different bands (5 in this case) are plotted in different colors (though same color for each band in each figure). Note the peak in flux for various different objects on different days and the typical duration of them. Specially for object 84716, which shows two distinct jumps in flux measurement separated by around 200 days."
      ]
    },
    {
      "cell_type": "markdown",
      "metadata": {
        "id": "GVFQ9ORDckOK",
        "colab_type": "text"
      },
      "source": [
        "### min and max: if I did not get the means before I would store these data. seance I have the mean and the min max of the not standardized data this is irrelevant\n"
      ]
    },
    {
      "cell_type": "code",
      "metadata": {
        "ExecuteTime": {
          "end_time": "2020-04-05T15:09:54.868556Z",
          "start_time": "2020-04-05T15:09:54.725149Z"
        },
        "id": "Y6A1dq0kckOK",
        "colab_type": "code",
        "colab": {}
      },
      "source": [
        "maxs_standardized = lcvs.groupby([\"object_id\", \"passband\"])[\"fluxnormed\"].max()\n",
        "mins_standardized = lcvs.groupby([\"object_id\", \"passband\"])[\"fluxnormed\"].min()"
      ],
      "execution_count": 0,
      "outputs": []
    },
    {
      "cell_type": "markdown",
      "metadata": {
        "ExecuteTime": {
          "end_time": "2020-04-05T14:54:48.400855Z",
          "start_time": "2020-04-05T14:54:48.399021Z"
        },
        "id": "-kqBqYV4ckOM",
        "colab_type": "text"
      },
      "source": [
        "### the median of the standardizeed distribution will convey the location of the \"center of mass\" of the data with respect to the mean\n"
      ]
    },
    {
      "cell_type": "code",
      "metadata": {
        "ExecuteTime": {
          "end_time": "2020-04-05T15:09:54.964108Z",
          "start_time": "2020-04-05T15:09:54.869994Z"
        },
        "id": "myoOimdackOM",
        "colab_type": "code",
        "colab": {}
      },
      "source": [
        "medians = lcvs.groupby([\"object_id\", \"passband\"])[[\"fluxnormed\"]].median()"
      ],
      "execution_count": 0,
      "outputs": []
    },
    {
      "cell_type": "code",
      "metadata": {
        "ExecuteTime": {
          "end_time": "2020-04-05T15:23:49.826929Z",
          "start_time": "2020-04-05T15:23:49.816626Z"
        },
        "id": "sk1tQk1uckOP",
        "colab_type": "code",
        "colab": {}
      },
      "source": [
        "features['median_std'] = medians"
      ],
      "execution_count": 0,
      "outputs": []
    },
    {
      "cell_type": "code",
      "metadata": {
        "id": "wnR1VZ6DZmgE",
        "colab_type": "code",
        "outputId": "cff08cb9-ce4a-48a9-8301-06a380fd6cd9",
        "colab": {
          "base_uri": "https://localhost:8080/",
          "height": 436
        }
      },
      "source": [
        "features"
      ],
      "execution_count": 37,
      "outputs": [
        {
          "output_type": "execute_result",
          "data": {
            "text/html": [
              "<div>\n",
              "<style scoped>\n",
              "    .dataframe tbody tr th:only-of-type {\n",
              "        vertical-align: middle;\n",
              "    }\n",
              "\n",
              "    .dataframe tbody tr th {\n",
              "        vertical-align: top;\n",
              "    }\n",
              "\n",
              "    .dataframe thead th {\n",
              "        text-align: right;\n",
              "    }\n",
              "</style>\n",
              "<table border=\"1\" class=\"dataframe\">\n",
              "  <thead>\n",
              "    <tr style=\"text-align: right;\">\n",
              "      <th></th>\n",
              "      <th></th>\n",
              "      <th>mean</th>\n",
              "      <th>std</th>\n",
              "      <th>variance</th>\n",
              "      <th>skewness</th>\n",
              "      <th>kurtosis</th>\n",
              "      <th>maxs</th>\n",
              "      <th>mins</th>\n",
              "      <th>max_std</th>\n",
              "      <th>min_std</th>\n",
              "      <th>median_std</th>\n",
              "    </tr>\n",
              "    <tr>\n",
              "      <th>object_id</th>\n",
              "      <th>passband</th>\n",
              "      <th></th>\n",
              "      <th></th>\n",
              "      <th></th>\n",
              "      <th></th>\n",
              "      <th></th>\n",
              "      <th></th>\n",
              "      <th></th>\n",
              "      <th></th>\n",
              "      <th></th>\n",
              "      <th></th>\n",
              "    </tr>\n",
              "  </thead>\n",
              "  <tbody>\n",
              "    <tr>\n",
              "      <th rowspan=\"5\" valign=\"top\">615</th>\n",
              "      <th>0</th>\n",
              "      <td>-3.254554</td>\n",
              "      <td>83.944735</td>\n",
              "      <td>6.934866e+03</td>\n",
              "      <td>7.266579e+04</td>\n",
              "      <td>7.433032e+07</td>\n",
              "      <td>125.182808</td>\n",
              "      <td>-116.913223</td>\n",
              "      <td>1.530023</td>\n",
              "      <td>-1.353970</td>\n",
              "      <td>-0.080537</td>\n",
              "    </tr>\n",
              "    <tr>\n",
              "      <th>1</th>\n",
              "      <td>-385.699911</td>\n",
              "      <td>601.787302</td>\n",
              "      <td>3.559040e+05</td>\n",
              "      <td>8.593916e+07</td>\n",
              "      <td>2.215166e+11</td>\n",
              "      <td>660.626343</td>\n",
              "      <td>-1100.440063</td>\n",
              "      <td>1.738698</td>\n",
              "      <td>-1.187696</td>\n",
              "      <td>-0.170090</td>\n",
              "    </tr>\n",
              "    <tr>\n",
              "      <th>2</th>\n",
              "      <td>-134.146566</td>\n",
              "      <td>455.121346</td>\n",
              "      <td>2.035641e+05</td>\n",
              "      <td>3.040627e+07</td>\n",
              "      <td>6.659406e+10</td>\n",
              "      <td>611.984558</td>\n",
              "      <td>-681.858887</td>\n",
              "      <td>1.639411</td>\n",
              "      <td>-1.203442</td>\n",
              "      <td>-0.289021</td>\n",
              "    </tr>\n",
              "    <tr>\n",
              "      <th>3</th>\n",
              "      <td>-121.103501</td>\n",
              "      <td>335.425053</td>\n",
              "      <td>1.105701e+05</td>\n",
              "      <td>1.049664e+07</td>\n",
              "      <td>1.919999e+10</td>\n",
              "      <td>445.737061</td>\n",
              "      <td>-530.644592</td>\n",
              "      <td>1.689917</td>\n",
              "      <td>-1.220962</td>\n",
              "      <td>-0.122434</td>\n",
              "    </tr>\n",
              "    <tr>\n",
              "      <th>4</th>\n",
              "      <td>-55.954592</td>\n",
              "      <td>291.803449</td>\n",
              "      <td>8.368116e+04</td>\n",
              "      <td>4.717542e+06</td>\n",
              "      <td>1.036570e+10</td>\n",
              "      <td>381.953735</td>\n",
              "      <td>-422.184509</td>\n",
              "      <td>1.500696</td>\n",
              "      <td>-1.255057</td>\n",
              "      <td>-0.163078</td>\n",
              "    </tr>\n",
              "    <tr>\n",
              "      <th>...</th>\n",
              "      <th>...</th>\n",
              "      <td>...</td>\n",
              "      <td>...</td>\n",
              "      <td>...</td>\n",
              "      <td>...</td>\n",
              "      <td>...</td>\n",
              "      <td>...</td>\n",
              "      <td>...</td>\n",
              "      <td>...</td>\n",
              "      <td>...</td>\n",
              "      <td>...</td>\n",
              "    </tr>\n",
              "    <tr>\n",
              "      <th rowspan=\"5\" valign=\"top\">130779836</th>\n",
              "      <th>1</th>\n",
              "      <td>725.169852</td>\n",
              "      <td>1197.557111</td>\n",
              "      <td>1.314631e+06</td>\n",
              "      <td>2.360077e+09</td>\n",
              "      <td>6.519913e+12</td>\n",
              "      <td>3320.936279</td>\n",
              "      <td>-34.273514</td>\n",
              "      <td>2.167551</td>\n",
              "      <td>-0.634160</td>\n",
              "      <td>-0.513972</td>\n",
              "    </tr>\n",
              "    <tr>\n",
              "      <th>2</th>\n",
              "      <td>2690.360415</td>\n",
              "      <td>6440.422386</td>\n",
              "      <td>3.981988e+07</td>\n",
              "      <td>9.572595e+11</td>\n",
              "      <td>2.746095e+16</td>\n",
              "      <td>31437.089844</td>\n",
              "      <td>-14.478923</td>\n",
              "      <td>4.463485</td>\n",
              "      <td>-0.419979</td>\n",
              "      <td>-0.355787</td>\n",
              "    </tr>\n",
              "    <tr>\n",
              "      <th>3</th>\n",
              "      <td>755.993902</td>\n",
              "      <td>1443.868085</td>\n",
              "      <td>1.989993e+06</td>\n",
              "      <td>6.673022e+09</td>\n",
              "      <td>2.923373e+13</td>\n",
              "      <td>4995.144043</td>\n",
              "      <td>-41.850040</td>\n",
              "      <td>2.935968</td>\n",
              "      <td>-0.552574</td>\n",
              "      <td>-0.406302</td>\n",
              "    </tr>\n",
              "    <tr>\n",
              "      <th>4</th>\n",
              "      <td>3489.185336</td>\n",
              "      <td>11006.766106</td>\n",
              "      <td>1.164893e+08</td>\n",
              "      <td>5.307167e+12</td>\n",
              "      <td>2.715703e+17</td>\n",
              "      <td>54982.875000</td>\n",
              "      <td>-72.634567</td>\n",
              "      <td>4.678367</td>\n",
              "      <td>-0.323603</td>\n",
              "      <td>-0.309318</td>\n",
              "    </tr>\n",
              "    <tr>\n",
              "      <th>5</th>\n",
              "      <td>4151.358875</td>\n",
              "      <td>8687.101173</td>\n",
              "      <td>7.169244e+07</td>\n",
              "      <td>1.380872e+12</td>\n",
              "      <td>3.407459e+16</td>\n",
              "      <td>29058.212891</td>\n",
              "      <td>-86.457382</td>\n",
              "      <td>2.867108</td>\n",
              "      <td>-0.487829</td>\n",
              "      <td>-0.416662</td>\n",
              "    </tr>\n",
              "  </tbody>\n",
              "</table>\n",
              "<p>47088 rows × 10 columns</p>\n",
              "</div>"
            ],
            "text/plain": [
              "                           mean           std  ...   min_std  median_std\n",
              "object_id passband                             ...                      \n",
              "615       0           -3.254554     83.944735  ... -1.353970   -0.080537\n",
              "          1         -385.699911    601.787302  ... -1.187696   -0.170090\n",
              "          2         -134.146566    455.121346  ... -1.203442   -0.289021\n",
              "          3         -121.103501    335.425053  ... -1.220962   -0.122434\n",
              "          4          -55.954592    291.803449  ... -1.255057   -0.163078\n",
              "...                         ...           ...  ...       ...         ...\n",
              "130779836 1          725.169852   1197.557111  ... -0.634160   -0.513972\n",
              "          2         2690.360415   6440.422386  ... -0.419979   -0.355787\n",
              "          3          755.993902   1443.868085  ... -0.552574   -0.406302\n",
              "          4         3489.185336  11006.766106  ... -0.323603   -0.309318\n",
              "          5         4151.358875   8687.101173  ... -0.487829   -0.416662\n",
              "\n",
              "[47088 rows x 10 columns]"
            ]
          },
          "metadata": {
            "tags": []
          },
          "execution_count": 37
        }
      ]
    },
    {
      "cell_type": "markdown",
      "metadata": {
        "id": "pTZ-qKoUckOR",
        "colab_type": "text"
      },
      "source": [
        "## TASK 4.4: parametric features: extract some features that come from simple models of the lightcurve\n",
        "\n"
      ]
    },
    {
      "cell_type": "markdown",
      "metadata": {
        "id": "H61ktgdkckOR",
        "colab_type": "text"
      },
      "source": [
        "### fit a line to the standardized data and store the slope and intercept as new features. See here for how to apply this with a groupby https://stackoverflow.com/questions/14529838/apply-multiple-functions-to-multiple-groupby-columns\n",
        "If you can use groupby you get an extra point (cause that would be a very efficient way to do it)"
      ]
    },
    {
      "cell_type": "code",
      "metadata": {
        "ExecuteTime": {
          "end_time": "2020-04-05T15:10:00.892421Z",
          "start_time": "2020-04-05T15:09:54.965659Z"
        },
        "id": "on1Sz9xVckOR",
        "colab_type": "code",
        "outputId": "c2119153-e135-49ee-dd42-de83f8bbd59d",
        "colab": {
          "base_uri": "https://localhost:8080/",
          "height": 52
        }
      },
      "source": [
        "%%time\n",
        "def linfit(x):\n",
        "    pars = np.polyfit(range(len(x)), x[\"fluxnormed\"].values, 1)\n",
        "    return pars\n",
        "linfits = lcvs.groupby([\"object_id\", \"passband\"]).apply(linfit)"
      ],
      "execution_count": 39,
      "outputs": [
        {
          "output_type": "stream",
          "text": [
            "CPU times: user 9.82 s, sys: 92.2 ms, total: 9.91 s\n",
            "Wall time: 9.86 s\n"
          ],
          "name": "stdout"
        }
      ]
    },
    {
      "cell_type": "code",
      "metadata": {
        "ExecuteTime": {
          "end_time": "2020-04-05T15:10:00.898003Z",
          "start_time": "2020-04-05T15:10:00.894315Z"
        },
        "id": "jk4ear-UckOT",
        "colab_type": "code",
        "outputId": "cb27ab90-3859-4175-88d4-948721852050",
        "colab": {
          "base_uri": "https://localhost:8080/",
          "height": 34
        }
      },
      "source": [
        "linfits.shape"
      ],
      "execution_count": 40,
      "outputs": [
        {
          "output_type": "execute_result",
          "data": {
            "text/plain": [
              "(47088,)"
            ]
          },
          "metadata": {
            "tags": []
          },
          "execution_count": 40
        }
      ]
    },
    {
      "cell_type": "code",
      "metadata": {
        "ExecuteTime": {
          "end_time": "2020-04-05T15:10:00.911150Z",
          "start_time": "2020-04-05T15:10:00.899457Z"
        },
        "id": "O4qKrzT6ckOV",
        "colab_type": "code",
        "colab": {}
      },
      "source": [
        "slopes = [x[0] for x in linfits.values[:]]\n",
        "intercepts = [x[1] for x in linfits.values[:]]"
      ],
      "execution_count": 0,
      "outputs": []
    },
    {
      "cell_type": "code",
      "metadata": {
        "id": "Iegm8WLda6An",
        "colab_type": "code",
        "outputId": "57aba7e0-99dd-4182-a4a8-9a443015030d",
        "colab": {
          "base_uri": "https://localhost:8080/",
          "height": 194
        }
      },
      "source": [
        "slopes[0::100][0:10]"
      ],
      "execution_count": 42,
      "outputs": [
        {
          "output_type": "execute_result",
          "data": {
            "text/plain": [
              "[0.005675719383096365,\n",
              " -0.003451166929847105,\n",
              " -0.0002499767116443422,\n",
              " -0.004523027736297396,\n",
              " -0.010303543561897823,\n",
              " 0.00011229388883109776,\n",
              " 0.02904231574934445,\n",
              " -0.03589355011332443,\n",
              " -0.005419714767970679,\n",
              " -0.004124298958544847]"
            ]
          },
          "metadata": {
            "tags": []
          },
          "execution_count": 42
        }
      ]
    },
    {
      "cell_type": "code",
      "metadata": {
        "ExecuteTime": {
          "end_time": "2020-04-05T15:24:07.238531Z",
          "start_time": "2020-04-05T15:24:07.227247Z"
        },
        "id": "ChcOx9FhckOX",
        "colab_type": "code",
        "colab": {}
      },
      "source": [
        "features[\"slopes\"] = slopes\n",
        "features[\"intercepts\"] = intercepts"
      ],
      "execution_count": 0,
      "outputs": []
    },
    {
      "cell_type": "markdown",
      "metadata": {
        "id": "CysiKIFhckOZ",
        "colab_type": "text"
      },
      "source": [
        "### A quadratic function can tell you if the time series is concave or convex. \n",
        "### If we fit both line and a quadratic we can also us the likelihood ratio to see wchich fit is best (remember the first couple of classes)"
      ]
    },
    {
      "cell_type": "code",
      "metadata": {
        "ExecuteTime": {
          "end_time": "2020-04-05T15:20:24.072959Z",
          "start_time": "2020-04-05T15:10:00.924415Z"
        },
        "id": "8YpnYAiPckOZ",
        "colab_type": "code",
        "outputId": "a1ea7b32-0c42-4031-c348-d1fda773734e",
        "colab": {
          "base_uri": "https://localhost:8080/",
          "height": 123
        }
      },
      "source": [
        "%%time\n",
        "\n",
        "# this is slow!!\n",
        "from statsmodels.formula.api import ols\n",
        "def quadfit(x):\n",
        "    x['t'] = x.mjd - x.iloc[0].mjd\n",
        "    m1 = ols(formula='fluxnormed~t + 1', data=x).fit()\n",
        "    m2 = ols(formula='fluxnormed~pow(t, 2) + t + 1', data=x).fit()\n",
        "    \n",
        "    pars = m2.llf, m1.llf, np.sign(m2.params[1])\n",
        "    return pars\n",
        "ols = lcvs.groupby([\"object_id\", \"passband\"]).apply(quadfit)"
      ],
      "execution_count": 45,
      "outputs": [
        {
          "output_type": "stream",
          "text": [
            "/usr/local/lib/python3.6/dist-packages/statsmodels/tools/_testing.py:19: FutureWarning: pandas.util.testing is deprecated. Use the functions in the public API at pandas.testing instead.\n",
            "  import pandas.util.testing as tm\n",
            "/usr/local/lib/python3.6/dist-packages/statsmodels/regression/linear_model.py:867: RuntimeWarning: divide by zero encountered in log\n",
            "  llf = -nobs2*np.log(2*np.pi) - nobs2*np.log(ssr / nobs) - nobs2\n"
          ],
          "name": "stderr"
        },
        {
          "output_type": "stream",
          "text": [
            "CPU times: user 15min 45s, sys: 569 ms, total: 15min 45s\n",
            "Wall time: 15min 48s\n"
          ],
          "name": "stdout"
        }
      ]
    },
    {
      "cell_type": "code",
      "metadata": {
        "ExecuteTime": {
          "end_time": "2020-04-05T15:20:24.101850Z",
          "start_time": "2020-04-05T15:20:24.074480Z"
        },
        "id": "w8KGiszJckOb",
        "colab_type": "code",
        "colab": {}
      },
      "source": [
        "ll1 = [x[0] for x in ols.values[:]]\n",
        "ll2 = [x[1] for x in ols.values[:]]\n",
        "ll3 = [x[2] for x in ols.values[:]]\n",
        "features[\"ll1\"] = ll1\n",
        "features[\"ll2\"] = ll2\n",
        "features[\"ll3\"] = ll3"
      ],
      "execution_count": 0,
      "outputs": []
    },
    {
      "cell_type": "markdown",
      "metadata": {
        "id": "5HfooSE5ckOd",
        "colab_type": "text"
      },
      "source": [
        "## Task 5: show your engineered feature space and add features from the metadata file\n",
        "\n",
        "Note that in the way I cereated the feature dataframe I have a feature column for each object and bandpass. I need to manipulate the dataframe so that I have 6xN features per object where N is the number of eatures I engineered. "
      ]
    },
    {
      "cell_type": "code",
      "metadata": {
        "id": "NOJqUN2cbVLD",
        "colab_type": "code",
        "outputId": "eb19b369-e595-4fef-ad3d-79745cbfb328",
        "colab": {
          "base_uri": "https://localhost:8080/",
          "height": 227
        }
      },
      "source": [
        "features.head()"
      ],
      "execution_count": 73,
      "outputs": [
        {
          "output_type": "execute_result",
          "data": {
            "text/html": [
              "<div>\n",
              "<style scoped>\n",
              "    .dataframe tbody tr th:only-of-type {\n",
              "        vertical-align: middle;\n",
              "    }\n",
              "\n",
              "    .dataframe tbody tr th {\n",
              "        vertical-align: top;\n",
              "    }\n",
              "\n",
              "    .dataframe thead th {\n",
              "        text-align: right;\n",
              "    }\n",
              "</style>\n",
              "<table border=\"1\" class=\"dataframe\">\n",
              "  <thead>\n",
              "    <tr style=\"text-align: right;\">\n",
              "      <th></th>\n",
              "      <th></th>\n",
              "      <th>mean</th>\n",
              "      <th>std</th>\n",
              "      <th>variance</th>\n",
              "      <th>skewness</th>\n",
              "      <th>kurtosis</th>\n",
              "      <th>maxs</th>\n",
              "      <th>mins</th>\n",
              "      <th>max_std</th>\n",
              "      <th>min_std</th>\n",
              "      <th>median_std</th>\n",
              "      <th>slopes</th>\n",
              "      <th>intercepts</th>\n",
              "      <th>ll1</th>\n",
              "      <th>ll2</th>\n",
              "      <th>ll3</th>\n",
              "    </tr>\n",
              "    <tr>\n",
              "      <th>object_id</th>\n",
              "      <th>passband</th>\n",
              "      <th></th>\n",
              "      <th></th>\n",
              "      <th></th>\n",
              "      <th></th>\n",
              "      <th></th>\n",
              "      <th></th>\n",
              "      <th></th>\n",
              "      <th></th>\n",
              "      <th></th>\n",
              "      <th></th>\n",
              "      <th></th>\n",
              "      <th></th>\n",
              "      <th></th>\n",
              "      <th></th>\n",
              "      <th></th>\n",
              "    </tr>\n",
              "  </thead>\n",
              "  <tbody>\n",
              "    <tr>\n",
              "      <th rowspan=\"5\" valign=\"top\">615</th>\n",
              "      <th>0</th>\n",
              "      <td>-3.254554</td>\n",
              "      <td>83.944735</td>\n",
              "      <td>6934.865833</td>\n",
              "      <td>7.266579e+04</td>\n",
              "      <td>7.433032e+07</td>\n",
              "      <td>125.182808</td>\n",
              "      <td>-116.913223</td>\n",
              "      <td>1.530023</td>\n",
              "      <td>-1.353970</td>\n",
              "      <td>-0.080537</td>\n",
              "      <td>0.005676</td>\n",
              "      <td>-0.175947</td>\n",
              "      <td>-84.013092</td>\n",
              "      <td>-88.218652</td>\n",
              "      <td>-1.0</td>\n",
              "    </tr>\n",
              "    <tr>\n",
              "      <th>1</th>\n",
              "      <td>-385.699911</td>\n",
              "      <td>601.787302</td>\n",
              "      <td>355904.026224</td>\n",
              "      <td>8.593916e+07</td>\n",
              "      <td>2.215166e+11</td>\n",
              "      <td>660.626343</td>\n",
              "      <td>-1100.440063</td>\n",
              "      <td>1.738698</td>\n",
              "      <td>-1.187696</td>\n",
              "      <td>-0.170090</td>\n",
              "      <td>0.014032</td>\n",
              "      <td>-0.399902</td>\n",
              "      <td>-80.867915</td>\n",
              "      <td>-80.869998</td>\n",
              "      <td>-1.0</td>\n",
              "    </tr>\n",
              "    <tr>\n",
              "      <th>2</th>\n",
              "      <td>-134.146566</td>\n",
              "      <td>455.121346</td>\n",
              "      <td>203564.138816</td>\n",
              "      <td>3.040627e+07</td>\n",
              "      <td>6.659406e+10</td>\n",
              "      <td>611.984558</td>\n",
              "      <td>-681.858887</td>\n",
              "      <td>1.639411</td>\n",
              "      <td>-1.203442</td>\n",
              "      <td>-0.289021</td>\n",
              "      <td>0.017676</td>\n",
              "      <td>-0.503760</td>\n",
              "      <td>-80.092803</td>\n",
              "      <td>-80.109763</td>\n",
              "      <td>-1.0</td>\n",
              "    </tr>\n",
              "    <tr>\n",
              "      <th>3</th>\n",
              "      <td>-121.103501</td>\n",
              "      <td>335.425053</td>\n",
              "      <td>110570.138947</td>\n",
              "      <td>1.049664e+07</td>\n",
              "      <td>1.919999e+10</td>\n",
              "      <td>445.737061</td>\n",
              "      <td>-530.644592</td>\n",
              "      <td>1.689917</td>\n",
              "      <td>-1.220962</td>\n",
              "      <td>-0.122434</td>\n",
              "      <td>0.020475</td>\n",
              "      <td>-0.583524</td>\n",
              "      <td>-79.226482</td>\n",
              "      <td>-79.290039</td>\n",
              "      <td>-1.0</td>\n",
              "    </tr>\n",
              "    <tr>\n",
              "      <th>4</th>\n",
              "      <td>-55.954592</td>\n",
              "      <td>291.803449</td>\n",
              "      <td>83681.162283</td>\n",
              "      <td>4.717542e+06</td>\n",
              "      <td>1.036570e+10</td>\n",
              "      <td>381.953735</td>\n",
              "      <td>-422.184509</td>\n",
              "      <td>1.500696</td>\n",
              "      <td>-1.255057</td>\n",
              "      <td>-0.163078</td>\n",
              "      <td>0.022343</td>\n",
              "      <td>-0.636786</td>\n",
              "      <td>-78.160027</td>\n",
              "      <td>-78.480261</td>\n",
              "      <td>-1.0</td>\n",
              "    </tr>\n",
              "  </tbody>\n",
              "</table>\n",
              "</div>"
            ],
            "text/plain": [
              "                          mean         std  ...        ll2  ll3\n",
              "object_id passband                          ...                \n",
              "615       0          -3.254554   83.944735  ... -88.218652 -1.0\n",
              "          1        -385.699911  601.787302  ... -80.869998 -1.0\n",
              "          2        -134.146566  455.121346  ... -80.109763 -1.0\n",
              "          3        -121.103501  335.425053  ... -79.290039 -1.0\n",
              "          4         -55.954592  291.803449  ... -78.480261 -1.0\n",
              "\n",
              "[5 rows x 15 columns]"
            ]
          },
          "metadata": {
            "tags": []
          },
          "execution_count": 73
        }
      ]
    },
    {
      "cell_type": "code",
      "metadata": {
        "id": "gXJQM3PbmmxK",
        "colab_type": "code",
        "colab": {
          "base_uri": "https://localhost:8080/",
          "height": 34
        },
        "outputId": "8d4798d0-038f-420a-ba11-353263e814ce"
      },
      "source": [
        "len(features.index)"
      ],
      "execution_count": 84,
      "outputs": [
        {
          "output_type": "execute_result",
          "data": {
            "text/plain": [
              "47088"
            ]
          },
          "metadata": {
            "tags": []
          },
          "execution_count": 84
        }
      ]
    },
    {
      "cell_type": "code",
      "metadata": {
        "ExecuteTime": {
          "end_time": "2020-04-05T15:26:52.274948Z",
          "start_time": "2020-04-05T15:26:52.144078Z"
        },
        "id": "QjdV8C2uckOf",
        "colab_type": "code",
        "colab": {}
      },
      "source": [
        "# unstack will do the trick ... \n",
        "allfeatures = features.reset_index().set_index(['object_id','passband']).stack(\n",
        "    ).unstack([1,2])"
      ],
      "execution_count": 0,
      "outputs": []
    },
    {
      "cell_type": "code",
      "metadata": {
        "ExecuteTime": {
          "end_time": "2020-04-05T15:26:52.727934Z",
          "start_time": "2020-04-05T15:26:52.703659Z"
        },
        "id": "4Zxnh5POckOh",
        "colab_type": "code",
        "outputId": "2e145753-21bd-4552-b1fc-d4d8fa38e9b0",
        "colab": {
          "base_uri": "https://localhost:8080/",
          "height": 306
        }
      },
      "source": [
        "allfeatures.head()"
      ],
      "execution_count": 92,
      "outputs": [
        {
          "output_type": "execute_result",
          "data": {
            "text/html": [
              "<div>\n",
              "<style scoped>\n",
              "    .dataframe tbody tr th:only-of-type {\n",
              "        vertical-align: middle;\n",
              "    }\n",
              "\n",
              "    .dataframe tbody tr th {\n",
              "        vertical-align: top;\n",
              "    }\n",
              "\n",
              "    .dataframe thead tr th {\n",
              "        text-align: left;\n",
              "    }\n",
              "\n",
              "    .dataframe thead tr:last-of-type th {\n",
              "        text-align: right;\n",
              "    }\n",
              "</style>\n",
              "<table border=\"1\" class=\"dataframe\">\n",
              "  <thead>\n",
              "    <tr>\n",
              "      <th>passband</th>\n",
              "      <th colspan=\"15\" halign=\"left\">0</th>\n",
              "      <th colspan=\"15\" halign=\"left\">1</th>\n",
              "      <th colspan=\"10\" halign=\"left\">2</th>\n",
              "      <th>...</th>\n",
              "      <th colspan=\"10\" halign=\"left\">3</th>\n",
              "      <th colspan=\"15\" halign=\"left\">4</th>\n",
              "      <th colspan=\"15\" halign=\"left\">5</th>\n",
              "    </tr>\n",
              "    <tr>\n",
              "      <th></th>\n",
              "      <th>mean</th>\n",
              "      <th>std</th>\n",
              "      <th>variance</th>\n",
              "      <th>skewness</th>\n",
              "      <th>kurtosis</th>\n",
              "      <th>maxs</th>\n",
              "      <th>mins</th>\n",
              "      <th>max_std</th>\n",
              "      <th>min_std</th>\n",
              "      <th>median_std</th>\n",
              "      <th>slopes</th>\n",
              "      <th>intercepts</th>\n",
              "      <th>ll1</th>\n",
              "      <th>ll2</th>\n",
              "      <th>ll3</th>\n",
              "      <th>mean</th>\n",
              "      <th>std</th>\n",
              "      <th>variance</th>\n",
              "      <th>skewness</th>\n",
              "      <th>kurtosis</th>\n",
              "      <th>maxs</th>\n",
              "      <th>mins</th>\n",
              "      <th>max_std</th>\n",
              "      <th>min_std</th>\n",
              "      <th>median_std</th>\n",
              "      <th>slopes</th>\n",
              "      <th>intercepts</th>\n",
              "      <th>ll1</th>\n",
              "      <th>ll2</th>\n",
              "      <th>ll3</th>\n",
              "      <th>mean</th>\n",
              "      <th>std</th>\n",
              "      <th>variance</th>\n",
              "      <th>skewness</th>\n",
              "      <th>kurtosis</th>\n",
              "      <th>maxs</th>\n",
              "      <th>mins</th>\n",
              "      <th>max_std</th>\n",
              "      <th>min_std</th>\n",
              "      <th>median_std</th>\n",
              "      <th>...</th>\n",
              "      <th>maxs</th>\n",
              "      <th>mins</th>\n",
              "      <th>max_std</th>\n",
              "      <th>min_std</th>\n",
              "      <th>median_std</th>\n",
              "      <th>slopes</th>\n",
              "      <th>intercepts</th>\n",
              "      <th>ll1</th>\n",
              "      <th>ll2</th>\n",
              "      <th>ll3</th>\n",
              "      <th>mean</th>\n",
              "      <th>std</th>\n",
              "      <th>variance</th>\n",
              "      <th>skewness</th>\n",
              "      <th>kurtosis</th>\n",
              "      <th>maxs</th>\n",
              "      <th>mins</th>\n",
              "      <th>max_std</th>\n",
              "      <th>min_std</th>\n",
              "      <th>median_std</th>\n",
              "      <th>slopes</th>\n",
              "      <th>intercepts</th>\n",
              "      <th>ll1</th>\n",
              "      <th>ll2</th>\n",
              "      <th>ll3</th>\n",
              "      <th>mean</th>\n",
              "      <th>std</th>\n",
              "      <th>variance</th>\n",
              "      <th>skewness</th>\n",
              "      <th>kurtosis</th>\n",
              "      <th>maxs</th>\n",
              "      <th>mins</th>\n",
              "      <th>max_std</th>\n",
              "      <th>min_std</th>\n",
              "      <th>median_std</th>\n",
              "      <th>slopes</th>\n",
              "      <th>intercepts</th>\n",
              "      <th>ll1</th>\n",
              "      <th>ll2</th>\n",
              "      <th>ll3</th>\n",
              "    </tr>\n",
              "    <tr>\n",
              "      <th>object_id</th>\n",
              "      <th></th>\n",
              "      <th></th>\n",
              "      <th></th>\n",
              "      <th></th>\n",
              "      <th></th>\n",
              "      <th></th>\n",
              "      <th></th>\n",
              "      <th></th>\n",
              "      <th></th>\n",
              "      <th></th>\n",
              "      <th></th>\n",
              "      <th></th>\n",
              "      <th></th>\n",
              "      <th></th>\n",
              "      <th></th>\n",
              "      <th></th>\n",
              "      <th></th>\n",
              "      <th></th>\n",
              "      <th></th>\n",
              "      <th></th>\n",
              "      <th></th>\n",
              "      <th></th>\n",
              "      <th></th>\n",
              "      <th></th>\n",
              "      <th></th>\n",
              "      <th></th>\n",
              "      <th></th>\n",
              "      <th></th>\n",
              "      <th></th>\n",
              "      <th></th>\n",
              "      <th></th>\n",
              "      <th></th>\n",
              "      <th></th>\n",
              "      <th></th>\n",
              "      <th></th>\n",
              "      <th></th>\n",
              "      <th></th>\n",
              "      <th></th>\n",
              "      <th></th>\n",
              "      <th></th>\n",
              "      <th></th>\n",
              "      <th></th>\n",
              "      <th></th>\n",
              "      <th></th>\n",
              "      <th></th>\n",
              "      <th></th>\n",
              "      <th></th>\n",
              "      <th></th>\n",
              "      <th></th>\n",
              "      <th></th>\n",
              "      <th></th>\n",
              "      <th></th>\n",
              "      <th></th>\n",
              "      <th></th>\n",
              "      <th></th>\n",
              "      <th></th>\n",
              "      <th></th>\n",
              "      <th></th>\n",
              "      <th></th>\n",
              "      <th></th>\n",
              "      <th></th>\n",
              "      <th></th>\n",
              "      <th></th>\n",
              "      <th></th>\n",
              "      <th></th>\n",
              "      <th></th>\n",
              "      <th></th>\n",
              "      <th></th>\n",
              "      <th></th>\n",
              "      <th></th>\n",
              "      <th></th>\n",
              "      <th></th>\n",
              "      <th></th>\n",
              "      <th></th>\n",
              "      <th></th>\n",
              "      <th></th>\n",
              "      <th></th>\n",
              "      <th></th>\n",
              "      <th></th>\n",
              "      <th></th>\n",
              "      <th></th>\n",
              "    </tr>\n",
              "  </thead>\n",
              "  <tbody>\n",
              "    <tr>\n",
              "      <th>615</th>\n",
              "      <td>-3.254554</td>\n",
              "      <td>83.944735</td>\n",
              "      <td>6934.865833</td>\n",
              "      <td>72665.792850</td>\n",
              "      <td>7.433032e+07</td>\n",
              "      <td>125.182808</td>\n",
              "      <td>-116.913223</td>\n",
              "      <td>1.530023</td>\n",
              "      <td>-1.353970</td>\n",
              "      <td>-0.080537</td>\n",
              "      <td>0.005676</td>\n",
              "      <td>-0.175947</td>\n",
              "      <td>-84.013092</td>\n",
              "      <td>-88.218652</td>\n",
              "      <td>-1.0</td>\n",
              "      <td>-385.699911</td>\n",
              "      <td>601.787302</td>\n",
              "      <td>355904.026224</td>\n",
              "      <td>8.593916e+07</td>\n",
              "      <td>2.215166e+11</td>\n",
              "      <td>660.626343</td>\n",
              "      <td>-1100.440063</td>\n",
              "      <td>1.738698</td>\n",
              "      <td>-1.187696</td>\n",
              "      <td>-0.170090</td>\n",
              "      <td>0.014032</td>\n",
              "      <td>-0.399902</td>\n",
              "      <td>-80.867915</td>\n",
              "      <td>-80.869998</td>\n",
              "      <td>-1.0</td>\n",
              "      <td>-134.146566</td>\n",
              "      <td>455.121346</td>\n",
              "      <td>203564.138816</td>\n",
              "      <td>3.040627e+07</td>\n",
              "      <td>6.659406e+10</td>\n",
              "      <td>611.984558</td>\n",
              "      <td>-681.858887</td>\n",
              "      <td>1.639411</td>\n",
              "      <td>-1.203442</td>\n",
              "      <td>-0.289021</td>\n",
              "      <td>...</td>\n",
              "      <td>445.737061</td>\n",
              "      <td>-530.644592</td>\n",
              "      <td>1.689917</td>\n",
              "      <td>-1.220962</td>\n",
              "      <td>-0.122434</td>\n",
              "      <td>0.020475</td>\n",
              "      <td>-0.583524</td>\n",
              "      <td>-79.226482</td>\n",
              "      <td>-79.290039</td>\n",
              "      <td>-1.0</td>\n",
              "      <td>-55.954592</td>\n",
              "      <td>291.803449</td>\n",
              "      <td>83681.162283</td>\n",
              "      <td>4.717542e+06</td>\n",
              "      <td>1.036570e+10</td>\n",
              "      <td>381.953735</td>\n",
              "      <td>-422.184509</td>\n",
              "      <td>1.500696</td>\n",
              "      <td>-1.255057</td>\n",
              "      <td>-0.163078</td>\n",
              "      <td>0.022343</td>\n",
              "      <td>-0.636786</td>\n",
              "      <td>-78.160027</td>\n",
              "      <td>-78.480261</td>\n",
              "      <td>-1.0</td>\n",
              "      <td>-47.449847</td>\n",
              "      <td>294.779522</td>\n",
              "      <td>85370.493377</td>\n",
              "      <td>3.041829e+06</td>\n",
              "      <td>1.049535e+10</td>\n",
              "      <td>378.188141</td>\n",
              "      <td>-422.815094</td>\n",
              "      <td>1.443920</td>\n",
              "      <td>-1.273376</td>\n",
              "      <td>-0.129163</td>\n",
              "      <td>0.021319</td>\n",
              "      <td>-0.596932</td>\n",
              "      <td>-76.917754</td>\n",
              "      <td>-77.386461</td>\n",
              "      <td>-1.0</td>\n",
              "    </tr>\n",
              "    <tr>\n",
              "      <th>713</th>\n",
              "      <td>-2.720398</td>\n",
              "      <td>7.113509</td>\n",
              "      <td>49.879128</td>\n",
              "      <td>89.634243</td>\n",
              "      <td>4.907398e+03</td>\n",
              "      <td>14.509829</td>\n",
              "      <td>-14.735178</td>\n",
              "      <td>2.422184</td>\n",
              "      <td>-1.689009</td>\n",
              "      <td>-0.052914</td>\n",
              "      <td>-0.041433</td>\n",
              "      <td>1.429423</td>\n",
              "      <td>-45.801483</td>\n",
              "      <td>-49.801325</td>\n",
              "      <td>-1.0</td>\n",
              "      <td>-1.019804</td>\n",
              "      <td>5.712334</td>\n",
              "      <td>32.048070</td>\n",
              "      <td>-1.551087e+01</td>\n",
              "      <td>1.944373e+03</td>\n",
              "      <td>9.129021</td>\n",
              "      <td>-11.715749</td>\n",
              "      <td>1.776651</td>\n",
              "      <td>-1.872430</td>\n",
              "      <td>0.080189</td>\n",
              "      <td>-0.051648</td>\n",
              "      <td>1.420320</td>\n",
              "      <td>-36.052358</td>\n",
              "      <td>-38.161170</td>\n",
              "      <td>-1.0</td>\n",
              "      <td>-0.794238</td>\n",
              "      <td>5.770738</td>\n",
              "      <td>32.706748</td>\n",
              "      <td>-4.127475e+00</td>\n",
              "      <td>1.935955e+03</td>\n",
              "      <td>10.529041</td>\n",
              "      <td>-10.067919</td>\n",
              "      <td>1.962189</td>\n",
              "      <td>-1.607018</td>\n",
              "      <td>0.117188</td>\n",
              "      <td>...</td>\n",
              "      <td>11.330316</td>\n",
              "      <td>-12.394593</td>\n",
              "      <td>1.909534</td>\n",
              "      <td>-1.768511</td>\n",
              "      <td>0.141552</td>\n",
              "      <td>-0.050983</td>\n",
              "      <td>1.402038</td>\n",
              "      <td>-38.701863</td>\n",
              "      <td>-41.302700</td>\n",
              "      <td>-1.0</td>\n",
              "      <td>-0.900262</td>\n",
              "      <td>6.406989</td>\n",
              "      <td>40.316483</td>\n",
              "      <td>-1.597455e+01</td>\n",
              "      <td>2.938985e+03</td>\n",
              "      <td>9.827934</td>\n",
              "      <td>-12.286801</td>\n",
              "      <td>1.674452</td>\n",
              "      <td>-1.777206</td>\n",
              "      <td>0.016870</td>\n",
              "      <td>-0.050464</td>\n",
              "      <td>1.387765</td>\n",
              "      <td>-44.424807</td>\n",
              "      <td>-44.870314</td>\n",
              "      <td>-1.0</td>\n",
              "      <td>-1.794175</td>\n",
              "      <td>7.094073</td>\n",
              "      <td>49.427194</td>\n",
              "      <td>7.377121e+01</td>\n",
              "      <td>5.294322e+03</td>\n",
              "      <td>14.770886</td>\n",
              "      <td>-14.211164</td>\n",
              "      <td>2.335056</td>\n",
              "      <td>-1.750333</td>\n",
              "      <td>-0.094281</td>\n",
              "      <td>-0.037903</td>\n",
              "      <td>1.042343</td>\n",
              "      <td>-65.167686</td>\n",
              "      <td>-65.424297</td>\n",
              "      <td>-1.0</td>\n",
              "    </tr>\n",
              "    <tr>\n",
              "      <th>730</th>\n",
              "      <td>-0.048080</td>\n",
              "      <td>1.828872</td>\n",
              "      <td>3.298318</td>\n",
              "      <td>2.093148</td>\n",
              "      <td>3.655013e+01</td>\n",
              "      <td>5.942166</td>\n",
              "      <td>-3.459960</td>\n",
              "      <td>3.275377</td>\n",
              "      <td>-1.865565</td>\n",
              "      <td>0.039463</td>\n",
              "      <td>-0.001798</td>\n",
              "      <td>0.063840</td>\n",
              "      <td>-101.249926</td>\n",
              "      <td>-101.606902</td>\n",
              "      <td>-1.0</td>\n",
              "      <td>0.141057</td>\n",
              "      <td>1.807229</td>\n",
              "      <td>3.203266</td>\n",
              "      <td>2.623669e+00</td>\n",
              "      <td>3.870188e+01</td>\n",
              "      <td>5.693109</td>\n",
              "      <td>-3.393080</td>\n",
              "      <td>3.072136</td>\n",
              "      <td>-1.955556</td>\n",
              "      <td>0.016754</td>\n",
              "      <td>0.003167</td>\n",
              "      <td>-0.080770</td>\n",
              "      <td>-72.910038</td>\n",
              "      <td>-73.012277</td>\n",
              "      <td>-1.0</td>\n",
              "      <td>2.400870</td>\n",
              "      <td>5.559483</td>\n",
              "      <td>30.313471</td>\n",
              "      <td>3.864890e+02</td>\n",
              "      <td>6.926529e+03</td>\n",
              "      <td>20.994711</td>\n",
              "      <td>-2.848838</td>\n",
              "      <td>3.344527</td>\n",
              "      <td>-0.944280</td>\n",
              "      <td>-0.343392</td>\n",
              "      <td>...</td>\n",
              "      <td>33.572102</td>\n",
              "      <td>-5.435799</td>\n",
              "      <td>3.703123</td>\n",
              "      <td>-1.058591</td>\n",
              "      <td>-0.314425</td>\n",
              "      <td>0.024491</td>\n",
              "      <td>-0.624531</td>\n",
              "      <td>-66.369632</td>\n",
              "      <td>-66.683538</td>\n",
              "      <td>1.0</td>\n",
              "      <td>4.308728</td>\n",
              "      <td>10.710344</td>\n",
              "      <td>112.462234</td>\n",
              "      <td>2.936931e+03</td>\n",
              "      <td>1.060595e+05</td>\n",
              "      <td>41.159981</td>\n",
              "      <td>-5.836310</td>\n",
              "      <td>3.440716</td>\n",
              "      <td>-0.947219</td>\n",
              "      <td>-0.308522</td>\n",
              "      <td>0.022552</td>\n",
              "      <td>-0.563811</td>\n",
              "      <td>-65.239486</td>\n",
              "      <td>-66.161110</td>\n",
              "      <td>1.0</td>\n",
              "      <td>4.539396</td>\n",
              "      <td>13.332758</td>\n",
              "      <td>174.276892</td>\n",
              "      <td>3.751336e+03</td>\n",
              "      <td>1.860606e+05</td>\n",
              "      <td>47.310059</td>\n",
              "      <td>-19.159811</td>\n",
              "      <td>3.207938</td>\n",
              "      <td>-1.777517</td>\n",
              "      <td>-0.149763</td>\n",
              "      <td>0.019612</td>\n",
              "      <td>-0.490299</td>\n",
              "      <td>-66.518080</td>\n",
              "      <td>-67.853917</td>\n",
              "      <td>1.0</td>\n",
              "    </tr>\n",
              "    <tr>\n",
              "      <th>745</th>\n",
              "      <td>1.797523</td>\n",
              "      <td>4.374445</td>\n",
              "      <td>18.869993</td>\n",
              "      <td>162.368381</td>\n",
              "      <td>2.575248e+03</td>\n",
              "      <td>18.014029</td>\n",
              "      <td>-3.874349</td>\n",
              "      <td>3.707100</td>\n",
              "      <td>-1.296592</td>\n",
              "      <td>-0.169349</td>\n",
              "      <td>-0.013089</td>\n",
              "      <td>0.464675</td>\n",
              "      <td>-88.423048</td>\n",
              "      <td>-100.184915</td>\n",
              "      <td>-1.0</td>\n",
              "      <td>5.717394</td>\n",
              "      <td>25.964659</td>\n",
              "      <td>662.124902</td>\n",
              "      <td>1.161627e+05</td>\n",
              "      <td>2.162844e+07</td>\n",
              "      <td>192.244293</td>\n",
              "      <td>-3.618410</td>\n",
              "      <td>7.183876</td>\n",
              "      <td>-0.359558</td>\n",
              "      <td>-0.185994</td>\n",
              "      <td>-0.003826</td>\n",
              "      <td>0.105205</td>\n",
              "      <td>-76.313623</td>\n",
              "      <td>-78.932796</td>\n",
              "      <td>-1.0</td>\n",
              "      <td>9.711532</td>\n",
              "      <td>31.957997</td>\n",
              "      <td>1003.075853</td>\n",
              "      <td>1.758302e+05</td>\n",
              "      <td>3.606109e+07</td>\n",
              "      <td>220.795212</td>\n",
              "      <td>-2.159753</td>\n",
              "      <td>6.605035</td>\n",
              "      <td>-0.371465</td>\n",
              "      <td>-0.290606</td>\n",
              "      <td>...</td>\n",
              "      <td>203.250702</td>\n",
              "      <td>-4.944036</td>\n",
              "      <td>5.400349</td>\n",
              "      <td>-0.553567</td>\n",
              "      <td>-0.373246</td>\n",
              "      <td>-0.003931</td>\n",
              "      <td>0.108112</td>\n",
              "      <td>-67.105516</td>\n",
              "      <td>-78.945375</td>\n",
              "      <td>-1.0</td>\n",
              "      <td>13.134436</td>\n",
              "      <td>33.069053</td>\n",
              "      <td>1074.034376</td>\n",
              "      <td>1.190633e+05</td>\n",
              "      <td>1.781661e+07</td>\n",
              "      <td>183.633118</td>\n",
              "      <td>-15.494463</td>\n",
              "      <td>5.155838</td>\n",
              "      <td>-0.865731</td>\n",
              "      <td>-0.358773</td>\n",
              "      <td>-0.004774</td>\n",
              "      <td>0.131296</td>\n",
              "      <td>-67.067827</td>\n",
              "      <td>-78.924149</td>\n",
              "      <td>-1.0</td>\n",
              "      <td>10.746138</td>\n",
              "      <td>26.060130</td>\n",
              "      <td>666.782529</td>\n",
              "      <td>5.309464e+04</td>\n",
              "      <td>6.203072e+06</td>\n",
              "      <td>141.513290</td>\n",
              "      <td>-10.249387</td>\n",
              "      <td>5.017901</td>\n",
              "      <td>-0.805657</td>\n",
              "      <td>-0.306851</td>\n",
              "      <td>-0.002816</td>\n",
              "      <td>0.076043</td>\n",
              "      <td>-64.783463</td>\n",
              "      <td>-77.536999</td>\n",
              "      <td>-1.0</td>\n",
              "    </tr>\n",
              "    <tr>\n",
              "      <th>1124</th>\n",
              "      <td>0.660948</td>\n",
              "      <td>2.360084</td>\n",
              "      <td>5.481586</td>\n",
              "      <td>-4.160853</td>\n",
              "      <td>1.101222e+02</td>\n",
              "      <td>5.330927</td>\n",
              "      <td>-6.804703</td>\n",
              "      <td>1.978734</td>\n",
              "      <td>-3.163298</td>\n",
              "      <td>-0.033864</td>\n",
              "      <td>0.017117</td>\n",
              "      <td>-0.530614</td>\n",
              "      <td>-84.959510</td>\n",
              "      <td>-84.969286</td>\n",
              "      <td>-1.0</td>\n",
              "      <td>4.634637</td>\n",
              "      <td>8.107525</td>\n",
              "      <td>64.598653</td>\n",
              "      <td>1.202103e+03</td>\n",
              "      <td>3.545471e+04</td>\n",
              "      <td>37.170177</td>\n",
              "      <td>-2.622109</td>\n",
              "      <td>4.013005</td>\n",
              "      <td>-0.895063</td>\n",
              "      <td>-0.429236</td>\n",
              "      <td>0.028666</td>\n",
              "      <td>-0.816982</td>\n",
              "      <td>-67.527468</td>\n",
              "      <td>-69.333715</td>\n",
              "      <td>1.0</td>\n",
              "      <td>10.243968</td>\n",
              "      <td>21.319854</td>\n",
              "      <td>446.699339</td>\n",
              "      <td>2.827915e+04</td>\n",
              "      <td>2.468546e+06</td>\n",
              "      <td>106.671692</td>\n",
              "      <td>-2.084535</td>\n",
              "      <td>4.522907</td>\n",
              "      <td>-0.578264</td>\n",
              "      <td>-0.438785</td>\n",
              "      <td>...</td>\n",
              "      <td>139.818405</td>\n",
              "      <td>-2.800270</td>\n",
              "      <td>4.900216</td>\n",
              "      <td>-0.528606</td>\n",
              "      <td>-0.383411</td>\n",
              "      <td>0.021342</td>\n",
              "      <td>-0.608237</td>\n",
              "      <td>-74.498916</td>\n",
              "      <td>-74.891133</td>\n",
              "      <td>1.0</td>\n",
              "      <td>9.906102</td>\n",
              "      <td>26.865913</td>\n",
              "      <td>709.332831</td>\n",
              "      <td>7.183273e+04</td>\n",
              "      <td>9.005039e+06</td>\n",
              "      <td>143.600189</td>\n",
              "      <td>-16.543753</td>\n",
              "      <td>4.976346</td>\n",
              "      <td>-0.984514</td>\n",
              "      <td>-0.303771</td>\n",
              "      <td>0.019736</td>\n",
              "      <td>-0.562470</td>\n",
              "      <td>-75.898716</td>\n",
              "      <td>-75.991223</td>\n",
              "      <td>1.0</td>\n",
              "      <td>6.896742</td>\n",
              "      <td>21.434627</td>\n",
              "      <td>451.382820</td>\n",
              "      <td>3.414365e+04</td>\n",
              "      <td>3.279413e+06</td>\n",
              "      <td>109.157585</td>\n",
              "      <td>-10.860540</td>\n",
              "      <td>4.770825</td>\n",
              "      <td>-0.828439</td>\n",
              "      <td>-0.229697</td>\n",
              "      <td>0.015555</td>\n",
              "      <td>-0.435534</td>\n",
              "      <td>-76.526495</td>\n",
              "      <td>-76.666778</td>\n",
              "      <td>1.0</td>\n",
              "    </tr>\n",
              "  </tbody>\n",
              "</table>\n",
              "<p>5 rows × 90 columns</p>\n",
              "</div>"
            ],
            "text/plain": [
              "passband          0                          ...          5                \n",
              "               mean        std     variance  ...        ll1        ll2  ll3\n",
              "object_id                                    ...                           \n",
              "615       -3.254554  83.944735  6934.865833  ... -76.917754 -77.386461 -1.0\n",
              "713       -2.720398   7.113509    49.879128  ... -65.167686 -65.424297 -1.0\n",
              "730       -0.048080   1.828872     3.298318  ... -66.518080 -67.853917  1.0\n",
              "745        1.797523   4.374445    18.869993  ... -64.783463 -77.536999 -1.0\n",
              "1124       0.660948   2.360084     5.481586  ... -76.526495 -76.666778  1.0\n",
              "\n",
              "[5 rows x 90 columns]"
            ]
          },
          "metadata": {
            "tags": []
          },
          "execution_count": 92
        }
      ]
    },
    {
      "cell_type": "code",
      "metadata": {
        "id": "-uWUH_RDmgKj",
        "colab_type": "code",
        "colab": {
          "base_uri": "https://localhost:8080/",
          "height": 34
        },
        "outputId": "68d3ec20-680a-40ac-e8c2-d8113f7a9d6c"
      },
      "source": [
        "len(allfeatures.index)"
      ],
      "execution_count": 93,
      "outputs": [
        {
          "output_type": "execute_result",
          "data": {
            "text/plain": [
              "7848"
            ]
          },
          "metadata": {
            "tags": []
          },
          "execution_count": 93
        }
      ]
    },
    {
      "cell_type": "code",
      "metadata": {
        "ExecuteTime": {
          "end_time": "2020-04-05T15:26:54.787204Z",
          "start_time": "2020-04-05T15:26:54.765872Z"
        },
        "id": "0e_4vMlhckOj",
        "colab_type": "code",
        "outputId": "3a665ed9-ee36-4c35-834b-eae2cc189b44",
        "colab": {
          "base_uri": "https://localhost:8080/",
          "height": 197
        }
      },
      "source": [
        "metadata.head()"
      ],
      "execution_count": 94,
      "outputs": [
        {
          "output_type": "execute_result",
          "data": {
            "text/html": [
              "<div>\n",
              "<style scoped>\n",
              "    .dataframe tbody tr th:only-of-type {\n",
              "        vertical-align: middle;\n",
              "    }\n",
              "\n",
              "    .dataframe tbody tr th {\n",
              "        vertical-align: top;\n",
              "    }\n",
              "\n",
              "    .dataframe thead th {\n",
              "        text-align: right;\n",
              "    }\n",
              "</style>\n",
              "<table border=\"1\" class=\"dataframe\">\n",
              "  <thead>\n",
              "    <tr style=\"text-align: right;\">\n",
              "      <th></th>\n",
              "      <th>object_id</th>\n",
              "      <th>ra</th>\n",
              "      <th>decl</th>\n",
              "      <th>gal_l</th>\n",
              "      <th>gal_b</th>\n",
              "      <th>ddf</th>\n",
              "      <th>hostgal_specz</th>\n",
              "      <th>hostgal_photoz</th>\n",
              "      <th>hostgal_photoz_err</th>\n",
              "      <th>distmod</th>\n",
              "      <th>mwebv</th>\n",
              "    </tr>\n",
              "  </thead>\n",
              "  <tbody>\n",
              "    <tr>\n",
              "      <th>0</th>\n",
              "      <td>13</td>\n",
              "      <td>34.453125</td>\n",
              "      <td>-5.229529</td>\n",
              "      <td>169.987075</td>\n",
              "      <td>-59.956185</td>\n",
              "      <td>1</td>\n",
              "      <td>0.3048</td>\n",
              "      <td>0.3193</td>\n",
              "      <td>0.0542</td>\n",
              "      <td>41.1123</td>\n",
              "      <td>0.019</td>\n",
              "    </tr>\n",
              "    <tr>\n",
              "      <th>1</th>\n",
              "      <td>14</td>\n",
              "      <td>33.398438</td>\n",
              "      <td>-4.331149</td>\n",
              "      <td>167.226341</td>\n",
              "      <td>-59.936551</td>\n",
              "      <td>1</td>\n",
              "      <td>NaN</td>\n",
              "      <td>0.6323</td>\n",
              "      <td>0.0179</td>\n",
              "      <td>42.8774</td>\n",
              "      <td>0.018</td>\n",
              "    </tr>\n",
              "    <tr>\n",
              "      <th>2</th>\n",
              "      <td>17</td>\n",
              "      <td>348.529419</td>\n",
              "      <td>-61.755440</td>\n",
              "      <td>321.293980</td>\n",
              "      <td>-51.763351</td>\n",
              "      <td>1</td>\n",
              "      <td>NaN</td>\n",
              "      <td>0.8297</td>\n",
              "      <td>0.0605</td>\n",
              "      <td>43.6000</td>\n",
              "      <td>0.016</td>\n",
              "    </tr>\n",
              "    <tr>\n",
              "      <th>3</th>\n",
              "      <td>23</td>\n",
              "      <td>34.804688</td>\n",
              "      <td>-5.829153</td>\n",
              "      <td>171.307861</td>\n",
              "      <td>-60.174401</td>\n",
              "      <td>1</td>\n",
              "      <td>NaN</td>\n",
              "      <td>0.6533</td>\n",
              "      <td>0.1479</td>\n",
              "      <td>42.9640</td>\n",
              "      <td>0.023</td>\n",
              "    </tr>\n",
              "    <tr>\n",
              "      <th>4</th>\n",
              "      <td>34</td>\n",
              "      <td>351.321442</td>\n",
              "      <td>-64.198746</td>\n",
              "      <td>317.458993</td>\n",
              "      <td>-50.429931</td>\n",
              "      <td>1</td>\n",
              "      <td>0.4557</td>\n",
              "      <td>0.4617</td>\n",
              "      <td>0.0122</td>\n",
              "      <td>42.0540</td>\n",
              "      <td>0.023</td>\n",
              "    </tr>\n",
              "  </tbody>\n",
              "</table>\n",
              "</div>"
            ],
            "text/plain": [
              "   object_id          ra       decl  ...  hostgal_photoz_err  distmod  mwebv\n",
              "0         13   34.453125  -5.229529  ...              0.0542  41.1123  0.019\n",
              "1         14   33.398438  -4.331149  ...              0.0179  42.8774  0.018\n",
              "2         17  348.529419 -61.755440  ...              0.0605  43.6000  0.016\n",
              "3         23   34.804688  -5.829153  ...              0.1479  42.9640  0.023\n",
              "4         34  351.321442 -64.198746  ...              0.0122  42.0540  0.023\n",
              "\n",
              "[5 rows x 11 columns]"
            ]
          },
          "metadata": {
            "tags": []
          },
          "execution_count": 94
        }
      ]
    },
    {
      "cell_type": "code",
      "metadata": {
        "ExecuteTime": {
          "end_time": "2020-04-05T15:26:56.029317Z",
          "start_time": "2020-04-05T15:26:55.976833Z"
        },
        "id": "1uEfkF8pckOm",
        "colab_type": "code",
        "outputId": "86ccb777-0bbe-4ee2-a336-5085f28c2b58",
        "colab": {
          "base_uri": "https://localhost:8080/",
          "height": 298
        }
      },
      "source": [
        "allfeatures = allfeatures.merge(metadata, left_index=True, right_index=True )\n",
        "allfeatures.head()"
      ],
      "execution_count": 106,
      "outputs": [
        {
          "output_type": "stream",
          "text": [
            "/usr/local/lib/python3.6/dist-packages/pandas/core/reshape/merge.py:618: UserWarning: merging between different levels can give an unintended result (2 levels on the left, 1 on the right)\n",
            "  warnings.warn(msg, UserWarning)\n"
          ],
          "name": "stderr"
        },
        {
          "output_type": "execute_result",
          "data": {
            "text/html": [
              "<div>\n",
              "<style scoped>\n",
              "    .dataframe tbody tr th:only-of-type {\n",
              "        vertical-align: middle;\n",
              "    }\n",
              "\n",
              "    .dataframe tbody tr th {\n",
              "        vertical-align: top;\n",
              "    }\n",
              "\n",
              "    .dataframe thead th {\n",
              "        text-align: right;\n",
              "    }\n",
              "</style>\n",
              "<table border=\"1\" class=\"dataframe\">\n",
              "  <thead>\n",
              "    <tr style=\"text-align: right;\">\n",
              "      <th></th>\n",
              "      <th>(0, mean)</th>\n",
              "      <th>(0, std)</th>\n",
              "      <th>(0, variance)</th>\n",
              "      <th>(0, skewness)</th>\n",
              "      <th>(0, kurtosis)</th>\n",
              "      <th>(0, maxs)</th>\n",
              "      <th>(0, mins)</th>\n",
              "      <th>(0, max_std)</th>\n",
              "      <th>(0, min_std)</th>\n",
              "      <th>(0, median_std)</th>\n",
              "      <th>(0, slopes)</th>\n",
              "      <th>(0, intercepts)</th>\n",
              "      <th>(0, ll1)</th>\n",
              "      <th>(0, ll3)</th>\n",
              "      <th>(1, mean)</th>\n",
              "      <th>(1, std)</th>\n",
              "      <th>(1, variance)</th>\n",
              "      <th>(1, skewness)</th>\n",
              "      <th>(1, kurtosis)</th>\n",
              "      <th>(1, maxs)</th>\n",
              "      <th>(1, mins)</th>\n",
              "      <th>(1, max_std)</th>\n",
              "      <th>(1, min_std)</th>\n",
              "      <th>(1, median_std)</th>\n",
              "      <th>(1, slopes)</th>\n",
              "      <th>(1, intercepts)</th>\n",
              "      <th>(1, ll1)</th>\n",
              "      <th>(1, ll2)</th>\n",
              "      <th>(1, ll3)</th>\n",
              "      <th>(2, mean)</th>\n",
              "      <th>(2, std)</th>\n",
              "      <th>(2, variance)</th>\n",
              "      <th>(2, skewness)</th>\n",
              "      <th>(2, kurtosis)</th>\n",
              "      <th>(2, maxs)</th>\n",
              "      <th>(2, mins)</th>\n",
              "      <th>(2, max_std)</th>\n",
              "      <th>(2, min_std)</th>\n",
              "      <th>(2, median_std)</th>\n",
              "      <th>(2, slopes)</th>\n",
              "      <th>...</th>\n",
              "      <th>(4, std)</th>\n",
              "      <th>(4, variance)</th>\n",
              "      <th>(4, skewness)</th>\n",
              "      <th>(4, kurtosis)</th>\n",
              "      <th>(4, maxs)</th>\n",
              "      <th>(4, mins)</th>\n",
              "      <th>(4, max_std)</th>\n",
              "      <th>(4, min_std)</th>\n",
              "      <th>(4, median_std)</th>\n",
              "      <th>(4, slopes)</th>\n",
              "      <th>(4, intercepts)</th>\n",
              "      <th>(4, ll1)</th>\n",
              "      <th>(4, ll2)</th>\n",
              "      <th>(4, ll3)</th>\n",
              "      <th>(5, mean)</th>\n",
              "      <th>(5, std)</th>\n",
              "      <th>(5, variance)</th>\n",
              "      <th>(5, skewness)</th>\n",
              "      <th>(5, kurtosis)</th>\n",
              "      <th>(5, maxs)</th>\n",
              "      <th>(5, mins)</th>\n",
              "      <th>(5, max_std)</th>\n",
              "      <th>(5, min_std)</th>\n",
              "      <th>(5, median_std)</th>\n",
              "      <th>(5, slopes)</th>\n",
              "      <th>(5, intercepts)</th>\n",
              "      <th>(5, ll1)</th>\n",
              "      <th>(5, ll2)</th>\n",
              "      <th>(5, ll3)</th>\n",
              "      <th>object_id</th>\n",
              "      <th>ra</th>\n",
              "      <th>decl</th>\n",
              "      <th>gal_l</th>\n",
              "      <th>gal_b</th>\n",
              "      <th>ddf</th>\n",
              "      <th>hostgal_specz</th>\n",
              "      <th>hostgal_photoz</th>\n",
              "      <th>hostgal_photoz_err</th>\n",
              "      <th>distmod</th>\n",
              "      <th>mwebv</th>\n",
              "    </tr>\n",
              "  </thead>\n",
              "  <tbody>\n",
              "    <tr>\n",
              "      <th>615</th>\n",
              "      <td>-3.254554</td>\n",
              "      <td>83.944735</td>\n",
              "      <td>6934.865833</td>\n",
              "      <td>72665.792850</td>\n",
              "      <td>7.433032e+07</td>\n",
              "      <td>125.182808</td>\n",
              "      <td>-116.913223</td>\n",
              "      <td>1.530023</td>\n",
              "      <td>-1.353970</td>\n",
              "      <td>-0.080537</td>\n",
              "      <td>0.005676</td>\n",
              "      <td>-0.175947</td>\n",
              "      <td>-84.013092</td>\n",
              "      <td>-1.0</td>\n",
              "      <td>-385.699911</td>\n",
              "      <td>601.787302</td>\n",
              "      <td>355904.026224</td>\n",
              "      <td>8.593916e+07</td>\n",
              "      <td>2.215166e+11</td>\n",
              "      <td>660.626343</td>\n",
              "      <td>-1100.440063</td>\n",
              "      <td>1.738698</td>\n",
              "      <td>-1.187696</td>\n",
              "      <td>-0.170090</td>\n",
              "      <td>0.014032</td>\n",
              "      <td>-0.399902</td>\n",
              "      <td>-80.867915</td>\n",
              "      <td>-80.869998</td>\n",
              "      <td>-1.0</td>\n",
              "      <td>-134.146566</td>\n",
              "      <td>455.121346</td>\n",
              "      <td>203564.138816</td>\n",
              "      <td>3.040627e+07</td>\n",
              "      <td>6.659406e+10</td>\n",
              "      <td>611.984558</td>\n",
              "      <td>-681.858887</td>\n",
              "      <td>1.639411</td>\n",
              "      <td>-1.203442</td>\n",
              "      <td>-0.289021</td>\n",
              "      <td>0.017676</td>\n",
              "      <td>...</td>\n",
              "      <td>291.803449</td>\n",
              "      <td>83681.162283</td>\n",
              "      <td>4.717542e+06</td>\n",
              "      <td>1.036570e+10</td>\n",
              "      <td>381.953735</td>\n",
              "      <td>-422.184509</td>\n",
              "      <td>1.500696</td>\n",
              "      <td>-1.255057</td>\n",
              "      <td>-0.163078</td>\n",
              "      <td>0.022343</td>\n",
              "      <td>-0.636786</td>\n",
              "      <td>-78.160027</td>\n",
              "      <td>-78.480261</td>\n",
              "      <td>-1.0</td>\n",
              "      <td>-47.449847</td>\n",
              "      <td>294.779522</td>\n",
              "      <td>85370.493377</td>\n",
              "      <td>3.041829e+06</td>\n",
              "      <td>1.049535e+10</td>\n",
              "      <td>378.188141</td>\n",
              "      <td>-422.815094</td>\n",
              "      <td>1.443920</td>\n",
              "      <td>-1.273376</td>\n",
              "      <td>-0.129163</td>\n",
              "      <td>0.021319</td>\n",
              "      <td>-0.596932</td>\n",
              "      <td>-76.917754</td>\n",
              "      <td>-77.386461</td>\n",
              "      <td>-1.0</td>\n",
              "      <td>6028</td>\n",
              "      <td>358.648071</td>\n",
              "      <td>-46.375080</td>\n",
              "      <td>329.462659</td>\n",
              "      <td>-67.716008</td>\n",
              "      <td>1</td>\n",
              "      <td>NaN</td>\n",
              "      <td>0.7000</td>\n",
              "      <td>0.0060</td>\n",
              "      <td>43.1467</td>\n",
              "      <td>0.009</td>\n",
              "    </tr>\n",
              "    <tr>\n",
              "      <th>713</th>\n",
              "      <td>-2.720398</td>\n",
              "      <td>7.113509</td>\n",
              "      <td>49.879128</td>\n",
              "      <td>89.634243</td>\n",
              "      <td>4.907398e+03</td>\n",
              "      <td>14.509829</td>\n",
              "      <td>-14.735178</td>\n",
              "      <td>2.422184</td>\n",
              "      <td>-1.689009</td>\n",
              "      <td>-0.052914</td>\n",
              "      <td>-0.041433</td>\n",
              "      <td>1.429423</td>\n",
              "      <td>-45.801483</td>\n",
              "      <td>-1.0</td>\n",
              "      <td>-1.019804</td>\n",
              "      <td>5.712334</td>\n",
              "      <td>32.048070</td>\n",
              "      <td>-1.551087e+01</td>\n",
              "      <td>1.944373e+03</td>\n",
              "      <td>9.129021</td>\n",
              "      <td>-11.715749</td>\n",
              "      <td>1.776651</td>\n",
              "      <td>-1.872430</td>\n",
              "      <td>0.080189</td>\n",
              "      <td>-0.051648</td>\n",
              "      <td>1.420320</td>\n",
              "      <td>-36.052358</td>\n",
              "      <td>-38.161170</td>\n",
              "      <td>-1.0</td>\n",
              "      <td>-0.794238</td>\n",
              "      <td>5.770738</td>\n",
              "      <td>32.706748</td>\n",
              "      <td>-4.127475e+00</td>\n",
              "      <td>1.935955e+03</td>\n",
              "      <td>10.529041</td>\n",
              "      <td>-10.067919</td>\n",
              "      <td>1.962189</td>\n",
              "      <td>-1.607018</td>\n",
              "      <td>0.117188</td>\n",
              "      <td>-0.053887</td>\n",
              "      <td>...</td>\n",
              "      <td>6.406989</td>\n",
              "      <td>40.316483</td>\n",
              "      <td>-1.597455e+01</td>\n",
              "      <td>2.938985e+03</td>\n",
              "      <td>9.827934</td>\n",
              "      <td>-12.286801</td>\n",
              "      <td>1.674452</td>\n",
              "      <td>-1.777206</td>\n",
              "      <td>0.016870</td>\n",
              "      <td>-0.050464</td>\n",
              "      <td>1.387765</td>\n",
              "      <td>-44.424807</td>\n",
              "      <td>-44.870314</td>\n",
              "      <td>-1.0</td>\n",
              "      <td>-1.794175</td>\n",
              "      <td>7.094073</td>\n",
              "      <td>49.427194</td>\n",
              "      <td>7.377121e+01</td>\n",
              "      <td>5.294322e+03</td>\n",
              "      <td>14.770886</td>\n",
              "      <td>-14.211164</td>\n",
              "      <td>2.335056</td>\n",
              "      <td>-1.750333</td>\n",
              "      <td>-0.094281</td>\n",
              "      <td>-0.037903</td>\n",
              "      <td>1.042343</td>\n",
              "      <td>-65.167686</td>\n",
              "      <td>-65.424297</td>\n",
              "      <td>-1.0</td>\n",
              "      <td>6949</td>\n",
              "      <td>346.130127</td>\n",
              "      <td>-63.072620</td>\n",
              "      <td>321.423103</td>\n",
              "      <td>-50.042305</td>\n",
              "      <td>1</td>\n",
              "      <td>NaN</td>\n",
              "      <td>0.8422</td>\n",
              "      <td>0.0195</td>\n",
              "      <td>43.6399</td>\n",
              "      <td>0.020</td>\n",
              "    </tr>\n",
              "    <tr>\n",
              "      <th>730</th>\n",
              "      <td>-0.048080</td>\n",
              "      <td>1.828872</td>\n",
              "      <td>3.298318</td>\n",
              "      <td>2.093148</td>\n",
              "      <td>3.655013e+01</td>\n",
              "      <td>5.942166</td>\n",
              "      <td>-3.459960</td>\n",
              "      <td>3.275377</td>\n",
              "      <td>-1.865565</td>\n",
              "      <td>0.039463</td>\n",
              "      <td>-0.001798</td>\n",
              "      <td>0.063840</td>\n",
              "      <td>-101.249926</td>\n",
              "      <td>-1.0</td>\n",
              "      <td>0.141057</td>\n",
              "      <td>1.807229</td>\n",
              "      <td>3.203266</td>\n",
              "      <td>2.623669e+00</td>\n",
              "      <td>3.870188e+01</td>\n",
              "      <td>5.693109</td>\n",
              "      <td>-3.393080</td>\n",
              "      <td>3.072136</td>\n",
              "      <td>-1.955556</td>\n",
              "      <td>0.016754</td>\n",
              "      <td>0.003167</td>\n",
              "      <td>-0.080770</td>\n",
              "      <td>-72.910038</td>\n",
              "      <td>-73.012277</td>\n",
              "      <td>-1.0</td>\n",
              "      <td>2.400870</td>\n",
              "      <td>5.559483</td>\n",
              "      <td>30.313471</td>\n",
              "      <td>3.864890e+02</td>\n",
              "      <td>6.926529e+03</td>\n",
              "      <td>20.994711</td>\n",
              "      <td>-2.848838</td>\n",
              "      <td>3.344527</td>\n",
              "      <td>-0.944280</td>\n",
              "      <td>-0.343392</td>\n",
              "      <td>0.026905</td>\n",
              "      <td>...</td>\n",
              "      <td>10.710344</td>\n",
              "      <td>112.462234</td>\n",
              "      <td>2.936931e+03</td>\n",
              "      <td>1.060595e+05</td>\n",
              "      <td>41.159981</td>\n",
              "      <td>-5.836310</td>\n",
              "      <td>3.440716</td>\n",
              "      <td>-0.947219</td>\n",
              "      <td>-0.308522</td>\n",
              "      <td>0.022552</td>\n",
              "      <td>-0.563811</td>\n",
              "      <td>-65.239486</td>\n",
              "      <td>-66.161110</td>\n",
              "      <td>1.0</td>\n",
              "      <td>4.539396</td>\n",
              "      <td>13.332758</td>\n",
              "      <td>174.276892</td>\n",
              "      <td>3.751336e+03</td>\n",
              "      <td>1.860606e+05</td>\n",
              "      <td>47.310059</td>\n",
              "      <td>-19.159811</td>\n",
              "      <td>3.207938</td>\n",
              "      <td>-1.777517</td>\n",
              "      <td>-0.149763</td>\n",
              "      <td>0.019612</td>\n",
              "      <td>-0.490299</td>\n",
              "      <td>-66.518080</td>\n",
              "      <td>-67.853917</td>\n",
              "      <td>1.0</td>\n",
              "      <td>7163</td>\n",
              "      <td>53.085938</td>\n",
              "      <td>-27.784405</td>\n",
              "      <td>223.525509</td>\n",
              "      <td>-54.460748</td>\n",
              "      <td>1</td>\n",
              "      <td>NaN</td>\n",
              "      <td>1.1234</td>\n",
              "      <td>0.1962</td>\n",
              "      <td>44.4129</td>\n",
              "      <td>0.007</td>\n",
              "    </tr>\n",
              "    <tr>\n",
              "      <th>745</th>\n",
              "      <td>1.797523</td>\n",
              "      <td>4.374445</td>\n",
              "      <td>18.869993</td>\n",
              "      <td>162.368381</td>\n",
              "      <td>2.575248e+03</td>\n",
              "      <td>18.014029</td>\n",
              "      <td>-3.874349</td>\n",
              "      <td>3.707100</td>\n",
              "      <td>-1.296592</td>\n",
              "      <td>-0.169349</td>\n",
              "      <td>-0.013089</td>\n",
              "      <td>0.464675</td>\n",
              "      <td>-88.423048</td>\n",
              "      <td>-1.0</td>\n",
              "      <td>5.717394</td>\n",
              "      <td>25.964659</td>\n",
              "      <td>662.124902</td>\n",
              "      <td>1.161627e+05</td>\n",
              "      <td>2.162844e+07</td>\n",
              "      <td>192.244293</td>\n",
              "      <td>-3.618410</td>\n",
              "      <td>7.183876</td>\n",
              "      <td>-0.359558</td>\n",
              "      <td>-0.185994</td>\n",
              "      <td>-0.003826</td>\n",
              "      <td>0.105205</td>\n",
              "      <td>-76.313623</td>\n",
              "      <td>-78.932796</td>\n",
              "      <td>-1.0</td>\n",
              "      <td>9.711532</td>\n",
              "      <td>31.957997</td>\n",
              "      <td>1003.075853</td>\n",
              "      <td>1.758302e+05</td>\n",
              "      <td>3.606109e+07</td>\n",
              "      <td>220.795212</td>\n",
              "      <td>-2.159753</td>\n",
              "      <td>6.605035</td>\n",
              "      <td>-0.371465</td>\n",
              "      <td>-0.290606</td>\n",
              "      <td>-0.003878</td>\n",
              "      <td>...</td>\n",
              "      <td>33.069053</td>\n",
              "      <td>1074.034376</td>\n",
              "      <td>1.190633e+05</td>\n",
              "      <td>1.781661e+07</td>\n",
              "      <td>183.633118</td>\n",
              "      <td>-15.494463</td>\n",
              "      <td>5.155838</td>\n",
              "      <td>-0.865731</td>\n",
              "      <td>-0.358773</td>\n",
              "      <td>-0.004774</td>\n",
              "      <td>0.131296</td>\n",
              "      <td>-67.067827</td>\n",
              "      <td>-78.924149</td>\n",
              "      <td>-1.0</td>\n",
              "      <td>10.746138</td>\n",
              "      <td>26.060130</td>\n",
              "      <td>666.782529</td>\n",
              "      <td>5.309464e+04</td>\n",
              "      <td>6.203072e+06</td>\n",
              "      <td>141.513290</td>\n",
              "      <td>-10.249387</td>\n",
              "      <td>5.017901</td>\n",
              "      <td>-0.805657</td>\n",
              "      <td>-0.306851</td>\n",
              "      <td>-0.002816</td>\n",
              "      <td>0.076043</td>\n",
              "      <td>-64.783463</td>\n",
              "      <td>-77.536999</td>\n",
              "      <td>-1.0</td>\n",
              "      <td>7378</td>\n",
              "      <td>347.846710</td>\n",
              "      <td>-64.760857</td>\n",
              "      <td>318.929827</td>\n",
              "      <td>-49.143596</td>\n",
              "      <td>1</td>\n",
              "      <td>NaN</td>\n",
              "      <td>1.0318</td>\n",
              "      <td>0.1438</td>\n",
              "      <td>44.1843</td>\n",
              "      <td>0.019</td>\n",
              "    </tr>\n",
              "    <tr>\n",
              "      <th>1124</th>\n",
              "      <td>0.660948</td>\n",
              "      <td>2.360084</td>\n",
              "      <td>5.481586</td>\n",
              "      <td>-4.160853</td>\n",
              "      <td>1.101222e+02</td>\n",
              "      <td>5.330927</td>\n",
              "      <td>-6.804703</td>\n",
              "      <td>1.978734</td>\n",
              "      <td>-3.163298</td>\n",
              "      <td>-0.033864</td>\n",
              "      <td>0.017117</td>\n",
              "      <td>-0.530614</td>\n",
              "      <td>-84.959510</td>\n",
              "      <td>-1.0</td>\n",
              "      <td>4.634637</td>\n",
              "      <td>8.107525</td>\n",
              "      <td>64.598653</td>\n",
              "      <td>1.202103e+03</td>\n",
              "      <td>3.545471e+04</td>\n",
              "      <td>37.170177</td>\n",
              "      <td>-2.622109</td>\n",
              "      <td>4.013005</td>\n",
              "      <td>-0.895063</td>\n",
              "      <td>-0.429236</td>\n",
              "      <td>0.028666</td>\n",
              "      <td>-0.816982</td>\n",
              "      <td>-67.527468</td>\n",
              "      <td>-69.333715</td>\n",
              "      <td>1.0</td>\n",
              "      <td>10.243968</td>\n",
              "      <td>21.319854</td>\n",
              "      <td>446.699339</td>\n",
              "      <td>2.827915e+04</td>\n",
              "      <td>2.468546e+06</td>\n",
              "      <td>106.671692</td>\n",
              "      <td>-2.084535</td>\n",
              "      <td>4.522907</td>\n",
              "      <td>-0.578264</td>\n",
              "      <td>-0.438785</td>\n",
              "      <td>0.025384</td>\n",
              "      <td>...</td>\n",
              "      <td>26.865913</td>\n",
              "      <td>709.332831</td>\n",
              "      <td>7.183273e+04</td>\n",
              "      <td>9.005039e+06</td>\n",
              "      <td>143.600189</td>\n",
              "      <td>-16.543753</td>\n",
              "      <td>4.976346</td>\n",
              "      <td>-0.984514</td>\n",
              "      <td>-0.303771</td>\n",
              "      <td>0.019736</td>\n",
              "      <td>-0.562470</td>\n",
              "      <td>-75.898716</td>\n",
              "      <td>-75.991223</td>\n",
              "      <td>1.0</td>\n",
              "      <td>6.896742</td>\n",
              "      <td>21.434627</td>\n",
              "      <td>451.382820</td>\n",
              "      <td>3.414365e+04</td>\n",
              "      <td>3.279413e+06</td>\n",
              "      <td>109.157585</td>\n",
              "      <td>-10.860540</td>\n",
              "      <td>4.770825</td>\n",
              "      <td>-0.828439</td>\n",
              "      <td>-0.229697</td>\n",
              "      <td>0.015555</td>\n",
              "      <td>-0.435534</td>\n",
              "      <td>-76.526495</td>\n",
              "      <td>-76.666778</td>\n",
              "      <td>1.0</td>\n",
              "      <td>11538</td>\n",
              "      <td>52.207031</td>\n",
              "      <td>-28.630989</td>\n",
              "      <td>224.800211</td>\n",
              "      <td>-55.343637</td>\n",
              "      <td>1</td>\n",
              "      <td>0.7272</td>\n",
              "      <td>0.8637</td>\n",
              "      <td>0.0803</td>\n",
              "      <td>43.7074</td>\n",
              "      <td>0.009</td>\n",
              "    </tr>\n",
              "  </tbody>\n",
              "</table>\n",
              "<p>5 rows × 100 columns</p>\n",
              "</div>"
            ],
            "text/plain": [
              "      (0, mean)   (0, std)  (0, variance)  ...  hostgal_photoz_err  distmod  mwebv\n",
              "615   -3.254554  83.944735    6934.865833  ...              0.0060  43.1467  0.009\n",
              "713   -2.720398   7.113509      49.879128  ...              0.0195  43.6399  0.020\n",
              "730   -0.048080   1.828872       3.298318  ...              0.1962  44.4129  0.007\n",
              "745    1.797523   4.374445      18.869993  ...              0.1438  44.1843  0.019\n",
              "1124   0.660948   2.360084       5.481586  ...              0.0803  43.7074  0.009\n",
              "\n",
              "[5 rows x 100 columns]"
            ]
          },
          "metadata": {
            "tags": []
          },
          "execution_count": 106
        }
      ]
    },
    {
      "cell_type": "markdown",
      "metadata": {
        "id": "6Kv5tz13ckOo",
        "colab_type": "text"
      },
      "source": [
        "* Deliverable: what is the shape of your final feature space?"
      ]
    },
    {
      "cell_type": "code",
      "metadata": {
        "ExecuteTime": {
          "end_time": "2020-04-05T15:52:47.165508Z",
          "start_time": "2020-04-05T15:52:47.162316Z"
        },
        "id": "VA7yClRvckOo",
        "colab_type": "code",
        "outputId": "1a879cf6-2c7d-4dba-a996-7961bc7ef6fb",
        "colab": {
          "base_uri": "https://localhost:8080/",
          "height": 34
        }
      },
      "source": [
        "print(\"My feature space is {:2} features (columns)\".format(len(allfeatures_merged.columns)))"
      ],
      "execution_count": 107,
      "outputs": [
        {
          "output_type": "stream",
          "text": [
            "My feature space is 101 features (columns)\n"
          ],
          "name": "stdout"
        }
      ]
    },
    {
      "cell_type": "markdown",
      "metadata": {
        "id": "qL4QqUNtckOq",
        "colab_type": "text"
      },
      "source": [
        "## Task 6: Create your train and test set out of the feature matrix and preprocess them to remove correlation by scaling them along the feature axis\n",
        "The goall is to have a fewature matrix, the endogenous variables, X, and the target vector, the y exogenous variable for each training and test set.\n",
        "Scale your training and test sets to remove the correlation: each feature is preprocessed so that it is mean=0 and standard deviation =1 - we will talk about it in class but make sure you deliver in this notebook the scaled features as below."
      ]
    },
    {
      "cell_type": "markdown",
      "metadata": {
        "id": "crTHhQyeckOq",
        "colab_type": "text"
      },
      "source": [
        "### make sure you deal with missing data"
      ]
    },
    {
      "cell_type": "code",
      "metadata": {
        "ExecuteTime": {
          "end_time": "2020-04-05T15:40:40.702738Z",
          "start_time": "2020-04-05T15:40:40.685808Z"
        },
        "id": "dgSGZkBIckOr",
        "colab_type": "code",
        "outputId": "84632df0-bb59-4094-a314-3989b5fb9bb3",
        "colab": {
          "base_uri": "https://localhost:8080/",
          "height": 34
        }
      },
      "source": [
        "# check for NaNs and infinities\n",
        "print(\"there are {} NaN and {} infinity entries\".format(\n",
        " (allfeatures.isna().sum().sum()), np.prod(allfeatures.shape) - (np.isfinite(allfeatures).sum().sum())))"
      ],
      "execution_count": 108,
      "outputs": [
        {
          "output_type": "stream",
          "text": [
            "there are 2323 NaN and 2323 infinity entries\n"
          ],
          "name": "stdout"
        }
      ]
    },
    {
      "cell_type": "code",
      "metadata": {
        "ExecuteTime": {
          "end_time": "2020-04-05T15:40:58.432834Z",
          "start_time": "2020-04-05T15:40:58.417349Z"
        },
        "id": "XNksa4g3ckOt",
        "colab_type": "code",
        "outputId": "79591ea0-3775-4974-803c-afa6f1152010",
        "colab": {
          "base_uri": "https://localhost:8080/",
          "height": 230
        }
      },
      "source": [
        "np.isfinite(allfeatures_merged).sum()"
      ],
      "execution_count": 109,
      "outputs": [
        {
          "output_type": "execute_result",
          "data": {
            "text/plain": [
              "(0, mean)             2214\n",
              "(0, std)              2214\n",
              "(0, variance)         2214\n",
              "(0, skewness)         2214\n",
              "(0, kurtosis)         2214\n",
              "                      ... \n",
              "hostgal_specz          119\n",
              "hostgal_photoz        2214\n",
              "hostgal_photoz_err    2214\n",
              "distmod               1986\n",
              "mwebv                 2214\n",
              "Length: 101, dtype: int64"
            ]
          },
          "metadata": {
            "tags": []
          },
          "execution_count": 109
        }
      ]
    },
    {
      "cell_type": "markdown",
      "metadata": {
        "id": "vj9GffQuckOu",
        "colab_type": "text"
      },
      "source": [
        "I the problem is with one of the likelihoods. \n",
        "I can drop that feature from the dataset or replace with something else. \n",
        "\n"
      ]
    },
    {
      "cell_type": "code",
      "metadata": {
        "ExecuteTime": {
          "end_time": "2020-04-05T15:42:54.309506Z",
          "start_time": "2020-04-05T15:42:54.293821Z"
        },
        "id": "N9a9cN1vckOv",
        "colab_type": "code",
        "outputId": "680f3b06-addb-4228-95ca-fa2570417077",
        "colab": {
          "base_uri": "https://localhost:8080/",
          "height": 34
        }
      },
      "source": [
        "## dropping the observation\n",
        "allfeatures.shape, allfeatures.replace([np.inf, -np.inf], np.nan).dropna().shape"
      ],
      "execution_count": 110,
      "outputs": [
        {
          "output_type": "execute_result",
          "data": {
            "text/plain": [
              "((2214, 100), (119, 100))"
            ]
          },
          "metadata": {
            "tags": []
          },
          "execution_count": 110
        }
      ]
    },
    {
      "cell_type": "code",
      "metadata": {
        "ExecuteTime": {
          "end_time": "2020-04-05T15:42:55.022520Z",
          "start_time": "2020-04-05T15:42:55.004097Z"
        },
        "id": "iNkd6zgZckOx",
        "colab_type": "code",
        "outputId": "16d00b4e-7ad4-4937-cfb3-dd5103705d62",
        "colab": {
          "base_uri": "https://localhost:8080/",
          "height": 34
        }
      },
      "source": [
        "## dropping the feature\n",
        "allfeatures.shape, allfeatures.replace([np.inf, -np.inf], np.nan).dropna(axis=1).shape"
      ],
      "execution_count": 111,
      "outputs": [
        {
          "output_type": "execute_result",
          "data": {
            "text/plain": [
              "((2214, 100), (2214, 98))"
            ]
          },
          "metadata": {
            "tags": []
          },
          "execution_count": 111
        }
      ]
    },
    {
      "cell_type": "code",
      "metadata": {
        "ExecuteTime": {
          "end_time": "2020-04-05T15:43:36.552050Z",
          "start_time": "2020-04-05T15:43:36.538979Z"
        },
        "id": "rvxy5aw9ckO1",
        "colab_type": "code",
        "outputId": "2fca602e-2a12-43b7-9b4f-18227a4f9da5",
        "colab": {
          "base_uri": "https://localhost:8080/",
          "height": 34
        }
      },
      "source": [
        "## filling with something else\n",
        "allfeatures.shape, allfeatures.replace([np.inf, -np.inf], np.nan).fillna(-99).shape"
      ],
      "execution_count": 112,
      "outputs": [
        {
          "output_type": "execute_result",
          "data": {
            "text/plain": [
              "((2214, 100), (2214, 100))"
            ]
          },
          "metadata": {
            "tags": []
          },
          "execution_count": 112
        }
      ]
    },
    {
      "cell_type": "code",
      "metadata": {
        "ExecuteTime": {
          "end_time": "2020-04-05T15:44:14.541252Z",
          "start_time": "2020-04-05T15:44:14.525692Z"
        },
        "id": "8-i_wJ_KckO3",
        "colab_type": "code",
        "colab": {}
      },
      "source": [
        "# -- personally I choose to drop the feature \n",
        "allfeatures = allfeatures.replace([np.inf, -np.inf], np.nan).dropna(axis=1)"
      ],
      "execution_count": 0,
      "outputs": []
    },
    {
      "cell_type": "markdown",
      "metadata": {
        "id": "LaOjaoXJckO4",
        "colab_type": "text"
      },
      "source": [
        "## split train-test set"
      ]
    },
    {
      "cell_type": "code",
      "metadata": {
        "ExecuteTime": {
          "end_time": "2020-04-05T15:44:46.367483Z",
          "start_time": "2020-04-05T15:44:46.354703Z"
        },
        "id": "CAqetC0YckO4",
        "colab_type": "code",
        "colab": {
          "base_uri": "https://localhost:8080/",
          "height": 52
        },
        "outputId": "58f5981e-cc94-44c5-defb-2507ba61a77f"
      },
      "source": [
        "%%time\n",
        "X = allfeatures.iloc[:,:-1]\n",
        "y = allfeatures.iloc[:,-1]\n",
        "\n",
        "import sklearn\n",
        "from sklearn.model_selection import train_test_split\n",
        "\n",
        "X_train, X_test, y_train, y_test  = train_test_split( X, y, test_size=0.60, train_size=0.40, random_state=100, shuffle=True)\n",
        "#remember to use the random state so that your work is reproducible and use a split between 60-40 and 75-25."
      ],
      "execution_count": 118,
      "outputs": [
        {
          "output_type": "stream",
          "text": [
            "CPU times: user 4.03 ms, sys: 1 ms, total: 5.03 ms\n",
            "Wall time: 5.42 ms\n"
          ],
          "name": "stdout"
        }
      ]
    },
    {
      "cell_type": "markdown",
      "metadata": {
        "id": "9OcIizutckO7",
        "colab_type": "text"
      },
      "source": [
        "## scale train and test set"
      ]
    },
    {
      "cell_type": "code",
      "metadata": {
        "id": "Fv_rOgxWotDu",
        "colab_type": "code",
        "colab": {
          "base_uri": "https://localhost:8080/",
          "height": 621
        },
        "outputId": "a10b1695-9b47-463e-b1a2-709be1eaffa1"
      },
      "source": [
        "allfeatures.keys()"
      ],
      "execution_count": 116,
      "outputs": [
        {
          "output_type": "execute_result",
          "data": {
            "text/plain": [
              "Index([         (0, 'mean'),           (0, 'std'),      (0, 'variance'),\n",
              "            (0, 'skewness'),      (0, 'kurtosis'),          (0, 'maxs'),\n",
              "                (0, 'mins'),       (0, 'max_std'),       (0, 'min_std'),\n",
              "          (0, 'median_std'),        (0, 'slopes'),    (0, 'intercepts'),\n",
              "                 (0, 'll1'),           (0, 'll3'),          (1, 'mean'),\n",
              "                 (1, 'std'),      (1, 'variance'),      (1, 'skewness'),\n",
              "            (1, 'kurtosis'),          (1, 'maxs'),          (1, 'mins'),\n",
              "             (1, 'max_std'),       (1, 'min_std'),    (1, 'median_std'),\n",
              "              (1, 'slopes'),    (1, 'intercepts'),           (1, 'll1'),\n",
              "                 (1, 'll2'),           (1, 'll3'),          (2, 'mean'),\n",
              "                 (2, 'std'),      (2, 'variance'),      (2, 'skewness'),\n",
              "            (2, 'kurtosis'),          (2, 'maxs'),          (2, 'mins'),\n",
              "             (2, 'max_std'),       (2, 'min_std'),    (2, 'median_std'),\n",
              "              (2, 'slopes'),    (2, 'intercepts'),           (2, 'll1'),\n",
              "                 (2, 'll2'),           (2, 'll3'),          (3, 'mean'),\n",
              "                 (3, 'std'),      (3, 'variance'),      (3, 'skewness'),\n",
              "            (3, 'kurtosis'),          (3, 'maxs'),          (3, 'mins'),\n",
              "             (3, 'max_std'),       (3, 'min_std'),    (3, 'median_std'),\n",
              "              (3, 'slopes'),    (3, 'intercepts'),           (3, 'll1'),\n",
              "                 (3, 'll2'),           (3, 'll3'),          (4, 'mean'),\n",
              "                 (4, 'std'),      (4, 'variance'),      (4, 'skewness'),\n",
              "            (4, 'kurtosis'),          (4, 'maxs'),          (4, 'mins'),\n",
              "             (4, 'max_std'),       (4, 'min_std'),    (4, 'median_std'),\n",
              "              (4, 'slopes'),    (4, 'intercepts'),           (4, 'll1'),\n",
              "                 (4, 'll2'),           (4, 'll3'),          (5, 'mean'),\n",
              "                 (5, 'std'),      (5, 'variance'),      (5, 'skewness'),\n",
              "            (5, 'kurtosis'),          (5, 'maxs'),          (5, 'mins'),\n",
              "             (5, 'max_std'),       (5, 'min_std'),    (5, 'median_std'),\n",
              "              (5, 'slopes'),    (5, 'intercepts'),           (5, 'll1'),\n",
              "                 (5, 'll2'),           (5, 'll3'),          'object_id',\n",
              "                       'ra',               'decl',              'gal_l',\n",
              "                    'gal_b',                'ddf',     'hostgal_photoz',\n",
              "       'hostgal_photoz_err',              'mwebv'],\n",
              "      dtype='object')"
            ]
          },
          "metadata": {
            "tags": []
          },
          "execution_count": 116
        }
      ]
    },
    {
      "cell_type": "code",
      "metadata": {
        "ExecuteTime": {
          "end_time": "2020-04-05T15:45:40.974740Z",
          "start_time": "2020-04-05T15:45:40.949498Z"
        },
        "id": "UcU37yt_ckO7",
        "colab_type": "code",
        "outputId": "eba7f042-6297-4237-8bd2-f3fd56ae70fd",
        "colab": {
          "base_uri": "https://localhost:8080/",
          "height": 70
        }
      },
      "source": [
        "%%time\n",
        "from sklearn import preprocessing\n",
        "Xtrain_scaled = preprocessing.scale(X_train)\n",
        "Xtest_scaled = preprocessing.scale(X_test)\n",
        "\n",
        "print(\"scaled training data feature mean and standard deviations: \", \n",
        "      Xtrain_scaled.mean(axis=0), Xtrain_scaled.std(axis=0))"
      ],
      "execution_count": 119,
      "outputs": [
        {
          "output_type": "stream",
          "text": [
            "scaled training data feature mean and standard deviations:  -9.032322912204663e-18 1.0\n",
            "CPU times: user 2.96 ms, sys: 0 ns, total: 2.96 ms\n",
            "Wall time: 3.52 ms\n"
          ],
          "name": "stdout"
        }
      ]
    },
    {
      "cell_type": "markdown",
      "metadata": {
        "id": "XX_q0u2uckO8",
        "colab_type": "text"
      },
      "source": [
        "\n",
        "# Task 7: We will talk about what the next task means in class. read on to see how one can visualize a large dimensional feature space to plan the analysis and produce a 2D t-SNE projection of your feature space and visualize it. \n",
        "If you are lucky, this will be a pretty plot!\n",
        "a great model to **Visualize** structure in data is  t-SNE: t-distributed Stocastic Neighbourhood Embedding\n",
        "It project N-dimensional data on a 2-dimensional surface preserving the N-dimensional distance. If thre is structure in the feature space, it should show. If there is structure in feature space, clustering is a promising technique.\n"
      ]
    },
    {
      "cell_type": "code",
      "metadata": {
        "ExecuteTime": {
          "end_time": "2020-04-05T15:45:51.118637Z",
          "start_time": "2020-04-05T15:45:51.012856Z"
        },
        "id": "NBzX8ivcckO9",
        "colab_type": "code",
        "colab": {}
      },
      "source": [
        "from sklearn.manifold import TSNE"
      ],
      "execution_count": 0,
      "outputs": []
    },
    {
      "cell_type": "code",
      "metadata": {
        "ExecuteTime": {
          "end_time": "2020-04-05T20:46:58.855689Z",
          "start_time": "2020-04-05T20:46:04.164240Z"
        },
        "id": "XsUzCNAIckO-",
        "colab_type": "code",
        "outputId": "f8d5b945-db59-4759-dceb-f4691ef2bf35",
        "colab": {
          "base_uri": "https://localhost:8080/",
          "height": 357
        }
      },
      "source": [
        "%%time\n",
        "X_embedded = TSNE(n_components=2, random_state=345).fit_transform(X)\n",
        "X_embedded.shape\n",
        "pl.figure(figsize=(5,5))\n",
        "pl.scatter(X_embedded[:,0], X_embedded[:,1])\n",
        "pl.show()\n",
        "print(\"Figure: the 2D projection of the 79-dimensional feature space we created by extracting features from the time series. \" + \n",
        "      \"The separation of the objects in the t-distribution based stocastic neighbourhood embedding (t-SNE) is promising: \" + \n",
        "      \"t-SNE is an embedding (a transformation to a different coordinate space) which is designed to preserve Eucledian\" + \n",
        "      \"pairwise distances existing in the higher dimensional parameter space. \" + \n",
        "      \"How many clusters can you see in this embedding?\" + \n",
        "      \"A note: since the t_SNE produces a projection of the feature space on an ideal set of coordinates, \" + \n",
        "      \"this is the only cxase in which you are allowed not to label your axes!\")"
      ],
      "execution_count": 121,
      "outputs": [
        {
          "output_type": "display_data",
          "data": {
            "image/png": "[encoded data removed]",
            "text/plain": [
              "<Figure size 360x360 with 1 Axes>"
            ]
          },
          "metadata": {
            "tags": []
          }
        },
        {
          "output_type": "stream",
          "text": [
            "Figure: the 2D projection of the 79-dimensional feature space we created by extracting features from the time series. The separation of the objects in the t-distribution based stocastic neighbourhood embedding (t-SNE) is promising: t-SNE is an embedding (a transformation to a different coordinate space) which is designed to preserve Eucledianpairwise distances existing in the higher dimensional parameter space. How many clusters can you see in this embedding?A note: since the t_SNE produces a projection of the feature space on an ideal set of coordinates, this is the only cxase in which you are allowed not to label your axes!\n"
          ],
          "name": "stdout"
        }
      ]
    },
    {
      "cell_type": "markdown",
      "metadata": {
        "id": "21sp89vSckPA",
        "colab_type": "text"
      },
      "source": [
        "We have to assure that the clusters map to the target variable tho. So I will redo the plot colorcoded by target variable"
      ]
    },
    {
      "cell_type": "code",
      "metadata": {
        "ExecuteTime": {
          "end_time": "2020-04-05T20:47:16.816779Z",
          "start_time": "2020-04-05T20:47:14.920571Z"
        },
        "id": "8r_XcfLdckPA",
        "colab_type": "code",
        "outputId": "63b3c2ed-0217-42cf-9bf1-772799786373",
        "colab": {
          "base_uri": "https://localhost:8080/",
          "height": 320
        }
      },
      "source": [
        "%%time\n",
        "norm_obj= Normalize(vmin=y.min(), vmax=y.max())\n",
        "len([c for c in pl.cm.RdBu_r(norm_obj(y.values))]), X_embedded.shape\n",
        "pl.figure(figsize=(5,5))\n",
        "pl.scatter(X_embedded[:,0], X_embedded[:,1],  \n",
        "           color=[c for c in pl.cm.viridis(norm_obj(y.values))], alpha=0.5);"
      ],
      "execution_count": 122,
      "outputs": [
        {
          "output_type": "display_data",
          "data": {
            "image/png": "[encoded data removed]",
            "text/plain": [
              "<Figure size 360x360 with 1 Axes>"
            ]
          },
          "metadata": {
            "tags": []
          }
        }
      ]
    },
    {
      "cell_type": "markdown",
      "metadata": {
        "id": "ZCPReQ5tckPC",
        "colab_type": "text"
      },
      "source": [
        "Figure: the purity of the sample is not good in the t-SNE projection against the target variable."
      ]
    },
    {
      "cell_type": "markdown",
      "metadata": {
        "id": "RqnAF-KOckPC",
        "colab_type": "text"
      },
      "source": [
        "Does this map better on other features in the metadata?"
      ]
    },
    {
      "cell_type": "code",
      "metadata": {
        "ExecuteTime": {
          "end_time": "2020-04-05T20:48:46.533014Z",
          "start_time": "2020-04-05T20:47:25.735756Z"
        },
        "scrolled": false,
        "id": "GC5EpcfockPC",
        "colab_type": "code",
        "colab": {}
      },
      "source": [
        "%%time\n",
        "for col in metadata.columns:\n",
        "    v = metadata[col].astype(float)\n",
        "    pl.figure(figsize=(5,5))\n",
        "    pl.title(col)\n",
        "    pl.scatter(X_embedded[:,0], X_embedded[:,1],  color=[pl.cm.RdBu_r(Normalize(vmin=v.min(), vmax=v.max())(c))\n",
        "                                                         for c in v])\n",
        "\n",
        "    pl.show()"
      ],
      "execution_count": 0,
      "outputs": []
    },
    {
      "cell_type": "code",
      "metadata": {
        "id": "lRmSi_w-ckPE",
        "colab_type": "code",
        "colab": {}
      },
      "source": [
        " "
      ],
      "execution_count": 0,
      "outputs": []
    }
  ]
}