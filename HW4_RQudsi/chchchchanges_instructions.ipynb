{
  "nbformat": 4,
  "nbformat_minor": 0,
  "metadata": {
    "kernelspec": {
      "display_name": "Python 3",
      "language": "python",
      "name": "python3"
    },
    "language_info": {
      "codemirror_mode": {
        "name": "ipython",
        "version": 3
      },
      "file_extension": ".py",
      "mimetype": "text/x-python",
      "name": "python",
      "nbconvert_exporter": "python",
      "pygments_lexer": "ipython3",
      "version": "3.7.3"
    },
    "latex_envs": {
      "LaTeX_envs_menu_present": true,
      "autoclose": false,
      "autocomplete": true,
      "bibliofile": "biblio.bib",
      "cite_by": "apalike",
      "current_citInitial": 1,
      "eqLabelWithNumbers": true,
      "eqNumInitial": 1,
      "hotkeys": {
        "equation": "Ctrl-E",
        "itemize": "Ctrl-I"
      },
      "labels_anchors": false,
      "latex_user_defs": false,
      "report_style_numbering": false,
      "user_envs_cfg": false
    },
    "nbTranslate": {
      "displayLangs": [
        "*"
      ],
      "hotkey": "alt-t",
      "langInMainMenu": true,
      "sourceLang": "en",
      "targetLang": "fr",
      "useGoogleTranslate": true
    },
    "toc": {
      "base_numbering": 1,
      "nav_menu": {},
      "number_sections": true,
      "sideBar": true,
      "skip_h1_title": false,
      "title_cell": "Table of Contents",
      "title_sidebar": "Contents",
      "toc_cell": false,
      "toc_position": {},
      "toc_section_display": true,
      "toc_window_display": false
    },
    "colab": {
      "name": "chchchchanges_instructions.ipynb",
      "provenance": [],
      "collapsed_sections": [],
      "include_colab_link": true
    }
  },
  "cells": [
    {
      "cell_type": "markdown",
      "metadata": {
        "id": "view-in-github",
        "colab_type": "text"
      },
      "source": [
        "<a href=\"https://colab.research.google.com/github/ahmadryan/MLTSA_RQudsi/blob/master/HW4_RQudsi/chchchchanges_instructions.ipynb\" target=\"_parent\"><img src=\"https://colab.research.google.com/assets/colab-badge.svg\" alt=\"Open In Colab\"/></a>"
      ]
    },
    {
      "cell_type": "code",
      "metadata": {
        "ExecuteTime": {
          "end_time": "2020-03-06T23:38:17.442983Z",
          "start_time": "2020-03-06T23:38:15.670550Z"
        },
        "id": "NwBdlVgHaBhB",
        "colab_type": "code",
        "outputId": "71ba7b43-eb24-4cfa-83a4-3dd8a8a9def8",
        "colab": {
          "base_uri": "https://localhost:8080/",
          "height": 89
        }
      },
      "source": [
        "!pip install ruptures\n",
        "import ruptures as rpt\n",
        "import pylab as pl\n",
        "import pandas as pd\n",
        "from numpy import *\n",
        "%pylab inline"
      ],
      "execution_count": 2,
      "outputs": [
        {
          "output_type": "stream",
          "text": [
            "Requirement already satisfied: ruptures in /usr/local/lib/python3.6/dist-packages (1.0.3)\n",
            "Requirement already satisfied: numpy in /usr/local/lib/python3.6/dist-packages (from ruptures) (1.17.5)\n",
            "Requirement already satisfied: scipy in /usr/local/lib/python3.6/dist-packages (from ruptures) (1.4.1)\n",
            "Populating the interactive namespace from numpy and matplotlib\n"
          ],
          "name": "stdout"
        }
      ]
    },
    {
      "cell_type": "code",
      "metadata": {
        "id": "PharO8UJSDyl",
        "colab_type": "code",
        "colab": {
          "base_uri": "https://localhost:8080/"
        },
        "outputId": "9e549945-a8ae-4de1-8a2b-d44f551ad9a1"
      },
      "source": [
        "! sudo apt-get install texlive-latex-recommended\n",
        "! sudo apt install texlive-latex-extra\n",
        "! sudo apt install dvipng"
      ],
      "execution_count": 0,
      "outputs": [
        {
          "output_type": "stream",
          "text": [
            "\rReading package lists... 0%\r\rReading package lists... 0%\r\rReading package lists... 0%\r\rReading package lists... 7%\r\rReading package lists... 7%\r\rReading package lists... 7%\r\rReading package lists... 7%\r\rReading package lists... 64%\r\rReading package lists... 64%\r\rReading package lists... 65%\r\rReading package lists... 65%\r\rReading package lists... 69%\r\rReading package lists... 72%\r\rReading package lists... 72%\r\rReading package lists... 72%\r\rReading package lists... 72%\r\rReading package lists... 81%\r\rReading package lists... 81%\r\rReading package lists... 82%\r\rReading package lists... 82%\r\rReading package lists... 82%\r\rReading package lists... 82%\r\rReading package lists... 82%\r\rReading package lists... 82%\r\rReading package lists... 87%\r\rReading package lists... 87%\r\rReading package lists... 87%\r\rReading package lists... 87%\r\rReading package lists... 93%\r\rReading package lists... 93%\r\rReading package lists... 93%\r\rReading package lists... 93%\r\rReading package lists... 93%\r\rReading package lists... 93%\r\rReading package lists... 94%\r\rReading package lists... 94%\r\rReading package lists... 95%\r\rReading package lists... 95%\r\rReading package lists... 98%\r\rReading package lists... 98%\r\rReading package lists... 98%\r\rReading package lists... 98%\r\rReading package lists... Done\r\n",
            "\rBuilding dependency tree... 0%\r\rBuilding dependency tree... 0%\r\rBuilding dependency tree... 50%\r\rBuilding dependency tree... 50%\r\rBuilding dependency tree       \r\n",
            "\rReading state information... 0%\r\rReading state information... 0%\r\rReading state information... Done\r\n",
            "The following additional packages will be installed:\n",
            "  fonts-droid-fallback fonts-lmodern fonts-noto-mono libcupsfilters1\n",
            "  libcupsimage2 libgs9 libgs9-common libijs-0.35 libjbig2dec0 libkpathsea6\n",
            "  libpotrace0 libptexenc1 libsynctex1 libtexlua52 libtexluajit2 libzzip-0-13\n",
            "  lmodern poppler-data t1utils tex-common texlive-base texlive-binaries\n",
            "  texlive-latex-base\n",
            "Suggested packages:\n",
            "  fonts-noto poppler-utils ghostscript fonts-japanese-mincho\n",
            "  | fonts-ipafont-mincho fonts-japanese-gothic | fonts-ipafont-gothic\n",
            "  fonts-arphic-ukai fonts-arphic-uming fonts-nanum debhelper gv\n",
            "  | postscript-viewer perl-tk xpdf-reader | pdf-viewer texlive-latex-base-doc\n",
            "  texlive-latex-recommended-doc texlive-pstricks\n",
            "The following NEW packages will be installed:\n",
            "  fonts-droid-fallback fonts-lmodern fonts-noto-mono libcupsfilters1\n",
            "  libcupsimage2 libgs9 libgs9-common libijs-0.35 libjbig2dec0 libkpathsea6\n",
            "  libpotrace0 libptexenc1 libsynctex1 libtexlua52 libtexluajit2 libzzip-0-13\n",
            "  lmodern poppler-data t1utils tex-common texlive-base texlive-binaries\n",
            "  texlive-latex-base texlive-latex-recommended\n",
            "0 upgraded, 24 newly installed, 0 to remove and 25 not upgraded.\n",
            "Need to get 68.4 MB of archives.\n",
            "After this operation, 223 MB of additional disk space will be used.\n",
            "\r0% [Working]\r            \rGet:1 http://archive.ubuntu.com/ubuntu bionic/main amd64 fonts-droid-fallback all 1:6.0.1r16-1.1 [1,805 kB]\n",
            "\r0% [1 fonts-droid-fallback 0 B/1,805 kB 0%]\r                                           \r3% [Working]\r            \rGet:2 http://archive.ubuntu.com/ubuntu bionic/main amd64 poppler-data all 0.4.8-2 [1,479 kB]\n",
            "\r3% [2 poppler-data 0 B/1,479 kB 0%]\r                                   \r6% [Working]\r            \rGet:3 http://archive.ubuntu.com/ubuntu bionic/main amd64 tex-common all 6.09 [33.0 kB]\n",
            "\r6% [3 tex-common 0 B/33.0 kB 0%]\r                                \r6% [Working]\r            \rGet:4 http://archive.ubuntu.com/ubuntu bionic/main amd64 fonts-lmodern all 2.004.5-3 [4,551 kB]\n",
            "\r6% [4 fonts-lmodern 0 B/4,551 kB 0%]\r                                    \r13% [Working]\r             \rGet:5 http://archive.ubuntu.com/ubuntu bionic/main amd64 fonts-noto-mono all 20171026-2 [75.5 kB]\n",
            "Get:6 http://archive.ubuntu.com/ubuntu bionic-updates/main amd64 libcupsfilters1 amd64 1.20.2-0ubuntu3.1 [108 kB]\n",
            "Get:7 http://archive.ubuntu.com/ubuntu bionic-updates/main amd64 libcupsimage2 amd64 2.2.7-1ubuntu2.7 [18.6 kB]\n",
            "Get:8 http://archive.ubuntu.com/ubuntu bionic/main amd64 libijs-0.35 amd64 0.35-13 [15.5 kB]\n",
            "Get:9 http://archive.ubuntu.com/ubuntu bionic/main amd64 libjbig2dec0 amd64 0.13-6 [55.9 kB]\n",
            "Get:10 http://archive.ubuntu.com/ubuntu bionic-updates/main amd64 libgs9-common all 9.26~dfsg+0-0ubuntu0.18.04.12 [5,092 kB]\n",
            "Get:11 http://archive.ubuntu.com/ubuntu bionic-updates/main amd64 libgs9 amd64 9.26~dfsg+0-0ubuntu0.18.04.12 [2,264 kB]\n",
            "Get:12 http://archive.ubuntu.com/ubuntu bionic-updates/main amd64 libkpathsea6 amd64 2017.20170613.44572-8ubuntu0.1 [54.9 kB]\n",
            "Get:13 http://archive.ubuntu.com/ubuntu bionic/main amd64 libpotrace0 amd64 1.14-2 [17.4 kB]\n",
            "Get:14 http://archive.ubuntu.com/ubuntu bionic-updates/main amd64 libptexenc1 amd64 2017.20170613.44572-8ubuntu0.1 [34.5 kB]\n",
            "Get:15 http://archive.ubuntu.com/ubuntu bionic-updates/main amd64 libsynctex1 amd64 2017.20170613.44572-8ubuntu0.1 [41.4 kB]\n",
            "Get:16 http://archive.ubuntu.com/ubuntu bionic-updates/main amd64 libtexlua52 amd64 2017.20170613.44572-8ubuntu0.1 [91.2 kB]\n",
            "Get:17 http://archive.ubuntu.com/ubuntu bionic-updates/main amd64 libtexluajit2 amd64 2017.20170613.44572-8ubuntu0.1 [230 kB]\n",
            "Get:18 http://archive.ubuntu.com/ubuntu bionic-updates/main amd64 libzzip-0-13 amd64 0.13.62-3.1ubuntu0.18.04.1 [26.0 kB]\n",
            "Get:19 http://archive.ubuntu.com/ubuntu bionic/main amd64 lmodern all 2.004.5-3 [9,631 kB]\n",
            "Get:20 http://archive.ubuntu.com/ubuntu bionic/main amd64 t1utils amd64 1.41-2 [56.0 kB]\n",
            "Get:21 http://archive.ubuntu.com/ubuntu bionic-updates/main amd64 texlive-binaries amd64 2017.20170613.44572-8ubuntu0.1 [8,179 kB]\n",
            "Get:22 http://archive.ubuntu.com/ubuntu bionic/main amd64 texlive-base all 2017.20180305-1 [18.7 MB]\n",
            "Get:23 http://archive.ubuntu.com/ubuntu bionic/main amd64 texlive-latex-base all 2017.20180305-1 [951 kB]\n",
            "Get:24 http://archive.ubuntu.com/ubuntu bionic/main amd64 texlive-latex-recommended all 2017.20180305-1 [14.9 MB]\n",
            "Fetched 68.4 MB in 1s (61.7 MB/s)\n",
            "debconf: unable to initialize frontend: Dialog\n",
            "debconf: (No usable dialog-like program is installed, so the dialog based frontend cannot be used. at /usr/share/perl5/Debconf/FrontEnd/Dialog.pm line 76, <> line 24.)\n",
            "debconf: falling back to frontend: Readline\n",
            "debconf: unable to initialize frontend: Readline\n",
            "debconf: (This frontend requires a controlling tty.)\n",
            "debconf: falling back to frontend: Teletype\n",
            "dpkg-preconfigure: unable to re-open stdin: \n",
            "Selecting previously unselected package fonts-droid-fallback.\n",
            "(Reading database ... 134448 files and directories currently installed.)\n",
            "Preparing to unpack .../00-fonts-droid-fallback_1%3a6.0.1r16-1.1_all.deb ...\n",
            "Unpacking fonts-droid-fallback (1:6.0.1r16-1.1) ...\n",
            "Selecting previously unselected package poppler-data.\n",
            "Preparing to unpack .../01-poppler-data_0.4.8-2_all.deb ...\n",
            "Unpacking poppler-data (0.4.8-2) ...\n",
            "Selecting previously unselected package tex-common.\n",
            "Preparing to unpack .../02-tex-common_6.09_all.deb ...\n",
            "Unpacking tex-common (6.09) ...\n",
            "Selecting previously unselected package fonts-lmodern.\n",
            "Preparing to unpack .../03-fonts-lmodern_2.004.5-3_all.deb ...\n",
            "Unpacking fonts-lmodern (2.004.5-3) ...\n",
            "Selecting previously unselected package fonts-noto-mono.\n",
            "Preparing to unpack .../04-fonts-noto-mono_20171026-2_all.deb ...\n",
            "Unpacking fonts-noto-mono (20171026-2) ...\n",
            "Selecting previously unselected package libcupsfilters1:amd64.\n",
            "Preparing to unpack .../05-libcupsfilters1_1.20.2-0ubuntu3.1_amd64.deb ...\n",
            "Unpacking libcupsfilters1:amd64 (1.20.2-0ubuntu3.1) ...\n",
            "Selecting previously unselected package libcupsimage2:amd64.\n",
            "Preparing to unpack .../06-libcupsimage2_2.2.7-1ubuntu2.7_amd64.deb ...\n",
            "Unpacking libcupsimage2:amd64 (2.2.7-1ubuntu2.7) ...\n",
            "Selecting previously unselected package libijs-0.35:amd64.\n",
            "Preparing to unpack .../07-libijs-0.35_0.35-13_amd64.deb ...\n",
            "Unpacking libijs-0.35:amd64 (0.35-13) ...\n",
            "Selecting previously unselected package libjbig2dec0:amd64.\n",
            "Preparing to unpack .../08-libjbig2dec0_0.13-6_amd64.deb ...\n",
            "Unpacking libjbig2dec0:amd64 (0.13-6) ...\n",
            "Selecting previously unselected package libgs9-common.\n",
            "Preparing to unpack .../09-libgs9-common_9.26~dfsg+0-0ubuntu0.18.04.12_all.deb ...\n",
            "Unpacking libgs9-common (9.26~dfsg+0-0ubuntu0.18.04.12) ...\n",
            "Selecting previously unselected package libgs9:amd64.\n",
            "Preparing to unpack .../10-libgs9_9.26~dfsg+0-0ubuntu0.18.04.12_amd64.deb ...\n",
            "Unpacking libgs9:amd64 (9.26~dfsg+0-0ubuntu0.18.04.12) ...\n",
            "Selecting previously unselected package libkpathsea6:amd64.\n",
            "Preparing to unpack .../11-libkpathsea6_2017.20170613.44572-8ubuntu0.1_amd64.deb ...\n",
            "Unpacking libkpathsea6:amd64 (2017.20170613.44572-8ubuntu0.1) ...\n",
            "Selecting previously unselected package libpotrace0.\n",
            "Preparing to unpack .../12-libpotrace0_1.14-2_amd64.deb ...\n",
            "Unpacking libpotrace0 (1.14-2) ...\n",
            "Selecting previously unselected package libptexenc1:amd64.\n",
            "Preparing to unpack .../13-libptexenc1_2017.20170613.44572-8ubuntu0.1_amd64.deb ...\n",
            "Unpacking libptexenc1:amd64 (2017.20170613.44572-8ubuntu0.1) ...\n",
            "Selecting previously unselected package libsynctex1:amd64.\n",
            "Preparing to unpack .../14-libsynctex1_2017.20170613.44572-8ubuntu0.1_amd64.deb ...\n",
            "Unpacking libsynctex1:amd64 (2017.20170613.44572-8ubuntu0.1) ...\n",
            "Selecting previously unselected package libtexlua52:amd64.\n",
            "Preparing to unpack .../15-libtexlua52_2017.20170613.44572-8ubuntu0.1_amd64.deb ...\n",
            "Unpacking libtexlua52:amd64 (2017.20170613.44572-8ubuntu0.1) ...\n",
            "Selecting previously unselected package libtexluajit2:amd64.\n",
            "Preparing to unpack .../16-libtexluajit2_2017.20170613.44572-8ubuntu0.1_amd64.deb ...\n",
            "Unpacking libtexluajit2:amd64 (2017.20170613.44572-8ubuntu0.1) ...\n",
            "Selecting previously unselected package libzzip-0-13:amd64.\n",
            "Preparing to unpack .../17-libzzip-0-13_0.13.62-3.1ubuntu0.18.04.1_amd64.deb ...\n",
            "Unpacking libzzip-0-13:amd64 (0.13.62-3.1ubuntu0.18.04.1) ...\n",
            "Selecting previously unselected package lmodern.\n",
            "Preparing to unpack .../18-lmodern_2.004.5-3_all.deb ...\n",
            "Unpacking lmodern (2.004.5-3) ...\n",
            "Selecting previously unselected package t1utils.\n",
            "Preparing to unpack .../19-t1utils_1.41-2_amd64.deb ...\n",
            "Unpacking t1utils (1.41-2) ...\n",
            "Selecting previously unselected package texlive-binaries.\n",
            "Preparing to unpack .../20-texlive-binaries_2017.20170613.44572-8ubuntu0.1_amd64.deb ...\n",
            "Unpacking texlive-binaries (2017.20170613.44572-8ubuntu0.1) ...\n",
            "Selecting previously unselected package texlive-base.\n",
            "Preparing to unpack .../21-texlive-base_2017.20180305-1_all.deb ...\n",
            "Unpacking texlive-base (2017.20180305-1) ...\n",
            "Selecting previously unselected package texlive-latex-base.\n",
            "Preparing to unpack .../22-texlive-latex-base_2017.20180305-1_all.deb ...\n",
            "Unpacking texlive-latex-base (2017.20180305-1) ...\n",
            "Selecting previously unselected package texlive-latex-recommended.\n",
            "Preparing to unpack .../23-texlive-latex-recommended_2017.20180305-1_all.deb ...\n",
            "Unpacking texlive-latex-recommended (2017.20180305-1) ...\n",
            "Setting up libgs9-common (9.26~dfsg+0-0ubuntu0.18.04.12) ...\n",
            "Setting up libkpathsea6:amd64 (2017.20170613.44572-8ubuntu0.1) ...\n",
            "Setting up libtexlua52:amd64 (2017.20170613.44572-8ubuntu0.1) ...\n",
            "Setting up fonts-droid-fallback (1:6.0.1r16-1.1) ...\n",
            "Setting up libsynctex1:amd64 (2017.20170613.44572-8ubuntu0.1) ...\n",
            "Setting up libptexenc1:amd64 (2017.20170613.44572-8ubuntu0.1) ...\n",
            "Setting up tex-common (6.09) ...\n",
            "debconf: unable to initialize frontend: Dialog\n",
            "debconf: (No usable dialog-like program is installed, so the dialog based frontend cannot be used. at /usr/share/perl5/Debconf/FrontEnd/Dialog.pm line 76.)\n",
            "debconf: falling back to frontend: Readline\n",
            "update-language: texlive-base not installed and configured, doing nothing!\n",
            "Setting up poppler-data (0.4.8-2) ...\n",
            "Setting up fonts-noto-mono (20171026-2) ...\n",
            "Setting up libcupsfilters1:amd64 (1.20.2-0ubuntu3.1) ...\n",
            "Setting up libcupsimage2:amd64 (2.2.7-1ubuntu2.7) ...\n",
            "Setting up libjbig2dec0:amd64 (0.13-6) ...\n",
            "Setting up t1utils (1.41-2) ...\n",
            "Setting up libijs-0.35:amd64 (0.35-13) ...\n",
            "Setting up libpotrace0 (1.14-2) ...\n",
            "Setting up libzzip-0-13:amd64 (0.13.62-3.1ubuntu0.18.04.1) ...\n",
            "Setting up libgs9:amd64 (9.26~dfsg+0-0ubuntu0.18.04.12) ...\n",
            "Setting up libtexluajit2:amd64 (2017.20170613.44572-8ubuntu0.1) ...\n",
            "Setting up fonts-lmodern (2.004.5-3) ...\n",
            "Setting up texlive-binaries (2017.20170613.44572-8ubuntu0.1) ...\n",
            "update-alternatives: using /usr/bin/xdvi-xaw to provide /usr/bin/xdvi.bin (xdvi.bin) in auto mode\n",
            "update-alternatives: using /usr/bin/bibtex.original to provide /usr/bin/bibtex (bibtex) in auto mode\n",
            "Setting up texlive-base (2017.20180305-1) ...\n",
            "mktexlsr: Updating /var/lib/texmf/ls-R-TEXLIVEDIST... \n",
            "mktexlsr: Updating /var/lib/texmf/ls-R-TEXMFMAIN... \n",
            "mktexlsr: Updating /var/lib/texmf/ls-R... \n",
            "mktexlsr: Done.\n"
          ],
          "name": "stdout"
        }
      ]
    },
    {
      "cell_type": "code",
      "metadata": {
        "id": "djNf88DwSGG9",
        "colab_type": "code",
        "colab": {}
      },
      "source": [
        "# Set the fontstyle to Times New Roman\n",
        "\n",
        "font = { 'family' : 'Times New Roman', 'weight' : 'normal', 'size' : 10 }\n",
        "plt.rc( 'font', **font )\n",
        "plt.rc('text', usetex=True)"
      ],
      "execution_count": 0,
      "outputs": []
    },
    {
      "cell_type": "markdown",
      "metadata": {
        "id": "OxLJEnkXaBhI",
        "colab_type": "text"
      },
      "source": [
        "# Synthetic data\n",
        "the cell below creates a synthetic dataset _(x,y)_ of 200 points, generated by two processes $ y =c + \\epsilon$ with $\\epsilon \\sim N(0,1)$ (Gaussian stationary processes) that generate 100 points each with means 20 and 25 respectively."
      ]
    },
    {
      "cell_type": "code",
      "metadata": {
        "ExecuteTime": {
          "end_time": "2020-03-06T21:43:10.655206Z",
          "start_time": "2020-03-06T21:43:10.478030Z"
        },
        "id": "5hqqapHSaBhJ",
        "colab_type": "code",
        "outputId": "23b8c8c3-c247-41de-d954-441bafc6de97",
        "colab": {
          "base_uri": "https://localhost:8080/",
          "height": 279
        }
      },
      "source": [
        "mu1, mu2 = 20, 25\n",
        "x = np.arange(200)\n",
        "ym = np.concatenate([np.random.randn(100) + mu1, np.random.randn(100) + mu2])\n",
        "pl.plot(x, ym, label=\"data\") \n",
        "pl.plot(range(200), [mu1] * 100 + [mu2] * 100, label=\"truth\")\n",
        "pl.xlabel(\"x\")\n",
        "pl.ylabel(\"y\")\n",
        "pl.legend();"
      ],
      "execution_count": 3,
      "outputs": [
        {
          "output_type": "display_data",
          "data": {
            "image/png": "[encoded data removed]",
            "text/plain": [
              "<Figure size 432x288 with 1 Axes>"
            ]
          },
          "metadata": {
            "tags": []
          }
        }
      ]
    },
    {
      "cell_type": "markdown",
      "metadata": {
        "id": "wPQ2jyqbaBhL",
        "colab_type": "text"
      },
      "source": [
        "# Single POC -  difference of means\n",
        "write a function that finds the POC by assuming a single POC and maximizing the differencem in the means before and after the POC as described in\n",
        "https://slides.com/federicabianco/mltsa4#/6/1\n",
        "test it on the synthetic dataset _(x,y)_"
      ]
    },
    {
      "cell_type": "code",
      "metadata": {
        "ExecuteTime": {
          "end_time": "2020-03-06T21:43:10.679740Z",
          "start_time": "2020-03-06T21:43:10.657007Z"
        },
        "id": "cah8wJEJaBhM",
        "colab_type": "code",
        "outputId": "8531a0d9-2e01-4e30-b20c-b1772ea923a9",
        "colab": {
          "base_uri": "https://localhost:8080/",
          "height": 35
        }
      },
      "source": [
        "def maxdiff(y):\n",
        "    \"\"\"calculates the POC as the points that maximized the difference between the mean before and the mean after the POC\n",
        "    y: vector of endogenouos variables\n",
        "    \n",
        "    \"\"\"\n",
        "    N = len(y)\n",
        "    f = np.nanmean\n",
        "    poc, diff, before, after = 0, 0, np.nan, np.nan\n",
        "    for i in range(1, N):\n",
        "        diff_here = np.abs(f(ym[i:]) -  f(ym[:i]))\n",
        "        if diff < diff_here:\n",
        "            diff = diff_here\n",
        "            poc = i\n",
        "            before, after = f(ym[:i]), f(ym[i:])\n",
        "    return(poc, before, after)\n",
        "\n",
        "print(\"poc: {:.2f}, mean before: {:.2f}, mean after: {:.2f}\".format(*maxdiff(ym)))\n"
      ],
      "execution_count": 4,
      "outputs": [
        {
          "output_type": "stream",
          "text": [
            "poc: 100.00, mean before: 20.03, mean after: 25.08\n"
          ],
          "name": "stdout"
        }
      ]
    },
    {
      "cell_type": "code",
      "metadata": {
        "ExecuteTime": {
          "end_time": "2020-03-06T21:43:10.847932Z",
          "start_time": "2020-03-06T21:43:10.681739Z"
        },
        "id": "xNwVi_wfaBhP",
        "colab_type": "code",
        "outputId": "a014f331-c6ff-4355-a7bc-8303aa81ac2e",
        "colab": {
          "base_uri": "https://localhost:8080/",
          "height": 279
        }
      },
      "source": [
        "poc, before, after = maxdiff(ym)   \n",
        "pl.plot(x, ym, '.', label=\"data\")\n",
        "pl.plot(range(200), [mu1] * 100 + [mu2] * 100, '--', label=\"truth\")\n",
        "pl.plot(x, [before] * poc + [after] * (len(ym) - poc), label=\"model\")\n",
        "pl.xlabel('x')\n",
        "pl.ylabel('y');\n",
        "pl.legend();"
      ],
      "execution_count": 5,
      "outputs": [
        {
          "output_type": "display_data",
          "data": {
            "image/png": "[encoded data removed]",
            "text/plain": [
              "<Figure size 432x288 with 1 Axes>"
            ]
          },
          "metadata": {
            "tags": []
          }
        }
      ]
    },
    {
      "cell_type": "markdown",
      "metadata": {
        "id": "rJd9fOi6aBhR",
        "colab_type": "text"
      },
      "source": [
        "caption"
      ]
    },
    {
      "cell_type": "markdown",
      "metadata": {
        "ExecuteTime": {
          "end_time": "2020-03-06T04:40:42.483141Z",
          "start_time": "2020-03-06T04:40:42.448933Z"
        },
        "id": "RLuReSUbaBhS",
        "colab_type": "text"
      },
      "source": [
        "# Single POC - MSE\n",
        "write a function that finds the POC by minimizing the square error (see slide https://slides.com/federicabianco/mltsa4#/6/2) a single POC and maximizing the differencem in the means before and after the POC. like before return the index of the POC, the mean before and the mean after the POC.\n",
        "Plot the data, the model, the truth, like in the step above.\n",
        "\n",
        "\n",
        "Remember to write a docstring for the function https://www.python.org/dev/peps/pep-0257/!"
      ]
    },
    {
      "cell_type": "code",
      "metadata": {
        "id": "HSQqk8lPFJB_",
        "colab_type": "code",
        "outputId": "b444b871-5077-48d1-a692-341a24705785",
        "colab": {
          "base_uri": "https://localhost:8080/",
          "height": 35
        }
      },
      "source": [
        "def poc_mse(y):\n",
        "\n",
        "    N = len(y)\n",
        "    f = np.nanmean\n",
        "    poc, diff, before, after = 0, 0, np.nan, np.nan\n",
        "    error = np.nansum(np.sqrt((y[:] - f(ym[:] ))**2))\n",
        "    for i in range(1, N):\n",
        "        #print(poc, before, after, error)\n",
        "        #print(i)\n",
        "        error_here1 = np.nansum(np.sqrt((y[:i] - f(ym[:i] ))**2))\n",
        "        error_here2 = np.nansum(np.sqrt((y[i:] - f(ym[i:] ))**2 ))\n",
        "        error_here = np.nansum( [error_here1, error_here2] )\n",
        "\n",
        "        diff_here = np.abs(f(ym[i:]) -  f(ym[:i]))\n",
        "\n",
        "        if( (error_here < error) and ( diff_here > diff )):\n",
        "\n",
        "            error = error_here\n",
        "            diff = diff_here\n",
        "\n",
        "            #if (diff > diff_here ):\n",
        "            #    diff = diff_here\n",
        "            poc = i\n",
        "            before, after = f(ym[:i]), f(ym[i:])\n",
        "        else :\n",
        "            continue\n",
        "    return poc, before, after, error\n",
        "\n",
        "print(\"poc: {:.2f}, mean before: {:.2f}, mean after: {:.2f}, error is: {:.2f}\".format(*poc_mse(ym)))"
      ],
      "execution_count": 6,
      "outputs": [
        {
          "output_type": "stream",
          "text": [
            "poc: 100.00, mean before: 20.03, mean after: 25.08, error is: 149.69\n"
          ],
          "name": "stdout"
        }
      ]
    },
    {
      "cell_type": "code",
      "metadata": {
        "ExecuteTime": {
          "end_time": "2020-03-06T21:43:18.968916Z",
          "start_time": "2020-03-06T21:43:18.943917Z"
        },
        "colab_type": "code",
        "outputId": "1bcfdaf6-37b1-4b49-c742-a9dcff27e17b",
        "id": "xFjvLgQURMIc",
        "colab": {
          "base_uri": "https://localhost:8080/",
          "height": 35
        }
      },
      "source": [
        "print(\"poc: {:.2f}, mean before: {:.2f}, mean after: {:.2f}, error is: {:.2f}\".format(*poc_mse(ym)))"
      ],
      "execution_count": 7,
      "outputs": [
        {
          "output_type": "stream",
          "text": [
            "poc: 100.00, mean before: 20.03, mean after: 25.08, error is: 149.69\n"
          ],
          "name": "stdout"
        }
      ]
    },
    {
      "cell_type": "code",
      "metadata": {
        "ExecuteTime": {
          "end_time": "2020-03-06T21:43:19.125318Z",
          "start_time": "2020-03-06T21:43:18.970133Z"
        },
        "id": "jiCkT63OaBhZ",
        "colab_type": "code",
        "outputId": "263f14f1-f70c-40ab-efc6-20730ddbb962",
        "colab": {
          "base_uri": "https://localhost:8080/",
          "height": 279
        }
      },
      "source": [
        "poc, before, after, error = poc_mse(ym)   \n",
        "pl.plot(x, ym, '.', label=\"data\")\n",
        "pl.plot(range(200), [mu1] * 100 + [mu2] * 100, '--', label=\"truth\")\n",
        "pl.plot(x, [before] * poc + [after] * (len(ym) - poc), label=\"model\")\n",
        "pl.xlabel('x')\n",
        "pl.ylabel('y');\n",
        "pl.legend();"
      ],
      "execution_count": 8,
      "outputs": [
        {
          "output_type": "display_data",
          "data": {
            "image/png": "[encoded data removed]",
            "text/plain": [
              "<Figure size 432x288 with 1 Axes>"
            ]
          },
          "metadata": {
            "tags": []
          }
        }
      ]
    },
    {
      "cell_type": "markdown",
      "metadata": {
        "id": "zWVR0CAsaBhb",
        "colab_type": "text"
      },
      "source": [
        "caption"
      ]
    },
    {
      "cell_type": "markdown",
      "metadata": {
        "id": "UmByJW6caBhc",
        "colab_type": "text"
      },
      "source": [
        "# Single POC - diff of variance\n",
        "Generate a new synthetic dataset _(x,ys)_ of 200 points, generated by two processes $ y =c + \\epsilon$ with $\\epsilon \\sim N(\\sigma,1)$ (Gaussian stationary processes) that generate 100 points each with means 20 and variance 1 and 4 respectively.\n",
        "\n",
        "Modify the ```maxdiff()``` function so that it take an optional parameter sigma which allows you to use the function to choose the POC that maximizes the difference in standard deviation, instead of in mean. An optional argument is an argument that is set to a default in the function call. The default behavior of the function shoudl still be to calculate the POC as the point that maximized the before and after difference in the _mean_.\n"
      ]
    },
    {
      "cell_type": "code",
      "metadata": {
        "ExecuteTime": {
          "end_time": "2020-03-06T21:43:19.130116Z",
          "start_time": "2020-03-06T21:43:19.127297Z"
        },
        "id": "IyFncUYDaBhd",
        "colab_type": "code",
        "colab": {}
      },
      "source": [
        "mu1, mu2 = 20, 25\n",
        "s1, s2 = 1, 4\n",
        "ys1 = mu1 + np.random.randn(100)*s1\n",
        "ys2 = mu1 + np.random.randn(100)*s2\n",
        "ys = np.concatenate((ys1, ys2))"
      ],
      "execution_count": 0,
      "outputs": []
    },
    {
      "cell_type": "code",
      "metadata": {
        "ExecuteTime": {
          "end_time": "2020-03-06T21:43:19.162666Z",
          "start_time": "2020-03-06T21:43:19.132048Z"
        },
        "id": "OuSeegD_aBhf",
        "colab_type": "code",
        "outputId": "e0a42d17-62c7-498e-f9f4-6ecfe3dae5db",
        "colab": {
          "base_uri": "https://localhost:8080/",
          "height": 35
        }
      },
      "source": [
        "def maxval(y, sigma=False):\n",
        "    \"\"\"calculates the POC as the points that maximized the difference between \n",
        "                the mean or variance before and the mean after the POC\n",
        "    y: vector of endogenouos variables \n",
        "    sigma: finds the POC that maximizes the difference between before/after POC variance \n",
        "                (optional, default is before/after mean)\n",
        "    \"\"\"\n",
        "    N = len(y)\n",
        "\n",
        "    if(sigma):\n",
        "        f = np.nanstd\n",
        "    else:\n",
        "        f = np.nanmean\n",
        "\n",
        "    poc, diff, before, after = 0, 0, np.nan, np.nan\n",
        "\n",
        "    for i in range(1, N):\n",
        "\n",
        "        diff_here = np.abs(f(y[i:]) -  f(y[:i]))\n",
        "\n",
        "        if diff < diff_here:\n",
        "            diff = diff_here\n",
        "            poc = i\n",
        "            before, after = f(y[:i]), f(y[i:])\n",
        "\n",
        "    return(poc, before, after)\n",
        "\n",
        "print(\"poc: {:.2f}, standard deviation before: {:.2f}, standard deviation after: {:.2f}\".format(*maxval(ys, \n",
        "                                                                    sigma=True)))"
      ],
      "execution_count": 10,
      "outputs": [
        {
          "output_type": "stream",
          "text": [
            "poc: 100.00, standard deviation before: 0.86, standard deviation after: 3.99\n"
          ],
          "name": "stdout"
        }
      ]
    },
    {
      "cell_type": "code",
      "metadata": {
        "ExecuteTime": {
          "end_time": "2020-03-06T21:43:19.337200Z",
          "start_time": "2020-03-06T21:43:19.163791Z"
        },
        "id": "YaHX1qIhaBhi",
        "colab_type": "code",
        "outputId": "11d1b605-fd76-45c0-92e6-dd730e51b744",
        "colab": {
          "base_uri": "https://localhost:8080/",
          "height": 280
        }
      },
      "source": [
        "poc, before, after = maxval(ys, sigma=True)\n",
        "pl.plot(x, ys, '.', label=\"data\")\n",
        "pl.plot(range(200), [np.std(ys1)] * 100 + [np.std(ys2)] * 100, '--', label=\"truth\")\n",
        "pl.plot(x, [before] * poc + [after] * (len(ym) - poc), label=\"model\")\n",
        "pl.xlabel('x')\n",
        "pl.ylabel('y');\n",
        "pl.legend();"
      ],
      "execution_count": 11,
      "outputs": [
        {
          "output_type": "display_data",
          "data": {
            "image/png": "[encoded data removed]",
            "text/plain": [
              "<Figure size 432x288 with 1 Axes>"
            ]
          },
          "metadata": {
            "tags": []
          }
        }
      ]
    },
    {
      "cell_type": "markdown",
      "metadata": {
        "id": "3Pn2H55iaBhl",
        "colab_type": "text"
      },
      "source": [
        "# Find POC with rupture python package.\n",
        "install and import the rupture package.\n",
        "Find the POC in each synthetic time series.\n",
        "Use the Pelt method. Reflect on the parameters that should be passed to the predict() function. Read the manual and feel free to ask questions on slack."
      ]
    },
    {
      "cell_type": "code",
      "metadata": {
        "ExecuteTime": {
          "end_time": "2020-03-06T21:43:19.478693Z",
          "start_time": "2020-03-06T21:43:19.338505Z"
        },
        "id": "KpSfc48XaBhl",
        "colab_type": "code",
        "outputId": "22098a71-d213-4aa5-e171-bb713132b976",
        "colab": {
          "base_uri": "https://localhost:8080/",
          "height": 153
        }
      },
      "source": [
        "# detection\n",
        "algo = rpt.Pelt(model='l1').fit(ym)\n",
        "result = algo.predict(pen=3)\n",
        "\n",
        "# display\n",
        "rpt.display(ym, [100], result)\n",
        "pl.show()"
      ],
      "execution_count": 12,
      "outputs": [
        {
          "output_type": "display_data",
          "data": {
            "image/png": "[encoded data removed]",
            "text/plain": [
              "<Figure size 720x144 with 1 Axes>"
            ]
          },
          "metadata": {
            "tags": []
          }
        }
      ]
    },
    {
      "cell_type": "code",
      "metadata": {
        "ExecuteTime": {
          "end_time": "2020-03-06T21:43:19.611033Z",
          "start_time": "2020-03-06T21:43:19.480208Z"
        },
        "id": "oXDUIOiBaBhn",
        "colab_type": "code",
        "outputId": "8f471f67-49e5-44cf-c2c6-b96431e846a3",
        "colab": {
          "base_uri": "https://localhost:8080/",
          "height": 153
        }
      },
      "source": [
        "# detection\n",
        "algo = rpt.Pelt(model='rbf').fit(ys)\n",
        "result = algo.predict(pen=3)\n",
        "\n",
        "# display\n",
        "rpt.display(ys, [100], result)\n",
        "pl.show()"
      ],
      "execution_count": 13,
      "outputs": [
        {
          "output_type": "display_data",
          "data": {
            "image/png": "[encoded data removed]",
            "text/plain": [
              "<Figure size 720x144 with 1 Axes>"
            ]
          },
          "metadata": {
            "tags": []
          }
        }
      ]
    },
    {
      "cell_type": "code",
      "metadata": {
        "id": "j8RQaKGIbaSI",
        "colab_type": "code",
        "colab": {}
      },
      "source": [
        "rpt.Pelt?"
      ],
      "execution_count": 0,
      "outputs": []
    },
    {
      "cell_type": "markdown",
      "metadata": {
        "id": "VbSF0rsQaBh3",
        "colab_type": "text"
      },
      "source": [
        "# read in the data from LANL earthquake prediction \n",
        "I saved in the github repo as \"http://fbb.space/mltsa/LALNeq.csv. This is a large file and will take a long time to read in. It is 1/100th of the original file. See how nice I am!?! https://www.kaggle.com/c/LANL-Earthquake-Prediction/data\n",
        "\n",
        "Visualize and use the method DataFrame.describe() to extract some basic statistics of the dataset"
      ]
    },
    {
      "cell_type": "code",
      "metadata": {
        "id": "OzmzoawVaYaz",
        "colab_type": "code",
        "outputId": "7ccd93c2-725d-406f-f251-26d7c861741a",
        "colab": {
          "base_uri": "https://localhost:8080/",
          "height": 297
        }
      },
      "source": [
        "eq1 = pd.read_csv('http://fbb.space/mltsa/LALNeq.csv')\n",
        "eq1.describe()"
      ],
      "execution_count": 6,
      "outputs": [
        {
          "output_type": "execute_result",
          "data": {
            "text/html": [
              "<div>\n",
              "<style scoped>\n",
              "    .dataframe tbody tr th:only-of-type {\n",
              "        vertical-align: middle;\n",
              "    }\n",
              "\n",
              "    .dataframe tbody tr th {\n",
              "        vertical-align: top;\n",
              "    }\n",
              "\n",
              "    .dataframe thead th {\n",
              "        text-align: right;\n",
              "    }\n",
              "</style>\n",
              "<table border=\"1\" class=\"dataframe\">\n",
              "  <thead>\n",
              "    <tr style=\"text-align: right;\">\n",
              "      <th></th>\n",
              "      <th>Unnamed: 0</th>\n",
              "      <th>acoustic_data</th>\n",
              "      <th>time_to_failure</th>\n",
              "    </tr>\n",
              "  </thead>\n",
              "  <tbody>\n",
              "    <tr>\n",
              "      <th>count</th>\n",
              "      <td>4.500000e+06</td>\n",
              "      <td>4.500000e+06</td>\n",
              "      <td>4.500000e+06</td>\n",
              "    </tr>\n",
              "    <tr>\n",
              "      <th>mean</th>\n",
              "      <td>2.250000e+06</td>\n",
              "      <td>4.616407e+00</td>\n",
              "      <td>8.852012e-01</td>\n",
              "    </tr>\n",
              "    <tr>\n",
              "      <th>std</th>\n",
              "      <td>1.299038e+06</td>\n",
              "      <td>2.614006e+01</td>\n",
              "      <td>3.374432e-01</td>\n",
              "    </tr>\n",
              "    <tr>\n",
              "      <th>min</th>\n",
              "      <td>0.000000e+00</td>\n",
              "      <td>-4.621000e+03</td>\n",
              "      <td>3.008971e-01</td>\n",
              "    </tr>\n",
              "    <tr>\n",
              "      <th>25%</th>\n",
              "      <td>1.125000e+06</td>\n",
              "      <td>2.000000e+00</td>\n",
              "      <td>5.934956e-01</td>\n",
              "    </tr>\n",
              "    <tr>\n",
              "      <th>50%</th>\n",
              "      <td>2.250000e+06</td>\n",
              "      <td>5.000000e+00</td>\n",
              "      <td>8.849986e-01</td>\n",
              "    </tr>\n",
              "    <tr>\n",
              "      <th>75%</th>\n",
              "      <td>3.374999e+06</td>\n",
              "      <td>7.000000e+00</td>\n",
              "      <td>1.177597e+00</td>\n",
              "    </tr>\n",
              "    <tr>\n",
              "      <th>max</th>\n",
              "      <td>4.499999e+06</td>\n",
              "      <td>3.252000e+03</td>\n",
              "      <td>1.469100e+00</td>\n",
              "    </tr>\n",
              "  </tbody>\n",
              "</table>\n",
              "</div>"
            ],
            "text/plain": [
              "         Unnamed: 0  acoustic_data  time_to_failure\n",
              "count  4.500000e+06   4.500000e+06     4.500000e+06\n",
              "mean   2.250000e+06   4.616407e+00     8.852012e-01\n",
              "std    1.299038e+06   2.614006e+01     3.374432e-01\n",
              "min    0.000000e+00  -4.621000e+03     3.008971e-01\n",
              "25%    1.125000e+06   2.000000e+00     5.934956e-01\n",
              "50%    2.250000e+06   5.000000e+00     8.849986e-01\n",
              "75%    3.374999e+06   7.000000e+00     1.177597e+00\n",
              "max    4.499999e+06   3.252000e+03     1.469100e+00"
            ]
          },
          "metadata": {
            "tags": []
          },
          "execution_count": 6
        }
      ]
    },
    {
      "cell_type": "code",
      "metadata": {
        "id": "vMhxfCjWeqVZ",
        "colab_type": "code",
        "outputId": "32bd92e1-878e-4209-bee8-663c26e4a2c9",
        "colab": {
          "base_uri": "https://localhost:8080/",
          "height": 204
        }
      },
      "source": [
        "eq1.head()"
      ],
      "execution_count": 7,
      "outputs": [
        {
          "output_type": "execute_result",
          "data": {
            "text/html": [
              "<div>\n",
              "<style scoped>\n",
              "    .dataframe tbody tr th:only-of-type {\n",
              "        vertical-align: middle;\n",
              "    }\n",
              "\n",
              "    .dataframe tbody tr th {\n",
              "        vertical-align: top;\n",
              "    }\n",
              "\n",
              "    .dataframe thead th {\n",
              "        text-align: right;\n",
              "    }\n",
              "</style>\n",
              "<table border=\"1\" class=\"dataframe\">\n",
              "  <thead>\n",
              "    <tr style=\"text-align: right;\">\n",
              "      <th></th>\n",
              "      <th>Unnamed: 0</th>\n",
              "      <th>acoustic_data</th>\n",
              "      <th>time_to_failure</th>\n",
              "    </tr>\n",
              "  </thead>\n",
              "  <tbody>\n",
              "    <tr>\n",
              "      <th>0</th>\n",
              "      <td>0</td>\n",
              "      <td>12</td>\n",
              "      <td>1.4691</td>\n",
              "    </tr>\n",
              "    <tr>\n",
              "      <th>1</th>\n",
              "      <td>1</td>\n",
              "      <td>6</td>\n",
              "      <td>1.4691</td>\n",
              "    </tr>\n",
              "    <tr>\n",
              "      <th>2</th>\n",
              "      <td>2</td>\n",
              "      <td>8</td>\n",
              "      <td>1.4691</td>\n",
              "    </tr>\n",
              "    <tr>\n",
              "      <th>3</th>\n",
              "      <td>3</td>\n",
              "      <td>5</td>\n",
              "      <td>1.4691</td>\n",
              "    </tr>\n",
              "    <tr>\n",
              "      <th>4</th>\n",
              "      <td>4</td>\n",
              "      <td>8</td>\n",
              "      <td>1.4691</td>\n",
              "    </tr>\n",
              "  </tbody>\n",
              "</table>\n",
              "</div>"
            ],
            "text/plain": [
              "   Unnamed: 0  acoustic_data  time_to_failure\n",
              "0           0             12           1.4691\n",
              "1           1              6           1.4691\n",
              "2           2              8           1.4691\n",
              "3           3              5           1.4691\n",
              "4           4              8           1.4691"
            ]
          },
          "metadata": {
            "tags": []
          },
          "execution_count": 7
        }
      ]
    },
    {
      "cell_type": "code",
      "metadata": {
        "id": "6iWIGXp6Id2p",
        "colab_type": "code",
        "colab": {
          "base_uri": "https://localhost:8080/",
          "height": 297
        },
        "outputId": "8b9a4b55-0c09-4607-bbd4-977596b8c876"
      },
      "source": [
        "eq1.describe()"
      ],
      "execution_count": 8,
      "outputs": [
        {
          "output_type": "execute_result",
          "data": {
            "text/html": [
              "<div>\n",
              "<style scoped>\n",
              "    .dataframe tbody tr th:only-of-type {\n",
              "        vertical-align: middle;\n",
              "    }\n",
              "\n",
              "    .dataframe tbody tr th {\n",
              "        vertical-align: top;\n",
              "    }\n",
              "\n",
              "    .dataframe thead th {\n",
              "        text-align: right;\n",
              "    }\n",
              "</style>\n",
              "<table border=\"1\" class=\"dataframe\">\n",
              "  <thead>\n",
              "    <tr style=\"text-align: right;\">\n",
              "      <th></th>\n",
              "      <th>Unnamed: 0</th>\n",
              "      <th>acoustic_data</th>\n",
              "      <th>time_to_failure</th>\n",
              "    </tr>\n",
              "  </thead>\n",
              "  <tbody>\n",
              "    <tr>\n",
              "      <th>count</th>\n",
              "      <td>4.500000e+06</td>\n",
              "      <td>4.500000e+06</td>\n",
              "      <td>4.500000e+06</td>\n",
              "    </tr>\n",
              "    <tr>\n",
              "      <th>mean</th>\n",
              "      <td>2.250000e+06</td>\n",
              "      <td>4.616407e+00</td>\n",
              "      <td>8.852012e-01</td>\n",
              "    </tr>\n",
              "    <tr>\n",
              "      <th>std</th>\n",
              "      <td>1.299038e+06</td>\n",
              "      <td>2.614006e+01</td>\n",
              "      <td>3.374432e-01</td>\n",
              "    </tr>\n",
              "    <tr>\n",
              "      <th>min</th>\n",
              "      <td>0.000000e+00</td>\n",
              "      <td>-4.621000e+03</td>\n",
              "      <td>3.008971e-01</td>\n",
              "    </tr>\n",
              "    <tr>\n",
              "      <th>25%</th>\n",
              "      <td>1.125000e+06</td>\n",
              "      <td>2.000000e+00</td>\n",
              "      <td>5.934956e-01</td>\n",
              "    </tr>\n",
              "    <tr>\n",
              "      <th>50%</th>\n",
              "      <td>2.250000e+06</td>\n",
              "      <td>5.000000e+00</td>\n",
              "      <td>8.849986e-01</td>\n",
              "    </tr>\n",
              "    <tr>\n",
              "      <th>75%</th>\n",
              "      <td>3.374999e+06</td>\n",
              "      <td>7.000000e+00</td>\n",
              "      <td>1.177597e+00</td>\n",
              "    </tr>\n",
              "    <tr>\n",
              "      <th>max</th>\n",
              "      <td>4.499999e+06</td>\n",
              "      <td>3.252000e+03</td>\n",
              "      <td>1.469100e+00</td>\n",
              "    </tr>\n",
              "  </tbody>\n",
              "</table>\n",
              "</div>"
            ],
            "text/plain": [
              "         Unnamed: 0  acoustic_data  time_to_failure\n",
              "count  4.500000e+06   4.500000e+06     4.500000e+06\n",
              "mean   2.250000e+06   4.616407e+00     8.852012e-01\n",
              "std    1.299038e+06   2.614006e+01     3.374432e-01\n",
              "min    0.000000e+00  -4.621000e+03     3.008971e-01\n",
              "25%    1.125000e+06   2.000000e+00     5.934956e-01\n",
              "50%    2.250000e+06   5.000000e+00     8.849986e-01\n",
              "75%    3.374999e+06   7.000000e+00     1.177597e+00\n",
              "max    4.499999e+06   3.252000e+03     1.469100e+00"
            ]
          },
          "metadata": {
            "tags": []
          },
          "execution_count": 8
        }
      ]
    },
    {
      "cell_type": "markdown",
      "metadata": {
        "ExecuteTime": {
          "end_time": "2020-03-06T21:43:29.916082Z",
          "start_time": "2020-03-06T21:43:29.796255Z"
        },
        "id": "85qfWVACaBh6",
        "colab_type": "text"
      },
      "source": [
        "# using rupture\n",
        "\n",
        "Go through the documentation of rupture. \n",
        "\n",
        "Find a method that takes as input the number of pocs and has computational complexity O(kN^2) and run it for k=1,2,3 pocs on the first N=10,000, 5000, and 1000 rows of the datasets respectively (make a plot for each and discuss each in the caption)\n",
        "\n",
        "\n"
      ]
    },
    {
      "cell_type": "markdown",
      "metadata": {
        "id": "PSCvqwSgNbHt",
        "colab_type": "text"
      },
      "source": [
        "**ruptures.detection.Dynp** has computational complexity of O($Kn^2$), where **K** is the number of change points and **n** the number of samples.\n",
        "It takes "
      ]
    },
    {
      "cell_type": "code",
      "metadata": {
        "ExecuteTime": {
          "end_time": "2020-03-07T00:07:21.233472Z",
          "start_time": "2020-03-07T00:05:33.073549Z"
        },
        "id": "jAFK7eGEaBh7",
        "colab_type": "code",
        "outputId": "cb6a0903-7a04-4baa-c773-28334ee12d75",
        "colab": {
          "base_uri": "https://localhost:8080/",
          "height": 207
        }
      },
      "source": [
        "%%time\n",
        "ind = [1000]#, 5000, 10000]\n",
        "k = [1]#, 2]#, 3]\n",
        "for kk in k :\n",
        "\n",
        "    pl.figure();\n",
        "    for xx in ind :\n",
        "\n",
        "        ac_dat = array(eq1.acoustic_data[:xx])\n",
        "        algo1 = rpt.Dynp(model=\"rbf\").fit(ac_dat)\n",
        "        result = algo1.predict(n_bkps=kk)\n",
        "\n",
        "        # display\n",
        "        fig, axs = rpt.display(eq1.acoustic_data.values[:xx],[] , result)\n",
        "        axs[0].text(0.2, 0.8, 'K=%s' %(kk), transform=axs[0].transAxes, fontsize=16, bbox=dict(facecolor='cyan', alpha=0.5))\n",
        "        plt.show( )\n"
      ],
      "execution_count": 49,
      "outputs": [
        {
          "output_type": "display_data",
          "data": {
            "text/plain": [
              "<Figure size 432x288 with 0 Axes>"
            ]
          },
          "metadata": {
            "tags": []
          }
        },
        {
          "output_type": "display_data",
          "data": {
            "image/png": "[encoded data removed]",
            "text/plain": [
              "<Figure size 720x144 with 1 Axes>"
            ]
          },
          "metadata": {
            "tags": []
          }
        },
        {
          "output_type": "stream",
          "text": [
            "CPU times: user 381 ms, sys: 122 ms, total: 503 ms\n",
            "Wall time: 370 ms\n"
          ],
          "name": "stdout"
        }
      ]
    },
    {
      "cell_type": "code",
      "metadata": {
        "id": "2GQctxc1QjSi",
        "colab_type": "code",
        "colab": {
          "base_uri": "https://localhost:8080/",
          "height": 35
        },
        "outputId": "566613b2-1e0c-45fb-dc81-9b500970e391"
      },
      "source": [
        "axs[0].text('Acoustic', )"
      ],
      "execution_count": 40,
      "outputs": [
        {
          "output_type": "execute_result",
          "data": {
            "text/plain": [
              "Text(3.200000000000003, 0.5, 'Acoustic')"
            ]
          },
          "metadata": {
            "tags": []
          },
          "execution_count": 40
        }
      ]
    },
    {
      "cell_type": "code",
      "metadata": {
        "id": "Z-ncWaolOBNs",
        "colab_type": "code",
        "colab": {}
      },
      "source": [
        "%%time\n",
        "ac_dat = array(eq1.acoustic_data[:10000])\n",
        "algo1 = rpt.Dynp(model=\"rbf\").fit(ac_dat)\n",
        "result = algo1.predict(n_bkps=3)\n",
        "\n",
        "# display\n",
        "rpt.display(eq1.acoustic_data.values[:10000],[] , result)\n",
        "plt.show()"
      ],
      "execution_count": 0,
      "outputs": []
    },
    {
      "cell_type": "code",
      "metadata": {
        "id": "csQPlHezKLjm",
        "colab_type": "code",
        "colab": {
          "base_uri": "https://localhost:8080/",
          "height": 35
        },
        "outputId": "16aa77e0-4cba-41d4-af02-c0816510b7f9"
      },
      "source": [
        "len(result)"
      ],
      "execution_count": 23,
      "outputs": [
        {
          "output_type": "execute_result",
          "data": {
            "text/plain": [
              "94"
            ]
          },
          "metadata": {
            "tags": []
          },
          "execution_count": 23
        }
      ]
    },
    {
      "cell_type": "code",
      "metadata": {
        "id": "uCHkuB96IIYt",
        "colab_type": "code",
        "colab": {
          "base_uri": "https://localhost:8080/",
          "height": 172
        },
        "outputId": "8078c467-6261-4323-9787-0e120d0317e2"
      },
      "source": [
        "eq1.describe()"
      ],
      "execution_count": 3,
      "outputs": [
        {
          "output_type": "error",
          "ename": "NameError",
          "evalue": "ignored",
          "traceback": [
            "\u001b[0;31m---------------------------------------------------------------------------\u001b[0m",
            "\u001b[0;31mNameError\u001b[0m                                 Traceback (most recent call last)",
            "\u001b[0;32m<ipython-input-3-78ef54573117>\u001b[0m in \u001b[0;36m<module>\u001b[0;34m()\u001b[0m\n\u001b[0;32m----> 1\u001b[0;31m \u001b[0meq1\u001b[0m\u001b[0;34m.\u001b[0m\u001b[0mdescribe\u001b[0m\u001b[0;34m(\u001b[0m\u001b[0;34m)\u001b[0m\u001b[0;34m\u001b[0m\u001b[0;34m\u001b[0m\u001b[0m\n\u001b[0m",
            "\u001b[0;31mNameError\u001b[0m: name 'eq1' is not defined"
          ]
        }
      ]
    },
    {
      "cell_type": "markdown",
      "metadata": {
        "id": "FLxwxC19S2rA",
        "colab_type": "text"
      },
      "source": [
        "caption"
      ]
    },
    {
      "cell_type": "code",
      "metadata": {
        "id": "UmYUoVqfStZ3",
        "colab_type": "code",
        "colab": {}
      },
      "source": [
        "algo2 = ..."
      ],
      "execution_count": 0,
      "outputs": []
    },
    {
      "cell_type": "code",
      "metadata": {
        "id": "KlJktyp_Sugg",
        "colab_type": "code",
        "colab": {}
      },
      "source": [
        "algo3 = rpt...."
      ],
      "execution_count": 0,
      "outputs": []
    },
    {
      "cell_type": "markdown",
      "metadata": {
        "id": "MwWGiOGDQ2p4",
        "colab_type": "text"
      },
      "source": [
        "Find a method that has computational complexity O(Nlog(N))\n",
        "\n",
        "Run both methods on the full 10000 rows dataset with the goal is to isolate 3 chunks of the time series. Read about the methods you choose, and describe the constraints you imposed and the paraemters you choose."
      ]
    },
    {
      "cell_type": "code",
      "metadata": {
        "ExecuteTime": {
          "end_time": "2020-03-07T00:28:08.329829Z",
          "start_time": "2020-03-07T00:28:08.181264Z"
        },
        "id": "jaipIi0aaBh9",
        "colab_type": "code",
        "outputId": "b66d41bf-8c8e-43c7-e202-e5d3be143785",
        "colab": {
          "base_uri": "https://localhost:8080/",
          "height": 461
        }
      },
      "source": [
        "algo = ..."
      ],
      "execution_count": 0,
      "outputs": [
        {
          "output_type": "display_data",
          "data": {
            "image/png": "[encoded data removed]",
            "text/plain": [
              "<Figure size 720x432 with 1 Axes>"
            ]
          },
          "metadata": {
            "tags": []
          }
        }
      ]
    },
    {
      "cell_type": "markdown",
      "metadata": {
        "id": "fD4DCPePS-an",
        "colab_type": "text"
      },
      "source": [
        "caption (note that your plot does not need to look exactly like mine"
      ]
    },
    {
      "cell_type": "code",
      "metadata": {
        "id": "RVysph4iTCK2",
        "colab_type": "code",
        "colab": {}
      },
      "source": [
        ""
      ],
      "execution_count": 0,
      "outputs": []
    }
  ]
}