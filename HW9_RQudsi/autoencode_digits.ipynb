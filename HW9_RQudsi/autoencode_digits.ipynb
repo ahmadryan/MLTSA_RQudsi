{
  "nbformat": 4,
  "nbformat_minor": 0,
  "metadata": {
    "colab": {
      "name": "autoencode_digits.ipynb",
      "provenance": [],
      "include_colab_link": true
    },
    "kernelspec": {
      "name": "python3",
      "display_name": "Python 3"
    },
    "accelerator": "GPU"
  },
  "cells": [
    {
      "cell_type": "markdown",
      "metadata": {
        "id": "view-in-github",
        "colab_type": "text"
      },
      "source": [
        "<a href=\"https://colab.research.google.com/github/ahmadryan/MLTSA_RQudsi/blob/master/HW9_RQudsi/autoencode_digits.ipynb\" target=\"_parent\"><img src=\"https://colab.research.google.com/assets/colab-badge.svg\" alt=\"Open In Colab\"/></a>"
      ]
    },
    {
      "cell_type": "code",
      "metadata": {
        "id": "d4Hqug0lfaG9",
        "colab_type": "code",
        "outputId": "7d71b8f1-be88-4894-9ce7-dcb08cf569e4",
        "colab": {
          "base_uri": "https://localhost:8080/",
          "height": 34
        }
      },
      "source": [
        "import keras\n",
        "from keras.datasets import mnist\n",
        "from keras.models import Sequential\n",
        "from keras.layers import Dense#, Dropout, Flatten\n",
        "#from keras.layers import Conv2D, MaxPooling2D\n",
        "from keras import backend as K\n",
        "import glob\n",
        "import pylab as pl\n",
        "from PIL import Image\n",
        "\n",
        "%pylab inline\n"
      ],
      "execution_count": 3,
      "outputs": [
        {
          "output_type": "stream",
          "text": [
            "Populating the interactive namespace from numpy and matplotlib\n"
          ],
          "name": "stdout"
        }
      ]
    },
    {
      "cell_type": "markdown",
      "metadata": {
        "id": "u8mW27gnf7U4",
        "colab_type": "text"
      },
      "source": [
        "# 1. change kernel to GPU \n",
        "go to runtime -> change runtime type -> GPU"
      ]
    },
    {
      "cell_type": "markdown",
      "metadata": {
        "id": "rNauAQ25gN3O",
        "colab_type": "text"
      },
      "source": [
        "# 2. load faces"
      ]
    },
    {
      "cell_type": "code",
      "metadata": {
        "id": "x3FjFffZHuN1",
        "colab_type": "code",
        "outputId": "45d7e99e-af85-4db7-a509-b438b8e9be53",
        "colab": {
          "base_uri": "https://localhost:8080/",
          "height": 34
        }
      },
      "source": [
        "from google.colab import drive\n",
        "\n",
        "drive.mount(\"/content/gdrive\")"
      ],
      "execution_count": 4,
      "outputs": [
        {
          "output_type": "stream",
          "text": [
            "Drive already mounted at /content/gdrive; to attempt to forcibly remount, call drive.mount(\"/content/gdrive\", force_remount=True).\n"
          ],
          "name": "stdout"
        }
      ]
    },
    {
      "cell_type": "code",
      "metadata": {
        "id": "QpMyfOMgHuKQ",
        "colab_type": "code",
        "outputId": "767dcca7-3999-4ad1-dd43-90ed93100aa7",
        "colab": {
          "base_uri": "https://localhost:8080/",
          "height": 34
        }
      },
      "source": [
        "cd /content/gdrive/My\\ Drive\n"
      ],
      "execution_count": 5,
      "outputs": [
        {
          "output_type": "stream",
          "text": [
            "/content/gdrive/My Drive\n"
          ],
          "name": "stdout"
        }
      ]
    },
    {
      "cell_type": "code",
      "metadata": {
        "id": "MdOSeP5RHuFd",
        "colab_type": "code",
        "outputId": "53eb1355-6f8f-454a-a63d-07cd172b5568",
        "colab": {
          "base_uri": "https://localhost:8080/",
          "height": 34
        }
      },
      "source": [
        "cd data"
      ],
      "execution_count": 6,
      "outputs": [
        {
          "output_type": "stream",
          "text": [
            "/content/gdrive/My Drive/data\n"
          ],
          "name": "stdout"
        }
      ]
    },
    {
      "cell_type": "code",
      "metadata": {
        "id": "bANddO_THt7N",
        "colab_type": "code",
        "outputId": "43c4ba8e-bf5a-4396-9117-f9f86afa325f",
        "colab": {
          "base_uri": "https://localhost:8080/",
          "height": 204
        }
      },
      "source": [
        "!wget https://cswww.essex.ac.uk/mv/allfaces/faces95.zip"
      ],
      "execution_count": 9,
      "outputs": [
        {
          "output_type": "stream",
          "text": [
            "--2020-04-30 19:46:12--  https://cswww.essex.ac.uk/mv/allfaces/faces95.zip\n",
            "Resolving cswww.essex.ac.uk (cswww.essex.ac.uk)... 155.245.92.179\n",
            "Connecting to cswww.essex.ac.uk (cswww.essex.ac.uk)|155.245.92.179|:443... connected.\n",
            "HTTP request sent, awaiting response... 200 OK\n",
            "Length: 6425534 (6.1M) [application/zip]\n",
            "Saving to: ‘faces95.zip’\n",
            "\n",
            "\rfaces95.zip           0%[                    ]       0  --.-KB/s               \rfaces95.zip         100%[===================>]   6.13M  39.0MB/s    in 0.2s    \n",
            "\n",
            "2020-04-30 19:46:12 (39.0 MB/s) - ‘faces95.zip’ saved [6425534/6425534]\n",
            "\n"
          ],
          "name": "stdout"
        }
      ]
    },
    {
      "cell_type": "code",
      "metadata": {
        "id": "AHDZP-xOIicS",
        "colab_type": "code",
        "colab": {
          "base_uri": "https://localhost:8080/",
          "height": 1000
        },
        "outputId": "2e0dcc2c-e944-44b9-b1e4-e917711e9aae"
      },
      "source": [
        "!unzip faces95.zip"
      ],
      "execution_count": 10,
      "outputs": [
        {
          "output_type": "stream",
          "text": [
            "Archive:  faces95.zip\n",
            "   creating: faces95/\n",
            "   creating: faces95/adhast/\n",
            "  inflating: faces95/adhast/adhast.1.jpg  \n",
            "  inflating: faces95/adhast/adhast.10.jpg  \n",
            "  inflating: faces95/adhast/adhast.11.jpg  \n",
            "  inflating: faces95/adhast/adhast.12.jpg  \n",
            "  inflating: faces95/adhast/adhast.13.jpg  \n",
            "  inflating: faces95/adhast/adhast.14.jpg  \n",
            "  inflating: faces95/adhast/adhast.15.jpg  \n",
            "  inflating: faces95/adhast/adhast.16.jpg  \n",
            "  inflating: faces95/adhast/adhast.17.jpg  \n",
            "  inflating: faces95/adhast/adhast.18.jpg  \n",
            "  inflating: faces95/adhast/adhast.19.jpg  \n",
            "  inflating: faces95/adhast/adhast.2.jpg  \n",
            "  inflating: faces95/adhast/adhast.20.jpg  \n",
            "  inflating: faces95/adhast/adhast.3.jpg  \n",
            "  inflating: faces95/adhast/adhast.4.jpg  \n",
            "  inflating: faces95/adhast/adhast.5.jpg  \n",
            "  inflating: faces95/adhast/adhast.6.jpg  \n",
            "  inflating: faces95/adhast/adhast.7.jpg  \n",
            "  inflating: faces95/adhast/adhast.8.jpg  \n",
            "  inflating: faces95/adhast/adhast.9.jpg  \n",
            "   creating: faces95/ajbake/\n",
            "  inflating: faces95/ajbake/ajbake.1.jpg  \n",
            "  inflating: faces95/ajbake/ajbake.10.jpg  \n",
            "  inflating: faces95/ajbake/ajbake.11.jpg  \n",
            "  inflating: faces95/ajbake/ajbake.12.jpg  \n",
            "  inflating: faces95/ajbake/ajbake.13.jpg  \n",
            "  inflating: faces95/ajbake/ajbake.14.jpg  \n",
            "  inflating: faces95/ajbake/ajbake.15.jpg  \n",
            "  inflating: faces95/ajbake/ajbake.16.jpg  \n",
            "  inflating: faces95/ajbake/ajbake.17.jpg  \n",
            "  inflating: faces95/ajbake/ajbake.18.jpg  \n",
            "  inflating: faces95/ajbake/ajbake.19.jpg  \n",
            "  inflating: faces95/ajbake/ajbake.2.jpg  \n",
            "  inflating: faces95/ajbake/ajbake.20.jpg  \n",
            "  inflating: faces95/ajbake/ajbake.3.jpg  \n",
            "  inflating: faces95/ajbake/ajbake.4.jpg  \n",
            "  inflating: faces95/ajbake/ajbake.5.jpg  \n",
            "  inflating: faces95/ajbake/ajbake.6.jpg  \n",
            "  inflating: faces95/ajbake/ajbake.7.jpg  \n",
            "  inflating: faces95/ajbake/ajbake.8.jpg  \n",
            "  inflating: faces95/ajbake/ajbake.9.jpg  \n",
            "   creating: faces95/apapou/\n",
            "  inflating: faces95/apapou/apapou.1.jpg  \n",
            "  inflating: faces95/apapou/apapou.10.jpg  \n",
            "  inflating: faces95/apapou/apapou.11.jpg  \n",
            "  inflating: faces95/apapou/apapou.12.jpg  \n",
            "  inflating: faces95/apapou/apapou.13.jpg  \n",
            "  inflating: faces95/apapou/apapou.14.jpg  \n",
            "  inflating: faces95/apapou/apapou.15.jpg  \n",
            "  inflating: faces95/apapou/apapou.16.jpg  \n",
            "  inflating: faces95/apapou/apapou.17.jpg  \n",
            "  inflating: faces95/apapou/apapou.18.jpg  \n",
            "  inflating: faces95/apapou/apapou.19.jpg  \n",
            "  inflating: faces95/apapou/apapou.2.jpg  \n",
            "  inflating: faces95/apapou/apapou.20.jpg  \n",
            "  inflating: faces95/apapou/apapou.3.jpg  \n",
            "  inflating: faces95/apapou/apapou.4.jpg  \n",
            "  inflating: faces95/apapou/apapou.5.jpg  \n",
            "  inflating: faces95/apapou/apapou.6.jpg  \n",
            "  inflating: faces95/apapou/apapou.7.jpg  \n",
            "  inflating: faces95/apapou/apapou.8.jpg  \n",
            "  inflating: faces95/apapou/apapou.9.jpg  \n",
            "   creating: faces95/apdavi/\n",
            "  inflating: faces95/apdavi/apdavi.1.jpg  \n",
            "  inflating: faces95/apdavi/apdavi.10.jpg  \n",
            "  inflating: faces95/apdavi/apdavi.11.jpg  \n",
            "  inflating: faces95/apdavi/apdavi.12.jpg  \n",
            "  inflating: faces95/apdavi/apdavi.13.jpg  \n",
            "  inflating: faces95/apdavi/apdavi.14.jpg  \n",
            "  inflating: faces95/apdavi/apdavi.15.jpg  \n",
            "  inflating: faces95/apdavi/apdavi.16.jpg  \n",
            "  inflating: faces95/apdavi/apdavi.17.jpg  \n",
            "  inflating: faces95/apdavi/apdavi.18.jpg  \n",
            "  inflating: faces95/apdavi/apdavi.19.jpg  \n",
            "  inflating: faces95/apdavi/apdavi.2.jpg  \n",
            "  inflating: faces95/apdavi/apdavi.20.jpg  \n",
            "  inflating: faces95/apdavi/apdavi.3.jpg  \n",
            "  inflating: faces95/apdavi/apdavi.4.jpg  \n",
            "  inflating: faces95/apdavi/apdavi.5.jpg  \n",
            "  inflating: faces95/apdavi/apdavi.6.jpg  \n",
            "  inflating: faces95/apdavi/apdavi.7.jpg  \n",
            "  inflating: faces95/apdavi/apdavi.8.jpg  \n",
            "  inflating: faces95/apdavi/apdavi.9.jpg  \n",
            "   creating: faces95/ardper/\n",
            "  inflating: faces95/ardper/ardper.1.jpg  \n",
            "  inflating: faces95/ardper/ardper.10.jpg  \n",
            "  inflating: faces95/ardper/ardper.11.jpg  \n",
            "  inflating: faces95/ardper/ardper.12.jpg  \n",
            "  inflating: faces95/ardper/ardper.13.jpg  \n",
            "  inflating: faces95/ardper/ardper.14.jpg  \n",
            "  inflating: faces95/ardper/ardper.15.jpg  \n",
            "  inflating: faces95/ardper/ardper.16.jpg  \n",
            "  inflating: faces95/ardper/ardper.17.jpg  \n",
            "  inflating: faces95/ardper/ardper.18.jpg  \n",
            "  inflating: faces95/ardper/ardper.19.jpg  \n",
            "  inflating: faces95/ardper/ardper.2.jpg  \n",
            "  inflating: faces95/ardper/ardper.20.jpg  \n",
            "  inflating: faces95/ardper/ardper.3.jpg  \n",
            "  inflating: faces95/ardper/ardper.4.jpg  \n",
            "  inflating: faces95/ardper/ardper.5.jpg  \n",
            "  inflating: faces95/ardper/ardper.6.jpg  \n",
            "  inflating: faces95/ardper/ardper.7.jpg  \n",
            "  inflating: faces95/ardper/ardper.8.jpg  \n",
            "  inflating: faces95/ardper/ardper.9.jpg  \n",
            "   creating: faces95/awjsud/\n",
            "  inflating: faces95/awjsud/awjsud.1.jpg  \n",
            "  inflating: faces95/awjsud/awjsud.10.jpg  \n",
            "  inflating: faces95/awjsud/awjsud.11.jpg  \n",
            "  inflating: faces95/awjsud/awjsud.12.jpg  \n",
            "  inflating: faces95/awjsud/awjsud.13.jpg  \n",
            "  inflating: faces95/awjsud/awjsud.14.jpg  \n",
            "  inflating: faces95/awjsud/awjsud.15.jpg  \n",
            "  inflating: faces95/awjsud/awjsud.16.jpg  \n",
            "  inflating: faces95/awjsud/awjsud.17.jpg  \n",
            "  inflating: faces95/awjsud/awjsud.18.jpg  \n",
            "  inflating: faces95/awjsud/awjsud.19.jpg  \n",
            "  inflating: faces95/awjsud/awjsud.2.jpg  \n",
            "  inflating: faces95/awjsud/awjsud.20.jpg  \n",
            "  inflating: faces95/awjsud/awjsud.3.jpg  \n",
            "  inflating: faces95/awjsud/awjsud.4.jpg  \n",
            "  inflating: faces95/awjsud/awjsud.5.jpg  \n",
            "  inflating: faces95/awjsud/awjsud.6.jpg  \n",
            "  inflating: faces95/awjsud/awjsud.7.jpg  \n",
            "  inflating: faces95/awjsud/awjsud.8.jpg  \n",
            "  inflating: faces95/awjsud/awjsud.9.jpg  \n",
            "   creating: faces95/boylee/\n",
            "  inflating: faces95/boylee/boylee.1.jpg  \n",
            "  inflating: faces95/boylee/boylee.10.jpg  \n",
            "  inflating: faces95/boylee/boylee.11.jpg  \n",
            "  inflating: faces95/boylee/boylee.12.jpg  \n",
            "  inflating: faces95/boylee/boylee.13.jpg  \n",
            "  inflating: faces95/boylee/boylee.14.jpg  \n",
            "  inflating: faces95/boylee/boylee.15.jpg  \n",
            "  inflating: faces95/boylee/boylee.16.jpg  \n",
            "  inflating: faces95/boylee/boylee.17.jpg  \n",
            "  inflating: faces95/boylee/boylee.18.jpg  \n",
            "  inflating: faces95/boylee/boylee.19.jpg  \n",
            "  inflating: faces95/boylee/boylee.2.jpg  \n",
            "  inflating: faces95/boylee/boylee.20.jpg  \n",
            "  inflating: faces95/boylee/boylee.3.jpg  \n",
            "  inflating: faces95/boylee/boylee.4.jpg  \n",
            "  inflating: faces95/boylee/boylee.5.jpg  \n",
            "  inflating: faces95/boylee/boylee.6.jpg  \n",
            "  inflating: faces95/boylee/boylee.7.jpg  \n",
            "  inflating: faces95/boylee/boylee.8.jpg  \n",
            "  inflating: faces95/boylee/boylee.9.jpg  \n",
            "   creating: faces95/bschap/\n",
            "  inflating: faces95/bschap/bschap.1.jpg  \n",
            "  inflating: faces95/bschap/bschap.10.jpg  \n",
            "  inflating: faces95/bschap/bschap.11.jpg  \n",
            "  inflating: faces95/bschap/bschap.12.jpg  \n",
            "  inflating: faces95/bschap/bschap.13.jpg  \n",
            "  inflating: faces95/bschap/bschap.14.jpg  \n",
            "  inflating: faces95/bschap/bschap.15.jpg  \n",
            "  inflating: faces95/bschap/bschap.16.jpg  \n",
            "  inflating: faces95/bschap/bschap.17.jpg  \n",
            "  inflating: faces95/bschap/bschap.18.jpg  \n",
            "  inflating: faces95/bschap/bschap.19.jpg  \n",
            "  inflating: faces95/bschap/bschap.2.jpg  \n",
            "  inflating: faces95/bschap/bschap.20.jpg  \n",
            "  inflating: faces95/bschap/bschap.3.jpg  \n",
            "  inflating: faces95/bschap/bschap.4.jpg  \n",
            "  inflating: faces95/bschap/bschap.5.jpg  \n",
            "  inflating: faces95/bschap/bschap.6.jpg  \n",
            "  inflating: faces95/bschap/bschap.7.jpg  \n",
            "  inflating: faces95/bschap/bschap.8.jpg  \n",
            "  inflating: faces95/bschap/bschap.9.jpg  \n",
            "   creating: faces95/cadugd/\n",
            "  inflating: faces95/cadugd/cadugd.1.jpg  \n",
            "  inflating: faces95/cadugd/cadugd.10.jpg  \n",
            "  inflating: faces95/cadugd/cadugd.11.jpg  \n",
            "  inflating: faces95/cadugd/cadugd.12.jpg  \n",
            "  inflating: faces95/cadugd/cadugd.13.jpg  \n",
            "  inflating: faces95/cadugd/cadugd.14.jpg  \n",
            "  inflating: faces95/cadugd/cadugd.15.jpg  \n",
            "  inflating: faces95/cadugd/cadugd.16.jpg  \n",
            "  inflating: faces95/cadugd/cadugd.17.jpg  \n",
            "  inflating: faces95/cadugd/cadugd.18.jpg  \n",
            "  inflating: faces95/cadugd/cadugd.19.jpg  \n",
            "  inflating: faces95/cadugd/cadugd.2.jpg  \n",
            "  inflating: faces95/cadugd/cadugd.20.jpg  \n",
            "  inflating: faces95/cadugd/cadugd.3.jpg  \n",
            "  inflating: faces95/cadugd/cadugd.4.jpg  \n",
            "  inflating: faces95/cadugd/cadugd.5.jpg  \n",
            "  inflating: faces95/cadugd/cadugd.6.jpg  \n",
            "  inflating: faces95/cadugd/cadugd.7.jpg  \n",
            "  inflating: faces95/cadugd/cadugd.8.jpg  \n",
            "  inflating: faces95/cadugd/cadugd.9.jpg  \n",
            "   creating: faces95/cdlarg/\n",
            "  inflating: faces95/cdlarg/cdlarg.1.jpg  \n",
            "  inflating: faces95/cdlarg/cdlarg.10.jpg  \n",
            "  inflating: faces95/cdlarg/cdlarg.11.jpg  \n",
            "  inflating: faces95/cdlarg/cdlarg.12.jpg  \n",
            "  inflating: faces95/cdlarg/cdlarg.13.jpg  \n",
            "  inflating: faces95/cdlarg/cdlarg.14.jpg  \n",
            "  inflating: faces95/cdlarg/cdlarg.15.jpg  \n",
            "  inflating: faces95/cdlarg/cdlarg.16.jpg  \n",
            "  inflating: faces95/cdlarg/cdlarg.17.jpg  \n",
            "  inflating: faces95/cdlarg/cdlarg.18.jpg  \n",
            "  inflating: faces95/cdlarg/cdlarg.19.jpg  \n",
            "  inflating: faces95/cdlarg/cdlarg.2.jpg  \n",
            "  inflating: faces95/cdlarg/cdlarg.20.jpg  \n",
            "  inflating: faces95/cdlarg/cdlarg.3.jpg  \n",
            "  inflating: faces95/cdlarg/cdlarg.4.jpg  \n",
            "  inflating: faces95/cdlarg/cdlarg.5.jpg  \n",
            "  inflating: faces95/cdlarg/cdlarg.6.jpg  \n",
            "  inflating: faces95/cdlarg/cdlarg.7.jpg  \n",
            "  inflating: faces95/cdlarg/cdlarg.8.jpg  \n",
            "  inflating: faces95/cdlarg/cdlarg.9.jpg  \n",
            "   creating: faces95/cfloro/\n",
            "  inflating: faces95/cfloro/cfloro.1.jpg  \n",
            "  inflating: faces95/cfloro/cfloro.10.jpg  \n",
            "  inflating: faces95/cfloro/cfloro.11.jpg  \n",
            "  inflating: faces95/cfloro/cfloro.12.jpg  \n",
            "  inflating: faces95/cfloro/cfloro.13.jpg  \n",
            "  inflating: faces95/cfloro/cfloro.14.jpg  \n",
            "  inflating: faces95/cfloro/cfloro.15.jpg  \n",
            "  inflating: faces95/cfloro/cfloro.16.jpg  \n",
            "  inflating: faces95/cfloro/cfloro.17.jpg  \n",
            "  inflating: faces95/cfloro/cfloro.18.jpg  \n",
            "  inflating: faces95/cfloro/cfloro.19.jpg  \n",
            "  inflating: faces95/cfloro/cfloro.2.jpg  \n",
            "  inflating: faces95/cfloro/cfloro.20.jpg  \n",
            "  inflating: faces95/cfloro/cfloro.3.jpg  \n",
            "  inflating: faces95/cfloro/cfloro.4.jpg  \n",
            "  inflating: faces95/cfloro/cfloro.5.jpg  \n",
            "  inflating: faces95/cfloro/cfloro.6.jpg  \n",
            "  inflating: faces95/cfloro/cfloro.7.jpg  \n",
            "  inflating: faces95/cfloro/cfloro.8.jpg  \n",
            "  inflating: faces95/cfloro/cfloro.9.jpg  \n",
            "   creating: faces95/cladam/\n",
            "  inflating: faces95/cladam/cladam.1.jpg  \n",
            "  inflating: faces95/cladam/cladam.10.jpg  \n",
            "  inflating: faces95/cladam/cladam.11.jpg  \n",
            "  inflating: faces95/cladam/cladam.12.jpg  \n",
            "  inflating: faces95/cladam/cladam.13.jpg  \n",
            "  inflating: faces95/cladam/cladam.14.jpg  \n",
            "  inflating: faces95/cladam/cladam.15.jpg  \n",
            "  inflating: faces95/cladam/cladam.16.jpg  \n",
            "  inflating: faces95/cladam/cladam.17.jpg  \n",
            "  inflating: faces95/cladam/cladam.18.jpg  \n",
            "  inflating: faces95/cladam/cladam.19.jpg  \n",
            "  inflating: faces95/cladam/cladam.2.jpg  \n",
            "  inflating: faces95/cladam/cladam.20.jpg  \n",
            "  inflating: faces95/cladam/cladam.3.jpg  \n",
            "  inflating: faces95/cladam/cladam.4.jpg  \n",
            "  inflating: faces95/cladam/cladam.5.jpg  \n",
            "  inflating: faces95/cladam/cladam.6.jpg  \n",
            "  inflating: faces95/cladam/cladam.7.jpg  \n",
            "  inflating: faces95/cladam/cladam.8.jpg  \n",
            "  inflating: faces95/cladam/cladam.9.jpg  \n",
            "   creating: faces95/cywan/\n",
            "  inflating: faces95/cywan/cywan.10.jpg  \n",
            "  inflating: faces95/cywan/cywan.1.jpg  \n",
            "  inflating: faces95/cywan/cywan.11.jpg  \n",
            "  inflating: faces95/cywan/cywan.12.jpg  \n",
            "  inflating: faces95/cywan/cywan.13.jpg  \n",
            "  inflating: faces95/cywan/cywan.14.jpg  \n",
            "  inflating: faces95/cywan/cywan.15.jpg  \n",
            "  inflating: faces95/cywan/cywan.16.jpg  \n",
            "  inflating: faces95/cywan/cywan.17.jpg  \n",
            "  inflating: faces95/cywan/cywan.18.jpg  \n",
            "  inflating: faces95/cywan/cywan.19.jpg  \n",
            "  inflating: faces95/cywan/cywan.2.jpg  \n",
            "  inflating: faces95/cywan/cywan.20.jpg  \n",
            "  inflating: faces95/cywan/cywan.3.jpg  \n",
            "  inflating: faces95/cywan/cywan.4.jpg  \n",
            "  inflating: faces95/cywan/cywan.5.jpg  \n",
            "  inflating: faces95/cywan/cywan.6.jpg  \n",
            "  inflating: faces95/cywan/cywan.7.jpg  \n",
            "  inflating: faces95/cywan/cywan.8.jpg  \n",
            "  inflating: faces95/cywan/cywan.9.jpg  \n",
            "   creating: faces95/dakram/\n",
            "  inflating: faces95/dakram/dakram.1.jpg  \n",
            "  inflating: faces95/dakram/dakram.10.jpg  \n",
            "  inflating: faces95/dakram/dakram.11.jpg  \n",
            "  inflating: faces95/dakram/dakram.12.jpg  \n",
            "  inflating: faces95/dakram/dakram.13.jpg  \n",
            "  inflating: faces95/dakram/dakram.14.jpg  \n",
            "  inflating: faces95/dakram/dakram.15.jpg  \n",
            "  inflating: faces95/dakram/dakram.16.jpg  \n",
            "  inflating: faces95/dakram/dakram.17.jpg  \n",
            "  inflating: faces95/dakram/dakram.18.jpg  \n",
            "  inflating: faces95/dakram/dakram.19.jpg  \n",
            "  inflating: faces95/dakram/dakram.2.jpg  \n",
            "  inflating: faces95/dakram/dakram.20.jpg  \n",
            "  inflating: faces95/dakram/dakram.3.jpg  \n",
            "  inflating: faces95/dakram/dakram.4.jpg  \n",
            "  inflating: faces95/dakram/dakram.5.jpg  \n",
            "  inflating: faces95/dakram/dakram.6.jpg  \n",
            "  inflating: faces95/dakram/dakram.7.jpg  \n",
            "  inflating: faces95/dakram/dakram.8.jpg  \n",
            "  inflating: faces95/dakram/dakram.9.jpg  \n",
            "   creating: faces95/damvo/\n",
            "  inflating: faces95/damvo/damvo.10.jpg  \n",
            "  inflating: faces95/damvo/damvo.1.jpg  \n",
            "  inflating: faces95/damvo/damvo.11.jpg  \n",
            "  inflating: faces95/damvo/damvo.12.jpg  \n",
            "  inflating: faces95/damvo/damvo.13.jpg  \n",
            "  inflating: faces95/damvo/damvo.14.jpg  \n",
            "  inflating: faces95/damvo/damvo.15.jpg  \n",
            "  inflating: faces95/damvo/damvo.16.jpg  \n",
            "  inflating: faces95/damvo/damvo.17.jpg  \n",
            "  inflating: faces95/damvo/damvo.18.jpg  \n",
            "  inflating: faces95/damvo/damvo.19.jpg  \n",
            "  inflating: faces95/damvo/damvo.2.jpg  \n",
            "  inflating: faces95/damvo/damvo.20.jpg  \n",
            "  inflating: faces95/damvo/damvo.3.jpg  \n",
            "  inflating: faces95/damvo/damvo.4.jpg  \n",
            "  inflating: faces95/damvo/damvo.5.jpg  \n",
            "  inflating: faces95/damvo/damvo.6.jpg  \n",
            "  inflating: faces95/damvo/damvo.7.jpg  \n",
            "  inflating: faces95/damvo/damvo.8.jpg  \n",
            "  inflating: faces95/damvo/damvo.9.jpg  \n",
            "   creating: faces95/darda/\n",
            "  inflating: faces95/darda/darda.10.jpg  \n",
            "  inflating: faces95/darda/darda.1.jpg  \n",
            "  inflating: faces95/darda/darda.11.jpg  \n",
            "  inflating: faces95/darda/darda.12.jpg  \n",
            "  inflating: faces95/darda/darda.13.jpg  \n",
            "  inflating: faces95/darda/darda.14.jpg  \n",
            "  inflating: faces95/darda/darda.15.jpg  \n",
            "  inflating: faces95/darda/darda.16.jpg  \n",
            "  inflating: faces95/darda/darda.17.jpg  \n",
            "  inflating: faces95/darda/darda.18.jpg  \n",
            "  inflating: faces95/darda/darda.19.jpg  \n",
            "  inflating: faces95/darda/darda.2.jpg  \n",
            "  inflating: faces95/darda/darda.20.jpg  \n",
            "  inflating: faces95/darda/darda.3.jpg  \n",
            "  inflating: faces95/darda/darda.4.jpg  \n",
            "  inflating: faces95/darda/darda.5.jpg  \n",
            "  inflating: faces95/darda/darda.6.jpg  \n",
            "  inflating: faces95/darda/darda.7.jpg  \n",
            "  inflating: faces95/darda/darda.8.jpg  \n",
            "  inflating: faces95/darda/darda.9.jpg  \n",
            "   creating: faces95/dfhodd/\n",
            "  inflating: faces95/dfhodd/dfhodd.1.jpg  \n",
            "  inflating: faces95/dfhodd/dfhodd.10.jpg  \n",
            "  inflating: faces95/dfhodd/dfhodd.11.jpg  \n",
            "  inflating: faces95/dfhodd/dfhodd.12.jpg  \n",
            "  inflating: faces95/dfhodd/dfhodd.13.jpg  \n",
            "  inflating: faces95/dfhodd/dfhodd.14.jpg  \n",
            "  inflating: faces95/dfhodd/dfhodd.15.jpg  \n",
            "  inflating: faces95/dfhodd/dfhodd.16.jpg  \n",
            "  inflating: faces95/dfhodd/dfhodd.17.jpg  \n",
            "  inflating: faces95/dfhodd/dfhodd.18.jpg  \n",
            "  inflating: faces95/dfhodd/dfhodd.19.jpg  \n",
            "  inflating: faces95/dfhodd/dfhodd.2.jpg  \n",
            "  inflating: faces95/dfhodd/dfhodd.20.jpg  \n",
            "  inflating: faces95/dfhodd/dfhodd.3.jpg  \n",
            "  inflating: faces95/dfhodd/dfhodd.4.jpg  \n",
            "  inflating: faces95/dfhodd/dfhodd.5.jpg  \n",
            "  inflating: faces95/dfhodd/dfhodd.6.jpg  \n",
            "  inflating: faces95/dfhodd/dfhodd.7.jpg  \n",
            "  inflating: faces95/dfhodd/dfhodd.8.jpg  \n",
            "  inflating: faces95/dfhodd/dfhodd.9.jpg  \n",
            "   creating: faces95/dgemen/\n",
            "  inflating: faces95/dgemen/dgemen.1.jpg  \n",
            "  inflating: faces95/dgemen/dgemen.10.jpg  \n",
            "  inflating: faces95/dgemen/dgemen.11.jpg  \n",
            "  inflating: faces95/dgemen/dgemen.12.jpg  \n",
            "  inflating: faces95/dgemen/dgemen.13.jpg  \n",
            "  inflating: faces95/dgemen/dgemen.14.jpg  \n",
            "  inflating: faces95/dgemen/dgemen.15.jpg  \n",
            "  inflating: faces95/dgemen/dgemen.16.jpg  \n",
            "  inflating: faces95/dgemen/dgemen.17.jpg  \n",
            "  inflating: faces95/dgemen/dgemen.18.jpg  \n",
            "  inflating: faces95/dgemen/dgemen.19.jpg  \n",
            "  inflating: faces95/dgemen/dgemen.2.jpg  \n",
            "  inflating: faces95/dgemen/dgemen.20.jpg  \n",
            "  inflating: faces95/dgemen/dgemen.3.jpg  \n",
            "  inflating: faces95/dgemen/dgemen.4.jpg  \n",
            "  inflating: faces95/dgemen/dgemen.5.jpg  \n",
            "  inflating: faces95/dgemen/dgemen.6.jpg  \n",
            "  inflating: faces95/dgemen/dgemen.7.jpg  \n",
            "  inflating: faces95/dgemen/dgemen.8.jpg  \n",
            "  inflating: faces95/dgemen/dgemen.9.jpg  \n",
            "   creating: faces95/gsmall/\n",
            "  inflating: faces95/gsmall/gsmall.1.jpg  \n",
            "  inflating: faces95/gsmall/gsmall.10.jpg  \n",
            "  inflating: faces95/gsmall/gsmall.11.jpg  \n",
            "  inflating: faces95/gsmall/gsmall.12.jpg  \n",
            "  inflating: faces95/gsmall/gsmall.13.jpg  \n",
            "  inflating: faces95/gsmall/gsmall.14.jpg  \n",
            "  inflating: faces95/gsmall/gsmall.15.jpg  \n",
            "  inflating: faces95/gsmall/gsmall.16.jpg  \n",
            "  inflating: faces95/gsmall/gsmall.17.jpg  \n",
            "  inflating: faces95/gsmall/gsmall.18.jpg  \n",
            "  inflating: faces95/gsmall/gsmall.19.jpg  \n",
            "  inflating: faces95/gsmall/gsmall.2.jpg  \n",
            "  inflating: faces95/gsmall/gsmall.20.jpg  \n",
            "  inflating: faces95/gsmall/gsmall.3.jpg  \n",
            "  inflating: faces95/gsmall/gsmall.4.jpg  \n",
            "  inflating: faces95/gsmall/gsmall.5.jpg  \n",
            "  inflating: faces95/gsmall/gsmall.6.jpg  \n",
            "  inflating: faces95/gsmall/gsmall.7.jpg  \n",
            "  inflating: faces95/gsmall/gsmall.8.jpg  \n",
            "  inflating: faces95/gsmall/gsmall.9.jpg  \n",
            "   creating: faces95/gstamo/\n",
            "  inflating: faces95/gstamo/gstamo.1.jpg  \n",
            "  inflating: faces95/gstamo/gstamo.10.jpg  \n",
            "  inflating: faces95/gstamo/gstamo.11.jpg  \n",
            "  inflating: faces95/gstamo/gstamo.12.jpg  \n",
            "  inflating: faces95/gstamo/gstamo.13.jpg  \n",
            "  inflating: faces95/gstamo/gstamo.14.jpg  \n",
            "  inflating: faces95/gstamo/gstamo.15.jpg  \n",
            "  inflating: faces95/gstamo/gstamo.16.jpg  \n",
            "  inflating: faces95/gstamo/gstamo.17.jpg  \n",
            "  inflating: faces95/gstamo/gstamo.18.jpg  \n",
            "  inflating: faces95/gstamo/gstamo.19.jpg  \n",
            "  inflating: faces95/gstamo/gstamo.2.jpg  \n",
            "  inflating: faces95/gstamo/gstamo.20.jpg  \n",
            "  inflating: faces95/gstamo/gstamo.3.jpg  \n",
            "  inflating: faces95/gstamo/gstamo.4.jpg  \n",
            "  inflating: faces95/gstamo/gstamo.5.jpg  \n",
            "  inflating: faces95/gstamo/gstamo.6.jpg  \n",
            "  inflating: faces95/gstamo/gstamo.7.jpg  \n",
            "  inflating: faces95/gstamo/gstamo.8.jpg  \n",
            "  inflating: faces95/gstamo/gstamo.9.jpg  \n",
            "   creating: faces95/gsvird/\n",
            "  inflating: faces95/gsvird/gsvird.1.jpg  \n",
            "  inflating: faces95/gsvird/gsvird.10.jpg  \n",
            "  inflating: faces95/gsvird/gsvird.11.jpg  \n",
            "  inflating: faces95/gsvird/gsvird.12.jpg  \n",
            "  inflating: faces95/gsvird/gsvird.13.jpg  \n",
            "  inflating: faces95/gsvird/gsvird.14.jpg  \n",
            "  inflating: faces95/gsvird/gsvird.15.jpg  \n",
            "  inflating: faces95/gsvird/gsvird.16.jpg  \n",
            "  inflating: faces95/gsvird/gsvird.17.jpg  \n",
            "  inflating: faces95/gsvird/gsvird.18.jpg  \n",
            "  inflating: faces95/gsvird/gsvird.19.jpg  \n",
            "  inflating: faces95/gsvird/gsvird.2.jpg  \n",
            "  inflating: faces95/gsvird/gsvird.20.jpg  \n",
            "  inflating: faces95/gsvird/gsvird.3.jpg  \n",
            "  inflating: faces95/gsvird/gsvird.4.jpg  \n",
            "  inflating: faces95/gsvird/gsvird.5.jpg  \n",
            "  inflating: faces95/gsvird/gsvird.6.jpg  \n",
            "  inflating: faces95/gsvird/gsvird.7.jpg  \n",
            "  inflating: faces95/gsvird/gsvird.8.jpg  \n",
            "  inflating: faces95/gsvird/gsvird.9.jpg  \n",
            "   creating: faces95/hcarpe/\n",
            "  inflating: faces95/hcarpe/hcarpe.1.jpg  \n",
            "  inflating: faces95/hcarpe/hcarpe.10.jpg  \n",
            "  inflating: faces95/hcarpe/hcarpe.11.jpg  \n",
            "  inflating: faces95/hcarpe/hcarpe.12.jpg  \n",
            "  inflating: faces95/hcarpe/hcarpe.13.jpg  \n",
            "  inflating: faces95/hcarpe/hcarpe.14.jpg  \n",
            "  inflating: faces95/hcarpe/hcarpe.15.jpg  \n",
            "  inflating: faces95/hcarpe/hcarpe.16.jpg  \n",
            "  inflating: faces95/hcarpe/hcarpe.17.jpg  \n",
            "  inflating: faces95/hcarpe/hcarpe.18.jpg  \n",
            "  inflating: faces95/hcarpe/hcarpe.19.jpg  \n",
            "  inflating: faces95/hcarpe/hcarpe.2.jpg  \n",
            "  inflating: faces95/hcarpe/hcarpe.20.jpg  \n",
            "  inflating: faces95/hcarpe/hcarpe.3.jpg  \n",
            "  inflating: faces95/hcarpe/hcarpe.4.jpg  \n",
            "  inflating: faces95/hcarpe/hcarpe.5.jpg  \n",
            "  inflating: faces95/hcarpe/hcarpe.6.jpg  \n",
            "  inflating: faces95/hcarpe/hcarpe.7.jpg  \n",
            "  inflating: faces95/hcarpe/hcarpe.8.jpg  \n",
            "  inflating: faces95/hcarpe/hcarpe.9.jpg  \n",
            "   creating: faces95/howar/\n",
            "  inflating: faces95/howar/howar.10.jpg  \n",
            "  inflating: faces95/howar/howar.1.jpg  \n",
            "  inflating: faces95/howar/howar.11.jpg  \n",
            "  inflating: faces95/howar/howar.12.jpg  \n",
            "  inflating: faces95/howar/howar.13.jpg  \n",
            "  inflating: faces95/howar/howar.14.jpg  \n",
            "  inflating: faces95/howar/howar.15.jpg  \n",
            "  inflating: faces95/howar/howar.16.jpg  \n",
            "  inflating: faces95/howar/howar.17.jpg  \n",
            "  inflating: faces95/howar/howar.18.jpg  \n",
            "  inflating: faces95/howar/howar.19.jpg  \n",
            "  inflating: faces95/howar/howar.2.jpg  \n",
            "  inflating: faces95/howar/howar.20.jpg  \n",
            "  inflating: faces95/howar/howar.3.jpg  \n",
            "  inflating: faces95/howar/howar.4.jpg  \n",
            "  inflating: faces95/howar/howar.5.jpg  \n",
            "  inflating: faces95/howar/howar.6.jpg  \n",
            "  inflating: faces95/howar/howar.7.jpg  \n",
            "  inflating: faces95/howar/howar.8.jpg  \n",
            "  inflating: faces95/howar/howar.9.jpg  \n",
            "   creating: faces95/hsgrim/\n",
            "  inflating: faces95/hsgrim/hsgrim.1.jpg  \n",
            "  inflating: faces95/hsgrim/hsgrim.10.jpg  \n",
            "  inflating: faces95/hsgrim/hsgrim.11.jpg  \n",
            "  inflating: faces95/hsgrim/hsgrim.12.jpg  \n",
            "  inflating: faces95/hsgrim/hsgrim.13.jpg  \n",
            "  inflating: faces95/hsgrim/hsgrim.14.jpg  \n",
            "  inflating: faces95/hsgrim/hsgrim.15.jpg  \n",
            "  inflating: faces95/hsgrim/hsgrim.16.jpg  \n",
            "  inflating: faces95/hsgrim/hsgrim.17.jpg  \n",
            "  inflating: faces95/hsgrim/hsgrim.18.jpg  \n",
            "  inflating: faces95/hsgrim/hsgrim.19.jpg  \n",
            "  inflating: faces95/hsgrim/hsgrim.2.jpg  \n",
            "  inflating: faces95/hsgrim/hsgrim.20.jpg  \n",
            "  inflating: faces95/hsgrim/hsgrim.3.jpg  \n",
            "  inflating: faces95/hsgrim/hsgrim.4.jpg  \n",
            "  inflating: faces95/hsgrim/hsgrim.5.jpg  \n",
            "  inflating: faces95/hsgrim/hsgrim.6.jpg  \n",
            "  inflating: faces95/hsgrim/hsgrim.7.jpg  \n",
            "  inflating: faces95/hsgrim/hsgrim.8.jpg  \n",
            "  inflating: faces95/hsgrim/hsgrim.9.jpg  \n",
            "   creating: faces95/ijfran/\n",
            "  inflating: faces95/ijfran/ijfran.1.jpg  \n",
            "  inflating: faces95/ijfran/ijfran.10.jpg  \n",
            "  inflating: faces95/ijfran/ijfran.11.jpg  \n",
            "  inflating: faces95/ijfran/ijfran.12.jpg  \n",
            "  inflating: faces95/ijfran/ijfran.13.jpg  \n",
            "  inflating: faces95/ijfran/ijfran.14.jpg  \n",
            "  inflating: faces95/ijfran/ijfran.15.jpg  \n",
            "  inflating: faces95/ijfran/ijfran.16.jpg  \n",
            "  inflating: faces95/ijfran/ijfran.17.jpg  \n",
            "  inflating: faces95/ijfran/ijfran.18.jpg  \n",
            "  inflating: faces95/ijfran/ijfran.19.jpg  \n",
            "  inflating: faces95/ijfran/ijfran.2.jpg  \n",
            "  inflating: faces95/ijfran/ijfran.20.jpg  \n",
            "  inflating: faces95/ijfran/ijfran.3.jpg  \n",
            "  inflating: faces95/ijfran/ijfran.4.jpg  \n",
            "  inflating: faces95/ijfran/ijfran.5.jpg  \n",
            "  inflating: faces95/ijfran/ijfran.6.jpg  \n",
            "  inflating: faces95/ijfran/ijfran.7.jpg  \n",
            "  inflating: faces95/ijfran/ijfran.8.jpg  \n",
            "  inflating: faces95/ijfran/ijfran.9.jpg  \n",
            "   creating: faces95/isbald/\n",
            "  inflating: faces95/isbald/isbald.1.jpg  \n",
            "  inflating: faces95/isbald/isbald.10.jpg  \n",
            "  inflating: faces95/isbald/isbald.11.jpg  \n",
            "  inflating: faces95/isbald/isbald.12.jpg  \n",
            "  inflating: faces95/isbald/isbald.13.jpg  \n",
            "  inflating: faces95/isbald/isbald.14.jpg  \n",
            "  inflating: faces95/isbald/isbald.15.jpg  \n",
            "  inflating: faces95/isbald/isbald.16.jpg  \n",
            "  inflating: faces95/isbald/isbald.17.jpg  \n",
            "  inflating: faces95/isbald/isbald.18.jpg  \n",
            "  inflating: faces95/isbald/isbald.19.jpg  \n",
            "  inflating: faces95/isbald/isbald.2.jpg  \n",
            "  inflating: faces95/isbald/isbald.20.jpg  \n",
            "  inflating: faces95/isbald/isbald.3.jpg  \n",
            "  inflating: faces95/isbald/isbald.4.jpg  \n",
            "  inflating: faces95/isbald/isbald.5.jpg  \n",
            "  inflating: faces95/isbald/isbald.6.jpg  \n",
            "  inflating: faces95/isbald/isbald.7.jpg  \n",
            "  inflating: faces95/isbald/isbald.8.jpg  \n",
            "  inflating: faces95/isbald/isbald.9.jpg  \n",
            "   creating: faces95/jbierl/\n",
            "  inflating: faces95/jbierl/jbierl.1.jpg  \n",
            "  inflating: faces95/jbierl/jbierl.10.jpg  \n",
            "  inflating: faces95/jbierl/jbierl.11.jpg  \n",
            "  inflating: faces95/jbierl/jbierl.12.jpg  \n",
            "  inflating: faces95/jbierl/jbierl.13.jpg  \n",
            "  inflating: faces95/jbierl/jbierl.14.jpg  \n",
            "  inflating: faces95/jbierl/jbierl.15.jpg  \n",
            "  inflating: faces95/jbierl/jbierl.16.jpg  \n",
            "  inflating: faces95/jbierl/jbierl.17.jpg  \n",
            "  inflating: faces95/jbierl/jbierl.18.jpg  \n",
            "  inflating: faces95/jbierl/jbierl.19.jpg  \n",
            "  inflating: faces95/jbierl/jbierl.2.jpg  \n",
            "  inflating: faces95/jbierl/jbierl.20.jpg  \n",
            "  inflating: faces95/jbierl/jbierl.3.jpg  \n",
            "  inflating: faces95/jbierl/jbierl.4.jpg  \n",
            "  inflating: faces95/jbierl/jbierl.5.jpg  \n",
            "  inflating: faces95/jbierl/jbierl.6.jpg  \n",
            "  inflating: faces95/jbierl/jbierl.7.jpg  \n",
            "  inflating: faces95/jbierl/jbierl.8.jpg  \n",
            "  inflating: faces95/jbierl/jbierl.9.jpg  \n",
            "   creating: faces95/jross/\n",
            "  inflating: faces95/jross/jross.10.jpg  \n",
            "  inflating: faces95/jross/jross.1.jpg  \n",
            "  inflating: faces95/jross/jross.11.jpg  \n",
            "  inflating: faces95/jross/jross.12.jpg  \n",
            "  inflating: faces95/jross/jross.13.jpg  \n",
            "  inflating: faces95/jross/jross.14.jpg  \n",
            "  inflating: faces95/jross/jross.15.jpg  \n",
            "  inflating: faces95/jross/jross.16.jpg  \n",
            "  inflating: faces95/jross/jross.17.jpg  \n",
            "  inflating: faces95/jross/jross.18.jpg  \n",
            "  inflating: faces95/jross/jross.19.jpg  \n",
            "  inflating: faces95/jross/jross.2.jpg  \n",
            "  inflating: faces95/jross/jross.20.jpg  \n",
            "  inflating: faces95/jross/jross.3.jpg  \n",
            "  inflating: faces95/jross/jross.4.jpg  \n",
            "  inflating: faces95/jross/jross.5.jpg  \n",
            "  inflating: faces95/jross/jross.6.jpg  \n",
            "  inflating: faces95/jross/jross.7.jpg  \n",
            "  inflating: faces95/jross/jross.8.jpg  \n",
            "  inflating: faces95/jross/jross.9.jpg  \n",
            "   creating: faces95/jserai/\n",
            "  inflating: faces95/jserai/jserai.1.jpg  \n",
            "  inflating: faces95/jserai/jserai.10.jpg  \n",
            "  inflating: faces95/jserai/jserai.11.jpg  \n",
            "  inflating: faces95/jserai/jserai.12.jpg  \n",
            "  inflating: faces95/jserai/jserai.13.jpg  \n",
            "  inflating: faces95/jserai/jserai.14.jpg  \n",
            "  inflating: faces95/jserai/jserai.15.jpg  \n",
            "  inflating: faces95/jserai/jserai.16.jpg  \n",
            "  inflating: faces95/jserai/jserai.17.jpg  \n",
            "  inflating: faces95/jserai/jserai.18.jpg  \n",
            "  inflating: faces95/jserai/jserai.19.jpg  \n",
            "  inflating: faces95/jserai/jserai.2.jpg  \n",
            "  inflating: faces95/jserai/jserai.20.jpg  \n",
            "  inflating: faces95/jserai/jserai.3.jpg  \n",
            "  inflating: faces95/jserai/jserai.4.jpg  \n",
            "  inflating: faces95/jserai/jserai.5.jpg  \n",
            "  inflating: faces95/jserai/jserai.6.jpg  \n",
            "  inflating: faces95/jserai/jserai.7.jpg  \n",
            "  inflating: faces95/jserai/jserai.8.jpg  \n",
            "  inflating: faces95/jserai/jserai.9.jpg  \n",
            "   creating: faces95/jshea/\n",
            "  inflating: faces95/jshea/jshea.10.jpg  \n",
            "  inflating: faces95/jshea/jshea.1.jpg  \n",
            "  inflating: faces95/jshea/jshea.11.jpg  \n",
            "  inflating: faces95/jshea/jshea.12.jpg  \n",
            "  inflating: faces95/jshea/jshea.13.jpg  \n",
            "  inflating: faces95/jshea/jshea.14.jpg  \n",
            "  inflating: faces95/jshea/jshea.15.jpg  \n",
            "  inflating: faces95/jshea/jshea.16.jpg  \n",
            "  inflating: faces95/jshea/jshea.17.jpg  \n",
            "  inflating: faces95/jshea/jshea.18.jpg  \n",
            "  inflating: faces95/jshea/jshea.19.jpg  \n",
            "  inflating: faces95/jshea/jshea.2.jpg  \n",
            "  inflating: faces95/jshea/jshea.20.jpg  \n",
            "  inflating: faces95/jshea/jshea.3.jpg  \n",
            "  inflating: faces95/jshea/jshea.4.jpg  \n",
            "  inflating: faces95/jshea/jshea.5.jpg  \n",
            "  inflating: faces95/jshea/jshea.6.jpg  \n",
            "  inflating: faces95/jshea/jshea.7.jpg  \n",
            "  inflating: faces95/jshea/jshea.8.jpg  \n",
            "  inflating: faces95/jshea/jshea.9.jpg  \n",
            "   creating: faces95/kbartl/\n",
            "  inflating: faces95/kbartl/kbartl.1.jpg  \n",
            "  inflating: faces95/kbartl/kbartl.10.jpg  \n",
            "  inflating: faces95/kbartl/kbartl.11.jpg  \n",
            "  inflating: faces95/kbartl/kbartl.12.jpg  \n",
            "  inflating: faces95/kbartl/kbartl.13.jpg  \n",
            "  inflating: faces95/kbartl/kbartl.14.jpg  \n",
            "  inflating: faces95/kbartl/kbartl.15.jpg  \n",
            "  inflating: faces95/kbartl/kbartl.16.jpg  \n",
            "  inflating: faces95/kbartl/kbartl.17.jpg  \n",
            "  inflating: faces95/kbartl/kbartl.18.jpg  \n",
            "  inflating: faces95/kbartl/kbartl.19.jpg  \n",
            "  inflating: faces95/kbartl/kbartl.2.jpg  \n",
            "  inflating: faces95/kbartl/kbartl.20.jpg  \n",
            "  inflating: faces95/kbartl/kbartl.3.jpg  \n",
            "  inflating: faces95/kbartl/kbartl.4.jpg  \n",
            "  inflating: faces95/kbartl/kbartl.5.jpg  \n",
            "  inflating: faces95/kbartl/kbartl.6.jpg  \n",
            "  inflating: faces95/kbartl/kbartl.7.jpg  \n",
            "  inflating: faces95/kbartl/kbartl.8.jpg  \n",
            "  inflating: faces95/kbartl/kbartl.9.jpg  \n",
            "   creating: faces95/kmbald/\n",
            "  inflating: faces95/kmbald/kmbald.1.jpg  \n",
            "  inflating: faces95/kmbald/kmbald.10.jpg  \n",
            "  inflating: faces95/kmbald/kmbald.11.jpg  \n",
            "  inflating: faces95/kmbald/kmbald.12.jpg  \n",
            "  inflating: faces95/kmbald/kmbald.13.jpg  \n",
            "  inflating: faces95/kmbald/kmbald.14.jpg  \n",
            "  inflating: faces95/kmbald/kmbald.15.jpg  \n",
            "  inflating: faces95/kmbald/kmbald.16.jpg  \n",
            "  inflating: faces95/kmbald/kmbald.17.jpg  \n",
            "  inflating: faces95/kmbald/kmbald.18.jpg  \n",
            "  inflating: faces95/kmbald/kmbald.19.jpg  \n",
            "  inflating: faces95/kmbald/kmbald.2.jpg  \n",
            "  inflating: faces95/kmbald/kmbald.20.jpg  \n",
            "  inflating: faces95/kmbald/kmbald.3.jpg  \n",
            "  inflating: faces95/kmbald/kmbald.4.jpg  \n",
            "  inflating: faces95/kmbald/kmbald.5.jpg  \n",
            "  inflating: faces95/kmbald/kmbald.6.jpg  \n",
            "  inflating: faces95/kmbald/kmbald.7.jpg  \n",
            "  inflating: faces95/kmbald/kmbald.8.jpg  \n",
            "  inflating: faces95/kmbald/kmbald.9.jpg  \n",
            "   creating: faces95/kouri/\n",
            "  inflating: faces95/kouri/kouri.10.jpg  \n",
            "  inflating: faces95/kouri/kouri.1.jpg  \n",
            "  inflating: faces95/kouri/kouri.11.jpg  \n",
            "  inflating: faces95/kouri/kouri.12.jpg  \n",
            "  inflating: faces95/kouri/kouri.13.jpg  \n",
            "  inflating: faces95/kouri/kouri.14.jpg  \n",
            "  inflating: faces95/kouri/kouri.15.jpg  \n",
            "  inflating: faces95/kouri/kouri.16.jpg  \n",
            "  inflating: faces95/kouri/kouri.17.jpg  \n",
            "  inflating: faces95/kouri/kouri.18.jpg  \n",
            "  inflating: faces95/kouri/kouri.19.jpg  \n",
            "  inflating: faces95/kouri/kouri.2.jpg  \n",
            "  inflating: faces95/kouri/kouri.20.jpg  \n",
            "  inflating: faces95/kouri/kouri.3.jpg  \n",
            "  inflating: faces95/kouri/kouri.4.jpg  \n",
            "  inflating: faces95/kouri/kouri.5.jpg  \n",
            "  inflating: faces95/kouri/kouri.6.jpg  \n",
            "  inflating: faces95/kouri/kouri.7.jpg  \n",
            "  inflating: faces95/kouri/kouri.8.jpg  \n",
            "  inflating: faces95/kouri/kouri.9.jpg  \n",
            "   creating: faces95/labenm/\n",
            "  inflating: faces95/labenm/labenm.1.jpg  \n",
            "  inflating: faces95/labenm/labenm.10.jpg  \n",
            "  inflating: faces95/labenm/labenm.11.jpg  \n",
            "  inflating: faces95/labenm/labenm.12.jpg  \n",
            "  inflating: faces95/labenm/labenm.13.jpg  \n",
            "  inflating: faces95/labenm/labenm.14.jpg  \n",
            "  inflating: faces95/labenm/labenm.15.jpg  \n",
            "  inflating: faces95/labenm/labenm.16.jpg  \n",
            "  inflating: faces95/labenm/labenm.17.jpg  \n",
            "  inflating: faces95/labenm/labenm.18.jpg  \n",
            "  inflating: faces95/labenm/labenm.19.jpg  \n",
            "  inflating: faces95/labenm/labenm.2.jpg  \n",
            "  inflating: faces95/labenm/labenm.20.jpg  \n",
            "  inflating: faces95/labenm/labenm.3.jpg  \n",
            "  inflating: faces95/labenm/labenm.4.jpg  \n",
            "  inflating: faces95/labenm/labenm.5.jpg  \n",
            "  inflating: faces95/labenm/labenm.6.jpg  \n",
            "  inflating: faces95/labenm/labenm.7.jpg  \n",
            "  inflating: faces95/labenm/labenm.8.jpg  \n",
            "  inflating: faces95/labenm/labenm.9.jpg  \n",
            "   creating: faces95/ldgodd/\n",
            "  inflating: faces95/ldgodd/ldgodd.1.jpg  \n",
            "  inflating: faces95/ldgodd/ldgodd.10.jpg  \n",
            "  inflating: faces95/ldgodd/ldgodd.11.jpg  \n",
            "  inflating: faces95/ldgodd/ldgodd.12.jpg  \n",
            "  inflating: faces95/ldgodd/ldgodd.13.jpg  \n",
            "  inflating: faces95/ldgodd/ldgodd.14.jpg  \n",
            "  inflating: faces95/ldgodd/ldgodd.15.jpg  \n",
            "  inflating: faces95/ldgodd/ldgodd.16.jpg  \n",
            "  inflating: faces95/ldgodd/ldgodd.17.jpg  \n",
            "  inflating: faces95/ldgodd/ldgodd.18.jpg  \n",
            "  inflating: faces95/ldgodd/ldgodd.19.jpg  \n",
            "  inflating: faces95/ldgodd/ldgodd.2.jpg  \n",
            "  inflating: faces95/ldgodd/ldgodd.20.jpg  \n",
            "  inflating: faces95/ldgodd/ldgodd.3.jpg  \n",
            "  inflating: faces95/ldgodd/ldgodd.4.jpg  \n",
            "  inflating: faces95/ldgodd/ldgodd.5.jpg  \n",
            "  inflating: faces95/ldgodd/ldgodd.6.jpg  \n",
            "  inflating: faces95/ldgodd/ldgodd.7.jpg  \n",
            "  inflating: faces95/ldgodd/ldgodd.8.jpg  \n",
            "  inflating: faces95/ldgodd/ldgodd.9.jpg  \n",
            "   creating: faces95/lidov/\n",
            "  inflating: faces95/lidov/lidov.10.jpg  \n",
            "  inflating: faces95/lidov/lidov.1.jpg  \n",
            "  inflating: faces95/lidov/lidov.11.jpg  \n",
            "  inflating: faces95/lidov/lidov.12.jpg  \n",
            "  inflating: faces95/lidov/lidov.13.jpg  \n",
            "  inflating: faces95/lidov/lidov.14.jpg  \n",
            "  inflating: faces95/lidov/lidov.15.jpg  \n",
            "  inflating: faces95/lidov/lidov.16.jpg  \n",
            "  inflating: faces95/lidov/lidov.17.jpg  \n",
            "  inflating: faces95/lidov/lidov.18.jpg  \n",
            "  inflating: faces95/lidov/lidov.19.jpg  \n",
            "  inflating: faces95/lidov/lidov.2.jpg  \n",
            "  inflating: faces95/lidov/lidov.20.jpg  \n",
            "  inflating: faces95/lidov/lidov.3.jpg  \n",
            "  inflating: faces95/lidov/lidov.4.jpg  \n",
            "  inflating: faces95/lidov/lidov.5.jpg  \n",
            "  inflating: faces95/lidov/lidov.6.jpg  \n",
            "  inflating: faces95/lidov/lidov.7.jpg  \n",
            "  inflating: faces95/lidov/lidov.8.jpg  \n",
            "  inflating: faces95/lidov/lidov.9.jpg  \n",
            "   creating: faces95/llambr/\n",
            "  inflating: faces95/llambr/llambr.1.jpg  \n",
            "  inflating: faces95/llambr/llambr.10.jpg  \n",
            "  inflating: faces95/llambr/llambr.11.jpg  \n",
            "  inflating: faces95/llambr/llambr.12.jpg  \n",
            "  inflating: faces95/llambr/llambr.13.jpg  \n",
            "  inflating: faces95/llambr/llambr.14.jpg  \n",
            "  inflating: faces95/llambr/llambr.15.jpg  \n",
            "  inflating: faces95/llambr/llambr.16.jpg  \n",
            "  inflating: faces95/llambr/llambr.17.jpg  \n",
            "  inflating: faces95/llambr/llambr.18.jpg  \n",
            "  inflating: faces95/llambr/llambr.19.jpg  \n",
            "  inflating: faces95/llambr/llambr.2.jpg  \n",
            "  inflating: faces95/llambr/llambr.20.jpg  \n",
            "  inflating: faces95/llambr/llambr.3.jpg  \n",
            "  inflating: faces95/llambr/llambr.4.jpg  \n",
            "  inflating: faces95/llambr/llambr.5.jpg  \n",
            "  inflating: faces95/llambr/llambr.6.jpg  \n",
            "  inflating: faces95/llambr/llambr.7.jpg  \n",
            "  inflating: faces95/llambr/llambr.8.jpg  \n",
            "  inflating: faces95/llambr/llambr.9.jpg  \n",
            "   creating: faces95/matth/\n",
            "  inflating: faces95/matth/matth.10.jpg  \n",
            "  inflating: faces95/matth/matth.1.jpg  \n",
            "  inflating: faces95/matth/matth.11.jpg  \n",
            "  inflating: faces95/matth/matth.12.jpg  \n",
            "  inflating: faces95/matth/matth.13.jpg  \n",
            "  inflating: faces95/matth/matth.14.jpg  \n",
            "  inflating: faces95/matth/matth.15.jpg  \n",
            "  inflating: faces95/matth/matth.16.jpg  \n",
            "  inflating: faces95/matth/matth.17.jpg  \n",
            "  inflating: faces95/matth/matth.18.jpg  \n",
            "  inflating: faces95/matth/matth.19.jpg  \n",
            "  inflating: faces95/matth/matth.2.jpg  \n",
            "  inflating: faces95/matth/matth.20.jpg  \n",
            "  inflating: faces95/matth/matth.3.jpg  \n",
            "  inflating: faces95/matth/matth.4.jpg  \n",
            "  inflating: faces95/matth/matth.5.jpg  \n",
            "  inflating: faces95/matth/matth.6.jpg  \n",
            "  inflating: faces95/matth/matth.7.jpg  \n",
            "  inflating: faces95/matth/matth.8.jpg  \n",
            "  inflating: faces95/matth/matth.9.jpg  \n",
            "   creating: faces95/mdchud/\n",
            "  inflating: faces95/mdchud/mdchud.1.jpg  \n",
            "  inflating: faces95/mdchud/mdchud.10.jpg  \n",
            "  inflating: faces95/mdchud/mdchud.11.jpg  \n",
            "  inflating: faces95/mdchud/mdchud.12.jpg  \n",
            "  inflating: faces95/mdchud/mdchud.13.jpg  \n",
            "  inflating: faces95/mdchud/mdchud.14.jpg  \n",
            "  inflating: faces95/mdchud/mdchud.15.jpg  \n",
            "  inflating: faces95/mdchud/mdchud.16.jpg  \n",
            "  inflating: faces95/mdchud/mdchud.17.jpg  \n",
            "  inflating: faces95/mdchud/mdchud.18.jpg  \n",
            "  inflating: faces95/mdchud/mdchud.19.jpg  \n",
            "  inflating: faces95/mdchud/mdchud.2.jpg  \n",
            "  inflating: faces95/mdchud/mdchud.20.jpg  \n",
            "  inflating: faces95/mdchud/mdchud.3.jpg  \n",
            "  inflating: faces95/mdchud/mdchud.4.jpg  \n",
            "  inflating: faces95/mdchud/mdchud.5.jpg  \n",
            "  inflating: faces95/mdchud/mdchud.6.jpg  \n",
            "  inflating: faces95/mdchud/mdchud.7.jpg  \n",
            "  inflating: faces95/mdchud/mdchud.8.jpg  \n",
            "  inflating: faces95/mdchud/mdchud.9.jpg  \n",
            "   creating: faces95/mizli/\n",
            "  inflating: faces95/mizli/mizli.10.jpg  \n",
            "  inflating: faces95/mizli/mizli.1.jpg  \n",
            "  inflating: faces95/mizli/mizli.11.jpg  \n",
            "  inflating: faces95/mizli/mizli.12.jpg  \n",
            "  inflating: faces95/mizli/mizli.13.jpg  \n",
            "  inflating: faces95/mizli/mizli.14.jpg  \n",
            "  inflating: faces95/mizli/mizli.15.jpg  \n",
            "  inflating: faces95/mizli/mizli.16.jpg  \n",
            "  inflating: faces95/mizli/mizli.17.jpg  \n",
            "  inflating: faces95/mizli/mizli.18.jpg  \n",
            "  inflating: faces95/mizli/mizli.19.jpg  \n",
            "  inflating: faces95/mizli/mizli.2.jpg  \n",
            "  inflating: faces95/mizli/mizli.20.jpg  \n",
            "  inflating: faces95/mizli/mizli.3.jpg  \n",
            "  inflating: faces95/mizli/mizli.4.jpg  \n",
            "  inflating: faces95/mizli/mizli.5.jpg  \n",
            "  inflating: faces95/mizli/mizli.6.jpg  \n",
            "  inflating: faces95/mizli/mizli.7.jpg  \n",
            "  inflating: faces95/mizli/mizli.8.jpg  \n",
            "  inflating: faces95/mizli/mizli.9.jpg  \n",
            "   creating: faces95/mkosto/\n",
            "  inflating: faces95/mkosto/mkosto.1.jpg  \n",
            "  inflating: faces95/mkosto/mkosto.10.jpg  \n",
            "  inflating: faces95/mkosto/mkosto.11.jpg  \n",
            "  inflating: faces95/mkosto/mkosto.12.jpg  \n",
            "  inflating: faces95/mkosto/mkosto.13.jpg  \n",
            "  inflating: faces95/mkosto/mkosto.14.jpg  \n",
            "  inflating: faces95/mkosto/mkosto.15.jpg  \n",
            "  inflating: faces95/mkosto/mkosto.16.jpg  \n",
            "  inflating: faces95/mkosto/mkosto.17.jpg  \n",
            "  inflating: faces95/mkosto/mkosto.18.jpg  \n",
            "  inflating: faces95/mkosto/mkosto.19.jpg  \n",
            "  inflating: faces95/mkosto/mkosto.2.jpg  \n",
            "  inflating: faces95/mkosto/mkosto.20.jpg  \n",
            "  inflating: faces95/mkosto/mkosto.3.jpg  \n",
            "  inflating: faces95/mkosto/mkosto.4.jpg  \n",
            "  inflating: faces95/mkosto/mkosto.5.jpg  \n",
            "  inflating: faces95/mkosto/mkosto.6.jpg  \n",
            "  inflating: faces95/mkosto/mkosto.7.jpg  \n",
            "  inflating: faces95/mkosto/mkosto.8.jpg  \n",
            "  inflating: faces95/mkosto/mkosto.9.jpg  \n",
            "   creating: faces95/mrhami/\n",
            "  inflating: faces95/mrhami/mrhami.1.jpg  \n",
            "  inflating: faces95/mrhami/mrhami.10.jpg  \n",
            "  inflating: faces95/mrhami/mrhami.11.jpg  \n",
            "  inflating: faces95/mrhami/mrhami.12.jpg  \n",
            "  inflating: faces95/mrhami/mrhami.13.jpg  \n",
            "  inflating: faces95/mrhami/mrhami.14.jpg  \n",
            "  inflating: faces95/mrhami/mrhami.15.jpg  \n",
            "  inflating: faces95/mrhami/mrhami.16.jpg  \n",
            "  inflating: faces95/mrhami/mrhami.17.jpg  \n",
            "  inflating: faces95/mrhami/mrhami.18.jpg  \n",
            "  inflating: faces95/mrhami/mrhami.19.jpg  \n",
            "  inflating: faces95/mrhami/mrhami.2.jpg  \n",
            "  inflating: faces95/mrhami/mrhami.20.jpg  \n",
            "  inflating: faces95/mrhami/mrhami.3.jpg  \n",
            "  inflating: faces95/mrhami/mrhami.4.jpg  \n",
            "  inflating: faces95/mrhami/mrhami.5.jpg  \n",
            "  inflating: faces95/mrhami/mrhami.6.jpg  \n",
            "  inflating: faces95/mrhami/mrhami.7.jpg  \n",
            "  inflating: faces95/mrhami/mrhami.8.jpg  \n",
            "  inflating: faces95/mrhami/mrhami.9.jpg  \n",
            "   creating: faces95/namart/\n",
            "  inflating: faces95/namart/namart.1.jpg  \n",
            "  inflating: faces95/namart/namart.10.jpg  \n",
            "  inflating: faces95/namart/namart.11.jpg  \n",
            "  inflating: faces95/namart/namart.12.jpg  \n",
            "  inflating: faces95/namart/namart.13.jpg  \n",
            "  inflating: faces95/namart/namart.14.jpg  \n",
            "  inflating: faces95/namart/namart.15.jpg  \n",
            "  inflating: faces95/namart/namart.16.jpg  \n",
            "  inflating: faces95/namart/namart.17.jpg  \n",
            "  inflating: faces95/namart/namart.18.jpg  \n",
            "  inflating: faces95/namart/namart.19.jpg  \n",
            "  inflating: faces95/namart/namart.2.jpg  \n",
            "  inflating: faces95/namart/namart.20.jpg  \n",
            "  inflating: faces95/namart/namart.3.jpg  \n",
            "  inflating: faces95/namart/namart.4.jpg  \n",
            "  inflating: faces95/namart/namart.5.jpg  \n",
            "  inflating: faces95/namart/namart.6.jpg  \n",
            "  inflating: faces95/namart/namart.7.jpg  \n",
            "  inflating: faces95/namart/namart.8.jpg  \n",
            "  inflating: faces95/namart/namart.9.jpg  \n",
            "   creating: faces95/ogefen/\n",
            "  inflating: faces95/ogefen/ogefen.1.jpg  \n",
            "  inflating: faces95/ogefen/ogefen.10.jpg  \n",
            "  inflating: faces95/ogefen/ogefen.11.jpg  \n",
            "  inflating: faces95/ogefen/ogefen.12.jpg  \n",
            "  inflating: faces95/ogefen/ogefen.13.jpg  \n",
            "  inflating: faces95/ogefen/ogefen.14.jpg  \n",
            "  inflating: faces95/ogefen/ogefen.15.jpg  \n",
            "  inflating: faces95/ogefen/ogefen.16.jpg  \n",
            "  inflating: faces95/ogefen/ogefen.17.jpg  \n",
            "  inflating: faces95/ogefen/ogefen.18.jpg  \n",
            "  inflating: faces95/ogefen/ogefen.19.jpg  \n",
            "  inflating: faces95/ogefen/ogefen.2.jpg  \n",
            "  inflating: faces95/ogefen/ogefen.20.jpg  \n",
            "  inflating: faces95/ogefen/ogefen.3.jpg  \n",
            "  inflating: faces95/ogefen/ogefen.4.jpg  \n",
            "  inflating: faces95/ogefen/ogefen.5.jpg  \n",
            "  inflating: faces95/ogefen/ogefen.6.jpg  \n",
            "  inflating: faces95/ogefen/ogefen.7.jpg  \n",
            "  inflating: faces95/ogefen/ogefen.8.jpg  \n",
            "  inflating: faces95/ogefen/ogefen.9.jpg  \n",
            "   creating: faces95/padnor/\n",
            "  inflating: faces95/padnor/padnor.1.jpg  \n",
            "  inflating: faces95/padnor/padnor.10.jpg  \n",
            "  inflating: faces95/padnor/padnor.11.jpg  \n",
            "  inflating: faces95/padnor/padnor.12.jpg  \n",
            "  inflating: faces95/padnor/padnor.13.jpg  \n",
            "  inflating: faces95/padnor/padnor.14.jpg  \n",
            "  inflating: faces95/padnor/padnor.15.jpg  \n",
            "  inflating: faces95/padnor/padnor.16.jpg  \n",
            "  inflating: faces95/padnor/padnor.17.jpg  \n",
            "  inflating: faces95/padnor/padnor.18.jpg  \n",
            "  inflating: faces95/padnor/padnor.19.jpg  \n",
            "  inflating: faces95/padnor/padnor.2.jpg  \n",
            "  inflating: faces95/padnor/padnor.20.jpg  \n",
            "  inflating: faces95/padnor/padnor.3.jpg  \n",
            "  inflating: faces95/padnor/padnor.4.jpg  \n",
            "  inflating: faces95/padnor/padnor.5.jpg  \n",
            "  inflating: faces95/padnor/padnor.6.jpg  \n",
            "  inflating: faces95/padnor/padnor.7.jpg  \n",
            "  inflating: faces95/padnor/padnor.8.jpg  \n",
            "  inflating: faces95/padnor/padnor.9.jpg  \n",
            "   creating: faces95/pajaco/\n",
            "  inflating: faces95/pajaco/pajaco.1.jpg  \n",
            "  inflating: faces95/pajaco/pajaco.10.jpg  \n",
            "  inflating: faces95/pajaco/pajaco.11.jpg  \n",
            "  inflating: faces95/pajaco/pajaco.12.jpg  \n",
            "  inflating: faces95/pajaco/pajaco.13.jpg  \n",
            "  inflating: faces95/pajaco/pajaco.14.jpg  \n",
            "  inflating: faces95/pajaco/pajaco.15.jpg  \n",
            "  inflating: faces95/pajaco/pajaco.16.jpg  \n",
            "  inflating: faces95/pajaco/pajaco.17.jpg  \n",
            "  inflating: faces95/pajaco/pajaco.18.jpg  \n",
            "  inflating: faces95/pajaco/pajaco.19.jpg  \n",
            "  inflating: faces95/pajaco/pajaco.2.jpg  \n",
            "  inflating: faces95/pajaco/pajaco.20.jpg  \n",
            "  inflating: faces95/pajaco/pajaco.3.jpg  \n",
            "  inflating: faces95/pajaco/pajaco.4.jpg  \n",
            "  inflating: faces95/pajaco/pajaco.5.jpg  \n",
            "  inflating: faces95/pajaco/pajaco.6.jpg  \n",
            "  inflating: faces95/pajaco/pajaco.7.jpg  \n",
            "  inflating: faces95/pajaco/pajaco.8.jpg  \n",
            "  inflating: faces95/pajaco/pajaco.9.jpg  \n",
            "   creating: faces95/papad/\n",
            "  inflating: faces95/papad/papad.10.jpg  \n",
            "  inflating: faces95/papad/papad.1.jpg  \n",
            "  inflating: faces95/papad/papad.11.jpg  \n",
            "  inflating: faces95/papad/papad.12.jpg  \n",
            "  inflating: faces95/papad/papad.13.jpg  \n",
            "  inflating: faces95/papad/papad.14.jpg  \n",
            "  inflating: faces95/papad/papad.15.jpg  \n",
            "  inflating: faces95/papad/papad.16.jpg  \n",
            "  inflating: faces95/papad/papad.17.jpg  \n",
            "  inflating: faces95/papad/papad.18.jpg  \n",
            "  inflating: faces95/papad/papad.19.jpg  \n",
            "  inflating: faces95/papad/papad.2.jpg  \n",
            "  inflating: faces95/papad/papad.20.jpg  \n",
            "  inflating: faces95/papad/papad.3.jpg  \n",
            "  inflating: faces95/papad/papad.4.jpg  \n",
            "  inflating: faces95/papad/papad.5.jpg  \n",
            "  inflating: faces95/papad/papad.6.jpg  \n",
            "  inflating: faces95/papad/papad.7.jpg  \n",
            "  inflating: faces95/papad/papad.8.jpg  \n",
            "  inflating: faces95/papad/papad.9.jpg  \n",
            "   creating: faces95/pcfry/\n",
            "  inflating: faces95/pcfry/pcfry.10.jpg  \n",
            "  inflating: faces95/pcfry/pcfry.1.jpg  \n",
            "  inflating: faces95/pcfry/pcfry.11.jpg  \n",
            "  inflating: faces95/pcfry/pcfry.12.jpg  \n",
            "  inflating: faces95/pcfry/pcfry.13.jpg  \n",
            "  inflating: faces95/pcfry/pcfry.14.jpg  \n",
            "  inflating: faces95/pcfry/pcfry.15.jpg  \n",
            "  inflating: faces95/pcfry/pcfry.16.jpg  \n",
            "  inflating: faces95/pcfry/pcfry.17.jpg  \n",
            "  inflating: faces95/pcfry/pcfry.18.jpg  \n",
            "  inflating: faces95/pcfry/pcfry.19.jpg  \n",
            "  inflating: faces95/pcfry/pcfry.2.jpg  \n",
            "  inflating: faces95/pcfry/pcfry.20.jpg  \n",
            "  inflating: faces95/pcfry/pcfry.3.jpg  \n",
            "  inflating: faces95/pcfry/pcfry.4.jpg  \n",
            "  inflating: faces95/pcfry/pcfry.5.jpg  \n",
            "  inflating: faces95/pcfry/pcfry.6.jpg  \n",
            "  inflating: faces95/pcfry/pcfry.7.jpg  \n",
            "  inflating: faces95/pcfry/pcfry.8.jpg  \n",
            "  inflating: faces95/pcfry/pcfry.9.jpg  \n",
            "   creating: faces95/pears/\n",
            "  inflating: faces95/pears/pears.10.jpg  \n",
            "  inflating: faces95/pears/pears.1.jpg  \n",
            "  inflating: faces95/pears/pears.11.jpg  \n",
            "  inflating: faces95/pears/pears.12.jpg  \n",
            "  inflating: faces95/pears/pears.13.jpg  \n",
            "  inflating: faces95/pears/pears.14.jpg  \n",
            "  inflating: faces95/pears/pears.15.jpg  \n",
            "  inflating: faces95/pears/pears.16.jpg  \n",
            "  inflating: faces95/pears/pears.17.jpg  \n",
            "  inflating: faces95/pears/pears.18.jpg  \n",
            "  inflating: faces95/pears/pears.19.jpg  \n",
            "  inflating: faces95/pears/pears.2.jpg  \n",
            "  inflating: faces95/pears/pears.20.jpg  \n",
            "  inflating: faces95/pears/pears.3.jpg  \n",
            "  inflating: faces95/pears/pears.4.jpg  \n",
            "  inflating: faces95/pears/pears.5.jpg  \n",
            "  inflating: faces95/pears/pears.6.jpg  \n",
            "  inflating: faces95/pears/pears.7.jpg  \n",
            "  inflating: faces95/pears/pears.8.jpg  \n",
            "  inflating: faces95/pears/pears.9.jpg  \n",
            "   creating: faces95/pjrand/\n",
            "  inflating: faces95/pjrand/pjrand.1.jpg  \n",
            "  inflating: faces95/pjrand/pjrand.10.jpg  \n",
            "  inflating: faces95/pjrand/pjrand.11.jpg  \n",
            "  inflating: faces95/pjrand/pjrand.12.jpg  \n",
            "  inflating: faces95/pjrand/pjrand.13.jpg  \n",
            "  inflating: faces95/pjrand/pjrand.14.jpg  \n",
            "  inflating: faces95/pjrand/pjrand.15.jpg  \n",
            "  inflating: faces95/pjrand/pjrand.16.jpg  \n",
            "  inflating: faces95/pjrand/pjrand.17.jpg  \n",
            "  inflating: faces95/pjrand/pjrand.18.jpg  \n",
            "  inflating: faces95/pjrand/pjrand.19.jpg  \n",
            "  inflating: faces95/pjrand/pjrand.2.jpg  \n",
            "  inflating: faces95/pjrand/pjrand.20.jpg  \n",
            "  inflating: faces95/pjrand/pjrand.3.jpg  \n",
            "  inflating: faces95/pjrand/pjrand.4.jpg  \n",
            "  inflating: faces95/pjrand/pjrand.5.jpg  \n",
            "  inflating: faces95/pjrand/pjrand.6.jpg  \n",
            "  inflating: faces95/pjrand/pjrand.7.jpg  \n",
            "  inflating: faces95/pjrand/pjrand.8.jpg  \n",
            "  inflating: faces95/pjrand/pjrand.9.jpg  \n",
            "   creating: faces95/rafox/\n",
            "  inflating: faces95/rafox/rafox.10.jpg  \n",
            "  inflating: faces95/rafox/rafox.1.jpg  \n",
            "  inflating: faces95/rafox/rafox.11.jpg  \n",
            "  inflating: faces95/rafox/rafox.12.jpg  \n",
            "  inflating: faces95/rafox/rafox.13.jpg  \n",
            "  inflating: faces95/rafox/rafox.14.jpg  \n",
            "  inflating: faces95/rafox/rafox.15.jpg  \n",
            "  inflating: faces95/rafox/rafox.16.jpg  \n",
            "  inflating: faces95/rafox/rafox.17.jpg  \n",
            "  inflating: faces95/rafox/rafox.18.jpg  \n",
            "  inflating: faces95/rafox/rafox.19.jpg  \n",
            "  inflating: faces95/rafox/rafox.2.jpg  \n",
            "  inflating: faces95/rafox/rafox.20.jpg  \n",
            "  inflating: faces95/rafox/rafox.3.jpg  \n",
            "  inflating: faces95/rafox/rafox.4.jpg  \n",
            "  inflating: faces95/rafox/rafox.5.jpg  \n",
            "  inflating: faces95/rafox/rafox.6.jpg  \n",
            "  inflating: faces95/rafox/rafox.7.jpg  \n",
            "  inflating: faces95/rafox/rafox.8.jpg  \n",
            "  inflating: faces95/rafox/rafox.9.jpg  \n",
            "   creating: faces95/rhaitk/\n",
            "  inflating: faces95/rhaitk/rhaitk.1.jpg  \n",
            "  inflating: faces95/rhaitk/rhaitk.10.jpg  \n",
            "  inflating: faces95/rhaitk/rhaitk.11.jpg  \n",
            "  inflating: faces95/rhaitk/rhaitk.12.jpg  \n",
            "  inflating: faces95/rhaitk/rhaitk.13.jpg  \n",
            "  inflating: faces95/rhaitk/rhaitk.14.jpg  \n",
            "  inflating: faces95/rhaitk/rhaitk.15.jpg  \n",
            "  inflating: faces95/rhaitk/rhaitk.16.jpg  \n",
            "  inflating: faces95/rhaitk/rhaitk.17.jpg  \n",
            "  inflating: faces95/rhaitk/rhaitk.18.jpg  \n",
            "  inflating: faces95/rhaitk/rhaitk.19.jpg  \n",
            "  inflating: faces95/rhaitk/rhaitk.2.jpg  \n",
            "  inflating: faces95/rhaitk/rhaitk.20.jpg  \n",
            "  inflating: faces95/rhaitk/rhaitk.3.jpg  \n",
            "  inflating: faces95/rhaitk/rhaitk.4.jpg  \n",
            "  inflating: faces95/rhaitk/rhaitk.5.jpg  \n",
            "  inflating: faces95/rhaitk/rhaitk.6.jpg  \n",
            "  inflating: faces95/rhaitk/rhaitk.7.jpg  \n",
            "  inflating: faces95/rhaitk/rhaitk.8.jpg  \n",
            "  inflating: faces95/rhaitk/rhaitk.9.jpg  \n",
            "   creating: faces95/rhnorm/\n",
            "  inflating: faces95/rhnorm/rhnorm.1.jpg  \n",
            "  inflating: faces95/rhnorm/rhnorm.10.jpg  \n",
            "  inflating: faces95/rhnorm/rhnorm.11.jpg  \n",
            "  inflating: faces95/rhnorm/rhnorm.12.jpg  \n",
            "  inflating: faces95/rhnorm/rhnorm.13.jpg  \n",
            "  inflating: faces95/rhnorm/rhnorm.14.jpg  \n",
            "  inflating: faces95/rhnorm/rhnorm.15.jpg  \n",
            "  inflating: faces95/rhnorm/rhnorm.16.jpg  \n",
            "  inflating: faces95/rhnorm/rhnorm.17.jpg  \n",
            "  inflating: faces95/rhnorm/rhnorm.18.jpg  \n",
            "  inflating: faces95/rhnorm/rhnorm.19.jpg  \n",
            "  inflating: faces95/rhnorm/rhnorm.2.jpg  \n",
            "  inflating: faces95/rhnorm/rhnorm.20.jpg  \n",
            "  inflating: faces95/rhnorm/rhnorm.3.jpg  \n",
            "  inflating: faces95/rhnorm/rhnorm.4.jpg  \n",
            "  inflating: faces95/rhnorm/rhnorm.5.jpg  \n",
            "  inflating: faces95/rhnorm/rhnorm.6.jpg  \n",
            "  inflating: faces95/rhnorm/rhnorm.7.jpg  \n",
            "  inflating: faces95/rhnorm/rhnorm.8.jpg  \n",
            "  inflating: faces95/rhnorm/rhnorm.9.jpg  \n",
            "   creating: faces95/riphil/\n",
            "  inflating: faces95/riphil/riphil.1.jpg  \n",
            "  inflating: faces95/riphil/riphil.10.jpg  \n",
            "  inflating: faces95/riphil/riphil.11.jpg  \n",
            "  inflating: faces95/riphil/riphil.12.jpg  \n",
            "  inflating: faces95/riphil/riphil.13.jpg  \n",
            "  inflating: faces95/riphil/riphil.14.jpg  \n",
            "  inflating: faces95/riphil/riphil.15.jpg  \n",
            "  inflating: faces95/riphil/riphil.16.jpg  \n",
            "  inflating: faces95/riphil/riphil.17.jpg  \n",
            "  inflating: faces95/riphil/riphil.18.jpg  \n",
            "  inflating: faces95/riphil/riphil.19.jpg  \n",
            "  inflating: faces95/riphil/riphil.2.jpg  \n",
            "  inflating: faces95/riphil/riphil.20.jpg  \n",
            "  inflating: faces95/riphil/riphil.3.jpg  \n",
            "  inflating: faces95/riphil/riphil.4.jpg  \n",
            "  inflating: faces95/riphil/riphil.5.jpg  \n",
            "  inflating: faces95/riphil/riphil.6.jpg  \n",
            "  inflating: faces95/riphil/riphil.7.jpg  \n",
            "  inflating: faces95/riphil/riphil.8.jpg  \n",
            "  inflating: faces95/riphil/riphil.9.jpg  \n",
            "   creating: faces95/rjdunc/\n",
            "  inflating: faces95/rjdunc/rjdunc.1.jpg  \n",
            "  inflating: faces95/rjdunc/rjdunc.10.jpg  \n",
            "  inflating: faces95/rjdunc/rjdunc.11.jpg  \n",
            "  inflating: faces95/rjdunc/rjdunc.12.jpg  \n",
            "  inflating: faces95/rjdunc/rjdunc.13.jpg  \n",
            "  inflating: faces95/rjdunc/rjdunc.14.jpg  \n",
            "  inflating: faces95/rjdunc/rjdunc.15.jpg  \n",
            "  inflating: faces95/rjdunc/rjdunc.16.jpg  \n",
            "  inflating: faces95/rjdunc/rjdunc.17.jpg  \n",
            "  inflating: faces95/rjdunc/rjdunc.18.jpg  \n",
            "  inflating: faces95/rjdunc/rjdunc.19.jpg  \n",
            "  inflating: faces95/rjdunc/rjdunc.2.jpg  \n",
            "  inflating: faces95/rjdunc/rjdunc.20.jpg  \n",
            "  inflating: faces95/rjdunc/rjdunc.3.jpg  \n",
            "  inflating: faces95/rjdunc/rjdunc.4.jpg  \n",
            "  inflating: faces95/rjdunc/rjdunc.5.jpg  \n",
            "  inflating: faces95/rjdunc/rjdunc.6.jpg  \n",
            "  inflating: faces95/rjdunc/rjdunc.7.jpg  \n",
            "  inflating: faces95/rjdunc/rjdunc.8.jpg  \n",
            "  inflating: faces95/rjdunc/rjdunc.9.jpg  \n",
            "   creating: faces95/sapere/\n",
            "  inflating: faces95/sapere/sapere.1.jpg  \n",
            "  inflating: faces95/sapere/sapere.10.jpg  \n",
            "  inflating: faces95/sapere/sapere.11.jpg  \n",
            "  inflating: faces95/sapere/sapere.12.jpg  \n",
            "  inflating: faces95/sapere/sapere.13.jpg  \n",
            "  inflating: faces95/sapere/sapere.14.jpg  \n",
            "  inflating: faces95/sapere/sapere.15.jpg  \n",
            "  inflating: faces95/sapere/sapere.16.jpg  \n",
            "  inflating: faces95/sapere/sapere.17.jpg  \n",
            "  inflating: faces95/sapere/sapere.18.jpg  \n",
            "  inflating: faces95/sapere/sapere.19.jpg  \n",
            "  inflating: faces95/sapere/sapere.2.jpg  \n",
            "  inflating: faces95/sapere/sapere.20.jpg  \n",
            "  inflating: faces95/sapere/sapere.3.jpg  \n",
            "  inflating: faces95/sapere/sapere.4.jpg  \n",
            "  inflating: faces95/sapere/sapere.5.jpg  \n",
            "  inflating: faces95/sapere/sapere.6.jpg  \n",
            "  inflating: faces95/sapere/sapere.7.jpg  \n",
            "  inflating: faces95/sapere/sapere.8.jpg  \n",
            "  inflating: faces95/sapere/sapere.9.jpg  \n",
            "   creating: faces95/sdwall/\n",
            "  inflating: faces95/sdwall/sdwall.1.jpg  \n",
            "  inflating: faces95/sdwall/sdwall.10.jpg  \n",
            "  inflating: faces95/sdwall/sdwall.11.jpg  \n",
            "  inflating: faces95/sdwall/sdwall.12.jpg  \n",
            "  inflating: faces95/sdwall/sdwall.13.jpg  \n",
            "  inflating: faces95/sdwall/sdwall.14.jpg  \n",
            "  inflating: faces95/sdwall/sdwall.15.jpg  \n",
            "  inflating: faces95/sdwall/sdwall.16.jpg  \n",
            "  inflating: faces95/sdwall/sdwall.17.jpg  \n",
            "  inflating: faces95/sdwall/sdwall.18.jpg  \n",
            "  inflating: faces95/sdwall/sdwall.19.jpg  \n",
            "  inflating: faces95/sdwall/sdwall.2.jpg  \n",
            "  inflating: faces95/sdwall/sdwall.20.jpg  \n",
            "  inflating: faces95/sdwall/sdwall.3.jpg  \n",
            "  inflating: faces95/sdwall/sdwall.4.jpg  \n",
            "  inflating: faces95/sdwall/sdwall.5.jpg  \n",
            "  inflating: faces95/sdwall/sdwall.6.jpg  \n",
            "  inflating: faces95/sdwall/sdwall.7.jpg  \n",
            "  inflating: faces95/sdwall/sdwall.8.jpg  \n",
            "  inflating: faces95/sdwall/sdwall.9.jpg  \n",
            "   creating: faces95/sgjday/\n",
            "  inflating: faces95/sgjday/sgjday.1.jpg  \n",
            "  inflating: faces95/sgjday/sgjday.10.jpg  \n",
            "  inflating: faces95/sgjday/sgjday.11.jpg  \n",
            "  inflating: faces95/sgjday/sgjday.12.jpg  \n",
            "  inflating: faces95/sgjday/sgjday.13.jpg  \n",
            "  inflating: faces95/sgjday/sgjday.14.jpg  \n",
            "  inflating: faces95/sgjday/sgjday.15.jpg  \n",
            "  inflating: faces95/sgjday/sgjday.16.jpg  \n",
            "  inflating: faces95/sgjday/sgjday.17.jpg  \n",
            "  inflating: faces95/sgjday/sgjday.18.jpg  \n",
            "  inflating: faces95/sgjday/sgjday.19.jpg  \n",
            "  inflating: faces95/sgjday/sgjday.2.jpg  \n",
            "  inflating: faces95/sgjday/sgjday.20.jpg  \n",
            "  inflating: faces95/sgjday/sgjday.3.jpg  \n",
            "  inflating: faces95/sgjday/sgjday.4.jpg  \n",
            "  inflating: faces95/sgjday/sgjday.5.jpg  \n",
            "  inflating: faces95/sgjday/sgjday.6.jpg  \n",
            "  inflating: faces95/sgjday/sgjday.7.jpg  \n",
            "  inflating: faces95/sgjday/sgjday.8.jpg  \n",
            "  inflating: faces95/sgjday/sgjday.9.jpg  \n",
            "   creating: faces95/sherbe/\n",
            "  inflating: faces95/sherbe/sherbe.1.jpg  \n",
            "  inflating: faces95/sherbe/sherbe.10.jpg  \n",
            "  inflating: faces95/sherbe/sherbe.11.jpg  \n",
            "  inflating: faces95/sherbe/sherbe.12.jpg  \n",
            "  inflating: faces95/sherbe/sherbe.13.jpg  \n",
            "  inflating: faces95/sherbe/sherbe.14.jpg  \n",
            "  inflating: faces95/sherbe/sherbe.15.jpg  \n",
            "  inflating: faces95/sherbe/sherbe.16.jpg  \n",
            "  inflating: faces95/sherbe/sherbe.17.jpg  \n",
            "  inflating: faces95/sherbe/sherbe.18.jpg  \n",
            "  inflating: faces95/sherbe/sherbe.19.jpg  \n",
            "  inflating: faces95/sherbe/sherbe.2.jpg  \n",
            "  inflating: faces95/sherbe/sherbe.20.jpg  \n",
            "  inflating: faces95/sherbe/sherbe.3.jpg  \n",
            "  inflating: faces95/sherbe/sherbe.4.jpg  \n",
            "  inflating: faces95/sherbe/sherbe.5.jpg  \n",
            "  inflating: faces95/sherbe/sherbe.6.jpg  \n",
            "  inflating: faces95/sherbe/sherbe.7.jpg  \n",
            "  inflating: faces95/sherbe/sherbe.8.jpg  \n",
            "  inflating: faces95/sherbe/sherbe.9.jpg  \n",
            "   creating: faces95/simm/\n",
            "  inflating: faces95/simm/simm.1.jpg  \n",
            "  inflating: faces95/simm/simm.10.jpg  \n",
            "  inflating: faces95/simm/simm.11.jpg  \n",
            "  inflating: faces95/simm/simm.12.jpg  \n",
            "  inflating: faces95/simm/simm.13.jpg  \n",
            "  inflating: faces95/simm/simm.14.jpg  \n",
            "  inflating: faces95/simm/simm.15.jpg  \n",
            "  inflating: faces95/simm/simm.16.jpg  \n",
            "  inflating: faces95/simm/simm.17.jpg  \n",
            "  inflating: faces95/simm/simm.18.jpg  \n",
            "  inflating: faces95/simm/simm.19.jpg  \n",
            "  inflating: faces95/simm/simm.2.jpg  \n",
            "  inflating: faces95/simm/simm.20.jpg  \n",
            "  inflating: faces95/simm/simm.3.jpg  \n",
            "  inflating: faces95/simm/simm.4.jpg  \n",
            "  inflating: faces95/simm/simm.5.jpg  \n",
            "  inflating: faces95/simm/simm.6.jpg  \n",
            "  inflating: faces95/simm/simm.7.jpg  \n",
            "  inflating: faces95/simm/simm.8.jpg  \n",
            "  inflating: faces95/simm/simm.9.jpg  \n",
            "   creating: faces95/sirmcb/\n",
            "  inflating: faces95/sirmcb/sirmcb.1.jpg  \n",
            "  inflating: faces95/sirmcb/sirmcb.10.jpg  \n",
            "  inflating: faces95/sirmcb/sirmcb.11.jpg  \n",
            "  inflating: faces95/sirmcb/sirmcb.12.jpg  \n",
            "  inflating: faces95/sirmcb/sirmcb.13.jpg  \n",
            "  inflating: faces95/sirmcb/sirmcb.14.jpg  \n",
            "  inflating: faces95/sirmcb/sirmcb.15.jpg  \n",
            "  inflating: faces95/sirmcb/sirmcb.16.jpg  \n",
            "  inflating: faces95/sirmcb/sirmcb.17.jpg  \n",
            "  inflating: faces95/sirmcb/sirmcb.18.jpg  \n",
            "  inflating: faces95/sirmcb/sirmcb.19.jpg  \n",
            "  inflating: faces95/sirmcb/sirmcb.2.jpg  \n",
            "  inflating: faces95/sirmcb/sirmcb.20.jpg  \n",
            "  inflating: faces95/sirmcb/sirmcb.3.jpg  \n",
            "  inflating: faces95/sirmcb/sirmcb.4.jpg  \n",
            "  inflating: faces95/sirmcb/sirmcb.5.jpg  \n",
            "  inflating: faces95/sirmcb/sirmcb.6.jpg  \n",
            "  inflating: faces95/sirmcb/sirmcb.7.jpg  \n",
            "  inflating: faces95/sirmcb/sirmcb.8.jpg  \n",
            "  inflating: faces95/sirmcb/sirmcb.9.jpg  \n",
            "   creating: faces95/sjcutt/\n",
            "  inflating: faces95/sjcutt/sjcutt.1.jpg  \n",
            "  inflating: faces95/sjcutt/sjcutt.10.jpg  \n",
            "  inflating: faces95/sjcutt/sjcutt.11.jpg  \n",
            "  inflating: faces95/sjcutt/sjcutt.12.jpg  \n",
            "  inflating: faces95/sjcutt/sjcutt.13.jpg  \n",
            "  inflating: faces95/sjcutt/sjcutt.14.jpg  \n",
            "  inflating: faces95/sjcutt/sjcutt.15.jpg  \n",
            "  inflating: faces95/sjcutt/sjcutt.16.jpg  \n",
            "  inflating: faces95/sjcutt/sjcutt.17.jpg  \n",
            "  inflating: faces95/sjcutt/sjcutt.18.jpg  \n",
            "  inflating: faces95/sjcutt/sjcutt.19.jpg  \n",
            "  inflating: faces95/sjcutt/sjcutt.2.jpg  \n",
            "  inflating: faces95/sjcutt/sjcutt.20.jpg  \n",
            "  inflating: faces95/sjcutt/sjcutt.3.jpg  \n",
            "  inflating: faces95/sjcutt/sjcutt.4.jpg  \n",
            "  inflating: faces95/sjcutt/sjcutt.5.jpg  \n",
            "  inflating: faces95/sjcutt/sjcutt.6.jpg  \n",
            "  inflating: faces95/sjcutt/sjcutt.7.jpg  \n",
            "  inflating: faces95/sjcutt/sjcutt.8.jpg  \n",
            "  inflating: faces95/sjcutt/sjcutt.9.jpg  \n",
            "   creating: faces95/sjkill/\n",
            "  inflating: faces95/sjkill/sjkill.1.jpg  \n",
            "  inflating: faces95/sjkill/sjkill.10.jpg  \n",
            "  inflating: faces95/sjkill/sjkill.11.jpg  \n",
            "  inflating: faces95/sjkill/sjkill.12.jpg  \n",
            "  inflating: faces95/sjkill/sjkill.13.jpg  \n",
            "  inflating: faces95/sjkill/sjkill.14.jpg  \n",
            "  inflating: faces95/sjkill/sjkill.15.jpg  \n",
            "  inflating: faces95/sjkill/sjkill.16.jpg  \n",
            "  inflating: faces95/sjkill/sjkill.17.jpg  \n",
            "  inflating: faces95/sjkill/sjkill.18.jpg  \n",
            "  inflating: faces95/sjkill/sjkill.19.jpg  \n",
            "  inflating: faces95/sjkill/sjkill.2.jpg  \n",
            "  inflating: faces95/sjkill/sjkill.20.jpg  \n",
            "  inflating: faces95/sjkill/sjkill.3.jpg  \n",
            "  inflating: faces95/sjkill/sjkill.4.jpg  \n",
            "  inflating: faces95/sjkill/sjkill.5.jpg  \n",
            "  inflating: faces95/sjkill/sjkill.6.jpg  \n",
            "  inflating: faces95/sjkill/sjkill.7.jpg  \n",
            "  inflating: faces95/sjkill/sjkill.8.jpg  \n",
            "  inflating: faces95/sjkill/sjkill.9.jpg  \n",
            "   creating: faces95/sjpalm/\n",
            "  inflating: faces95/sjpalm/sjpalm.1.jpg  \n",
            "  inflating: faces95/sjpalm/sjpalm.10.jpg  \n",
            "  inflating: faces95/sjpalm/sjpalm.11.jpg  \n",
            "  inflating: faces95/sjpalm/sjpalm.12.jpg  \n",
            "  inflating: faces95/sjpalm/sjpalm.13.jpg  \n",
            "  inflating: faces95/sjpalm/sjpalm.14.jpg  \n",
            "  inflating: faces95/sjpalm/sjpalm.15.jpg  \n",
            "  inflating: faces95/sjpalm/sjpalm.16.jpg  \n",
            "  inflating: faces95/sjpalm/sjpalm.17.jpg  \n",
            "  inflating: faces95/sjpalm/sjpalm.18.jpg  \n",
            "  inflating: faces95/sjpalm/sjpalm.19.jpg  \n",
            "  inflating: faces95/sjpalm/sjpalm.2.jpg  \n",
            "  inflating: faces95/sjpalm/sjpalm.20.jpg  \n",
            "  inflating: faces95/sjpalm/sjpalm.3.jpg  \n",
            "  inflating: faces95/sjpalm/sjpalm.4.jpg  \n",
            "  inflating: faces95/sjpalm/sjpalm.5.jpg  \n",
            "  inflating: faces95/sjpalm/sjpalm.6.jpg  \n",
            "  inflating: faces95/sjpalm/sjpalm.7.jpg  \n",
            "  inflating: faces95/sjpalm/sjpalm.8.jpg  \n",
            "  inflating: faces95/sjpalm/sjpalm.9.jpg  \n",
            "   creating: faces95/smille/\n",
            "  inflating: faces95/smille/smille.1.jpg  \n",
            "  inflating: faces95/smille/smille.10.jpg  \n",
            "  inflating: faces95/smille/smille.11.jpg  \n",
            "  inflating: faces95/smille/smille.12.jpg  \n",
            "  inflating: faces95/smille/smille.13.jpg  \n",
            "  inflating: faces95/smille/smille.14.jpg  \n",
            "  inflating: faces95/smille/smille.15.jpg  \n",
            "  inflating: faces95/smille/smille.16.jpg  \n",
            "  inflating: faces95/smille/smille.17.jpg  \n",
            "  inflating: faces95/smille/smille.18.jpg  \n",
            "  inflating: faces95/smille/smille.19.jpg  \n",
            "  inflating: faces95/smille/smille.2.jpg  \n",
            "  inflating: faces95/smille/smille.20.jpg  \n",
            "  inflating: faces95/smille/smille.3.jpg  \n",
            "  inflating: faces95/smille/smille.4.jpg  \n",
            "  inflating: faces95/smille/smille.5.jpg  \n",
            "  inflating: faces95/smille/smille.6.jpg  \n",
            "  inflating: faces95/smille/smille.7.jpg  \n",
            "  inflating: faces95/smille/smille.8.jpg  \n",
            "  inflating: faces95/smille/smille.9.jpg  \n",
            "   creating: faces95/theoc/\n",
            "  inflating: faces95/theoc/theoc.10.jpg  \n",
            "  inflating: faces95/theoc/theoc.1.jpg  \n",
            "  inflating: faces95/theoc/theoc.11.jpg  \n",
            "  inflating: faces95/theoc/theoc.12.jpg  \n",
            "  inflating: faces95/theoc/theoc.13.jpg  \n",
            "  inflating: faces95/theoc/theoc.14.jpg  \n",
            "  inflating: faces95/theoc/theoc.15.jpg  \n",
            "  inflating: faces95/theoc/theoc.16.jpg  \n",
            "  inflating: faces95/theoc/theoc.17.jpg  \n",
            "  inflating: faces95/theoc/theoc.18.jpg  \n",
            "  inflating: faces95/theoc/theoc.19.jpg  \n",
            "  inflating: faces95/theoc/theoc.2.jpg  \n",
            "  inflating: faces95/theoc/theoc.20.jpg  \n",
            "  inflating: faces95/theoc/theoc.3.jpg  \n",
            "  inflating: faces95/theoc/theoc.4.jpg  \n",
            "  inflating: faces95/theoc/theoc.5.jpg  \n",
            "  inflating: faces95/theoc/theoc.6.jpg  \n",
            "  inflating: faces95/theoc/theoc.7.jpg  \n",
            "  inflating: faces95/theoc/theoc.8.jpg  \n",
            "  inflating: faces95/theoc/theoc.9.jpg  \n",
            "   creating: faces95/theod/\n",
            "  inflating: faces95/theod/theod.10.jpg  \n",
            "  inflating: faces95/theod/theod.1.jpg  \n",
            "  inflating: faces95/theod/theod.11.jpg  \n",
            "  inflating: faces95/theod/theod.12.jpg  \n",
            "  inflating: faces95/theod/theod.13.jpg  \n",
            "  inflating: faces95/theod/theod.14.jpg  \n",
            "  inflating: faces95/theod/theod.15.jpg  \n",
            "  inflating: faces95/theod/theod.16.jpg  \n",
            "  inflating: faces95/theod/theod.17.jpg  \n",
            "  inflating: faces95/theod/theod.18.jpg  \n",
            "  inflating: faces95/theod/theod.19.jpg  \n",
            "  inflating: faces95/theod/theod.2.jpg  \n",
            "  inflating: faces95/theod/theod.20.jpg  \n",
            "  inflating: faces95/theod/theod.3.jpg  \n",
            "  inflating: faces95/theod/theod.4.jpg  \n",
            "  inflating: faces95/theod/theod.5.jpg  \n",
            "  inflating: faces95/theod/theod.6.jpg  \n",
            "  inflating: faces95/theod/theod.7.jpg  \n",
            "  inflating: faces95/theod/theod.8.jpg  \n",
            "  inflating: faces95/theod/theod.9.jpg  \n",
            "   creating: faces95/thgear/\n",
            "  inflating: faces95/thgear/thgear.1.jpg  \n",
            "  inflating: faces95/thgear/thgear.10.jpg  \n",
            "  inflating: faces95/thgear/thgear.11.jpg  \n",
            "  inflating: faces95/thgear/thgear.12.jpg  \n",
            "  inflating: faces95/thgear/thgear.13.jpg  \n",
            "  inflating: faces95/thgear/thgear.14.jpg  \n",
            "  inflating: faces95/thgear/thgear.15.jpg  \n",
            "  inflating: faces95/thgear/thgear.16.jpg  \n",
            "  inflating: faces95/thgear/thgear.17.jpg  \n",
            "  inflating: faces95/thgear/thgear.18.jpg  \n",
            "  inflating: faces95/thgear/thgear.19.jpg  \n",
            "  inflating: faces95/thgear/thgear.2.jpg  \n",
            "  inflating: faces95/thgear/thgear.20.jpg  \n",
            "  inflating: faces95/thgear/thgear.3.jpg  \n",
            "  inflating: faces95/thgear/thgear.4.jpg  \n",
            "  inflating: faces95/thgear/thgear.5.jpg  \n",
            "  inflating: faces95/thgear/thgear.6.jpg  \n",
            "  inflating: faces95/thgear/thgear.7.jpg  \n",
            "  inflating: faces95/thgear/thgear.8.jpg  \n",
            "  inflating: faces95/thgear/thgear.9.jpg  \n",
            "   creating: faces95/tjdyke/\n",
            "  inflating: faces95/tjdyke/tjdyke.1.jpg  \n",
            "  inflating: faces95/tjdyke/tjdyke.10.jpg  \n",
            "  inflating: faces95/tjdyke/tjdyke.11.jpg  \n",
            "  inflating: faces95/tjdyke/tjdyke.12.jpg  \n",
            "  inflating: faces95/tjdyke/tjdyke.13.jpg  \n",
            "  inflating: faces95/tjdyke/tjdyke.14.jpg  \n",
            "  inflating: faces95/tjdyke/tjdyke.15.jpg  \n",
            "  inflating: faces95/tjdyke/tjdyke.16.jpg  \n",
            "  inflating: faces95/tjdyke/tjdyke.17.jpg  \n",
            "  inflating: faces95/tjdyke/tjdyke.18.jpg  \n",
            "  inflating: faces95/tjdyke/tjdyke.19.jpg  \n",
            "  inflating: faces95/tjdyke/tjdyke.2.jpg  \n",
            "  inflating: faces95/tjdyke/tjdyke.20.jpg  \n",
            "  inflating: faces95/tjdyke/tjdyke.3.jpg  \n",
            "  inflating: faces95/tjdyke/tjdyke.4.jpg  \n",
            "  inflating: faces95/tjdyke/tjdyke.5.jpg  \n",
            "  inflating: faces95/tjdyke/tjdyke.6.jpg  \n",
            "  inflating: faces95/tjdyke/tjdyke.7.jpg  \n",
            "  inflating: faces95/tjdyke/tjdyke.8.jpg  \n",
            "  inflating: faces95/tjdyke/tjdyke.9.jpg  \n",
            "   creating: faces95/vanta/\n",
            "  inflating: faces95/vanta/vanta.10.jpg  \n",
            "  inflating: faces95/vanta/vanta.1.jpg  \n",
            "  inflating: faces95/vanta/vanta.11.jpg  \n",
            "  inflating: faces95/vanta/vanta.12.jpg  \n",
            "  inflating: faces95/vanta/vanta.13.jpg  \n",
            "  inflating: faces95/vanta/vanta.14.jpg  \n",
            "  inflating: faces95/vanta/vanta.15.jpg  \n",
            "  inflating: faces95/vanta/vanta.16.jpg  \n",
            "  inflating: faces95/vanta/vanta.17.jpg  \n",
            "  inflating: faces95/vanta/vanta.18.jpg  \n",
            "  inflating: faces95/vanta/vanta.19.jpg  \n",
            "  inflating: faces95/vanta/vanta.2.jpg  \n",
            "  inflating: faces95/vanta/vanta.20.jpg  \n",
            "  inflating: faces95/vanta/vanta.3.jpg  \n",
            "  inflating: faces95/vanta/vanta.4.jpg  \n",
            "  inflating: faces95/vanta/vanta.5.jpg  \n",
            "  inflating: faces95/vanta/vanta.6.jpg  \n",
            "  inflating: faces95/vanta/vanta.7.jpg  \n",
            "  inflating: faces95/vanta/vanta.8.jpg  \n",
            "  inflating: faces95/vanta/vanta.9.jpg  \n",
            "   creating: faces95/virvi/\n",
            "  inflating: faces95/virvi/virvi.10.jpg  \n",
            "  inflating: faces95/virvi/virvi.1.jpg  \n",
            "  inflating: faces95/virvi/virvi.11.jpg  \n",
            "  inflating: faces95/virvi/virvi.12.jpg  \n",
            "  inflating: faces95/virvi/virvi.13.jpg  \n",
            "  inflating: faces95/virvi/virvi.14.jpg  \n",
            "  inflating: faces95/virvi/virvi.15.jpg  \n",
            "  inflating: faces95/virvi/virvi.16.jpg  \n",
            "  inflating: faces95/virvi/virvi.17.jpg  \n",
            "  inflating: faces95/virvi/virvi.18.jpg  \n",
            "  inflating: faces95/virvi/virvi.19.jpg  \n",
            "  inflating: faces95/virvi/virvi.2.jpg  \n",
            "  inflating: faces95/virvi/virvi.20.jpg  \n",
            "  inflating: faces95/virvi/virvi.3.jpg  \n",
            "  inflating: faces95/virvi/virvi.4.jpg  \n",
            "  inflating: faces95/virvi/virvi.5.jpg  \n",
            "  inflating: faces95/virvi/virvi.6.jpg  \n",
            "  inflating: faces95/virvi/virvi.7.jpg  \n",
            "  inflating: faces95/virvi/virvi.8.jpg  \n",
            "  inflating: faces95/virvi/virvi.9.jpg  \n",
            "   creating: faces95/wjhugh/\n",
            "  inflating: faces95/wjhugh/wjhugh.1.jpg  \n",
            "  inflating: faces95/wjhugh/wjhugh.10.jpg  \n",
            "  inflating: faces95/wjhugh/wjhugh.11.jpg  \n",
            "  inflating: faces95/wjhugh/wjhugh.12.jpg  \n",
            "  inflating: faces95/wjhugh/wjhugh.13.jpg  \n",
            "  inflating: faces95/wjhugh/wjhugh.14.jpg  \n",
            "  inflating: faces95/wjhugh/wjhugh.15.jpg  \n",
            "  inflating: faces95/wjhugh/wjhugh.16.jpg  \n",
            "  inflating: faces95/wjhugh/wjhugh.17.jpg  \n",
            "  inflating: faces95/wjhugh/wjhugh.18.jpg  \n",
            "  inflating: faces95/wjhugh/wjhugh.19.jpg  \n",
            "  inflating: faces95/wjhugh/wjhugh.2.jpg  \n",
            "  inflating: faces95/wjhugh/wjhugh.20.jpg  \n",
            "  inflating: faces95/wjhugh/wjhugh.3.jpg  \n",
            "  inflating: faces95/wjhugh/wjhugh.4.jpg  \n",
            "  inflating: faces95/wjhugh/wjhugh.5.jpg  \n",
            "  inflating: faces95/wjhugh/wjhugh.6.jpg  \n",
            "  inflating: faces95/wjhugh/wjhugh.7.jpg  \n",
            "  inflating: faces95/wjhugh/wjhugh.8.jpg  \n",
            "  inflating: faces95/wjhugh/wjhugh.9.jpg  \n"
          ],
          "name": "stdout"
        }
      ]
    },
    {
      "cell_type": "code",
      "metadata": {
        "id": "3B74dUKdIiZe",
        "colab_type": "code",
        "colab": {
          "base_uri": "https://localhost:8080/",
          "height": 1000
        },
        "outputId": "eb751261-9fd0-4dd6-9778-35adb81d3ff3"
      },
      "source": [
        "!ls faces95/*/*jpg"
      ],
      "execution_count": 11,
      "outputs": [
        {
          "output_type": "stream",
          "text": [
            "faces95/adhast/adhast.10.jpg  faces95/llambr/llambr.10.jpg\n",
            "faces95/adhast/adhast.11.jpg  faces95/llambr/llambr.11.jpg\n",
            "faces95/adhast/adhast.12.jpg  faces95/llambr/llambr.12.jpg\n",
            "faces95/adhast/adhast.13.jpg  faces95/llambr/llambr.13.jpg\n",
            "faces95/adhast/adhast.14.jpg  faces95/llambr/llambr.14.jpg\n",
            "faces95/adhast/adhast.15.jpg  faces95/llambr/llambr.15.jpg\n",
            "faces95/adhast/adhast.16.jpg  faces95/llambr/llambr.16.jpg\n",
            "faces95/adhast/adhast.17.jpg  faces95/llambr/llambr.17.jpg\n",
            "faces95/adhast/adhast.18.jpg  faces95/llambr/llambr.18.jpg\n",
            "faces95/adhast/adhast.19.jpg  faces95/llambr/llambr.19.jpg\n",
            "faces95/adhast/adhast.1.jpg   faces95/llambr/llambr.1.jpg\n",
            "faces95/adhast/adhast.20.jpg  faces95/llambr/llambr.20.jpg\n",
            "faces95/adhast/adhast.2.jpg   faces95/llambr/llambr.2.jpg\n",
            "faces95/adhast/adhast.3.jpg   faces95/llambr/llambr.3.jpg\n",
            "faces95/adhast/adhast.4.jpg   faces95/llambr/llambr.4.jpg\n",
            "faces95/adhast/adhast.5.jpg   faces95/llambr/llambr.5.jpg\n",
            "faces95/adhast/adhast.6.jpg   faces95/llambr/llambr.6.jpg\n",
            "faces95/adhast/adhast.7.jpg   faces95/llambr/llambr.7.jpg\n",
            "faces95/adhast/adhast.8.jpg   faces95/llambr/llambr.8.jpg\n",
            "faces95/adhast/adhast.9.jpg   faces95/llambr/llambr.9.jpg\n",
            "faces95/ajbake/ajbake.10.jpg  faces95/matth/matth.10.jpg\n",
            "faces95/ajbake/ajbake.11.jpg  faces95/matth/matth.11.jpg\n",
            "faces95/ajbake/ajbake.12.jpg  faces95/matth/matth.12.jpg\n",
            "faces95/ajbake/ajbake.13.jpg  faces95/matth/matth.13.jpg\n",
            "faces95/ajbake/ajbake.14.jpg  faces95/matth/matth.14.jpg\n",
            "faces95/ajbake/ajbake.15.jpg  faces95/matth/matth.15.jpg\n",
            "faces95/ajbake/ajbake.16.jpg  faces95/matth/matth.16.jpg\n",
            "faces95/ajbake/ajbake.17.jpg  faces95/matth/matth.17.jpg\n",
            "faces95/ajbake/ajbake.18.jpg  faces95/matth/matth.18.jpg\n",
            "faces95/ajbake/ajbake.19.jpg  faces95/matth/matth.19.jpg\n",
            "faces95/ajbake/ajbake.1.jpg   faces95/matth/matth.1.jpg\n",
            "faces95/ajbake/ajbake.20.jpg  faces95/matth/matth.20.jpg\n",
            "faces95/ajbake/ajbake.2.jpg   faces95/matth/matth.2.jpg\n",
            "faces95/ajbake/ajbake.3.jpg   faces95/matth/matth.3.jpg\n",
            "faces95/ajbake/ajbake.4.jpg   faces95/matth/matth.4.jpg\n",
            "faces95/ajbake/ajbake.5.jpg   faces95/matth/matth.5.jpg\n",
            "faces95/ajbake/ajbake.6.jpg   faces95/matth/matth.6.jpg\n",
            "faces95/ajbake/ajbake.7.jpg   faces95/matth/matth.7.jpg\n",
            "faces95/ajbake/ajbake.8.jpg   faces95/matth/matth.8.jpg\n",
            "faces95/ajbake/ajbake.9.jpg   faces95/matth/matth.9.jpg\n",
            "faces95/apapou/apapou.10.jpg  faces95/mdchud/mdchud.10.jpg\n",
            "faces95/apapou/apapou.11.jpg  faces95/mdchud/mdchud.11.jpg\n",
            "faces95/apapou/apapou.12.jpg  faces95/mdchud/mdchud.12.jpg\n",
            "faces95/apapou/apapou.13.jpg  faces95/mdchud/mdchud.13.jpg\n",
            "faces95/apapou/apapou.14.jpg  faces95/mdchud/mdchud.14.jpg\n",
            "faces95/apapou/apapou.15.jpg  faces95/mdchud/mdchud.15.jpg\n",
            "faces95/apapou/apapou.16.jpg  faces95/mdchud/mdchud.16.jpg\n",
            "faces95/apapou/apapou.17.jpg  faces95/mdchud/mdchud.17.jpg\n",
            "faces95/apapou/apapou.18.jpg  faces95/mdchud/mdchud.18.jpg\n",
            "faces95/apapou/apapou.19.jpg  faces95/mdchud/mdchud.19.jpg\n",
            "faces95/apapou/apapou.1.jpg   faces95/mdchud/mdchud.1.jpg\n",
            "faces95/apapou/apapou.20.jpg  faces95/mdchud/mdchud.20.jpg\n",
            "faces95/apapou/apapou.2.jpg   faces95/mdchud/mdchud.2.jpg\n",
            "faces95/apapou/apapou.3.jpg   faces95/mdchud/mdchud.3.jpg\n",
            "faces95/apapou/apapou.4.jpg   faces95/mdchud/mdchud.4.jpg\n",
            "faces95/apapou/apapou.5.jpg   faces95/mdchud/mdchud.5.jpg\n",
            "faces95/apapou/apapou.6.jpg   faces95/mdchud/mdchud.6.jpg\n",
            "faces95/apapou/apapou.7.jpg   faces95/mdchud/mdchud.7.jpg\n",
            "faces95/apapou/apapou.8.jpg   faces95/mdchud/mdchud.8.jpg\n",
            "faces95/apapou/apapou.9.jpg   faces95/mdchud/mdchud.9.jpg\n",
            "faces95/apdavi/apdavi.10.jpg  faces95/mizli/mizli.10.jpg\n",
            "faces95/apdavi/apdavi.11.jpg  faces95/mizli/mizli.11.jpg\n",
            "faces95/apdavi/apdavi.12.jpg  faces95/mizli/mizli.12.jpg\n",
            "faces95/apdavi/apdavi.13.jpg  faces95/mizli/mizli.13.jpg\n",
            "faces95/apdavi/apdavi.14.jpg  faces95/mizli/mizli.14.jpg\n",
            "faces95/apdavi/apdavi.15.jpg  faces95/mizli/mizli.15.jpg\n",
            "faces95/apdavi/apdavi.16.jpg  faces95/mizli/mizli.16.jpg\n",
            "faces95/apdavi/apdavi.17.jpg  faces95/mizli/mizli.17.jpg\n",
            "faces95/apdavi/apdavi.18.jpg  faces95/mizli/mizli.18.jpg\n",
            "faces95/apdavi/apdavi.19.jpg  faces95/mizli/mizli.19.jpg\n",
            "faces95/apdavi/apdavi.1.jpg   faces95/mizli/mizli.1.jpg\n",
            "faces95/apdavi/apdavi.20.jpg  faces95/mizli/mizli.20.jpg\n",
            "faces95/apdavi/apdavi.2.jpg   faces95/mizli/mizli.2.jpg\n",
            "faces95/apdavi/apdavi.3.jpg   faces95/mizli/mizli.3.jpg\n",
            "faces95/apdavi/apdavi.4.jpg   faces95/mizli/mizli.4.jpg\n",
            "faces95/apdavi/apdavi.5.jpg   faces95/mizli/mizli.5.jpg\n",
            "faces95/apdavi/apdavi.6.jpg   faces95/mizli/mizli.6.jpg\n",
            "faces95/apdavi/apdavi.7.jpg   faces95/mizli/mizli.7.jpg\n",
            "faces95/apdavi/apdavi.8.jpg   faces95/mizli/mizli.8.jpg\n",
            "faces95/apdavi/apdavi.9.jpg   faces95/mizli/mizli.9.jpg\n",
            "faces95/ardper/ardper.10.jpg  faces95/mkosto/mkosto.10.jpg\n",
            "faces95/ardper/ardper.11.jpg  faces95/mkosto/mkosto.11.jpg\n",
            "faces95/ardper/ardper.12.jpg  faces95/mkosto/mkosto.12.jpg\n",
            "faces95/ardper/ardper.13.jpg  faces95/mkosto/mkosto.13.jpg\n",
            "faces95/ardper/ardper.14.jpg  faces95/mkosto/mkosto.14.jpg\n",
            "faces95/ardper/ardper.15.jpg  faces95/mkosto/mkosto.15.jpg\n",
            "faces95/ardper/ardper.16.jpg  faces95/mkosto/mkosto.16.jpg\n",
            "faces95/ardper/ardper.17.jpg  faces95/mkosto/mkosto.17.jpg\n",
            "faces95/ardper/ardper.18.jpg  faces95/mkosto/mkosto.18.jpg\n",
            "faces95/ardper/ardper.19.jpg  faces95/mkosto/mkosto.19.jpg\n",
            "faces95/ardper/ardper.1.jpg   faces95/mkosto/mkosto.1.jpg\n",
            "faces95/ardper/ardper.20.jpg  faces95/mkosto/mkosto.20.jpg\n",
            "faces95/ardper/ardper.2.jpg   faces95/mkosto/mkosto.2.jpg\n",
            "faces95/ardper/ardper.3.jpg   faces95/mkosto/mkosto.3.jpg\n",
            "faces95/ardper/ardper.4.jpg   faces95/mkosto/mkosto.4.jpg\n",
            "faces95/ardper/ardper.5.jpg   faces95/mkosto/mkosto.5.jpg\n",
            "faces95/ardper/ardper.6.jpg   faces95/mkosto/mkosto.6.jpg\n",
            "faces95/ardper/ardper.7.jpg   faces95/mkosto/mkosto.7.jpg\n",
            "faces95/ardper/ardper.8.jpg   faces95/mkosto/mkosto.8.jpg\n",
            "faces95/ardper/ardper.9.jpg   faces95/mkosto/mkosto.9.jpg\n",
            "faces95/awjsud/awjsud.10.jpg  faces95/mrhami/mrhami.10.jpg\n",
            "faces95/awjsud/awjsud.11.jpg  faces95/mrhami/mrhami.11.jpg\n",
            "faces95/awjsud/awjsud.12.jpg  faces95/mrhami/mrhami.12.jpg\n",
            "faces95/awjsud/awjsud.13.jpg  faces95/mrhami/mrhami.13.jpg\n",
            "faces95/awjsud/awjsud.14.jpg  faces95/mrhami/mrhami.14.jpg\n",
            "faces95/awjsud/awjsud.15.jpg  faces95/mrhami/mrhami.15.jpg\n",
            "faces95/awjsud/awjsud.16.jpg  faces95/mrhami/mrhami.16.jpg\n",
            "faces95/awjsud/awjsud.17.jpg  faces95/mrhami/mrhami.17.jpg\n",
            "faces95/awjsud/awjsud.18.jpg  faces95/mrhami/mrhami.18.jpg\n",
            "faces95/awjsud/awjsud.19.jpg  faces95/mrhami/mrhami.19.jpg\n",
            "faces95/awjsud/awjsud.1.jpg   faces95/mrhami/mrhami.1.jpg\n",
            "faces95/awjsud/awjsud.20.jpg  faces95/mrhami/mrhami.20.jpg\n",
            "faces95/awjsud/awjsud.2.jpg   faces95/mrhami/mrhami.2.jpg\n",
            "faces95/awjsud/awjsud.3.jpg   faces95/mrhami/mrhami.3.jpg\n",
            "faces95/awjsud/awjsud.4.jpg   faces95/mrhami/mrhami.4.jpg\n",
            "faces95/awjsud/awjsud.5.jpg   faces95/mrhami/mrhami.5.jpg\n",
            "faces95/awjsud/awjsud.6.jpg   faces95/mrhami/mrhami.6.jpg\n",
            "faces95/awjsud/awjsud.7.jpg   faces95/mrhami/mrhami.7.jpg\n",
            "faces95/awjsud/awjsud.8.jpg   faces95/mrhami/mrhami.8.jpg\n",
            "faces95/awjsud/awjsud.9.jpg   faces95/mrhami/mrhami.9.jpg\n",
            "faces95/boylee/boylee.10.jpg  faces95/namart/namart.10.jpg\n",
            "faces95/boylee/boylee.11.jpg  faces95/namart/namart.11.jpg\n",
            "faces95/boylee/boylee.12.jpg  faces95/namart/namart.12.jpg\n",
            "faces95/boylee/boylee.13.jpg  faces95/namart/namart.13.jpg\n",
            "faces95/boylee/boylee.14.jpg  faces95/namart/namart.14.jpg\n",
            "faces95/boylee/boylee.15.jpg  faces95/namart/namart.15.jpg\n",
            "faces95/boylee/boylee.16.jpg  faces95/namart/namart.16.jpg\n",
            "faces95/boylee/boylee.17.jpg  faces95/namart/namart.17.jpg\n",
            "faces95/boylee/boylee.18.jpg  faces95/namart/namart.18.jpg\n",
            "faces95/boylee/boylee.19.jpg  faces95/namart/namart.19.jpg\n",
            "faces95/boylee/boylee.1.jpg   faces95/namart/namart.1.jpg\n",
            "faces95/boylee/boylee.20.jpg  faces95/namart/namart.20.jpg\n",
            "faces95/boylee/boylee.2.jpg   faces95/namart/namart.2.jpg\n",
            "faces95/boylee/boylee.3.jpg   faces95/namart/namart.3.jpg\n",
            "faces95/boylee/boylee.4.jpg   faces95/namart/namart.4.jpg\n",
            "faces95/boylee/boylee.5.jpg   faces95/namart/namart.5.jpg\n",
            "faces95/boylee/boylee.6.jpg   faces95/namart/namart.6.jpg\n",
            "faces95/boylee/boylee.7.jpg   faces95/namart/namart.7.jpg\n",
            "faces95/boylee/boylee.8.jpg   faces95/namart/namart.8.jpg\n",
            "faces95/boylee/boylee.9.jpg   faces95/namart/namart.9.jpg\n",
            "faces95/bschap/bschap.10.jpg  faces95/ogefen/ogefen.10.jpg\n",
            "faces95/bschap/bschap.11.jpg  faces95/ogefen/ogefen.11.jpg\n",
            "faces95/bschap/bschap.12.jpg  faces95/ogefen/ogefen.12.jpg\n",
            "faces95/bschap/bschap.13.jpg  faces95/ogefen/ogefen.13.jpg\n",
            "faces95/bschap/bschap.14.jpg  faces95/ogefen/ogefen.14.jpg\n",
            "faces95/bschap/bschap.15.jpg  faces95/ogefen/ogefen.15.jpg\n",
            "faces95/bschap/bschap.16.jpg  faces95/ogefen/ogefen.16.jpg\n",
            "faces95/bschap/bschap.17.jpg  faces95/ogefen/ogefen.17.jpg\n",
            "faces95/bschap/bschap.18.jpg  faces95/ogefen/ogefen.18.jpg\n",
            "faces95/bschap/bschap.19.jpg  faces95/ogefen/ogefen.19.jpg\n",
            "faces95/bschap/bschap.1.jpg   faces95/ogefen/ogefen.1.jpg\n",
            "faces95/bschap/bschap.20.jpg  faces95/ogefen/ogefen.20.jpg\n",
            "faces95/bschap/bschap.2.jpg   faces95/ogefen/ogefen.2.jpg\n",
            "faces95/bschap/bschap.3.jpg   faces95/ogefen/ogefen.3.jpg\n",
            "faces95/bschap/bschap.4.jpg   faces95/ogefen/ogefen.4.jpg\n",
            "faces95/bschap/bschap.5.jpg   faces95/ogefen/ogefen.5.jpg\n",
            "faces95/bschap/bschap.6.jpg   faces95/ogefen/ogefen.6.jpg\n",
            "faces95/bschap/bschap.7.jpg   faces95/ogefen/ogefen.7.jpg\n",
            "faces95/bschap/bschap.8.jpg   faces95/ogefen/ogefen.8.jpg\n",
            "faces95/bschap/bschap.9.jpg   faces95/ogefen/ogefen.9.jpg\n",
            "faces95/cadugd/cadugd.10.jpg  faces95/padnor/padnor.10.jpg\n",
            "faces95/cadugd/cadugd.11.jpg  faces95/padnor/padnor.11.jpg\n",
            "faces95/cadugd/cadugd.12.jpg  faces95/padnor/padnor.12.jpg\n",
            "faces95/cadugd/cadugd.13.jpg  faces95/padnor/padnor.13.jpg\n",
            "faces95/cadugd/cadugd.14.jpg  faces95/padnor/padnor.14.jpg\n",
            "faces95/cadugd/cadugd.15.jpg  faces95/padnor/padnor.15.jpg\n",
            "faces95/cadugd/cadugd.16.jpg  faces95/padnor/padnor.16.jpg\n",
            "faces95/cadugd/cadugd.17.jpg  faces95/padnor/padnor.17.jpg\n",
            "faces95/cadugd/cadugd.18.jpg  faces95/padnor/padnor.18.jpg\n",
            "faces95/cadugd/cadugd.19.jpg  faces95/padnor/padnor.19.jpg\n",
            "faces95/cadugd/cadugd.1.jpg   faces95/padnor/padnor.1.jpg\n",
            "faces95/cadugd/cadugd.20.jpg  faces95/padnor/padnor.20.jpg\n",
            "faces95/cadugd/cadugd.2.jpg   faces95/padnor/padnor.2.jpg\n",
            "faces95/cadugd/cadugd.3.jpg   faces95/padnor/padnor.3.jpg\n",
            "faces95/cadugd/cadugd.4.jpg   faces95/padnor/padnor.4.jpg\n",
            "faces95/cadugd/cadugd.5.jpg   faces95/padnor/padnor.5.jpg\n",
            "faces95/cadugd/cadugd.6.jpg   faces95/padnor/padnor.6.jpg\n",
            "faces95/cadugd/cadugd.7.jpg   faces95/padnor/padnor.7.jpg\n",
            "faces95/cadugd/cadugd.8.jpg   faces95/padnor/padnor.8.jpg\n",
            "faces95/cadugd/cadugd.9.jpg   faces95/padnor/padnor.9.jpg\n",
            "faces95/cdlarg/cdlarg.10.jpg  faces95/pajaco/pajaco.10.jpg\n",
            "faces95/cdlarg/cdlarg.11.jpg  faces95/pajaco/pajaco.11.jpg\n",
            "faces95/cdlarg/cdlarg.12.jpg  faces95/pajaco/pajaco.12.jpg\n",
            "faces95/cdlarg/cdlarg.13.jpg  faces95/pajaco/pajaco.13.jpg\n",
            "faces95/cdlarg/cdlarg.14.jpg  faces95/pajaco/pajaco.14.jpg\n",
            "faces95/cdlarg/cdlarg.15.jpg  faces95/pajaco/pajaco.15.jpg\n",
            "faces95/cdlarg/cdlarg.16.jpg  faces95/pajaco/pajaco.16.jpg\n",
            "faces95/cdlarg/cdlarg.17.jpg  faces95/pajaco/pajaco.17.jpg\n",
            "faces95/cdlarg/cdlarg.18.jpg  faces95/pajaco/pajaco.18.jpg\n",
            "faces95/cdlarg/cdlarg.19.jpg  faces95/pajaco/pajaco.19.jpg\n",
            "faces95/cdlarg/cdlarg.1.jpg   faces95/pajaco/pajaco.1.jpg\n",
            "faces95/cdlarg/cdlarg.20.jpg  faces95/pajaco/pajaco.20.jpg\n",
            "faces95/cdlarg/cdlarg.2.jpg   faces95/pajaco/pajaco.2.jpg\n",
            "faces95/cdlarg/cdlarg.3.jpg   faces95/pajaco/pajaco.3.jpg\n",
            "faces95/cdlarg/cdlarg.4.jpg   faces95/pajaco/pajaco.4.jpg\n",
            "faces95/cdlarg/cdlarg.5.jpg   faces95/pajaco/pajaco.5.jpg\n",
            "faces95/cdlarg/cdlarg.6.jpg   faces95/pajaco/pajaco.6.jpg\n",
            "faces95/cdlarg/cdlarg.7.jpg   faces95/pajaco/pajaco.7.jpg\n",
            "faces95/cdlarg/cdlarg.8.jpg   faces95/pajaco/pajaco.8.jpg\n",
            "faces95/cdlarg/cdlarg.9.jpg   faces95/pajaco/pajaco.9.jpg\n",
            "faces95/cfloro/cfloro.10.jpg  faces95/papad/papad.10.jpg\n",
            "faces95/cfloro/cfloro.11.jpg  faces95/papad/papad.11.jpg\n",
            "faces95/cfloro/cfloro.12.jpg  faces95/papad/papad.12.jpg\n",
            "faces95/cfloro/cfloro.13.jpg  faces95/papad/papad.13.jpg\n",
            "faces95/cfloro/cfloro.14.jpg  faces95/papad/papad.14.jpg\n",
            "faces95/cfloro/cfloro.15.jpg  faces95/papad/papad.15.jpg\n",
            "faces95/cfloro/cfloro.16.jpg  faces95/papad/papad.16.jpg\n",
            "faces95/cfloro/cfloro.17.jpg  faces95/papad/papad.17.jpg\n",
            "faces95/cfloro/cfloro.18.jpg  faces95/papad/papad.18.jpg\n",
            "faces95/cfloro/cfloro.19.jpg  faces95/papad/papad.19.jpg\n",
            "faces95/cfloro/cfloro.1.jpg   faces95/papad/papad.1.jpg\n",
            "faces95/cfloro/cfloro.20.jpg  faces95/papad/papad.20.jpg\n",
            "faces95/cfloro/cfloro.2.jpg   faces95/papad/papad.2.jpg\n",
            "faces95/cfloro/cfloro.3.jpg   faces95/papad/papad.3.jpg\n",
            "faces95/cfloro/cfloro.4.jpg   faces95/papad/papad.4.jpg\n",
            "faces95/cfloro/cfloro.5.jpg   faces95/papad/papad.5.jpg\n",
            "faces95/cfloro/cfloro.6.jpg   faces95/papad/papad.6.jpg\n",
            "faces95/cfloro/cfloro.7.jpg   faces95/papad/papad.7.jpg\n",
            "faces95/cfloro/cfloro.8.jpg   faces95/papad/papad.8.jpg\n",
            "faces95/cfloro/cfloro.9.jpg   faces95/papad/papad.9.jpg\n",
            "faces95/cladam/cladam.10.jpg  faces95/pcfry/pcfry.10.jpg\n",
            "faces95/cladam/cladam.11.jpg  faces95/pcfry/pcfry.11.jpg\n",
            "faces95/cladam/cladam.12.jpg  faces95/pcfry/pcfry.12.jpg\n",
            "faces95/cladam/cladam.13.jpg  faces95/pcfry/pcfry.13.jpg\n",
            "faces95/cladam/cladam.14.jpg  faces95/pcfry/pcfry.14.jpg\n",
            "faces95/cladam/cladam.15.jpg  faces95/pcfry/pcfry.15.jpg\n",
            "faces95/cladam/cladam.16.jpg  faces95/pcfry/pcfry.16.jpg\n",
            "faces95/cladam/cladam.17.jpg  faces95/pcfry/pcfry.17.jpg\n",
            "faces95/cladam/cladam.18.jpg  faces95/pcfry/pcfry.18.jpg\n",
            "faces95/cladam/cladam.19.jpg  faces95/pcfry/pcfry.19.jpg\n",
            "faces95/cladam/cladam.1.jpg   faces95/pcfry/pcfry.1.jpg\n",
            "faces95/cladam/cladam.20.jpg  faces95/pcfry/pcfry.20.jpg\n",
            "faces95/cladam/cladam.2.jpg   faces95/pcfry/pcfry.2.jpg\n",
            "faces95/cladam/cladam.3.jpg   faces95/pcfry/pcfry.3.jpg\n",
            "faces95/cladam/cladam.4.jpg   faces95/pcfry/pcfry.4.jpg\n",
            "faces95/cladam/cladam.5.jpg   faces95/pcfry/pcfry.5.jpg\n",
            "faces95/cladam/cladam.6.jpg   faces95/pcfry/pcfry.6.jpg\n",
            "faces95/cladam/cladam.7.jpg   faces95/pcfry/pcfry.7.jpg\n",
            "faces95/cladam/cladam.8.jpg   faces95/pcfry/pcfry.8.jpg\n",
            "faces95/cladam/cladam.9.jpg   faces95/pcfry/pcfry.9.jpg\n",
            "faces95/cywan/cywan.10.jpg    faces95/pears/pears.10.jpg\n",
            "faces95/cywan/cywan.11.jpg    faces95/pears/pears.11.jpg\n",
            "faces95/cywan/cywan.12.jpg    faces95/pears/pears.12.jpg\n",
            "faces95/cywan/cywan.13.jpg    faces95/pears/pears.13.jpg\n",
            "faces95/cywan/cywan.14.jpg    faces95/pears/pears.14.jpg\n",
            "faces95/cywan/cywan.15.jpg    faces95/pears/pears.15.jpg\n",
            "faces95/cywan/cywan.16.jpg    faces95/pears/pears.16.jpg\n",
            "faces95/cywan/cywan.17.jpg    faces95/pears/pears.17.jpg\n",
            "faces95/cywan/cywan.18.jpg    faces95/pears/pears.18.jpg\n",
            "faces95/cywan/cywan.19.jpg    faces95/pears/pears.19.jpg\n",
            "faces95/cywan/cywan.1.jpg     faces95/pears/pears.1.jpg\n",
            "faces95/cywan/cywan.20.jpg    faces95/pears/pears.20.jpg\n",
            "faces95/cywan/cywan.2.jpg     faces95/pears/pears.2.jpg\n",
            "faces95/cywan/cywan.3.jpg     faces95/pears/pears.3.jpg\n",
            "faces95/cywan/cywan.4.jpg     faces95/pears/pears.4.jpg\n",
            "faces95/cywan/cywan.5.jpg     faces95/pears/pears.5.jpg\n",
            "faces95/cywan/cywan.6.jpg     faces95/pears/pears.6.jpg\n",
            "faces95/cywan/cywan.7.jpg     faces95/pears/pears.7.jpg\n",
            "faces95/cywan/cywan.8.jpg     faces95/pears/pears.8.jpg\n",
            "faces95/cywan/cywan.9.jpg     faces95/pears/pears.9.jpg\n",
            "faces95/dakram/dakram.10.jpg  faces95/pjrand/pjrand.10.jpg\n",
            "faces95/dakram/dakram.11.jpg  faces95/pjrand/pjrand.11.jpg\n",
            "faces95/dakram/dakram.12.jpg  faces95/pjrand/pjrand.12.jpg\n",
            "faces95/dakram/dakram.13.jpg  faces95/pjrand/pjrand.13.jpg\n",
            "faces95/dakram/dakram.14.jpg  faces95/pjrand/pjrand.14.jpg\n",
            "faces95/dakram/dakram.15.jpg  faces95/pjrand/pjrand.15.jpg\n",
            "faces95/dakram/dakram.16.jpg  faces95/pjrand/pjrand.16.jpg\n",
            "faces95/dakram/dakram.17.jpg  faces95/pjrand/pjrand.17.jpg\n",
            "faces95/dakram/dakram.18.jpg  faces95/pjrand/pjrand.18.jpg\n",
            "faces95/dakram/dakram.19.jpg  faces95/pjrand/pjrand.19.jpg\n",
            "faces95/dakram/dakram.1.jpg   faces95/pjrand/pjrand.1.jpg\n",
            "faces95/dakram/dakram.20.jpg  faces95/pjrand/pjrand.20.jpg\n",
            "faces95/dakram/dakram.2.jpg   faces95/pjrand/pjrand.2.jpg\n",
            "faces95/dakram/dakram.3.jpg   faces95/pjrand/pjrand.3.jpg\n",
            "faces95/dakram/dakram.4.jpg   faces95/pjrand/pjrand.4.jpg\n",
            "faces95/dakram/dakram.5.jpg   faces95/pjrand/pjrand.5.jpg\n",
            "faces95/dakram/dakram.6.jpg   faces95/pjrand/pjrand.6.jpg\n",
            "faces95/dakram/dakram.7.jpg   faces95/pjrand/pjrand.7.jpg\n",
            "faces95/dakram/dakram.8.jpg   faces95/pjrand/pjrand.8.jpg\n",
            "faces95/dakram/dakram.9.jpg   faces95/pjrand/pjrand.9.jpg\n",
            "faces95/damvo/damvo.10.jpg    faces95/rafox/rafox.10.jpg\n",
            "faces95/damvo/damvo.11.jpg    faces95/rafox/rafox.11.jpg\n",
            "faces95/damvo/damvo.12.jpg    faces95/rafox/rafox.12.jpg\n",
            "faces95/damvo/damvo.13.jpg    faces95/rafox/rafox.13.jpg\n",
            "faces95/damvo/damvo.14.jpg    faces95/rafox/rafox.14.jpg\n",
            "faces95/damvo/damvo.15.jpg    faces95/rafox/rafox.15.jpg\n",
            "faces95/damvo/damvo.16.jpg    faces95/rafox/rafox.16.jpg\n",
            "faces95/damvo/damvo.17.jpg    faces95/rafox/rafox.17.jpg\n",
            "faces95/damvo/damvo.18.jpg    faces95/rafox/rafox.18.jpg\n",
            "faces95/damvo/damvo.19.jpg    faces95/rafox/rafox.19.jpg\n",
            "faces95/damvo/damvo.1.jpg     faces95/rafox/rafox.1.jpg\n",
            "faces95/damvo/damvo.20.jpg    faces95/rafox/rafox.20.jpg\n",
            "faces95/damvo/damvo.2.jpg     faces95/rafox/rafox.2.jpg\n",
            "faces95/damvo/damvo.3.jpg     faces95/rafox/rafox.3.jpg\n",
            "faces95/damvo/damvo.4.jpg     faces95/rafox/rafox.4.jpg\n",
            "faces95/damvo/damvo.5.jpg     faces95/rafox/rafox.5.jpg\n",
            "faces95/damvo/damvo.6.jpg     faces95/rafox/rafox.6.jpg\n",
            "faces95/damvo/damvo.7.jpg     faces95/rafox/rafox.7.jpg\n",
            "faces95/damvo/damvo.8.jpg     faces95/rafox/rafox.8.jpg\n",
            "faces95/damvo/damvo.9.jpg     faces95/rafox/rafox.9.jpg\n",
            "faces95/darda/darda.10.jpg    faces95/rhaitk/rhaitk.10.jpg\n",
            "faces95/darda/darda.11.jpg    faces95/rhaitk/rhaitk.11.jpg\n",
            "faces95/darda/darda.12.jpg    faces95/rhaitk/rhaitk.12.jpg\n",
            "faces95/darda/darda.13.jpg    faces95/rhaitk/rhaitk.13.jpg\n",
            "faces95/darda/darda.14.jpg    faces95/rhaitk/rhaitk.14.jpg\n",
            "faces95/darda/darda.15.jpg    faces95/rhaitk/rhaitk.15.jpg\n",
            "faces95/darda/darda.16.jpg    faces95/rhaitk/rhaitk.16.jpg\n",
            "faces95/darda/darda.17.jpg    faces95/rhaitk/rhaitk.17.jpg\n",
            "faces95/darda/darda.18.jpg    faces95/rhaitk/rhaitk.18.jpg\n",
            "faces95/darda/darda.19.jpg    faces95/rhaitk/rhaitk.19.jpg\n",
            "faces95/darda/darda.1.jpg     faces95/rhaitk/rhaitk.1.jpg\n",
            "faces95/darda/darda.20.jpg    faces95/rhaitk/rhaitk.20.jpg\n",
            "faces95/darda/darda.2.jpg     faces95/rhaitk/rhaitk.2.jpg\n",
            "faces95/darda/darda.3.jpg     faces95/rhaitk/rhaitk.3.jpg\n",
            "faces95/darda/darda.4.jpg     faces95/rhaitk/rhaitk.4.jpg\n",
            "faces95/darda/darda.5.jpg     faces95/rhaitk/rhaitk.5.jpg\n",
            "faces95/darda/darda.6.jpg     faces95/rhaitk/rhaitk.6.jpg\n",
            "faces95/darda/darda.7.jpg     faces95/rhaitk/rhaitk.7.jpg\n",
            "faces95/darda/darda.8.jpg     faces95/rhaitk/rhaitk.8.jpg\n",
            "faces95/darda/darda.9.jpg     faces95/rhaitk/rhaitk.9.jpg\n",
            "faces95/dfhodd/dfhodd.10.jpg  faces95/rhnorm/rhnorm.10.jpg\n",
            "faces95/dfhodd/dfhodd.11.jpg  faces95/rhnorm/rhnorm.11.jpg\n",
            "faces95/dfhodd/dfhodd.12.jpg  faces95/rhnorm/rhnorm.12.jpg\n",
            "faces95/dfhodd/dfhodd.13.jpg  faces95/rhnorm/rhnorm.13.jpg\n",
            "faces95/dfhodd/dfhodd.14.jpg  faces95/rhnorm/rhnorm.14.jpg\n",
            "faces95/dfhodd/dfhodd.15.jpg  faces95/rhnorm/rhnorm.15.jpg\n",
            "faces95/dfhodd/dfhodd.16.jpg  faces95/rhnorm/rhnorm.16.jpg\n",
            "faces95/dfhodd/dfhodd.17.jpg  faces95/rhnorm/rhnorm.17.jpg\n",
            "faces95/dfhodd/dfhodd.18.jpg  faces95/rhnorm/rhnorm.18.jpg\n",
            "faces95/dfhodd/dfhodd.19.jpg  faces95/rhnorm/rhnorm.19.jpg\n",
            "faces95/dfhodd/dfhodd.1.jpg   faces95/rhnorm/rhnorm.1.jpg\n",
            "faces95/dfhodd/dfhodd.20.jpg  faces95/rhnorm/rhnorm.20.jpg\n",
            "faces95/dfhodd/dfhodd.2.jpg   faces95/rhnorm/rhnorm.2.jpg\n",
            "faces95/dfhodd/dfhodd.3.jpg   faces95/rhnorm/rhnorm.3.jpg\n",
            "faces95/dfhodd/dfhodd.4.jpg   faces95/rhnorm/rhnorm.4.jpg\n",
            "faces95/dfhodd/dfhodd.5.jpg   faces95/rhnorm/rhnorm.5.jpg\n",
            "faces95/dfhodd/dfhodd.6.jpg   faces95/rhnorm/rhnorm.6.jpg\n",
            "faces95/dfhodd/dfhodd.7.jpg   faces95/rhnorm/rhnorm.7.jpg\n",
            "faces95/dfhodd/dfhodd.8.jpg   faces95/rhnorm/rhnorm.8.jpg\n",
            "faces95/dfhodd/dfhodd.9.jpg   faces95/rhnorm/rhnorm.9.jpg\n",
            "faces95/dgemen/dgemen.10.jpg  faces95/riphil/riphil.10.jpg\n",
            "faces95/dgemen/dgemen.11.jpg  faces95/riphil/riphil.11.jpg\n",
            "faces95/dgemen/dgemen.12.jpg  faces95/riphil/riphil.12.jpg\n",
            "faces95/dgemen/dgemen.13.jpg  faces95/riphil/riphil.13.jpg\n",
            "faces95/dgemen/dgemen.14.jpg  faces95/riphil/riphil.14.jpg\n",
            "faces95/dgemen/dgemen.15.jpg  faces95/riphil/riphil.15.jpg\n",
            "faces95/dgemen/dgemen.16.jpg  faces95/riphil/riphil.16.jpg\n",
            "faces95/dgemen/dgemen.17.jpg  faces95/riphil/riphil.17.jpg\n",
            "faces95/dgemen/dgemen.18.jpg  faces95/riphil/riphil.18.jpg\n",
            "faces95/dgemen/dgemen.19.jpg  faces95/riphil/riphil.19.jpg\n",
            "faces95/dgemen/dgemen.1.jpg   faces95/riphil/riphil.1.jpg\n",
            "faces95/dgemen/dgemen.20.jpg  faces95/riphil/riphil.20.jpg\n",
            "faces95/dgemen/dgemen.2.jpg   faces95/riphil/riphil.2.jpg\n",
            "faces95/dgemen/dgemen.3.jpg   faces95/riphil/riphil.3.jpg\n",
            "faces95/dgemen/dgemen.4.jpg   faces95/riphil/riphil.4.jpg\n",
            "faces95/dgemen/dgemen.5.jpg   faces95/riphil/riphil.5.jpg\n",
            "faces95/dgemen/dgemen.6.jpg   faces95/riphil/riphil.6.jpg\n",
            "faces95/dgemen/dgemen.7.jpg   faces95/riphil/riphil.7.jpg\n",
            "faces95/dgemen/dgemen.8.jpg   faces95/riphil/riphil.8.jpg\n",
            "faces95/dgemen/dgemen.9.jpg   faces95/riphil/riphil.9.jpg\n",
            "faces95/gsmall/gsmall.10.jpg  faces95/rjdunc/rjdunc.10.jpg\n",
            "faces95/gsmall/gsmall.11.jpg  faces95/rjdunc/rjdunc.11.jpg\n",
            "faces95/gsmall/gsmall.12.jpg  faces95/rjdunc/rjdunc.12.jpg\n",
            "faces95/gsmall/gsmall.13.jpg  faces95/rjdunc/rjdunc.13.jpg\n",
            "faces95/gsmall/gsmall.14.jpg  faces95/rjdunc/rjdunc.14.jpg\n",
            "faces95/gsmall/gsmall.15.jpg  faces95/rjdunc/rjdunc.15.jpg\n",
            "faces95/gsmall/gsmall.16.jpg  faces95/rjdunc/rjdunc.16.jpg\n",
            "faces95/gsmall/gsmall.17.jpg  faces95/rjdunc/rjdunc.17.jpg\n",
            "faces95/gsmall/gsmall.18.jpg  faces95/rjdunc/rjdunc.18.jpg\n",
            "faces95/gsmall/gsmall.19.jpg  faces95/rjdunc/rjdunc.19.jpg\n",
            "faces95/gsmall/gsmall.1.jpg   faces95/rjdunc/rjdunc.1.jpg\n",
            "faces95/gsmall/gsmall.20.jpg  faces95/rjdunc/rjdunc.20.jpg\n",
            "faces95/gsmall/gsmall.2.jpg   faces95/rjdunc/rjdunc.2.jpg\n",
            "faces95/gsmall/gsmall.3.jpg   faces95/rjdunc/rjdunc.3.jpg\n",
            "faces95/gsmall/gsmall.4.jpg   faces95/rjdunc/rjdunc.4.jpg\n",
            "faces95/gsmall/gsmall.5.jpg   faces95/rjdunc/rjdunc.5.jpg\n",
            "faces95/gsmall/gsmall.6.jpg   faces95/rjdunc/rjdunc.6.jpg\n",
            "faces95/gsmall/gsmall.7.jpg   faces95/rjdunc/rjdunc.7.jpg\n",
            "faces95/gsmall/gsmall.8.jpg   faces95/rjdunc/rjdunc.8.jpg\n",
            "faces95/gsmall/gsmall.9.jpg   faces95/rjdunc/rjdunc.9.jpg\n",
            "faces95/gstamo/gstamo.10.jpg  faces95/sapere/sapere.10.jpg\n",
            "faces95/gstamo/gstamo.11.jpg  faces95/sapere/sapere.11.jpg\n",
            "faces95/gstamo/gstamo.12.jpg  faces95/sapere/sapere.12.jpg\n",
            "faces95/gstamo/gstamo.13.jpg  faces95/sapere/sapere.13.jpg\n",
            "faces95/gstamo/gstamo.14.jpg  faces95/sapere/sapere.14.jpg\n",
            "faces95/gstamo/gstamo.15.jpg  faces95/sapere/sapere.15.jpg\n",
            "faces95/gstamo/gstamo.16.jpg  faces95/sapere/sapere.16.jpg\n",
            "faces95/gstamo/gstamo.17.jpg  faces95/sapere/sapere.17.jpg\n",
            "faces95/gstamo/gstamo.18.jpg  faces95/sapere/sapere.18.jpg\n",
            "faces95/gstamo/gstamo.19.jpg  faces95/sapere/sapere.19.jpg\n",
            "faces95/gstamo/gstamo.1.jpg   faces95/sapere/sapere.1.jpg\n",
            "faces95/gstamo/gstamo.20.jpg  faces95/sapere/sapere.20.jpg\n",
            "faces95/gstamo/gstamo.2.jpg   faces95/sapere/sapere.2.jpg\n",
            "faces95/gstamo/gstamo.3.jpg   faces95/sapere/sapere.3.jpg\n",
            "faces95/gstamo/gstamo.4.jpg   faces95/sapere/sapere.4.jpg\n",
            "faces95/gstamo/gstamo.5.jpg   faces95/sapere/sapere.5.jpg\n",
            "faces95/gstamo/gstamo.6.jpg   faces95/sapere/sapere.6.jpg\n",
            "faces95/gstamo/gstamo.7.jpg   faces95/sapere/sapere.7.jpg\n",
            "faces95/gstamo/gstamo.8.jpg   faces95/sapere/sapere.8.jpg\n",
            "faces95/gstamo/gstamo.9.jpg   faces95/sapere/sapere.9.jpg\n",
            "faces95/gsvird/gsvird.10.jpg  faces95/sdwall/sdwall.10.jpg\n",
            "faces95/gsvird/gsvird.11.jpg  faces95/sdwall/sdwall.11.jpg\n",
            "faces95/gsvird/gsvird.12.jpg  faces95/sdwall/sdwall.12.jpg\n",
            "faces95/gsvird/gsvird.13.jpg  faces95/sdwall/sdwall.13.jpg\n",
            "faces95/gsvird/gsvird.14.jpg  faces95/sdwall/sdwall.14.jpg\n",
            "faces95/gsvird/gsvird.15.jpg  faces95/sdwall/sdwall.15.jpg\n",
            "faces95/gsvird/gsvird.16.jpg  faces95/sdwall/sdwall.16.jpg\n",
            "faces95/gsvird/gsvird.17.jpg  faces95/sdwall/sdwall.17.jpg\n",
            "faces95/gsvird/gsvird.18.jpg  faces95/sdwall/sdwall.18.jpg\n",
            "faces95/gsvird/gsvird.19.jpg  faces95/sdwall/sdwall.19.jpg\n",
            "faces95/gsvird/gsvird.1.jpg   faces95/sdwall/sdwall.1.jpg\n",
            "faces95/gsvird/gsvird.20.jpg  faces95/sdwall/sdwall.20.jpg\n",
            "faces95/gsvird/gsvird.2.jpg   faces95/sdwall/sdwall.2.jpg\n",
            "faces95/gsvird/gsvird.3.jpg   faces95/sdwall/sdwall.3.jpg\n",
            "faces95/gsvird/gsvird.4.jpg   faces95/sdwall/sdwall.4.jpg\n",
            "faces95/gsvird/gsvird.5.jpg   faces95/sdwall/sdwall.5.jpg\n",
            "faces95/gsvird/gsvird.6.jpg   faces95/sdwall/sdwall.6.jpg\n",
            "faces95/gsvird/gsvird.7.jpg   faces95/sdwall/sdwall.7.jpg\n",
            "faces95/gsvird/gsvird.8.jpg   faces95/sdwall/sdwall.8.jpg\n",
            "faces95/gsvird/gsvird.9.jpg   faces95/sdwall/sdwall.9.jpg\n",
            "faces95/hcarpe/hcarpe.10.jpg  faces95/sgjday/sgjday.10.jpg\n",
            "faces95/hcarpe/hcarpe.11.jpg  faces95/sgjday/sgjday.11.jpg\n",
            "faces95/hcarpe/hcarpe.12.jpg  faces95/sgjday/sgjday.12.jpg\n",
            "faces95/hcarpe/hcarpe.13.jpg  faces95/sgjday/sgjday.13.jpg\n",
            "faces95/hcarpe/hcarpe.14.jpg  faces95/sgjday/sgjday.14.jpg\n",
            "faces95/hcarpe/hcarpe.15.jpg  faces95/sgjday/sgjday.15.jpg\n",
            "faces95/hcarpe/hcarpe.16.jpg  faces95/sgjday/sgjday.16.jpg\n",
            "faces95/hcarpe/hcarpe.17.jpg  faces95/sgjday/sgjday.17.jpg\n",
            "faces95/hcarpe/hcarpe.18.jpg  faces95/sgjday/sgjday.18.jpg\n",
            "faces95/hcarpe/hcarpe.19.jpg  faces95/sgjday/sgjday.19.jpg\n",
            "faces95/hcarpe/hcarpe.1.jpg   faces95/sgjday/sgjday.1.jpg\n",
            "faces95/hcarpe/hcarpe.20.jpg  faces95/sgjday/sgjday.20.jpg\n",
            "faces95/hcarpe/hcarpe.2.jpg   faces95/sgjday/sgjday.2.jpg\n",
            "faces95/hcarpe/hcarpe.3.jpg   faces95/sgjday/sgjday.3.jpg\n",
            "faces95/hcarpe/hcarpe.4.jpg   faces95/sgjday/sgjday.4.jpg\n",
            "faces95/hcarpe/hcarpe.5.jpg   faces95/sgjday/sgjday.5.jpg\n",
            "faces95/hcarpe/hcarpe.6.jpg   faces95/sgjday/sgjday.6.jpg\n",
            "faces95/hcarpe/hcarpe.7.jpg   faces95/sgjday/sgjday.7.jpg\n",
            "faces95/hcarpe/hcarpe.8.jpg   faces95/sgjday/sgjday.8.jpg\n",
            "faces95/hcarpe/hcarpe.9.jpg   faces95/sgjday/sgjday.9.jpg\n",
            "faces95/howar/howar.10.jpg    faces95/sherbe/sherbe.10.jpg\n",
            "faces95/howar/howar.11.jpg    faces95/sherbe/sherbe.11.jpg\n",
            "faces95/howar/howar.12.jpg    faces95/sherbe/sherbe.12.jpg\n",
            "faces95/howar/howar.13.jpg    faces95/sherbe/sherbe.13.jpg\n",
            "faces95/howar/howar.14.jpg    faces95/sherbe/sherbe.14.jpg\n",
            "faces95/howar/howar.15.jpg    faces95/sherbe/sherbe.15.jpg\n",
            "faces95/howar/howar.16.jpg    faces95/sherbe/sherbe.16.jpg\n",
            "faces95/howar/howar.17.jpg    faces95/sherbe/sherbe.17.jpg\n",
            "faces95/howar/howar.18.jpg    faces95/sherbe/sherbe.18.jpg\n",
            "faces95/howar/howar.19.jpg    faces95/sherbe/sherbe.19.jpg\n",
            "faces95/howar/howar.1.jpg     faces95/sherbe/sherbe.1.jpg\n",
            "faces95/howar/howar.20.jpg    faces95/sherbe/sherbe.20.jpg\n",
            "faces95/howar/howar.2.jpg     faces95/sherbe/sherbe.2.jpg\n",
            "faces95/howar/howar.3.jpg     faces95/sherbe/sherbe.3.jpg\n",
            "faces95/howar/howar.4.jpg     faces95/sherbe/sherbe.4.jpg\n",
            "faces95/howar/howar.5.jpg     faces95/sherbe/sherbe.5.jpg\n",
            "faces95/howar/howar.6.jpg     faces95/sherbe/sherbe.6.jpg\n",
            "faces95/howar/howar.7.jpg     faces95/sherbe/sherbe.7.jpg\n",
            "faces95/howar/howar.8.jpg     faces95/sherbe/sherbe.8.jpg\n",
            "faces95/howar/howar.9.jpg     faces95/sherbe/sherbe.9.jpg\n",
            "faces95/hsgrim/hsgrim.10.jpg  faces95/simm/simm.10.jpg\n",
            "faces95/hsgrim/hsgrim.11.jpg  faces95/simm/simm.11.jpg\n",
            "faces95/hsgrim/hsgrim.12.jpg  faces95/simm/simm.12.jpg\n",
            "faces95/hsgrim/hsgrim.13.jpg  faces95/simm/simm.13.jpg\n",
            "faces95/hsgrim/hsgrim.14.jpg  faces95/simm/simm.14.jpg\n",
            "faces95/hsgrim/hsgrim.15.jpg  faces95/simm/simm.15.jpg\n",
            "faces95/hsgrim/hsgrim.16.jpg  faces95/simm/simm.16.jpg\n",
            "faces95/hsgrim/hsgrim.17.jpg  faces95/simm/simm.17.jpg\n",
            "faces95/hsgrim/hsgrim.18.jpg  faces95/simm/simm.18.jpg\n",
            "faces95/hsgrim/hsgrim.19.jpg  faces95/simm/simm.19.jpg\n",
            "faces95/hsgrim/hsgrim.1.jpg   faces95/simm/simm.1.jpg\n",
            "faces95/hsgrim/hsgrim.20.jpg  faces95/simm/simm.20.jpg\n",
            "faces95/hsgrim/hsgrim.2.jpg   faces95/simm/simm.2.jpg\n",
            "faces95/hsgrim/hsgrim.3.jpg   faces95/simm/simm.3.jpg\n",
            "faces95/hsgrim/hsgrim.4.jpg   faces95/simm/simm.4.jpg\n",
            "faces95/hsgrim/hsgrim.5.jpg   faces95/simm/simm.5.jpg\n",
            "faces95/hsgrim/hsgrim.6.jpg   faces95/simm/simm.6.jpg\n",
            "faces95/hsgrim/hsgrim.7.jpg   faces95/simm/simm.7.jpg\n",
            "faces95/hsgrim/hsgrim.8.jpg   faces95/simm/simm.8.jpg\n",
            "faces95/hsgrim/hsgrim.9.jpg   faces95/simm/simm.9.jpg\n",
            "faces95/ijfran/ijfran.10.jpg  faces95/sirmcb/sirmcb.10.jpg\n",
            "faces95/ijfran/ijfran.11.jpg  faces95/sirmcb/sirmcb.11.jpg\n",
            "faces95/ijfran/ijfran.12.jpg  faces95/sirmcb/sirmcb.12.jpg\n",
            "faces95/ijfran/ijfran.13.jpg  faces95/sirmcb/sirmcb.13.jpg\n",
            "faces95/ijfran/ijfran.14.jpg  faces95/sirmcb/sirmcb.14.jpg\n",
            "faces95/ijfran/ijfran.15.jpg  faces95/sirmcb/sirmcb.15.jpg\n",
            "faces95/ijfran/ijfran.16.jpg  faces95/sirmcb/sirmcb.16.jpg\n",
            "faces95/ijfran/ijfran.17.jpg  faces95/sirmcb/sirmcb.17.jpg\n",
            "faces95/ijfran/ijfran.18.jpg  faces95/sirmcb/sirmcb.18.jpg\n",
            "faces95/ijfran/ijfran.19.jpg  faces95/sirmcb/sirmcb.19.jpg\n",
            "faces95/ijfran/ijfran.1.jpg   faces95/sirmcb/sirmcb.1.jpg\n",
            "faces95/ijfran/ijfran.20.jpg  faces95/sirmcb/sirmcb.20.jpg\n",
            "faces95/ijfran/ijfran.2.jpg   faces95/sirmcb/sirmcb.2.jpg\n",
            "faces95/ijfran/ijfran.3.jpg   faces95/sirmcb/sirmcb.3.jpg\n",
            "faces95/ijfran/ijfran.4.jpg   faces95/sirmcb/sirmcb.4.jpg\n",
            "faces95/ijfran/ijfran.5.jpg   faces95/sirmcb/sirmcb.5.jpg\n",
            "faces95/ijfran/ijfran.6.jpg   faces95/sirmcb/sirmcb.6.jpg\n",
            "faces95/ijfran/ijfran.7.jpg   faces95/sirmcb/sirmcb.7.jpg\n",
            "faces95/ijfran/ijfran.8.jpg   faces95/sirmcb/sirmcb.8.jpg\n",
            "faces95/ijfran/ijfran.9.jpg   faces95/sirmcb/sirmcb.9.jpg\n",
            "faces95/isbald/isbald.10.jpg  faces95/sjcutt/sjcutt.10.jpg\n",
            "faces95/isbald/isbald.11.jpg  faces95/sjcutt/sjcutt.11.jpg\n",
            "faces95/isbald/isbald.12.jpg  faces95/sjcutt/sjcutt.12.jpg\n",
            "faces95/isbald/isbald.13.jpg  faces95/sjcutt/sjcutt.13.jpg\n",
            "faces95/isbald/isbald.14.jpg  faces95/sjcutt/sjcutt.14.jpg\n",
            "faces95/isbald/isbald.15.jpg  faces95/sjcutt/sjcutt.15.jpg\n",
            "faces95/isbald/isbald.16.jpg  faces95/sjcutt/sjcutt.16.jpg\n",
            "faces95/isbald/isbald.17.jpg  faces95/sjcutt/sjcutt.17.jpg\n",
            "faces95/isbald/isbald.18.jpg  faces95/sjcutt/sjcutt.18.jpg\n",
            "faces95/isbald/isbald.19.jpg  faces95/sjcutt/sjcutt.19.jpg\n",
            "faces95/isbald/isbald.1.jpg   faces95/sjcutt/sjcutt.1.jpg\n",
            "faces95/isbald/isbald.20.jpg  faces95/sjcutt/sjcutt.20.jpg\n",
            "faces95/isbald/isbald.2.jpg   faces95/sjcutt/sjcutt.2.jpg\n",
            "faces95/isbald/isbald.3.jpg   faces95/sjcutt/sjcutt.3.jpg\n",
            "faces95/isbald/isbald.4.jpg   faces95/sjcutt/sjcutt.4.jpg\n",
            "faces95/isbald/isbald.5.jpg   faces95/sjcutt/sjcutt.5.jpg\n",
            "faces95/isbald/isbald.6.jpg   faces95/sjcutt/sjcutt.6.jpg\n",
            "faces95/isbald/isbald.7.jpg   faces95/sjcutt/sjcutt.7.jpg\n",
            "faces95/isbald/isbald.8.jpg   faces95/sjcutt/sjcutt.8.jpg\n",
            "faces95/isbald/isbald.9.jpg   faces95/sjcutt/sjcutt.9.jpg\n",
            "faces95/jbierl/jbierl.10.jpg  faces95/sjkill/sjkill.10.jpg\n",
            "faces95/jbierl/jbierl.11.jpg  faces95/sjkill/sjkill.11.jpg\n",
            "faces95/jbierl/jbierl.12.jpg  faces95/sjkill/sjkill.12.jpg\n",
            "faces95/jbierl/jbierl.13.jpg  faces95/sjkill/sjkill.13.jpg\n",
            "faces95/jbierl/jbierl.14.jpg  faces95/sjkill/sjkill.14.jpg\n",
            "faces95/jbierl/jbierl.15.jpg  faces95/sjkill/sjkill.15.jpg\n",
            "faces95/jbierl/jbierl.16.jpg  faces95/sjkill/sjkill.16.jpg\n",
            "faces95/jbierl/jbierl.17.jpg  faces95/sjkill/sjkill.17.jpg\n",
            "faces95/jbierl/jbierl.18.jpg  faces95/sjkill/sjkill.18.jpg\n",
            "faces95/jbierl/jbierl.19.jpg  faces95/sjkill/sjkill.19.jpg\n",
            "faces95/jbierl/jbierl.1.jpg   faces95/sjkill/sjkill.1.jpg\n",
            "faces95/jbierl/jbierl.20.jpg  faces95/sjkill/sjkill.20.jpg\n",
            "faces95/jbierl/jbierl.2.jpg   faces95/sjkill/sjkill.2.jpg\n",
            "faces95/jbierl/jbierl.3.jpg   faces95/sjkill/sjkill.3.jpg\n",
            "faces95/jbierl/jbierl.4.jpg   faces95/sjkill/sjkill.4.jpg\n",
            "faces95/jbierl/jbierl.5.jpg   faces95/sjkill/sjkill.5.jpg\n",
            "faces95/jbierl/jbierl.6.jpg   faces95/sjkill/sjkill.6.jpg\n",
            "faces95/jbierl/jbierl.7.jpg   faces95/sjkill/sjkill.7.jpg\n",
            "faces95/jbierl/jbierl.8.jpg   faces95/sjkill/sjkill.8.jpg\n",
            "faces95/jbierl/jbierl.9.jpg   faces95/sjkill/sjkill.9.jpg\n",
            "faces95/jross/jross.10.jpg    faces95/sjpalm/sjpalm.10.jpg\n",
            "faces95/jross/jross.11.jpg    faces95/sjpalm/sjpalm.11.jpg\n",
            "faces95/jross/jross.12.jpg    faces95/sjpalm/sjpalm.12.jpg\n",
            "faces95/jross/jross.13.jpg    faces95/sjpalm/sjpalm.13.jpg\n",
            "faces95/jross/jross.14.jpg    faces95/sjpalm/sjpalm.14.jpg\n",
            "faces95/jross/jross.15.jpg    faces95/sjpalm/sjpalm.15.jpg\n",
            "faces95/jross/jross.16.jpg    faces95/sjpalm/sjpalm.16.jpg\n",
            "faces95/jross/jross.17.jpg    faces95/sjpalm/sjpalm.17.jpg\n",
            "faces95/jross/jross.18.jpg    faces95/sjpalm/sjpalm.18.jpg\n",
            "faces95/jross/jross.19.jpg    faces95/sjpalm/sjpalm.19.jpg\n",
            "faces95/jross/jross.1.jpg     faces95/sjpalm/sjpalm.1.jpg\n",
            "faces95/jross/jross.20.jpg    faces95/sjpalm/sjpalm.20.jpg\n",
            "faces95/jross/jross.2.jpg     faces95/sjpalm/sjpalm.2.jpg\n",
            "faces95/jross/jross.3.jpg     faces95/sjpalm/sjpalm.3.jpg\n",
            "faces95/jross/jross.4.jpg     faces95/sjpalm/sjpalm.4.jpg\n",
            "faces95/jross/jross.5.jpg     faces95/sjpalm/sjpalm.5.jpg\n",
            "faces95/jross/jross.6.jpg     faces95/sjpalm/sjpalm.6.jpg\n",
            "faces95/jross/jross.7.jpg     faces95/sjpalm/sjpalm.7.jpg\n",
            "faces95/jross/jross.8.jpg     faces95/sjpalm/sjpalm.8.jpg\n",
            "faces95/jross/jross.9.jpg     faces95/sjpalm/sjpalm.9.jpg\n",
            "faces95/jserai/jserai.10.jpg  faces95/smille/smille.10.jpg\n",
            "faces95/jserai/jserai.11.jpg  faces95/smille/smille.11.jpg\n",
            "faces95/jserai/jserai.12.jpg  faces95/smille/smille.12.jpg\n",
            "faces95/jserai/jserai.13.jpg  faces95/smille/smille.13.jpg\n",
            "faces95/jserai/jserai.14.jpg  faces95/smille/smille.14.jpg\n",
            "faces95/jserai/jserai.15.jpg  faces95/smille/smille.15.jpg\n",
            "faces95/jserai/jserai.16.jpg  faces95/smille/smille.16.jpg\n",
            "faces95/jserai/jserai.17.jpg  faces95/smille/smille.17.jpg\n",
            "faces95/jserai/jserai.18.jpg  faces95/smille/smille.18.jpg\n",
            "faces95/jserai/jserai.19.jpg  faces95/smille/smille.19.jpg\n",
            "faces95/jserai/jserai.1.jpg   faces95/smille/smille.1.jpg\n",
            "faces95/jserai/jserai.20.jpg  faces95/smille/smille.20.jpg\n",
            "faces95/jserai/jserai.2.jpg   faces95/smille/smille.2.jpg\n",
            "faces95/jserai/jserai.3.jpg   faces95/smille/smille.3.jpg\n",
            "faces95/jserai/jserai.4.jpg   faces95/smille/smille.4.jpg\n",
            "faces95/jserai/jserai.5.jpg   faces95/smille/smille.5.jpg\n",
            "faces95/jserai/jserai.6.jpg   faces95/smille/smille.6.jpg\n",
            "faces95/jserai/jserai.7.jpg   faces95/smille/smille.7.jpg\n",
            "faces95/jserai/jserai.8.jpg   faces95/smille/smille.8.jpg\n",
            "faces95/jserai/jserai.9.jpg   faces95/smille/smille.9.jpg\n",
            "faces95/jshea/jshea.10.jpg    faces95/theoc/theoc.10.jpg\n",
            "faces95/jshea/jshea.11.jpg    faces95/theoc/theoc.11.jpg\n",
            "faces95/jshea/jshea.12.jpg    faces95/theoc/theoc.12.jpg\n",
            "faces95/jshea/jshea.13.jpg    faces95/theoc/theoc.13.jpg\n",
            "faces95/jshea/jshea.14.jpg    faces95/theoc/theoc.14.jpg\n",
            "faces95/jshea/jshea.15.jpg    faces95/theoc/theoc.15.jpg\n",
            "faces95/jshea/jshea.16.jpg    faces95/theoc/theoc.16.jpg\n",
            "faces95/jshea/jshea.17.jpg    faces95/theoc/theoc.17.jpg\n",
            "faces95/jshea/jshea.18.jpg    faces95/theoc/theoc.18.jpg\n",
            "faces95/jshea/jshea.19.jpg    faces95/theoc/theoc.19.jpg\n",
            "faces95/jshea/jshea.1.jpg     faces95/theoc/theoc.1.jpg\n",
            "faces95/jshea/jshea.20.jpg    faces95/theoc/theoc.20.jpg\n",
            "faces95/jshea/jshea.2.jpg     faces95/theoc/theoc.2.jpg\n",
            "faces95/jshea/jshea.3.jpg     faces95/theoc/theoc.3.jpg\n",
            "faces95/jshea/jshea.4.jpg     faces95/theoc/theoc.4.jpg\n",
            "faces95/jshea/jshea.5.jpg     faces95/theoc/theoc.5.jpg\n",
            "faces95/jshea/jshea.6.jpg     faces95/theoc/theoc.6.jpg\n",
            "faces95/jshea/jshea.7.jpg     faces95/theoc/theoc.7.jpg\n",
            "faces95/jshea/jshea.8.jpg     faces95/theoc/theoc.8.jpg\n",
            "faces95/jshea/jshea.9.jpg     faces95/theoc/theoc.9.jpg\n",
            "faces95/kbartl/kbartl.10.jpg  faces95/theod/theod.10.jpg\n",
            "faces95/kbartl/kbartl.11.jpg  faces95/theod/theod.11.jpg\n",
            "faces95/kbartl/kbartl.12.jpg  faces95/theod/theod.12.jpg\n",
            "faces95/kbartl/kbartl.13.jpg  faces95/theod/theod.13.jpg\n",
            "faces95/kbartl/kbartl.14.jpg  faces95/theod/theod.14.jpg\n",
            "faces95/kbartl/kbartl.15.jpg  faces95/theod/theod.15.jpg\n",
            "faces95/kbartl/kbartl.16.jpg  faces95/theod/theod.16.jpg\n",
            "faces95/kbartl/kbartl.17.jpg  faces95/theod/theod.17.jpg\n",
            "faces95/kbartl/kbartl.18.jpg  faces95/theod/theod.18.jpg\n",
            "faces95/kbartl/kbartl.19.jpg  faces95/theod/theod.19.jpg\n",
            "faces95/kbartl/kbartl.1.jpg   faces95/theod/theod.1.jpg\n",
            "faces95/kbartl/kbartl.20.jpg  faces95/theod/theod.20.jpg\n",
            "faces95/kbartl/kbartl.2.jpg   faces95/theod/theod.2.jpg\n",
            "faces95/kbartl/kbartl.3.jpg   faces95/theod/theod.3.jpg\n",
            "faces95/kbartl/kbartl.4.jpg   faces95/theod/theod.4.jpg\n",
            "faces95/kbartl/kbartl.5.jpg   faces95/theod/theod.5.jpg\n",
            "faces95/kbartl/kbartl.6.jpg   faces95/theod/theod.6.jpg\n",
            "faces95/kbartl/kbartl.7.jpg   faces95/theod/theod.7.jpg\n",
            "faces95/kbartl/kbartl.8.jpg   faces95/theod/theod.8.jpg\n",
            "faces95/kbartl/kbartl.9.jpg   faces95/theod/theod.9.jpg\n",
            "faces95/kmbald/kmbald.10.jpg  faces95/thgear/thgear.10.jpg\n",
            "faces95/kmbald/kmbald.11.jpg  faces95/thgear/thgear.11.jpg\n",
            "faces95/kmbald/kmbald.12.jpg  faces95/thgear/thgear.12.jpg\n",
            "faces95/kmbald/kmbald.13.jpg  faces95/thgear/thgear.13.jpg\n",
            "faces95/kmbald/kmbald.14.jpg  faces95/thgear/thgear.14.jpg\n",
            "faces95/kmbald/kmbald.15.jpg  faces95/thgear/thgear.15.jpg\n",
            "faces95/kmbald/kmbald.16.jpg  faces95/thgear/thgear.16.jpg\n",
            "faces95/kmbald/kmbald.17.jpg  faces95/thgear/thgear.17.jpg\n",
            "faces95/kmbald/kmbald.18.jpg  faces95/thgear/thgear.18.jpg\n",
            "faces95/kmbald/kmbald.19.jpg  faces95/thgear/thgear.19.jpg\n",
            "faces95/kmbald/kmbald.1.jpg   faces95/thgear/thgear.1.jpg\n",
            "faces95/kmbald/kmbald.20.jpg  faces95/thgear/thgear.20.jpg\n",
            "faces95/kmbald/kmbald.2.jpg   faces95/thgear/thgear.2.jpg\n",
            "faces95/kmbald/kmbald.3.jpg   faces95/thgear/thgear.3.jpg\n",
            "faces95/kmbald/kmbald.4.jpg   faces95/thgear/thgear.4.jpg\n",
            "faces95/kmbald/kmbald.5.jpg   faces95/thgear/thgear.5.jpg\n",
            "faces95/kmbald/kmbald.6.jpg   faces95/thgear/thgear.6.jpg\n",
            "faces95/kmbald/kmbald.7.jpg   faces95/thgear/thgear.7.jpg\n",
            "faces95/kmbald/kmbald.8.jpg   faces95/thgear/thgear.8.jpg\n",
            "faces95/kmbald/kmbald.9.jpg   faces95/thgear/thgear.9.jpg\n",
            "faces95/kouri/kouri.10.jpg    faces95/tjdyke/tjdyke.10.jpg\n",
            "faces95/kouri/kouri.11.jpg    faces95/tjdyke/tjdyke.11.jpg\n",
            "faces95/kouri/kouri.12.jpg    faces95/tjdyke/tjdyke.12.jpg\n",
            "faces95/kouri/kouri.13.jpg    faces95/tjdyke/tjdyke.13.jpg\n",
            "faces95/kouri/kouri.14.jpg    faces95/tjdyke/tjdyke.14.jpg\n",
            "faces95/kouri/kouri.15.jpg    faces95/tjdyke/tjdyke.15.jpg\n",
            "faces95/kouri/kouri.16.jpg    faces95/tjdyke/tjdyke.16.jpg\n",
            "faces95/kouri/kouri.17.jpg    faces95/tjdyke/tjdyke.17.jpg\n",
            "faces95/kouri/kouri.18.jpg    faces95/tjdyke/tjdyke.18.jpg\n",
            "faces95/kouri/kouri.19.jpg    faces95/tjdyke/tjdyke.19.jpg\n",
            "faces95/kouri/kouri.1.jpg     faces95/tjdyke/tjdyke.1.jpg\n",
            "faces95/kouri/kouri.20.jpg    faces95/tjdyke/tjdyke.20.jpg\n",
            "faces95/kouri/kouri.2.jpg     faces95/tjdyke/tjdyke.2.jpg\n",
            "faces95/kouri/kouri.3.jpg     faces95/tjdyke/tjdyke.3.jpg\n",
            "faces95/kouri/kouri.4.jpg     faces95/tjdyke/tjdyke.4.jpg\n",
            "faces95/kouri/kouri.5.jpg     faces95/tjdyke/tjdyke.5.jpg\n",
            "faces95/kouri/kouri.6.jpg     faces95/tjdyke/tjdyke.6.jpg\n",
            "faces95/kouri/kouri.7.jpg     faces95/tjdyke/tjdyke.7.jpg\n",
            "faces95/kouri/kouri.8.jpg     faces95/tjdyke/tjdyke.8.jpg\n",
            "faces95/kouri/kouri.9.jpg     faces95/tjdyke/tjdyke.9.jpg\n",
            "faces95/labenm/labenm.10.jpg  faces95/vanta/vanta.10.jpg\n",
            "faces95/labenm/labenm.11.jpg  faces95/vanta/vanta.11.jpg\n",
            "faces95/labenm/labenm.12.jpg  faces95/vanta/vanta.12.jpg\n",
            "faces95/labenm/labenm.13.jpg  faces95/vanta/vanta.13.jpg\n",
            "faces95/labenm/labenm.14.jpg  faces95/vanta/vanta.14.jpg\n",
            "faces95/labenm/labenm.15.jpg  faces95/vanta/vanta.15.jpg\n",
            "faces95/labenm/labenm.16.jpg  faces95/vanta/vanta.16.jpg\n",
            "faces95/labenm/labenm.17.jpg  faces95/vanta/vanta.17.jpg\n",
            "faces95/labenm/labenm.18.jpg  faces95/vanta/vanta.18.jpg\n",
            "faces95/labenm/labenm.19.jpg  faces95/vanta/vanta.19.jpg\n",
            "faces95/labenm/labenm.1.jpg   faces95/vanta/vanta.1.jpg\n",
            "faces95/labenm/labenm.20.jpg  faces95/vanta/vanta.20.jpg\n",
            "faces95/labenm/labenm.2.jpg   faces95/vanta/vanta.2.jpg\n",
            "faces95/labenm/labenm.3.jpg   faces95/vanta/vanta.3.jpg\n",
            "faces95/labenm/labenm.4.jpg   faces95/vanta/vanta.4.jpg\n",
            "faces95/labenm/labenm.5.jpg   faces95/vanta/vanta.5.jpg\n",
            "faces95/labenm/labenm.6.jpg   faces95/vanta/vanta.6.jpg\n",
            "faces95/labenm/labenm.7.jpg   faces95/vanta/vanta.7.jpg\n",
            "faces95/labenm/labenm.8.jpg   faces95/vanta/vanta.8.jpg\n",
            "faces95/labenm/labenm.9.jpg   faces95/vanta/vanta.9.jpg\n",
            "faces95/ldgodd/ldgodd.10.jpg  faces95/virvi/virvi.10.jpg\n",
            "faces95/ldgodd/ldgodd.11.jpg  faces95/virvi/virvi.11.jpg\n",
            "faces95/ldgodd/ldgodd.12.jpg  faces95/virvi/virvi.12.jpg\n",
            "faces95/ldgodd/ldgodd.13.jpg  faces95/virvi/virvi.13.jpg\n",
            "faces95/ldgodd/ldgodd.14.jpg  faces95/virvi/virvi.14.jpg\n",
            "faces95/ldgodd/ldgodd.15.jpg  faces95/virvi/virvi.15.jpg\n",
            "faces95/ldgodd/ldgodd.16.jpg  faces95/virvi/virvi.16.jpg\n",
            "faces95/ldgodd/ldgodd.17.jpg  faces95/virvi/virvi.17.jpg\n",
            "faces95/ldgodd/ldgodd.18.jpg  faces95/virvi/virvi.18.jpg\n",
            "faces95/ldgodd/ldgodd.19.jpg  faces95/virvi/virvi.19.jpg\n",
            "faces95/ldgodd/ldgodd.1.jpg   faces95/virvi/virvi.1.jpg\n",
            "faces95/ldgodd/ldgodd.20.jpg  faces95/virvi/virvi.20.jpg\n",
            "faces95/ldgodd/ldgodd.2.jpg   faces95/virvi/virvi.2.jpg\n",
            "faces95/ldgodd/ldgodd.3.jpg   faces95/virvi/virvi.3.jpg\n",
            "faces95/ldgodd/ldgodd.4.jpg   faces95/virvi/virvi.4.jpg\n",
            "faces95/ldgodd/ldgodd.5.jpg   faces95/virvi/virvi.5.jpg\n",
            "faces95/ldgodd/ldgodd.6.jpg   faces95/virvi/virvi.6.jpg\n",
            "faces95/ldgodd/ldgodd.7.jpg   faces95/virvi/virvi.7.jpg\n",
            "faces95/ldgodd/ldgodd.8.jpg   faces95/virvi/virvi.8.jpg\n",
            "faces95/ldgodd/ldgodd.9.jpg   faces95/virvi/virvi.9.jpg\n",
            "faces95/lidov/lidov.10.jpg    faces95/wjhugh/wjhugh.10.jpg\n",
            "faces95/lidov/lidov.11.jpg    faces95/wjhugh/wjhugh.11.jpg\n",
            "faces95/lidov/lidov.12.jpg    faces95/wjhugh/wjhugh.12.jpg\n",
            "faces95/lidov/lidov.13.jpg    faces95/wjhugh/wjhugh.13.jpg\n",
            "faces95/lidov/lidov.14.jpg    faces95/wjhugh/wjhugh.14.jpg\n",
            "faces95/lidov/lidov.15.jpg    faces95/wjhugh/wjhugh.15.jpg\n",
            "faces95/lidov/lidov.16.jpg    faces95/wjhugh/wjhugh.16.jpg\n",
            "faces95/lidov/lidov.17.jpg    faces95/wjhugh/wjhugh.17.jpg\n",
            "faces95/lidov/lidov.18.jpg    faces95/wjhugh/wjhugh.18.jpg\n",
            "faces95/lidov/lidov.19.jpg    faces95/wjhugh/wjhugh.19.jpg\n",
            "faces95/lidov/lidov.1.jpg     faces95/wjhugh/wjhugh.1.jpg\n",
            "faces95/lidov/lidov.20.jpg    faces95/wjhugh/wjhugh.20.jpg\n",
            "faces95/lidov/lidov.2.jpg     faces95/wjhugh/wjhugh.2.jpg\n",
            "faces95/lidov/lidov.3.jpg     faces95/wjhugh/wjhugh.3.jpg\n",
            "faces95/lidov/lidov.4.jpg     faces95/wjhugh/wjhugh.4.jpg\n",
            "faces95/lidov/lidov.5.jpg     faces95/wjhugh/wjhugh.5.jpg\n",
            "faces95/lidov/lidov.6.jpg     faces95/wjhugh/wjhugh.6.jpg\n",
            "faces95/lidov/lidov.7.jpg     faces95/wjhugh/wjhugh.7.jpg\n",
            "faces95/lidov/lidov.8.jpg     faces95/wjhugh/wjhugh.8.jpg\n",
            "faces95/lidov/lidov.9.jpg     faces95/wjhugh/wjhugh.9.jpg\n"
          ],
          "name": "stdout"
        }
      ]
    },
    {
      "cell_type": "code",
      "metadata": {
        "id": "5AM2bSUPgIh8",
        "colab_type": "code",
        "outputId": "f904f0c3-a34e-47a8-a9c7-1189dc10a314",
        "colab": {
          "base_uri": "https://localhost:8080/",
          "height": 34
        }
      },
      "source": [
        "flist = glob.glob(\"faces95/*/*jpg\")\n",
        "N = len(flist)\n",
        "N"
      ],
      "execution_count": 12,
      "outputs": [
        {
          "output_type": "execute_result",
          "data": {
            "text/plain": [
              "1440"
            ]
          },
          "metadata": {
            "tags": []
          },
          "execution_count": 12
        }
      ]
    },
    {
      "cell_type": "code",
      "metadata": {
        "id": "mt0rKGbqgOv1",
        "colab_type": "code",
        "outputId": "d181746c-08b5-4066-cd98-ac82bba5802f",
        "colab": {
          "base_uri": "https://localhost:8080/",
          "height": 510
        }
      },
      "source": [
        "imgs = np.zeros((N, 35,35, 1))\n",
        "for i,f in enumerate(flist):\n",
        "  if not i%50: print(i)\n",
        "  im = Image.open(flist[i])\n",
        "  np_im = numpy.array(im)[:,:,:3].astype(float) / 255 \n",
        "  imgs[i] = numpy.array(im)[25:165:4,25:165:4,:1].astype(float) / 255"
      ],
      "execution_count": 13,
      "outputs": [
        {
          "output_type": "stream",
          "text": [
            "0\n",
            "50\n",
            "100\n",
            "150\n",
            "200\n",
            "250\n",
            "300\n",
            "350\n",
            "400\n",
            "450\n",
            "500\n",
            "550\n",
            "600\n",
            "650\n",
            "700\n",
            "750\n",
            "800\n",
            "850\n",
            "900\n",
            "950\n",
            "1000\n",
            "1050\n",
            "1100\n",
            "1150\n",
            "1200\n",
            "1250\n",
            "1300\n",
            "1350\n",
            "1400\n"
          ],
          "name": "stdout"
        }
      ]
    },
    {
      "cell_type": "code",
      "metadata": {
        "id": "94B8dcKzrvJ9",
        "colab_type": "code",
        "colab": {
          "base_uri": "https://localhost:8080/",
          "height": 510
        },
        "outputId": "ce2a1a0c-da12-45ed-ea48-8ee387fc8af4"
      },
      "source": [
        "imgn = np.zeros((N, 35,35, 1))\n",
        "for i,f in enumerate(flist):\n",
        "  if not i%50: print(i)\n",
        "  im = Image.open(flist[i])\n",
        "  np_im = numpy.array(im)[:,:,:3].astype(float) / 255 \n",
        "  imgn[i] = numpy.array(im)[25:165:4,25:165:4,1:2].astype(float) / 255"
      ],
      "execution_count": 58,
      "outputs": [
        {
          "output_type": "stream",
          "text": [
            "0\n",
            "50\n",
            "100\n",
            "150\n",
            "200\n",
            "250\n",
            "300\n",
            "350\n",
            "400\n",
            "450\n",
            "500\n",
            "550\n",
            "600\n",
            "650\n",
            "700\n",
            "750\n",
            "800\n",
            "850\n",
            "900\n",
            "950\n",
            "1000\n",
            "1050\n",
            "1100\n",
            "1150\n",
            "1200\n",
            "1250\n",
            "1300\n",
            "1350\n",
            "1400\n"
          ],
          "name": "stdout"
        }
      ]
    },
    {
      "cell_type": "code",
      "metadata": {
        "id": "1l0M5nQlsU_B",
        "colab_type": "code",
        "colab": {
          "base_uri": "https://localhost:8080/",
          "height": 34
        },
        "outputId": "51facfd3-65d9-41fb-de3d-79807b491a3b"
      },
      "source": [
        "shape(im)"
      ],
      "execution_count": 57,
      "outputs": [
        {
          "output_type": "execute_result",
          "data": {
            "text/plain": [
              "(200, 180, 3)"
            ]
          },
          "metadata": {
            "tags": []
          },
          "execution_count": 57
        }
      ]
    },
    {
      "cell_type": "code",
      "metadata": {
        "id": "tDK7LR3kqPfF",
        "colab_type": "code",
        "colab": {
          "base_uri": "https://localhost:8080/",
          "height": 337
        },
        "outputId": "6d50337f-4e28-44d0-e6db-58e84e64c355"
      },
      "source": [
        "pl.imshow(imgs[0][:,:,0])"
      ],
      "execution_count": 50,
      "outputs": [
        {
          "output_type": "execute_result",
          "data": {
            "text/plain": [
              "<matplotlib.image.AxesImage at 0x7f869193d518>"
            ]
          },
          "metadata": {
            "tags": []
          },
          "execution_count": 50
        },
        {
          "output_type": "display_data",
          "data": {
            "image/png": "[encoded data removed]",
            "text/plain": [
              "<Figure size 720x360 with 1 Axes>"
            ]
          },
          "metadata": {
            "tags": [],
            "needs_background": "light"
          }
        }
      ]
    },
    {
      "cell_type": "code",
      "metadata": {
        "id": "YGszNGymr3dj",
        "colab_type": "code",
        "colab": {
          "base_uri": "https://localhost:8080/",
          "height": 337
        },
        "outputId": "a4c6bffc-efdc-4254-c7a3-a399d31bb3ff"
      },
      "source": [
        "pl.imshow(imgn[0][:,:,0])"
      ],
      "execution_count": 59,
      "outputs": [
        {
          "output_type": "execute_result",
          "data": {
            "text/plain": [
              "<matplotlib.image.AxesImage at 0x7f86917815c0>"
            ]
          },
          "metadata": {
            "tags": []
          },
          "execution_count": 59
        },
        {
          "output_type": "display_data",
          "data": {
            "image/png": "[encoded data removed]",
            "text/plain": [
              "<Figure size 720x360 with 1 Axes>"
            ]
          },
          "metadata": {
            "tags": [],
            "needs_background": "light"
          }
        }
      ]
    },
    {
      "cell_type": "markdown",
      "metadata": {
        "id": "fPgi-4gMgRTo",
        "colab_type": "text"
      },
      "source": [
        "# digits first"
      ]
    },
    {
      "cell_type": "code",
      "metadata": {
        "id": "u3UsLpN7gRJy",
        "colab_type": "code",
        "outputId": "0a00fd82-ba6e-4898-e452-4b03b01fab58",
        "colab": {
          "base_uri": "https://localhost:8080/",
          "height": 299
        }
      },
      "source": [
        "from keras.datasets import mnist\n",
        "(x_train, _), (x_test, _) = mnist.load_data()\n",
        "\n",
        "img_rows, img_cols = 28, 28\n",
        "pl.imshow(x_train[0])\n",
        "pl.axis('off')\n",
        "intialshape = x_train[0].shape\n",
        "ndim = np.prod(x_train[0].shape)\n",
        "x_train.shape"
      ],
      "execution_count": 14,
      "outputs": [
        {
          "output_type": "stream",
          "text": [
            "Downloading data from https://s3.amazonaws.com/img-datasets/mnist.npz\n",
            "11493376/11490434 [==============================] - 1s 0us/step\n"
          ],
          "name": "stdout"
        },
        {
          "output_type": "execute_result",
          "data": {
            "text/plain": [
              "(60000, 28, 28)"
            ]
          },
          "metadata": {
            "tags": []
          },
          "execution_count": 14
        },
        {
          "output_type": "display_data",
          "data": {
            "image/png": "[encoded data removed]",
            "text/plain": [
              "<Figure size 432x288 with 1 Axes>"
            ]
          },
          "metadata": {
            "tags": [],
            "needs_background": "light"
          }
        }
      ]
    },
    {
      "cell_type": "code",
      "metadata": {
        "id": "1kgzSExkgQ9Q",
        "colab_type": "code",
        "outputId": "40ecd4e6-a0d7-4ea6-c997-73284e88ac53",
        "colab": {
          "base_uri": "https://localhost:8080/",
          "height": 34
        }
      },
      "source": [
        "x_train.dtype, x_train.max(), x_train.min()"
      ],
      "execution_count": 15,
      "outputs": [
        {
          "output_type": "execute_result",
          "data": {
            "text/plain": [
              "(dtype('uint8'), 255, 0)"
            ]
          },
          "metadata": {
            "tags": []
          },
          "execution_count": 15
        }
      ]
    },
    {
      "cell_type": "code",
      "metadata": {
        "id": "9KhWi6TGhdv1",
        "colab_type": "code",
        "outputId": "e15c6d7f-e672-44c1-eaeb-38bc73b3a032",
        "colab": {
          "base_uri": "https://localhost:8080/",
          "height": 34
        }
      },
      "source": [
        "x_train = (x_train.astype(float) / 255).reshape(len(x_train), ndim)\n",
        "x_test = (x_test.astype(float) / 255).reshape(len(x_test), ndim)\n",
        "x_train.shape, x_test.shape"
      ],
      "execution_count": 16,
      "outputs": [
        {
          "output_type": "execute_result",
          "data": {
            "text/plain": [
              "((60000, 784), (10000, 784))"
            ]
          },
          "metadata": {
            "tags": []
          },
          "execution_count": 16
        }
      ]
    },
    {
      "cell_type": "markdown",
      "metadata": {
        "id": "huWbhFyJK4Vn",
        "colab_type": "text"
      },
      "source": [
        "# create a model"
      ]
    },
    {
      "cell_type": "code",
      "metadata": {
        "id": "4zR7X6JuK7WW",
        "colab_type": "code",
        "colab": {}
      },
      "source": [
        "keras.models?"
      ],
      "execution_count": 0,
      "outputs": []
    },
    {
      "cell_type": "code",
      "metadata": {
        "id": "eheFp_InJiao",
        "colab_type": "code",
        "colab": {
          "base_uri": "https://localhost:8080/",
          "height": 54
        },
        "outputId": "abf7404e-3fb3-43e1-c3d7-d4b7b3d9cda6"
      },
      "source": [
        "model_digits64 = Sequential()\n",
        "## encoder\n",
        "# input layer and the output size\n",
        "model_digits64.add(Dense(128, activation='relu', input_dim=ndim))\n",
        "#compression layer\n",
        "model_digits64.add(Dense(64, activation='relu'))\n",
        "## deencoder\n",
        "#decompression layer, same size as in the encoder\n",
        "model_digits64.add(Dense(128, activation='relu'))\n",
        "#output layer, same size as input\n",
        "model_digits64.add(Dense(ndim, activation='linear'))\n",
        "\n",
        "\n",
        "#alternative syntax\n",
        "\"\"\"\n",
        "encoded = Dense(encoding_dim, activation='relu')(input_img)\n",
        "# \"decoded\" is the lossy reconstruction of the input\n",
        "decoded = Dense(784, activation='sigmoid')(encoded)\n",
        "\n",
        "autoencoder = Model(input_img, decoded)\n",
        "\n",
        "encoder = Model(input_img, encoded)\n",
        "\n",
        "# create a placeholder for an encoded (32-dimensional) input\n",
        "encoded_input = Input(shape=(encoding_dim,))\n",
        "# retrieve the last layer of the autoencoder model\n",
        "decoder_layer = autoencoder.layers[-1]\n",
        "# create the decoder model\n",
        "decoder = Model(encoded_input, decoder_layer(encoded_input))\n",
        "\"\"\""
      ],
      "execution_count": 18,
      "outputs": [
        {
          "output_type": "execute_result",
          "data": {
            "text/plain": [
              "'\\nencoded = Dense(encoding_dim, activation=\\'relu\\')(input_img)\\n# \"decoded\" is the lossy reconstruction of the input\\ndecoded = Dense(784, activation=\\'sigmoid\\')(encoded)\\n\\nautoencoder = Model(input_img, decoded)\\n\\nencoder = Model(input_img, encoded)\\n\\n# create a placeholder for an encoded (32-dimensional) input\\nencoded_input = Input(shape=(encoding_dim,))\\n# retrieve the last layer of the autoencoder model\\ndecoder_layer = autoencoder.layers[-1]\\n# create the decoder model\\ndecoder = Model(encoded_input, decoder_layer(encoded_input))\\n'"
            ]
          },
          "metadata": {
            "tags": []
          },
          "execution_count": 18
        }
      ]
    },
    {
      "cell_type": "markdown",
      "metadata": {
        "id": "h-jfXI90M0yE",
        "colab_type": "text"
      },
      "source": [
        "### regression\n",
        "- loss='mean_squared_error' L2: default loss to use for regression problems. => linear activation function in output layer, one node out\n",
        "\n",
        "alternatives:  loss='mean_squared_logarithmic_error', 'mean_absolute_error' (which is L1 instead of L2)\n",
        "### binary classification\n",
        "\n",
        "- loss='binary_crossentropy' => sigmoid activation function in output layer, one node out\n",
        "\n",
        "alternatives: 'hinge'\n",
        "\n",
        "### multiclass classification\n",
        "categorical encoded as numerical\n",
        "- loss='categorical_crossentropy' => softmax n nodes out\n",
        "\n",
        "onehot encoded categoridal\n",
        "- 'parse_categorical_crossentropy' => softmax n nodes out\n",
        "\n",
        "- 'kullback Leibler Divergence Loss' => probabilistic categorical classification; log(P/Q)"
      ]
    },
    {
      "cell_type": "markdown",
      "metadata": {
        "id": "2ZORHj6SPha0",
        "colab_type": "text"
      },
      "source": [
        "## optimizers\n",
        "- SGD: stocastic gradient descent \n",
        "    - nesterov=True -> momentum inclusion\n",
        "- adam: Adaptive moment estimation. **good in most cases**\n",
        "- adagrad: different steps for different parameters based on frequency (binary input) well-suited for dealing with sparse data.\n",
        "\n",
        "- adaDelta: like adagrad but compensated for vanishing learning rate problem\n",
        "\n",
        "momentum refers to looking one step back and make a decision that includes the slope there\n",
        "\n",
        "### parameter:\n",
        "generally you need to adjust the learning rate which is how much you change the parameters by at each step. \n",
        "keras.optimizers.Adam(lr=0.001)\n",
        "\n",
        "\n",
        "https://gitcdn.xyz/cdn/Tony607/blog_statics/e1a0b1e060e783bd1978a141acff897ae71bd021/images/optimizer/optimizer.gif"
      ]
    },
    {
      "cell_type": "code",
      "metadata": {
        "id": "MePeWiOJJsTi",
        "colab_type": "code",
        "colab": {}
      },
      "source": [
        "# choose the optimizer and loss appropriately!\n",
        "model_digits64.compile(optimizer=\"adadelta\", loss=\"mean_squared_error\")"
      ],
      "execution_count": 0,
      "outputs": []
    },
    {
      "cell_type": "code",
      "metadata": {
        "id": "KwCCOxn1Juxl",
        "colab_type": "code",
        "colab": {
          "base_uri": "https://localhost:8080/",
          "height": 306
        },
        "outputId": "b91b6ce9-8301-4c02-b025-ae89d981b8b8"
      },
      "source": [
        "print(model_digits64.summary())"
      ],
      "execution_count": 20,
      "outputs": [
        {
          "output_type": "stream",
          "text": [
            "Model: \"sequential_1\"\n",
            "_________________________________________________________________\n",
            "Layer (type)                 Output Shape              Param #   \n",
            "=================================================================\n",
            "dense_1 (Dense)              (None, 128)               100480    \n",
            "_________________________________________________________________\n",
            "dense_2 (Dense)              (None, 64)                8256      \n",
            "_________________________________________________________________\n",
            "dense_3 (Dense)              (None, 128)               8320      \n",
            "_________________________________________________________________\n",
            "dense_4 (Dense)              (None, 784)               101136    \n",
            "=================================================================\n",
            "Total params: 218,192\n",
            "Trainable params: 218,192\n",
            "Non-trainable params: 0\n",
            "_________________________________________________________________\n",
            "None\n"
          ],
          "name": "stdout"
        }
      ]
    },
    {
      "cell_type": "code",
      "metadata": {
        "id": "HsWOelvIJun2",
        "colab_type": "code",
        "colab": {
          "base_uri": "https://localhost:8080/",
          "height": 714
        },
        "outputId": "ee5b03a2-3181-4c08-d8e2-320076f71f4b"
      },
      "source": [
        "history64 = model_digits64.fit(x_train, x_train, validation_data=(x_test, x_test), epochs=20, batch_size=100, verbose=1)"
      ],
      "execution_count": 21,
      "outputs": [
        {
          "output_type": "stream",
          "text": [
            "Train on 60000 samples, validate on 10000 samples\n",
            "Epoch 1/20\n",
            "60000/60000 [==============================] - 4s 65us/step - loss: 0.0641 - val_loss: 0.0522\n",
            "Epoch 2/20\n",
            "60000/60000 [==============================] - 2s 40us/step - loss: 0.0448 - val_loss: 0.0391\n",
            "Epoch 3/20\n",
            "60000/60000 [==============================] - 2s 39us/step - loss: 0.0367 - val_loss: 0.0339\n",
            "Epoch 4/20\n",
            "60000/60000 [==============================] - 2s 37us/step - loss: 0.0326 - val_loss: 0.0307\n",
            "Epoch 5/20\n",
            "60000/60000 [==============================] - 2s 36us/step - loss: 0.0299 - val_loss: 0.0285\n",
            "Epoch 6/20\n",
            "60000/60000 [==============================] - 2s 37us/step - loss: 0.0278 - val_loss: 0.0266\n",
            "Epoch 7/20\n",
            "60000/60000 [==============================] - 2s 36us/step - loss: 0.0262 - val_loss: 0.0253\n",
            "Epoch 8/20\n",
            "60000/60000 [==============================] - 2s 36us/step - loss: 0.0249 - val_loss: 0.0239\n",
            "Epoch 9/20\n",
            "60000/60000 [==============================] - 2s 36us/step - loss: 0.0239 - val_loss: 0.0229\n",
            "Epoch 10/20\n",
            "60000/60000 [==============================] - 2s 37us/step - loss: 0.0231 - val_loss: 0.0222\n",
            "Epoch 11/20\n",
            "60000/60000 [==============================] - 2s 37us/step - loss: 0.0223 - val_loss: 0.0215\n",
            "Epoch 12/20\n",
            "60000/60000 [==============================] - 2s 37us/step - loss: 0.0217 - val_loss: 0.0211\n",
            "Epoch 13/20\n",
            "60000/60000 [==============================] - 2s 36us/step - loss: 0.0213 - val_loss: 0.0206\n",
            "Epoch 14/20\n",
            "60000/60000 [==============================] - 2s 36us/step - loss: 0.0209 - val_loss: 0.0204\n",
            "Epoch 15/20\n",
            "60000/60000 [==============================] - 2s 37us/step - loss: 0.0206 - val_loss: 0.0202\n",
            "Epoch 16/20\n",
            "60000/60000 [==============================] - 2s 36us/step - loss: 0.0203 - val_loss: 0.0198\n",
            "Epoch 17/20\n",
            "60000/60000 [==============================] - 2s 36us/step - loss: 0.0201 - val_loss: 0.0196\n",
            "Epoch 18/20\n",
            "60000/60000 [==============================] - 2s 36us/step - loss: 0.0199 - val_loss: 0.0193\n",
            "Epoch 19/20\n",
            "60000/60000 [==============================] - 2s 37us/step - loss: 0.0197 - val_loss: 0.0191\n",
            "Epoch 20/20\n",
            "60000/60000 [==============================] - 2s 37us/step - loss: 0.0196 - val_loss: 0.0190\n"
          ],
          "name": "stdout"
        }
      ]
    },
    {
      "cell_type": "markdown",
      "metadata": {
        "id": "HJO05FMnRGtP",
        "colab_type": "text"
      },
      "source": [
        "# always look at the loss!"
      ]
    },
    {
      "cell_type": "code",
      "metadata": {
        "id": "VhfIAie1Jucz",
        "colab_type": "code",
        "colab": {
          "base_uri": "https://localhost:8080/",
          "height": 296
        },
        "outputId": "a357b367-af41-461d-a98a-f619aca35264"
      },
      "source": [
        "pl.plot(np.array(history64.history['loss']))\n",
        "pl.ylabel('loss')\n",
        "pl.xlabel('iteration')\n",
        "#pl.yscale('log')\n",
        "#pl.xscale('log')"
      ],
      "execution_count": 22,
      "outputs": [
        {
          "output_type": "execute_result",
          "data": {
            "text/plain": [
              "Text(0.5, 0, 'iteration')"
            ]
          },
          "metadata": {
            "tags": []
          },
          "execution_count": 22
        },
        {
          "output_type": "display_data",
          "data": {
            "image/png": "[encoded data removed]",
            "text/plain": [
              "<Figure size 432x288 with 1 Axes>"
            ]
          },
          "metadata": {
            "tags": [],
            "needs_background": "light"
          }
        }
      ]
    },
    {
      "cell_type": "markdown",
      "metadata": {
        "id": "iGTPRyFgRQTF",
        "colab_type": "text"
      },
      "source": [
        "# predict"
      ]
    },
    {
      "cell_type": "code",
      "metadata": {
        "id": "7exTCDcJKhU_",
        "colab_type": "code",
        "colab": {}
      },
      "source": [
        "output_image64 = model_digits64.predict(x_test)"
      ],
      "execution_count": 0,
      "outputs": []
    },
    {
      "cell_type": "code",
      "metadata": {
        "id": "qeFEGpTul4U6",
        "colab_type": "code",
        "colab": {}
      },
      "source": [
        "def compareinout(i, outim, testimg, initialshape=(28,28)):\n",
        "  fig = pl.figure(figsize(10,5))\n",
        "  ax = fig.add_subplot(121) \n",
        "  ax.imshow(testimg[i].reshape(initialshape) , cmap=\"bone\")\n",
        "  ax.get_xaxis().set_visible(False)\n",
        "  ax.get_yaxis().set_visible(False)\n",
        "  ax = fig.add_subplot(122) \n",
        "  ax.imshow(outim[i].reshape(initialshape) , cmap=\"bone\")\n",
        "  ax.get_xaxis().set_visible(False)\n",
        "  ax.get_yaxis().set_visible(False)\n"
      ],
      "execution_count": 0,
      "outputs": []
    },
    {
      "cell_type": "code",
      "metadata": {
        "id": "v3hzx41EKhOj",
        "colab_type": "code",
        "colab": {
          "base_uri": "https://localhost:8080/",
          "height": 1000
        },
        "outputId": "098dd49f-2df8-44be-bce3-d36eec015a9e"
      },
      "source": [
        "for i in range(10):\n",
        "  compareinout(i, output_image64, x_test)"
      ],
      "execution_count": 25,
      "outputs": [
        {
          "output_type": "display_data",
          "data": {
            "image/png": "[encoded data removed]",
            "text/plain": [
              "<Figure size 720x360 with 2 Axes>"
            ]
          },
          "metadata": {
            "tags": [],
            "needs_background": "light"
          }
        },
        {
          "output_type": "display_data",
          "data": {
            "image/png": "[encoded data removed]",
            "text/plain": [
              "<Figure size 720x360 with 2 Axes>"
            ]
          },
          "metadata": {
            "tags": [],
            "needs_background": "light"
          }
        },
        {
          "output_type": "display_data",
          "data": {
            "image/png": "[encoded data removed]",
            "text/plain": [
              "<Figure size 720x360 with 2 Axes>"
            ]
          },
          "metadata": {
            "tags": [],
            "needs_background": "light"
          }
        },
        {
          "output_type": "display_data",
          "data": {
            "image/png": "[encoded data removed]",
            "text/plain": [
              "<Figure size 720x360 with 2 Axes>"
            ]
          },
          "metadata": {
            "tags": [],
            "needs_background": "light"
          }
        },
        {
          "output_type": "display_data",
          "data": {
            "image/png": "[encoded data removed]",
            "text/plain": [
              "<Figure size 720x360 with 2 Axes>"
            ]
          },
          "metadata": {
            "tags": [],
            "needs_background": "light"
          }
        },
        {
          "output_type": "display_data",
          "data": {
            "image/png": "[encoded data removed]",
            "text/plain": [
              "<Figure size 720x360 with 2 Axes>"
            ]
          },
          "metadata": {
            "tags": [],
            "needs_background": "light"
          }
        },
        {
          "output_type": "display_data",
          "data": {
            "image/png": "[encoded data removed]",
            "text/plain": [
              "<Figure size 720x360 with 2 Axes>"
            ]
          },
          "metadata": {
            "tags": [],
            "needs_background": "light"
          }
        },
        {
          "output_type": "display_data",
          "data": {
            "image/png": "[encoded data removed]",
            "text/plain": [
              "<Figure size 720x360 with 2 Axes>"
            ]
          },
          "metadata": {
            "tags": [],
            "needs_background": "light"
          }
        },
        {
          "output_type": "display_data",
          "data": {
            "image/png": "[encoded data removed]",
            "text/plain": [
              "<Figure size 720x360 with 2 Axes>"
            ]
          },
          "metadata": {
            "tags": [],
            "needs_background": "light"
          }
        },
        {
          "output_type": "display_data",
          "data": {
            "image/png": "[encoded data removed]",
            "text/plain": [
              "<Figure size 720x360 with 2 Axes>"
            ]
          },
          "metadata": {
            "tags": [],
            "needs_background": "light"
          }
        }
      ]
    },
    {
      "cell_type": "markdown",
      "metadata": {
        "id": "NsvBeF_nSJTO",
        "colab_type": "text"
      },
      "source": [
        "# change loss function"
      ]
    },
    {
      "cell_type": "code",
      "metadata": {
        "id": "sDXyqX7WKhHu",
        "colab_type": "code",
        "colab": {}
      },
      "source": [
        "# choose the optimizer and loss appropriately!\n",
        "model_digits64_sig = Sequential()\n",
        "## encoder\n",
        "# input layer and the output size\n",
        "model_digits64_sig.add(Dense(128, activation='relu', input_dim=ndim))\n",
        "#compression layer\n",
        "model_digits64_sig.add(Dense(64, activation='relu'))\n",
        "## deencoder\n",
        "#decompression layer, same size as in the encoder\n",
        "model_digits64_sig.add(Dense(128, activation='relu'))\n",
        "#output layer, same size as input\n",
        "model_digits64_sig.add(Dense(ndim, activation='sigmoid'))\n",
        "model_digits64_sig.compile(optimizer=\"adadelta\", loss=\"mean_squared_error\") #binary_cross_entropy)"
      ],
      "execution_count": 0,
      "outputs": []
    },
    {
      "cell_type": "code",
      "metadata": {
        "id": "hbxiT8xdKhC8",
        "colab_type": "code",
        "colab": {
          "base_uri": "https://localhost:8080/",
          "height": 1000
        },
        "outputId": "4a5debe8-385f-43d8-995c-2abde316241b"
      },
      "source": [
        "history64_sig = model_digits64_sig.fit(x_train, x_train, \n",
        "                                       validation_data=(x_test, x_test), \n",
        "                                       epochs=300, batch_size=100, verbose=1)"
      ],
      "execution_count": 60,
      "outputs": [
        {
          "output_type": "stream",
          "text": [
            "Train on 60000 samples, validate on 10000 samples\n",
            "Epoch 1/300\n",
            "60000/60000 [==============================] - 2s 38us/step - loss: 0.0891 - val_loss: 0.0873\n",
            "Epoch 2/300\n",
            "60000/60000 [==============================] - 2s 38us/step - loss: 0.0885 - val_loss: 0.0867\n",
            "Epoch 3/300\n",
            "60000/60000 [==============================] - 2s 39us/step - loss: 0.0881 - val_loss: 0.0869\n",
            "Epoch 4/300\n",
            "60000/60000 [==============================] - 2s 38us/step - loss: 0.0877 - val_loss: 0.0866\n",
            "Epoch 5/300\n",
            "60000/60000 [==============================] - 2s 38us/step - loss: 0.0873 - val_loss: 0.0879\n",
            "Epoch 6/300\n",
            "60000/60000 [==============================] - 2s 38us/step - loss: 0.0869 - val_loss: 0.0865\n",
            "Epoch 7/300\n",
            "60000/60000 [==============================] - 2s 38us/step - loss: 0.0866 - val_loss: 0.0856\n",
            "Epoch 8/300\n",
            "60000/60000 [==============================] - 2s 39us/step - loss: 0.0863 - val_loss: 0.0854\n",
            "Epoch 9/300\n",
            "60000/60000 [==============================] - 2s 38us/step - loss: 0.0859 - val_loss: 0.0852\n",
            "Epoch 10/300\n",
            "60000/60000 [==============================] - 2s 39us/step - loss: 0.0856 - val_loss: 0.0849\n",
            "Epoch 11/300\n",
            "60000/60000 [==============================] - 2s 38us/step - loss: 0.0853 - val_loss: 0.0840\n",
            "Epoch 12/300\n",
            "60000/60000 [==============================] - 2s 38us/step - loss: 0.0850 - val_loss: 0.0841\n",
            "Epoch 13/300\n",
            "60000/60000 [==============================] - 2s 38us/step - loss: 0.0848 - val_loss: 0.0836\n",
            "Epoch 14/300\n",
            "60000/60000 [==============================] - 2s 39us/step - loss: 0.0845 - val_loss: 0.0831\n",
            "Epoch 15/300\n",
            "60000/60000 [==============================] - 2s 38us/step - loss: 0.0842 - val_loss: 0.0830\n",
            "Epoch 16/300\n",
            "60000/60000 [==============================] - 2s 38us/step - loss: 0.0840 - val_loss: 0.0832\n",
            "Epoch 17/300\n",
            "60000/60000 [==============================] - 2s 38us/step - loss: 0.0838 - val_loss: 0.0826\n",
            "Epoch 18/300\n",
            "60000/60000 [==============================] - 2s 38us/step - loss: 0.0836 - val_loss: 0.0823\n",
            "Epoch 19/300\n",
            "60000/60000 [==============================] - 2s 38us/step - loss: 0.0833 - val_loss: 0.0822\n",
            "Epoch 20/300\n",
            "60000/60000 [==============================] - 2s 38us/step - loss: 0.0832 - val_loss: 0.0821\n",
            "Epoch 21/300\n",
            "60000/60000 [==============================] - 2s 39us/step - loss: 0.0830 - val_loss: 0.0817\n",
            "Epoch 22/300\n",
            "60000/60000 [==============================] - 2s 38us/step - loss: 0.0827 - val_loss: 0.0817\n",
            "Epoch 23/300\n",
            "60000/60000 [==============================] - 2s 38us/step - loss: 0.0826 - val_loss: 0.0822\n",
            "Epoch 24/300\n",
            "60000/60000 [==============================] - 2s 38us/step - loss: 0.0824 - val_loss: 0.0816\n",
            "Epoch 25/300\n",
            "60000/60000 [==============================] - 2s 38us/step - loss: 0.0823 - val_loss: 0.0820\n",
            "Epoch 26/300\n",
            "60000/60000 [==============================] - 2s 39us/step - loss: 0.0821 - val_loss: 0.0809\n",
            "Epoch 27/300\n",
            "60000/60000 [==============================] - 2s 38us/step - loss: 0.0820 - val_loss: 0.0808\n",
            "Epoch 28/300\n",
            "60000/60000 [==============================] - 2s 38us/step - loss: 0.0818 - val_loss: 0.0809\n",
            "Epoch 29/300\n",
            "60000/60000 [==============================] - 2s 38us/step - loss: 0.0816 - val_loss: 0.0804\n",
            "Epoch 30/300\n",
            "60000/60000 [==============================] - 2s 38us/step - loss: 0.0815 - val_loss: 0.0805\n",
            "Epoch 31/300\n",
            "60000/60000 [==============================] - 2s 39us/step - loss: 0.0814 - val_loss: 0.0801\n",
            "Epoch 32/300\n",
            "60000/60000 [==============================] - 2s 39us/step - loss: 0.0812 - val_loss: 0.0802\n",
            "Epoch 33/300\n",
            "60000/60000 [==============================] - 2s 40us/step - loss: 0.0811 - val_loss: 0.0799\n",
            "Epoch 34/300\n",
            "60000/60000 [==============================] - 2s 41us/step - loss: 0.0810 - val_loss: 0.0802\n",
            "Epoch 35/300\n",
            "60000/60000 [==============================] - 2s 40us/step - loss: 0.0809 - val_loss: 0.0799\n",
            "Epoch 36/300\n",
            "60000/60000 [==============================] - 2s 39us/step - loss: 0.0807 - val_loss: 0.0797\n",
            "Epoch 37/300\n",
            "60000/60000 [==============================] - 2s 38us/step - loss: 0.0806 - val_loss: 0.0797\n",
            "Epoch 38/300\n",
            "60000/60000 [==============================] - 2s 38us/step - loss: 0.0804 - val_loss: 0.0793\n",
            "Epoch 39/300\n",
            "60000/60000 [==============================] - 2s 38us/step - loss: 0.0804 - val_loss: 0.0792\n",
            "Epoch 40/300\n",
            "60000/60000 [==============================] - 2s 38us/step - loss: 0.0802 - val_loss: 0.0790\n",
            "Epoch 41/300\n",
            "60000/60000 [==============================] - 2s 38us/step - loss: 0.0801 - val_loss: 0.0793\n",
            "Epoch 42/300\n",
            "60000/60000 [==============================] - 2s 38us/step - loss: 0.0800 - val_loss: 0.0790\n",
            "Epoch 43/300\n",
            "60000/60000 [==============================] - 2s 38us/step - loss: 0.0799 - val_loss: 0.0789\n",
            "Epoch 44/300\n",
            "60000/60000 [==============================] - 2s 39us/step - loss: 0.0798 - val_loss: 0.0790\n",
            "Epoch 45/300\n",
            "60000/60000 [==============================] - 2s 39us/step - loss: 0.0796 - val_loss: 0.0787\n",
            "Epoch 46/300\n",
            "60000/60000 [==============================] - 2s 39us/step - loss: 0.0795 - val_loss: 0.0788\n",
            "Epoch 47/300\n",
            "60000/60000 [==============================] - 2s 39us/step - loss: 0.0794 - val_loss: 0.0784\n",
            "Epoch 48/300\n",
            "60000/60000 [==============================] - 2s 38us/step - loss: 0.0793 - val_loss: 0.0786\n",
            "Epoch 49/300\n",
            "60000/60000 [==============================] - 2s 38us/step - loss: 0.0791 - val_loss: 0.0783\n",
            "Epoch 50/300\n",
            "60000/60000 [==============================] - 2s 38us/step - loss: 0.0791 - val_loss: 0.0780\n",
            "Epoch 51/300\n",
            "60000/60000 [==============================] - 2s 38us/step - loss: 0.0790 - val_loss: 0.0780\n",
            "Epoch 52/300\n",
            "60000/60000 [==============================] - 2s 38us/step - loss: 0.0789 - val_loss: 0.0780\n",
            "Epoch 53/300\n",
            "60000/60000 [==============================] - 2s 38us/step - loss: 0.0788 - val_loss: 0.0777\n",
            "Epoch 54/300\n",
            "60000/60000 [==============================] - 2s 39us/step - loss: 0.0787 - val_loss: 0.0784\n",
            "Epoch 55/300\n",
            "60000/60000 [==============================] - 2s 38us/step - loss: 0.0786 - val_loss: 0.0777\n",
            "Epoch 56/300\n",
            "60000/60000 [==============================] - 2s 38us/step - loss: 0.0785 - val_loss: 0.0777\n",
            "Epoch 57/300\n",
            "60000/60000 [==============================] - 2s 38us/step - loss: 0.0784 - val_loss: 0.0775\n",
            "Epoch 58/300\n",
            "60000/60000 [==============================] - 2s 39us/step - loss: 0.0783 - val_loss: 0.0774\n",
            "Epoch 59/300\n",
            "60000/60000 [==============================] - 2s 38us/step - loss: 0.0783 - val_loss: 0.0777\n",
            "Epoch 60/300\n",
            "60000/60000 [==============================] - 2s 39us/step - loss: 0.0781 - val_loss: 0.0776\n",
            "Epoch 61/300\n",
            "60000/60000 [==============================] - 2s 39us/step - loss: 0.0781 - val_loss: 0.0774\n",
            "Epoch 62/300\n",
            "60000/60000 [==============================] - 2s 39us/step - loss: 0.0780 - val_loss: 0.0775\n",
            "Epoch 63/300\n",
            "60000/60000 [==============================] - 2s 39us/step - loss: 0.0779 - val_loss: 0.0777\n",
            "Epoch 64/300\n",
            "60000/60000 [==============================] - 2s 38us/step - loss: 0.0778 - val_loss: 0.0773\n",
            "Epoch 65/300\n",
            "60000/60000 [==============================] - 2s 39us/step - loss: 0.0778 - val_loss: 0.0773\n",
            "Epoch 66/300\n",
            "60000/60000 [==============================] - 2s 39us/step - loss: 0.0777 - val_loss: 0.0770\n",
            "Epoch 67/300\n",
            "60000/60000 [==============================] - 2s 39us/step - loss: 0.0776 - val_loss: 0.0766\n",
            "Epoch 68/300\n",
            "60000/60000 [==============================] - 2s 39us/step - loss: 0.0776 - val_loss: 0.0766\n",
            "Epoch 69/300\n",
            "60000/60000 [==============================] - 2s 39us/step - loss: 0.0775 - val_loss: 0.0771\n",
            "Epoch 70/300\n",
            "60000/60000 [==============================] - 2s 39us/step - loss: 0.0775 - val_loss: 0.0766\n",
            "Epoch 71/300\n",
            "60000/60000 [==============================] - 2s 38us/step - loss: 0.0774 - val_loss: 0.0764\n",
            "Epoch 72/300\n",
            "60000/60000 [==============================] - 2s 38us/step - loss: 0.0773 - val_loss: 0.0764\n",
            "Epoch 73/300\n",
            "60000/60000 [==============================] - 2s 38us/step - loss: 0.0772 - val_loss: 0.0767\n",
            "Epoch 74/300\n",
            "60000/60000 [==============================] - 2s 38us/step - loss: 0.0772 - val_loss: 0.0765\n",
            "Epoch 75/300\n",
            "60000/60000 [==============================] - 2s 38us/step - loss: 0.0771 - val_loss: 0.0767\n",
            "Epoch 76/300\n",
            "60000/60000 [==============================] - 2s 39us/step - loss: 0.0771 - val_loss: 0.0762\n",
            "Epoch 77/300\n",
            "60000/60000 [==============================] - 2s 38us/step - loss: 0.0770 - val_loss: 0.0760\n",
            "Epoch 78/300\n",
            "60000/60000 [==============================] - 2s 38us/step - loss: 0.0770 - val_loss: 0.0762\n",
            "Epoch 79/300\n",
            "60000/60000 [==============================] - 2s 38us/step - loss: 0.0769 - val_loss: 0.0764\n",
            "Epoch 80/300\n",
            "60000/60000 [==============================] - 2s 38us/step - loss: 0.0769 - val_loss: 0.0762\n",
            "Epoch 81/300\n",
            "60000/60000 [==============================] - 2s 38us/step - loss: 0.0768 - val_loss: 0.0762\n",
            "Epoch 82/300\n",
            "60000/60000 [==============================] - 2s 38us/step - loss: 0.0767 - val_loss: 0.0760\n",
            "Epoch 83/300\n",
            "60000/60000 [==============================] - 2s 38us/step - loss: 0.0768 - val_loss: 0.0759\n",
            "Epoch 84/300\n",
            "60000/60000 [==============================] - 2s 39us/step - loss: 0.0767 - val_loss: 0.0771\n",
            "Epoch 85/300\n",
            "60000/60000 [==============================] - 2s 38us/step - loss: 0.0767 - val_loss: 0.0761\n",
            "Epoch 86/300\n",
            "60000/60000 [==============================] - 2s 38us/step - loss: 0.0766 - val_loss: 0.0760\n",
            "Epoch 87/300\n",
            "60000/60000 [==============================] - 2s 39us/step - loss: 0.0766 - val_loss: 0.0759\n",
            "Epoch 88/300\n",
            "60000/60000 [==============================] - 2s 38us/step - loss: 0.0765 - val_loss: 0.0757\n",
            "Epoch 89/300\n",
            "60000/60000 [==============================] - 2s 38us/step - loss: 0.0765 - val_loss: 0.0760\n",
            "Epoch 90/300\n",
            "60000/60000 [==============================] - 2s 38us/step - loss: 0.0764 - val_loss: 0.0757\n",
            "Epoch 91/300\n",
            "60000/60000 [==============================] - 2s 39us/step - loss: 0.0764 - val_loss: 0.0757\n",
            "Epoch 92/300\n",
            "60000/60000 [==============================] - 2s 39us/step - loss: 0.0764 - val_loss: 0.0756\n",
            "Epoch 93/300\n",
            "60000/60000 [==============================] - 2s 39us/step - loss: 0.0763 - val_loss: 0.0755\n",
            "Epoch 94/300\n",
            "60000/60000 [==============================] - 2s 38us/step - loss: 0.0763 - val_loss: 0.0761\n",
            "Epoch 95/300\n",
            "60000/60000 [==============================] - 2s 39us/step - loss: 0.0762 - val_loss: 0.0757\n",
            "Epoch 96/300\n",
            "60000/60000 [==============================] - 2s 39us/step - loss: 0.0762 - val_loss: 0.0758\n",
            "Epoch 97/300\n",
            "60000/60000 [==============================] - 2s 40us/step - loss: 0.0762 - val_loss: 0.0754\n",
            "Epoch 98/300\n",
            "60000/60000 [==============================] - 2s 38us/step - loss: 0.0762 - val_loss: 0.0755\n",
            "Epoch 99/300\n",
            "60000/60000 [==============================] - 2s 38us/step - loss: 0.0761 - val_loss: 0.0753\n",
            "Epoch 100/300\n",
            "60000/60000 [==============================] - 2s 39us/step - loss: 0.0761 - val_loss: 0.0754\n",
            "Epoch 101/300\n",
            "60000/60000 [==============================] - 2s 39us/step - loss: 0.0760 - val_loss: 0.0754\n",
            "Epoch 102/300\n",
            "60000/60000 [==============================] - 2s 39us/step - loss: 0.0760 - val_loss: 0.0751\n",
            "Epoch 103/300\n",
            "60000/60000 [==============================] - 2s 39us/step - loss: 0.0760 - val_loss: 0.0753\n",
            "Epoch 104/300\n",
            "60000/60000 [==============================] - 2s 39us/step - loss: 0.0760 - val_loss: 0.0753\n",
            "Epoch 105/300\n",
            "60000/60000 [==============================] - 2s 38us/step - loss: 0.0759 - val_loss: 0.0752\n",
            "Epoch 106/300\n",
            "60000/60000 [==============================] - 2s 39us/step - loss: 0.0759 - val_loss: 0.0755\n",
            "Epoch 107/300\n",
            "60000/60000 [==============================] - 2s 38us/step - loss: 0.0758 - val_loss: 0.0751\n",
            "Epoch 108/300\n",
            "60000/60000 [==============================] - 2s 38us/step - loss: 0.0758 - val_loss: 0.0752\n",
            "Epoch 109/300\n",
            "60000/60000 [==============================] - 2s 38us/step - loss: 0.0758 - val_loss: 0.0755\n",
            "Epoch 110/300\n",
            "60000/60000 [==============================] - 2s 39us/step - loss: 0.0757 - val_loss: 0.0749\n",
            "Epoch 111/300\n",
            "60000/60000 [==============================] - 2s 39us/step - loss: 0.0757 - val_loss: 0.0751\n",
            "Epoch 112/300\n",
            "60000/60000 [==============================] - 2s 38us/step - loss: 0.0757 - val_loss: 0.0753\n",
            "Epoch 113/300\n",
            "60000/60000 [==============================] - 2s 38us/step - loss: 0.0757 - val_loss: 0.0750\n",
            "Epoch 114/300\n",
            "60000/60000 [==============================] - 2s 38us/step - loss: 0.0757 - val_loss: 0.0749\n",
            "Epoch 115/300\n",
            "60000/60000 [==============================] - 2s 40us/step - loss: 0.0756 - val_loss: 0.0748\n",
            "Epoch 116/300\n",
            "60000/60000 [==============================] - 2s 41us/step - loss: 0.0756 - val_loss: 0.0747\n",
            "Epoch 117/300\n",
            "60000/60000 [==============================] - 2s 41us/step - loss: 0.0756 - val_loss: 0.0747\n",
            "Epoch 118/300\n",
            "60000/60000 [==============================] - 2s 41us/step - loss: 0.0755 - val_loss: 0.0749\n",
            "Epoch 119/300\n",
            "60000/60000 [==============================] - 2s 40us/step - loss: 0.0755 - val_loss: 0.0751\n",
            "Epoch 120/300\n",
            "60000/60000 [==============================] - 2s 38us/step - loss: 0.0755 - val_loss: 0.0749\n",
            "Epoch 121/300\n",
            "60000/60000 [==============================] - 2s 38us/step - loss: 0.0754 - val_loss: 0.0750\n",
            "Epoch 122/300\n",
            "60000/60000 [==============================] - 2s 38us/step - loss: 0.0754 - val_loss: 0.0757\n",
            "Epoch 123/300\n",
            "60000/60000 [==============================] - 2s 38us/step - loss: 0.0754 - val_loss: 0.0749\n",
            "Epoch 124/300\n",
            "60000/60000 [==============================] - 2s 39us/step - loss: 0.0754 - val_loss: 0.0746\n",
            "Epoch 125/300\n",
            "60000/60000 [==============================] - 2s 38us/step - loss: 0.0753 - val_loss: 0.0747\n",
            "Epoch 126/300\n",
            "60000/60000 [==============================] - 2s 38us/step - loss: 0.0753 - val_loss: 0.0748\n",
            "Epoch 127/300\n",
            "60000/60000 [==============================] - 2s 38us/step - loss: 0.0753 - val_loss: 0.0749\n",
            "Epoch 128/300\n",
            "60000/60000 [==============================] - 2s 39us/step - loss: 0.0753 - val_loss: 0.0746\n",
            "Epoch 129/300\n",
            "60000/60000 [==============================] - 2s 39us/step - loss: 0.0752 - val_loss: 0.0744\n",
            "Epoch 130/300\n",
            "60000/60000 [==============================] - 2s 38us/step - loss: 0.0752 - val_loss: 0.0747\n",
            "Epoch 131/300\n",
            "60000/60000 [==============================] - 2s 38us/step - loss: 0.0752 - val_loss: 0.0743\n",
            "Epoch 132/300\n",
            "60000/60000 [==============================] - 2s 38us/step - loss: 0.0752 - val_loss: 0.0746\n",
            "Epoch 133/300\n",
            "60000/60000 [==============================] - 2s 38us/step - loss: 0.0751 - val_loss: 0.0743\n",
            "Epoch 134/300\n",
            "60000/60000 [==============================] - 2s 38us/step - loss: 0.0751 - val_loss: 0.0743\n",
            "Epoch 135/300\n",
            "60000/60000 [==============================] - 2s 39us/step - loss: 0.0751 - val_loss: 0.0748\n",
            "Epoch 136/300\n",
            "60000/60000 [==============================] - 2s 39us/step - loss: 0.0751 - val_loss: 0.0746\n",
            "Epoch 137/300\n",
            "60000/60000 [==============================] - 2s 39us/step - loss: 0.0751 - val_loss: 0.0748\n",
            "Epoch 138/300\n",
            "60000/60000 [==============================] - 2s 39us/step - loss: 0.0750 - val_loss: 0.0743\n",
            "Epoch 139/300\n",
            "60000/60000 [==============================] - 2s 38us/step - loss: 0.0750 - val_loss: 0.0745\n",
            "Epoch 140/300\n",
            "60000/60000 [==============================] - 2s 38us/step - loss: 0.0750 - val_loss: 0.0745\n",
            "Epoch 141/300\n",
            "60000/60000 [==============================] - 2s 38us/step - loss: 0.0750 - val_loss: 0.0744\n",
            "Epoch 142/300\n",
            "60000/60000 [==============================] - 2s 38us/step - loss: 0.0750 - val_loss: 0.0743\n",
            "Epoch 143/300\n",
            "60000/60000 [==============================] - 2s 38us/step - loss: 0.0749 - val_loss: 0.0747\n",
            "Epoch 144/300\n",
            "60000/60000 [==============================] - 2s 38us/step - loss: 0.0749 - val_loss: 0.0742\n",
            "Epoch 145/300\n",
            "60000/60000 [==============================] - 2s 38us/step - loss: 0.0749 - val_loss: 0.0744\n",
            "Epoch 146/300\n",
            "60000/60000 [==============================] - 2s 39us/step - loss: 0.0749 - val_loss: 0.0744\n",
            "Epoch 147/300\n",
            "60000/60000 [==============================] - 2s 37us/step - loss: 0.0749 - val_loss: 0.0746\n",
            "Epoch 148/300\n",
            "60000/60000 [==============================] - 2s 38us/step - loss: 0.0749 - val_loss: 0.0745\n",
            "Epoch 149/300\n",
            "60000/60000 [==============================] - 2s 38us/step - loss: 0.0749 - val_loss: 0.0743\n",
            "Epoch 150/300\n",
            "60000/60000 [==============================] - 2s 38us/step - loss: 0.0748 - val_loss: 0.0743\n",
            "Epoch 151/300\n",
            "60000/60000 [==============================] - 2s 38us/step - loss: 0.0748 - val_loss: 0.0745\n",
            "Epoch 152/300\n",
            "60000/60000 [==============================] - 2s 38us/step - loss: 0.0748 - val_loss: 0.0741\n",
            "Epoch 153/300\n",
            "60000/60000 [==============================] - 2s 38us/step - loss: 0.0748 - val_loss: 0.0742\n",
            "Epoch 154/300\n",
            "60000/60000 [==============================] - 2s 38us/step - loss: 0.0747 - val_loss: 0.0743\n",
            "Epoch 155/300\n",
            "60000/60000 [==============================] - 2s 38us/step - loss: 0.0748 - val_loss: 0.0739\n",
            "Epoch 156/300\n",
            "60000/60000 [==============================] - 2s 38us/step - loss: 0.0747 - val_loss: 0.0744\n",
            "Epoch 157/300\n",
            "60000/60000 [==============================] - 2s 38us/step - loss: 0.0747 - val_loss: 0.0742\n",
            "Epoch 158/300\n",
            "60000/60000 [==============================] - 2s 38us/step - loss: 0.0747 - val_loss: 0.0742\n",
            "Epoch 159/300\n",
            "60000/60000 [==============================] - 2s 38us/step - loss: 0.0747 - val_loss: 0.0739\n",
            "Epoch 160/300\n",
            "60000/60000 [==============================] - 2s 39us/step - loss: 0.0747 - val_loss: 0.0741\n",
            "Epoch 161/300\n",
            "60000/60000 [==============================] - 2s 39us/step - loss: 0.0747 - val_loss: 0.0744\n",
            "Epoch 162/300\n",
            "60000/60000 [==============================] - 2s 38us/step - loss: 0.0746 - val_loss: 0.0741\n",
            "Epoch 163/300\n",
            "60000/60000 [==============================] - 2s 38us/step - loss: 0.0746 - val_loss: 0.0739\n",
            "Epoch 164/300\n",
            "60000/60000 [==============================] - 2s 38us/step - loss: 0.0746 - val_loss: 0.0739\n",
            "Epoch 165/300\n",
            "60000/60000 [==============================] - 2s 39us/step - loss: 0.0746 - val_loss: 0.0745\n",
            "Epoch 166/300\n",
            "60000/60000 [==============================] - 2s 41us/step - loss: 0.0745 - val_loss: 0.0738\n",
            "Epoch 167/300\n",
            "60000/60000 [==============================] - 2s 40us/step - loss: 0.0746 - val_loss: 0.0740\n",
            "Epoch 168/300\n",
            "60000/60000 [==============================] - 2s 39us/step - loss: 0.0745 - val_loss: 0.0740\n",
            "Epoch 169/300\n",
            "60000/60000 [==============================] - 2s 38us/step - loss: 0.0745 - val_loss: 0.0740\n",
            "Epoch 170/300\n",
            "60000/60000 [==============================] - 2s 39us/step - loss: 0.0745 - val_loss: 0.0740\n",
            "Epoch 171/300\n",
            "60000/60000 [==============================] - 2s 39us/step - loss: 0.0745 - val_loss: 0.0742\n",
            "Epoch 172/300\n",
            "60000/60000 [==============================] - 2s 38us/step - loss: 0.0745 - val_loss: 0.0736\n",
            "Epoch 173/300\n",
            "60000/60000 [==============================] - 2s 39us/step - loss: 0.0744 - val_loss: 0.0739\n",
            "Epoch 174/300\n",
            "60000/60000 [==============================] - 2s 38us/step - loss: 0.0745 - val_loss: 0.0737\n",
            "Epoch 175/300\n",
            "60000/60000 [==============================] - 2s 38us/step - loss: 0.0744 - val_loss: 0.0737\n",
            "Epoch 176/300\n",
            "60000/60000 [==============================] - 2s 38us/step - loss: 0.0744 - val_loss: 0.0740\n",
            "Epoch 177/300\n",
            "60000/60000 [==============================] - 2s 39us/step - loss: 0.0744 - val_loss: 0.0738\n",
            "Epoch 178/300\n",
            "60000/60000 [==============================] - 2s 38us/step - loss: 0.0744 - val_loss: 0.0738\n",
            "Epoch 179/300\n",
            "60000/60000 [==============================] - 2s 38us/step - loss: 0.0744 - val_loss: 0.0739\n",
            "Epoch 180/300\n",
            "60000/60000 [==============================] - 2s 38us/step - loss: 0.0744 - val_loss: 0.0738\n",
            "Epoch 181/300\n",
            "60000/60000 [==============================] - 2s 38us/step - loss: 0.0743 - val_loss: 0.0741\n",
            "Epoch 182/300\n",
            "60000/60000 [==============================] - 2s 38us/step - loss: 0.0743 - val_loss: 0.0736\n",
            "Epoch 183/300\n",
            "60000/60000 [==============================] - 2s 38us/step - loss: 0.0743 - val_loss: 0.0737\n",
            "Epoch 184/300\n",
            "60000/60000 [==============================] - 2s 38us/step - loss: 0.0743 - val_loss: 0.0736\n",
            "Epoch 185/300\n",
            "60000/60000 [==============================] - 2s 38us/step - loss: 0.0743 - val_loss: 0.0736\n",
            "Epoch 186/300\n",
            "60000/60000 [==============================] - 2s 38us/step - loss: 0.0743 - val_loss: 0.0741\n",
            "Epoch 187/300\n",
            "60000/60000 [==============================] - 2s 38us/step - loss: 0.0742 - val_loss: 0.0737\n",
            "Epoch 188/300\n",
            "60000/60000 [==============================] - 2s 38us/step - loss: 0.0743 - val_loss: 0.0737\n",
            "Epoch 189/300\n",
            "60000/60000 [==============================] - 2s 38us/step - loss: 0.0742 - val_loss: 0.0736\n",
            "Epoch 190/300\n",
            "60000/60000 [==============================] - 2s 38us/step - loss: 0.0742 - val_loss: 0.0737\n",
            "Epoch 191/300\n",
            "60000/60000 [==============================] - 2s 38us/step - loss: 0.0742 - val_loss: 0.0736\n",
            "Epoch 192/300\n",
            "60000/60000 [==============================] - 2s 38us/step - loss: 0.0742 - val_loss: 0.0737\n",
            "Epoch 193/300\n",
            "60000/60000 [==============================] - 2s 38us/step - loss: 0.0742 - val_loss: 0.0735\n",
            "Epoch 194/300\n",
            "60000/60000 [==============================] - 2s 38us/step - loss: 0.0742 - val_loss: 0.0736\n",
            "Epoch 195/300\n",
            "60000/60000 [==============================] - 2s 38us/step - loss: 0.0741 - val_loss: 0.0738\n",
            "Epoch 196/300\n",
            "60000/60000 [==============================] - 2s 38us/step - loss: 0.0741 - val_loss: 0.0741\n",
            "Epoch 197/300\n",
            "60000/60000 [==============================] - 2s 38us/step - loss: 0.0741 - val_loss: 0.0735\n",
            "Epoch 198/300\n",
            "60000/60000 [==============================] - 2s 38us/step - loss: 0.0741 - val_loss: 0.0736\n",
            "Epoch 199/300\n",
            "60000/60000 [==============================] - 2s 38us/step - loss: 0.0741 - val_loss: 0.0735\n",
            "Epoch 200/300\n",
            "60000/60000 [==============================] - 2s 39us/step - loss: 0.0741 - val_loss: 0.0737\n",
            "Epoch 201/300\n",
            "60000/60000 [==============================] - 2s 38us/step - loss: 0.0741 - val_loss: 0.0738\n",
            "Epoch 202/300\n",
            "60000/60000 [==============================] - 2s 38us/step - loss: 0.0741 - val_loss: 0.0736\n",
            "Epoch 203/300\n",
            "60000/60000 [==============================] - 2s 38us/step - loss: 0.0741 - val_loss: 0.0735\n",
            "Epoch 204/300\n",
            "60000/60000 [==============================] - 2s 38us/step - loss: 0.0741 - val_loss: 0.0736\n",
            "Epoch 205/300\n",
            "60000/60000 [==============================] - 2s 39us/step - loss: 0.0740 - val_loss: 0.0736\n",
            "Epoch 206/300\n",
            "60000/60000 [==============================] - 2s 39us/step - loss: 0.0740 - val_loss: 0.0735\n",
            "Epoch 207/300\n",
            "60000/60000 [==============================] - 2s 39us/step - loss: 0.0740 - val_loss: 0.0735\n",
            "Epoch 208/300\n",
            "60000/60000 [==============================] - 2s 38us/step - loss: 0.0740 - val_loss: 0.0734\n",
            "Epoch 209/300\n",
            "60000/60000 [==============================] - 2s 39us/step - loss: 0.0740 - val_loss: 0.0736\n",
            "Epoch 210/300\n",
            "60000/60000 [==============================] - 2s 38us/step - loss: 0.0740 - val_loss: 0.0736\n",
            "Epoch 211/300\n",
            "60000/60000 [==============================] - 2s 38us/step - loss: 0.0740 - val_loss: 0.0734\n",
            "Epoch 212/300\n",
            "60000/60000 [==============================] - 2s 38us/step - loss: 0.0740 - val_loss: 0.0731\n",
            "Epoch 213/300\n",
            "60000/60000 [==============================] - 2s 38us/step - loss: 0.0739 - val_loss: 0.0733\n",
            "Epoch 214/300\n",
            "60000/60000 [==============================] - 2s 38us/step - loss: 0.0739 - val_loss: 0.0734\n",
            "Epoch 215/300\n",
            "60000/60000 [==============================] - 2s 38us/step - loss: 0.0739 - val_loss: 0.0734\n",
            "Epoch 216/300\n",
            "60000/60000 [==============================] - 2s 38us/step - loss: 0.0739 - val_loss: 0.0734\n",
            "Epoch 217/300\n",
            "60000/60000 [==============================] - 2s 38us/step - loss: 0.0739 - val_loss: 0.0733\n",
            "Epoch 218/300\n",
            "60000/60000 [==============================] - 2s 38us/step - loss: 0.0739 - val_loss: 0.0735\n",
            "Epoch 219/300\n",
            "60000/60000 [==============================] - 2s 38us/step - loss: 0.0739 - val_loss: 0.0732\n",
            "Epoch 220/300\n",
            "60000/60000 [==============================] - 2s 38us/step - loss: 0.0738 - val_loss: 0.0732\n",
            "Epoch 221/300\n",
            "60000/60000 [==============================] - 2s 38us/step - loss: 0.0738 - val_loss: 0.0732\n",
            "Epoch 222/300\n",
            "60000/60000 [==============================] - 2s 38us/step - loss: 0.0738 - val_loss: 0.0732\n",
            "Epoch 223/300\n",
            "60000/60000 [==============================] - 2s 38us/step - loss: 0.0738 - val_loss: 0.0735\n",
            "Epoch 224/300\n",
            "60000/60000 [==============================] - 2s 38us/step - loss: 0.0738 - val_loss: 0.0734\n",
            "Epoch 225/300\n",
            "60000/60000 [==============================] - 2s 38us/step - loss: 0.0738 - val_loss: 0.0732\n",
            "Epoch 226/300\n",
            "60000/60000 [==============================] - 2s 38us/step - loss: 0.0737 - val_loss: 0.0732\n",
            "Epoch 227/300\n",
            "60000/60000 [==============================] - 2s 38us/step - loss: 0.0737 - val_loss: 0.0733\n",
            "Epoch 228/300\n",
            "60000/60000 [==============================] - 2s 38us/step - loss: 0.0737 - val_loss: 0.0733\n",
            "Epoch 229/300\n",
            "60000/60000 [==============================] - 2s 38us/step - loss: 0.0737 - val_loss: 0.0732\n",
            "Epoch 230/300\n",
            "60000/60000 [==============================] - 2s 38us/step - loss: 0.0737 - val_loss: 0.0730\n",
            "Epoch 231/300\n",
            "60000/60000 [==============================] - 2s 38us/step - loss: 0.0737 - val_loss: 0.0732\n",
            "Epoch 232/300\n",
            "60000/60000 [==============================] - 2s 38us/step - loss: 0.0737 - val_loss: 0.0733\n",
            "Epoch 233/300\n",
            "60000/60000 [==============================] - 2s 38us/step - loss: 0.0737 - val_loss: 0.0731\n",
            "Epoch 234/300\n",
            "60000/60000 [==============================] - 2s 38us/step - loss: 0.0736 - val_loss: 0.0732\n",
            "Epoch 235/300\n",
            "60000/60000 [==============================] - 2s 38us/step - loss: 0.0736 - val_loss: 0.0732\n",
            "Epoch 236/300\n",
            "60000/60000 [==============================] - 2s 39us/step - loss: 0.0736 - val_loss: 0.0735\n",
            "Epoch 237/300\n",
            "60000/60000 [==============================] - 2s 38us/step - loss: 0.0736 - val_loss: 0.0731\n",
            "Epoch 238/300\n",
            "60000/60000 [==============================] - 2s 39us/step - loss: 0.0736 - val_loss: 0.0732\n",
            "Epoch 239/300\n",
            "60000/60000 [==============================] - 2s 38us/step - loss: 0.0736 - val_loss: 0.0732\n",
            "Epoch 240/300\n",
            "60000/60000 [==============================] - 2s 39us/step - loss: 0.0736 - val_loss: 0.0734\n",
            "Epoch 241/300\n",
            "60000/60000 [==============================] - 2s 39us/step - loss: 0.0736 - val_loss: 0.0730\n",
            "Epoch 242/300\n",
            "60000/60000 [==============================] - 2s 39us/step - loss: 0.0735 - val_loss: 0.0732\n",
            "Epoch 243/300\n",
            "60000/60000 [==============================] - 2s 39us/step - loss: 0.0735 - val_loss: 0.0731\n",
            "Epoch 244/300\n",
            "60000/60000 [==============================] - 2s 39us/step - loss: 0.0735 - val_loss: 0.0730\n",
            "Epoch 245/300\n",
            "60000/60000 [==============================] - 2s 38us/step - loss: 0.0735 - val_loss: 0.0729\n",
            "Epoch 246/300\n",
            "60000/60000 [==============================] - 2s 38us/step - loss: 0.0735 - val_loss: 0.0730\n",
            "Epoch 247/300\n",
            "60000/60000 [==============================] - 2s 38us/step - loss: 0.0735 - val_loss: 0.0728\n",
            "Epoch 248/300\n",
            "60000/60000 [==============================] - 2s 38us/step - loss: 0.0735 - val_loss: 0.0730\n",
            "Epoch 249/300\n",
            "60000/60000 [==============================] - 2s 38us/step - loss: 0.0734 - val_loss: 0.0730\n",
            "Epoch 250/300\n",
            "60000/60000 [==============================] - 2s 39us/step - loss: 0.0734 - val_loss: 0.0733\n",
            "Epoch 251/300\n",
            "60000/60000 [==============================] - 2s 41us/step - loss: 0.0734 - val_loss: 0.0729\n",
            "Epoch 252/300\n",
            "60000/60000 [==============================] - 2s 40us/step - loss: 0.0734 - val_loss: 0.0730\n",
            "Epoch 253/300\n",
            "60000/60000 [==============================] - 2s 41us/step - loss: 0.0734 - val_loss: 0.0730\n",
            "Epoch 254/300\n",
            "60000/60000 [==============================] - 2s 41us/step - loss: 0.0734 - val_loss: 0.0730\n",
            "Epoch 255/300\n",
            "60000/60000 [==============================] - 2s 38us/step - loss: 0.0734 - val_loss: 0.0730\n",
            "Epoch 256/300\n",
            "60000/60000 [==============================] - 2s 38us/step - loss: 0.0734 - val_loss: 0.0727\n",
            "Epoch 257/300\n",
            "60000/60000 [==============================] - 2s 38us/step - loss: 0.0734 - val_loss: 0.0729\n",
            "Epoch 258/300\n",
            "60000/60000 [==============================] - 2s 38us/step - loss: 0.0734 - val_loss: 0.0730\n",
            "Epoch 259/300\n",
            "60000/60000 [==============================] - 2s 38us/step - loss: 0.0734 - val_loss: 0.0729\n",
            "Epoch 260/300\n",
            "60000/60000 [==============================] - 2s 38us/step - loss: 0.0733 - val_loss: 0.0730\n",
            "Epoch 261/300\n",
            "60000/60000 [==============================] - 2s 38us/step - loss: 0.0734 - val_loss: 0.0729\n",
            "Epoch 262/300\n",
            "60000/60000 [==============================] - 2s 39us/step - loss: 0.0733 - val_loss: 0.0730\n",
            "Epoch 263/300\n",
            "60000/60000 [==============================] - 2s 38us/step - loss: 0.0733 - val_loss: 0.0730\n",
            "Epoch 264/300\n",
            "60000/60000 [==============================] - 2s 38us/step - loss: 0.0733 - val_loss: 0.0728\n",
            "Epoch 265/300\n",
            "60000/60000 [==============================] - 2s 38us/step - loss: 0.0733 - val_loss: 0.0731\n",
            "Epoch 266/300\n",
            "60000/60000 [==============================] - 2s 38us/step - loss: 0.0733 - val_loss: 0.0727\n",
            "Epoch 267/300\n",
            "60000/60000 [==============================] - 2s 38us/step - loss: 0.0733 - val_loss: 0.0727\n",
            "Epoch 268/300\n",
            "60000/60000 [==============================] - 2s 38us/step - loss: 0.0733 - val_loss: 0.0729\n",
            "Epoch 269/300\n",
            "60000/60000 [==============================] - 2s 38us/step - loss: 0.0733 - val_loss: 0.0728\n",
            "Epoch 270/300\n",
            "60000/60000 [==============================] - 2s 38us/step - loss: 0.0732 - val_loss: 0.0728\n",
            "Epoch 271/300\n",
            "60000/60000 [==============================] - 2s 38us/step - loss: 0.0732 - val_loss: 0.0727\n",
            "Epoch 272/300\n",
            "60000/60000 [==============================] - 2s 38us/step - loss: 0.0732 - val_loss: 0.0730\n",
            "Epoch 273/300\n",
            "60000/60000 [==============================] - 2s 38us/step - loss: 0.0732 - val_loss: 0.0728\n",
            "Epoch 274/300\n",
            "60000/60000 [==============================] - 2s 38us/step - loss: 0.0732 - val_loss: 0.0727\n",
            "Epoch 275/300\n",
            "60000/60000 [==============================] - 2s 39us/step - loss: 0.0732 - val_loss: 0.0728\n",
            "Epoch 276/300\n",
            "60000/60000 [==============================] - 2s 39us/step - loss: 0.0732 - val_loss: 0.0728\n",
            "Epoch 277/300\n",
            "60000/60000 [==============================] - 2s 39us/step - loss: 0.0732 - val_loss: 0.0725\n",
            "Epoch 278/300\n",
            "60000/60000 [==============================] - 2s 39us/step - loss: 0.0732 - val_loss: 0.0729\n",
            "Epoch 279/300\n",
            "60000/60000 [==============================] - 2s 38us/step - loss: 0.0732 - val_loss: 0.0726\n",
            "Epoch 280/300\n",
            "60000/60000 [==============================] - 2s 38us/step - loss: 0.0732 - val_loss: 0.0727\n",
            "Epoch 281/300\n",
            "60000/60000 [==============================] - 2s 38us/step - loss: 0.0732 - val_loss: 0.0730\n",
            "Epoch 282/300\n",
            "60000/60000 [==============================] - 2s 38us/step - loss: 0.0732 - val_loss: 0.0726\n",
            "Epoch 283/300\n",
            "60000/60000 [==============================] - 2s 38us/step - loss: 0.0731 - val_loss: 0.0725\n",
            "Epoch 284/300\n",
            "60000/60000 [==============================] - 2s 38us/step - loss: 0.0732 - val_loss: 0.0728\n",
            "Epoch 285/300\n",
            "60000/60000 [==============================] - 2s 38us/step - loss: 0.0731 - val_loss: 0.0726\n",
            "Epoch 286/300\n",
            "60000/60000 [==============================] - 2s 39us/step - loss: 0.0731 - val_loss: 0.0731\n",
            "Epoch 287/300\n",
            "60000/60000 [==============================] - 2s 38us/step - loss: 0.0731 - val_loss: 0.0730\n",
            "Epoch 288/300\n",
            "60000/60000 [==============================] - 2s 38us/step - loss: 0.0731 - val_loss: 0.0728\n",
            "Epoch 289/300\n",
            "60000/60000 [==============================] - 2s 38us/step - loss: 0.0731 - val_loss: 0.0726\n",
            "Epoch 290/300\n",
            "60000/60000 [==============================] - 2s 38us/step - loss: 0.0731 - val_loss: 0.0726\n",
            "Epoch 291/300\n",
            "60000/60000 [==============================] - 2s 38us/step - loss: 0.0731 - val_loss: 0.0726\n",
            "Epoch 292/300\n",
            "60000/60000 [==============================] - 2s 38us/step - loss: 0.0731 - val_loss: 0.0726\n",
            "Epoch 293/300\n",
            "60000/60000 [==============================] - 2s 38us/step - loss: 0.0731 - val_loss: 0.0728\n",
            "Epoch 294/300\n",
            "60000/60000 [==============================] - 2s 39us/step - loss: 0.0731 - val_loss: 0.0726\n",
            "Epoch 295/300\n",
            "60000/60000 [==============================] - 2s 38us/step - loss: 0.0731 - val_loss: 0.0725\n",
            "Epoch 296/300\n",
            "60000/60000 [==============================] - 2s 39us/step - loss: 0.0731 - val_loss: 0.0725\n",
            "Epoch 297/300\n",
            "60000/60000 [==============================] - 2s 38us/step - loss: 0.0730 - val_loss: 0.0724\n",
            "Epoch 298/300\n",
            "60000/60000 [==============================] - 2s 39us/step - loss: 0.0731 - val_loss: 0.0729\n",
            "Epoch 299/300\n",
            "60000/60000 [==============================] - 2s 40us/step - loss: 0.0730 - val_loss: 0.0726\n",
            "Epoch 300/300\n",
            "60000/60000 [==============================] - 2s 40us/step - loss: 0.0731 - val_loss: 0.0726\n"
          ],
          "name": "stdout"
        }
      ]
    },
    {
      "cell_type": "code",
      "metadata": {
        "id": "dQFxJHtbR2RV",
        "colab_type": "code",
        "colab": {
          "base_uri": "https://localhost:8080/",
          "height": 351
        },
        "outputId": "7ef8c46c-78aa-420f-cf0c-98847d553be0"
      },
      "source": [
        "pl.plot(np.array(history64_sig.history['loss']))\n",
        "pl.ylabel('loss')\n",
        "pl.xlabel('iteration')\n",
        "#pl.yscale('log')\n",
        "#pl.xscale('log')"
      ],
      "execution_count": 62,
      "outputs": [
        {
          "output_type": "execute_result",
          "data": {
            "text/plain": [
              "Text(0.5, 0, 'iteration')"
            ]
          },
          "metadata": {
            "tags": []
          },
          "execution_count": 62
        },
        {
          "output_type": "display_data",
          "data": {
            "image/png": "[encoded data removed]",
            "text/plain": [
              "<Figure size 720x360 with 1 Axes>"
            ]
          },
          "metadata": {
            "tags": [],
            "needs_background": "light"
          }
        }
      ]
    },
    {
      "cell_type": "code",
      "metadata": {
        "id": "1yOJ8s_xR2L3",
        "colab_type": "code",
        "colab": {
          "base_uri": "https://localhost:8080/",
          "height": 1000
        },
        "outputId": "d9e65e5c-8252-4da9-890f-97ccaf7f9fbe"
      },
      "source": [
        "output_image64_sig = model_digits64_sig.predict(x_test)\n",
        "for i in range(10):\n",
        "  compareinout(i, output_image64_sig, x_test)"
      ],
      "execution_count": 32,
      "outputs": [
        {
          "output_type": "display_data",
          "data": {
            "image/png": "[encoded data removed]",
            "text/plain": [
              "<Figure size 720x360 with 2 Axes>"
            ]
          },
          "metadata": {
            "tags": [],
            "needs_background": "light"
          }
        },
        {
          "output_type": "display_data",
          "data": {
            "image/png": "[encoded data removed]",
            "text/plain": [
              "<Figure size 720x360 with 2 Axes>"
            ]
          },
          "metadata": {
            "tags": [],
            "needs_background": "light"
          }
        },
        {
          "output_type": "display_data",
          "data": {
            "image/png": "[encoded data removed]",
            "text/plain": [
              "<Figure size 720x360 with 2 Axes>"
            ]
          },
          "metadata": {
            "tags": [],
            "needs_background": "light"
          }
        },
        {
          "output_type": "display_data",
          "data": {
            "image/png": "[encoded data removed]",
            "text/plain": [
              "<Figure size 720x360 with 2 Axes>"
            ]
          },
          "metadata": {
            "tags": [],
            "needs_background": "light"
          }
        },
        {
          "output_type": "display_data",
          "data": {
            "image/png": "[encoded data removed]",
            "text/plain": [
              "<Figure size 720x360 with 2 Axes>"
            ]
          },
          "metadata": {
            "tags": [],
            "needs_background": "light"
          }
        },
        {
          "output_type": "display_data",
          "data": {
            "image/png": "[encoded data removed]",
            "text/plain": [
              "<Figure size 720x360 with 2 Axes>"
            ]
          },
          "metadata": {
            "tags": [],
            "needs_background": "light"
          }
        },
        {
          "output_type": "display_data",
          "data": {
            "image/png": "[encoded data removed]",
            "text/plain": [
              "<Figure size 720x360 with 2 Axes>"
            ]
          },
          "metadata": {
            "tags": [],
            "needs_background": "light"
          }
        },
        {
          "output_type": "display_data",
          "data": {
            "image/png": "[encoded data removed]",
            "text/plain": [
              "<Figure size 720x360 with 2 Axes>"
            ]
          },
          "metadata": {
            "tags": [],
            "needs_background": "light"
          }
        },
        {
          "output_type": "display_data",
          "data": {
            "image/png": "[encoded data removed]",
            "text/plain": [
              "<Figure size 720x360 with 2 Axes>"
            ]
          },
          "metadata": {
            "tags": [],
            "needs_background": "light"
          }
        },
        {
          "output_type": "display_data",
          "data": {
            "image/png": "[encoded data removed]",
            "text/plain": [
              "<Figure size 720x360 with 2 Axes>"
            ]
          },
          "metadata": {
            "tags": [],
            "needs_background": "light"
          }
        }
      ]
    },
    {
      "cell_type": "code",
      "metadata": {
        "id": "mBCGc4CLTXJ9",
        "colab_type": "code",
        "colab": {}
      },
      "source": [
        "# sigmoid and binary cross entropy loss\n",
        "model_digits64_bce = model_digits64_sig"
      ],
      "execution_count": 0,
      "outputs": []
    },
    {
      "cell_type": "code",
      "metadata": {
        "id": "ZH8X_lDVTlCs",
        "colab_type": "code",
        "colab": {
          "base_uri": "https://localhost:8080/",
          "height": 714
        },
        "outputId": "0eb48665-a700-4bea-80f5-1a20c78052f7"
      },
      "source": [
        "model_digits64_bce.compile(optimizer=\"adadelta\", loss=\"binary_crossentropy\")\n",
        "history64_bce = model_digits64_bce.fit(x_train, x_train, \n",
        "                                       validation_data=(x_test, x_test), \n",
        "                                       epochs=20, batch_size=100, verbose=1)"
      ],
      "execution_count": 34,
      "outputs": [
        {
          "output_type": "stream",
          "text": [
            "Train on 60000 samples, validate on 10000 samples\n",
            "Epoch 1/20\n",
            "60000/60000 [==============================] - 2s 41us/step - loss: 0.1216 - val_loss: 0.1142\n",
            "Epoch 2/20\n",
            "60000/60000 [==============================] - 2s 39us/step - loss: 0.1142 - val_loss: 0.1095\n",
            "Epoch 3/20\n",
            "60000/60000 [==============================] - 2s 38us/step - loss: 0.1099 - val_loss: 0.1062\n",
            "Epoch 4/20\n",
            "60000/60000 [==============================] - 2s 38us/step - loss: 0.1068 - val_loss: 0.1044\n",
            "Epoch 5/20\n",
            "60000/60000 [==============================] - 2s 38us/step - loss: 0.1045 - val_loss: 0.1013\n",
            "Epoch 6/20\n",
            "60000/60000 [==============================] - 2s 38us/step - loss: 0.1025 - val_loss: 0.0994\n",
            "Epoch 7/20\n",
            "60000/60000 [==============================] - 2s 38us/step - loss: 0.1009 - val_loss: 0.0986\n",
            "Epoch 8/20\n",
            "60000/60000 [==============================] - 2s 38us/step - loss: 0.0994 - val_loss: 0.0981\n",
            "Epoch 9/20\n",
            "60000/60000 [==============================] - 2s 38us/step - loss: 0.0980 - val_loss: 0.0952\n",
            "Epoch 10/20\n",
            "60000/60000 [==============================] - 2s 38us/step - loss: 0.0967 - val_loss: 0.0947\n",
            "Epoch 11/20\n",
            "60000/60000 [==============================] - 2s 39us/step - loss: 0.0956 - val_loss: 0.0942\n",
            "Epoch 12/20\n",
            "60000/60000 [==============================] - 2s 38us/step - loss: 0.0946 - val_loss: 0.0923\n",
            "Epoch 13/20\n",
            "60000/60000 [==============================] - 2s 38us/step - loss: 0.0937 - val_loss: 0.0929\n",
            "Epoch 14/20\n",
            "60000/60000 [==============================] - 2s 38us/step - loss: 0.0929 - val_loss: 0.0913\n",
            "Epoch 15/20\n",
            "60000/60000 [==============================] - 2s 39us/step - loss: 0.0923 - val_loss: 0.0899\n",
            "Epoch 16/20\n",
            "60000/60000 [==============================] - 2s 39us/step - loss: 0.0916 - val_loss: 0.0896\n",
            "Epoch 17/20\n",
            "60000/60000 [==============================] - 2s 38us/step - loss: 0.0910 - val_loss: 0.0892\n",
            "Epoch 18/20\n",
            "60000/60000 [==============================] - 2s 38us/step - loss: 0.0905 - val_loss: 0.0886\n",
            "Epoch 19/20\n",
            "60000/60000 [==============================] - 2s 39us/step - loss: 0.0899 - val_loss: 0.0883\n",
            "Epoch 20/20\n",
            "60000/60000 [==============================] - 2s 39us/step - loss: 0.0895 - val_loss: 0.0882\n"
          ],
          "name": "stdout"
        }
      ]
    },
    {
      "cell_type": "code",
      "metadata": {
        "id": "g94anP0NT4ET",
        "colab_type": "code",
        "colab": {
          "base_uri": "https://localhost:8080/",
          "height": 351
        },
        "outputId": "4090b992-98ed-4034-ce31-50bb5d42c9a4"
      },
      "source": [
        "pl.plot(np.array(history64_bce.history['loss']))\n",
        "pl.ylabel('loss')\n",
        "pl.xlabel('iteration')\n",
        "#pl.yscale('log')\n",
        "#pl.xscale('log')"
      ],
      "execution_count": 35,
      "outputs": [
        {
          "output_type": "execute_result",
          "data": {
            "text/plain": [
              "Text(0.5, 0, 'iteration')"
            ]
          },
          "metadata": {
            "tags": []
          },
          "execution_count": 35
        },
        {
          "output_type": "display_data",
          "data": {
            "image/png": "[encoded data removed]",
            "text/plain": [
              "<Figure size 720x360 with 1 Axes>"
            ]
          },
          "metadata": {
            "tags": [],
            "needs_background": "light"
          }
        }
      ]
    },
    {
      "cell_type": "code",
      "metadata": {
        "id": "_HuqPELWT380",
        "colab_type": "code",
        "colab": {
          "base_uri": "https://localhost:8080/",
          "height": 1000
        },
        "outputId": "2edd74d6-4254-4f03-878b-3d9a6cd22eef"
      },
      "source": [
        "output_image64_bce = model_digits64_bce.predict(x_test)\n",
        "for i in range(10):\n",
        "  compareinout(i, output_image64_bce, x_test)"
      ],
      "execution_count": 36,
      "outputs": [
        {
          "output_type": "display_data",
          "data": {
            "image/png": "[encoded data removed]",
            "text/plain": [
              "<Figure size 720x360 with 2 Axes>"
            ]
          },
          "metadata": {
            "tags": [],
            "needs_background": "light"
          }
        },
        {
          "output_type": "display_data",
          "data": {
            "image/png": "[encoded data removed]",
            "text/plain": [
              "<Figure size 720x360 with 2 Axes>"
            ]
          },
          "metadata": {
            "tags": [],
            "needs_background": "light"
          }
        },
        {
          "output_type": "display_data",
          "data": {
            "image/png": "[encoded data removed]",
            "text/plain": [
              "<Figure size 720x360 with 2 Axes>"
            ]
          },
          "metadata": {
            "tags": [],
            "needs_background": "light"
          }
        },
        {
          "output_type": "display_data",
          "data": {
            "image/png": "[encoded data removed]",
            "text/plain": [
              "<Figure size 720x360 with 2 Axes>"
            ]
          },
          "metadata": {
            "tags": [],
            "needs_background": "light"
          }
        },
        {
          "output_type": "display_data",
          "data": {
            "image/png": "[encoded data removed]",
            "text/plain": [
              "<Figure size 720x360 with 2 Axes>"
            ]
          },
          "metadata": {
            "tags": [],
            "needs_background": "light"
          }
        },
        {
          "output_type": "display_data",
          "data": {
            "image/png": "[encoded data removed]",
            "text/plain": [
              "<Figure size 720x360 with 2 Axes>"
            ]
          },
          "metadata": {
            "tags": [],
            "needs_background": "light"
          }
        },
        {
          "output_type": "display_data",
          "data": {
            "image/png": "[encoded data removed]",
            "text/plain": [
              "<Figure size 720x360 with 2 Axes>"
            ]
          },
          "metadata": {
            "tags": [],
            "needs_background": "light"
          }
        },
        {
          "output_type": "display_data",
          "data": {
            "image/png": "[encoded data removed]",
            "text/plain": [
              "<Figure size 720x360 with 2 Axes>"
            ]
          },
          "metadata": {
            "tags": [],
            "needs_background": "light"
          }
        },
        {
          "output_type": "display_data",
          "data": {
            "image/png": "[encoded data removed]",
            "text/plain": [
              "<Figure size 720x360 with 2 Axes>"
            ]
          },
          "metadata": {
            "tags": [],
            "needs_background": "light"
          }
        },
        {
          "output_type": "display_data",
          "data": {
            "image/png": "[encoded data removed]",
            "text/plain": [
              "<Figure size 720x360 with 2 Axes>"
            ]
          },
          "metadata": {
            "tags": [],
            "needs_background": "light"
          }
        }
      ]
    },
    {
      "cell_type": "code",
      "metadata": {
        "id": "5yWtDsH3T30C",
        "colab_type": "code",
        "colab": {
          "base_uri": "https://localhost:8080/",
          "height": 672
        },
        "outputId": "14e9bbe3-12fc-42b8-d443-260fe9495a7c"
      },
      "source": [
        "pl.plot(np.array(history64.history['loss']), label=\"linear\")\n",
        "pl.plot(np.array(history64_sig.history['loss']), label=\"sigmoid\")\n",
        "pl.plot(np.array(history64_bce.history['loss']), label=\"bce\")\n",
        "pl.ylabel('loss')\n",
        "pl.xlabel('iteration')\n",
        "pl.legend()\n",
        "pl.figure()\n",
        "pl.plot(np.array(history64.history['loss']), label=\"linear\")\n",
        "pl.plot(np.array(history64_sig.history['loss']), label=\"sigmoid\")\n",
        "pl.plot(np.array(history64_bce.history['loss']), label=\"bce\")\n",
        "pl.ylabel('loss')\n",
        "pl.xlabel('iteration')\n",
        "pl.xscale('log')\n",
        "pl.yscale('log')\n",
        "pl.legend()"
      ],
      "execution_count": 37,
      "outputs": [
        {
          "output_type": "execute_result",
          "data": {
            "text/plain": [
              "<matplotlib.legend.Legend at 0x7f8692ec8a90>"
            ]
          },
          "metadata": {
            "tags": []
          },
          "execution_count": 37
        },
        {
          "output_type": "display_data",
          "data": {
            "image/png": "[encoded data removed]",
            "text/plain": [
              "<Figure size 720x360 with 1 Axes>"
            ]
          },
          "metadata": {
            "tags": [],
            "needs_background": "light"
          }
        },
        {
          "output_type": "display_data",
          "data": {
            "image/png": "[encoded data removed]",
            "text/plain": [
              "<Figure size 720x360 with 1 Axes>"
            ]
          },
          "metadata": {
            "tags": [],
            "needs_background": "light"
          }
        }
      ]
    },
    {
      "cell_type": "markdown",
      "metadata": {
        "id": "tWUnoBqkKg9K",
        "colab_type": "text"
      },
      "source": [
        "# try more compression"
      ]
    },
    {
      "cell_type": "code",
      "metadata": {
        "id": "IXbjHrYSfwIP",
        "colab_type": "code",
        "colab": {}
      },
      "source": [
        "model_digits = Sequential()\n",
        "#encoder\n",
        "model_digits.add(Dense(128, activation='relu', input_dim=ndim))\n",
        "model_digits.add(Dense(64, activation='relu'))\n",
        "model_digits.add(Dense(32, activation='relu'))\n",
        "#bottle neck\n",
        "model_digits.add(Dense(16, activation='relu'))\n",
        "#decoder\n",
        "model_digits.add(Dense(32, activation='relu'))\n",
        "model_digits.add(Dense(64, activation='relu'))\n",
        "model_digits.add(Dense(128, activation='relu'))\n",
        "model_digits.add(Dense(ndim, activation='sigmoid'))\n"
      ],
      "execution_count": 0,
      "outputs": []
    },
    {
      "cell_type": "code",
      "metadata": {
        "id": "K6lGMsQki6RC",
        "colab_type": "code",
        "colab": {}
      },
      "source": [
        "model_digits.compile(optimizer=\"adadelta\", loss=\"binary_crossentropy\")"
      ],
      "execution_count": 0,
      "outputs": []
    },
    {
      "cell_type": "code",
      "metadata": {
        "id": "6QXiwgL0kPsy",
        "colab_type": "code",
        "outputId": "7020db76-80a0-486c-b0ea-063c115bb672",
        "colab": {
          "base_uri": "https://localhost:8080/",
          "height": 442
        }
      },
      "source": [
        "print(model_digits.summary())"
      ],
      "execution_count": 40,
      "outputs": [
        {
          "output_type": "stream",
          "text": [
            "Model: \"sequential_3\"\n",
            "_________________________________________________________________\n",
            "Layer (type)                 Output Shape              Param #   \n",
            "=================================================================\n",
            "dense_9 (Dense)              (None, 128)               100480    \n",
            "_________________________________________________________________\n",
            "dense_10 (Dense)             (None, 64)                8256      \n",
            "_________________________________________________________________\n",
            "dense_11 (Dense)             (None, 32)                2080      \n",
            "_________________________________________________________________\n",
            "dense_12 (Dense)             (None, 16)                528       \n",
            "_________________________________________________________________\n",
            "dense_13 (Dense)             (None, 32)                544       \n",
            "_________________________________________________________________\n",
            "dense_14 (Dense)             (None, 64)                2112      \n",
            "_________________________________________________________________\n",
            "dense_15 (Dense)             (None, 128)               8320      \n",
            "_________________________________________________________________\n",
            "dense_16 (Dense)             (None, 784)               101136    \n",
            "=================================================================\n",
            "Total params: 223,456\n",
            "Trainable params: 223,456\n",
            "Non-trainable params: 0\n",
            "_________________________________________________________________\n",
            "None\n"
          ],
          "name": "stdout"
        }
      ]
    },
    {
      "cell_type": "code",
      "metadata": {
        "id": "65mlyV5hj8Od",
        "colab_type": "code",
        "outputId": "1755eb00-4f6f-43a0-e844-d0e1f932ebfb",
        "colab": {
          "base_uri": "https://localhost:8080/",
          "height": 697
        }
      },
      "source": [
        "history = model_digits.fit(x_train, x_train, epochs=20, batch_size=100, verbose=1)"
      ],
      "execution_count": 41,
      "outputs": [
        {
          "output_type": "stream",
          "text": [
            "Epoch 1/20\n",
            "60000/60000 [==============================] - 3s 53us/step - loss: 0.3001\n",
            "Epoch 2/20\n",
            "60000/60000 [==============================] - 3s 50us/step - loss: 0.2507\n",
            "Epoch 3/20\n",
            "60000/60000 [==============================] - 3s 50us/step - loss: 0.2328\n",
            "Epoch 4/20\n",
            "60000/60000 [==============================] - 3s 50us/step - loss: 0.2190\n",
            "Epoch 5/20\n",
            "60000/60000 [==============================] - 3s 50us/step - loss: 0.2084\n",
            "Epoch 6/20\n",
            "60000/60000 [==============================] - 3s 50us/step - loss: 0.1950\n",
            "Epoch 7/20\n",
            "60000/60000 [==============================] - 3s 49us/step - loss: 0.1843\n",
            "Epoch 8/20\n",
            "60000/60000 [==============================] - 3s 50us/step - loss: 0.1762\n",
            "Epoch 9/20\n",
            "60000/60000 [==============================] - 3s 50us/step - loss: 0.1696\n",
            "Epoch 10/20\n",
            "60000/60000 [==============================] - 3s 50us/step - loss: 0.1641\n",
            "Epoch 11/20\n",
            "60000/60000 [==============================] - 3s 50us/step - loss: 0.1601\n",
            "Epoch 12/20\n",
            "60000/60000 [==============================] - 3s 50us/step - loss: 0.1570\n",
            "Epoch 13/20\n",
            "60000/60000 [==============================] - 3s 50us/step - loss: 0.1544\n",
            "Epoch 14/20\n",
            "60000/60000 [==============================] - 3s 50us/step - loss: 0.1521\n",
            "Epoch 15/20\n",
            "60000/60000 [==============================] - 3s 50us/step - loss: 0.1499\n",
            "Epoch 16/20\n",
            "60000/60000 [==============================] - 3s 49us/step - loss: 0.1480\n",
            "Epoch 17/20\n",
            "60000/60000 [==============================] - 3s 49us/step - loss: 0.1463\n",
            "Epoch 18/20\n",
            "60000/60000 [==============================] - 3s 50us/step - loss: 0.1449\n",
            "Epoch 19/20\n",
            "60000/60000 [==============================] - 3s 50us/step - loss: 0.1436\n",
            "Epoch 20/20\n",
            "60000/60000 [==============================] - 3s 49us/step - loss: 0.1425\n"
          ],
          "name": "stdout"
        }
      ]
    },
    {
      "cell_type": "code",
      "metadata": {
        "id": "nAbZDuXOlCZi",
        "colab_type": "code",
        "outputId": "6cafb66c-428a-4345-dba0-0b5e0d1a47a6",
        "colab": {
          "base_uri": "https://localhost:8080/",
          "height": 324
        }
      },
      "source": [
        "pl.plot(np.array(history.history['loss']))\n",
        "pl.yscale('log')\n",
        "pl.xscale('log')"
      ],
      "execution_count": 42,
      "outputs": [
        {
          "output_type": "display_data",
          "data": {
            "image/png": "[encoded data removed]",
            "text/plain": [
              "<Figure size 720x360 with 1 Axes>"
            ]
          },
          "metadata": {
            "tags": [],
            "needs_background": "light"
          }
        }
      ]
    },
    {
      "cell_type": "code",
      "metadata": {
        "id": "31mTTaI4mCKw",
        "colab_type": "code",
        "outputId": "c1e917ab-6a55-4a44-ae8b-614f2cb9d727",
        "colab": {
          "base_uri": "https://localhost:8080/",
          "height": 1000
        }
      },
      "source": [
        "output_image = model_digits.predict(x_test)\n",
        "\n",
        "for i in range(10):\n",
        "  compareinout(i, output_image, x_test)"
      ],
      "execution_count": 43,
      "outputs": [
        {
          "output_type": "display_data",
          "data": {
            "image/png": "[encoded data removed]",
            "text/plain": [
              "<Figure size 720x360 with 2 Axes>"
            ]
          },
          "metadata": {
            "tags": [],
            "needs_background": "light"
          }
        },
        {
          "output_type": "display_data",
          "data": {
            "image/png": "[encoded data removed]",
            "text/plain": [
              "<Figure size 720x360 with 2 Axes>"
            ]
          },
          "metadata": {
            "tags": [],
            "needs_background": "light"
          }
        },
        {
          "output_type": "display_data",
          "data": {
            "image/png": "[encoded data removed]",
            "text/plain": [
              "<Figure size 720x360 with 2 Axes>"
            ]
          },
          "metadata": {
            "tags": [],
            "needs_background": "light"
          }
        },
        {
          "output_type": "display_data",
          "data": {
            "image/png": "[encoded data removed]",
            "text/plain": [
              "<Figure size 720x360 with 2 Axes>"
            ]
          },
          "metadata": {
            "tags": [],
            "needs_background": "light"
          }
        },
        {
          "output_type": "display_data",
          "data": {
            "image/png": "[encoded data removed]",
            "text/plain": [
              "<Figure size 720x360 with 2 Axes>"
            ]
          },
          "metadata": {
            "tags": [],
            "needs_background": "light"
          }
        },
        {
          "output_type": "display_data",
          "data": {
            "image/png": "[encoded data removed]",
            "text/plain": [
              "<Figure size 720x360 with 2 Axes>"
            ]
          },
          "metadata": {
            "tags": [],
            "needs_background": "light"
          }
        },
        {
          "output_type": "display_data",
          "data": {
            "image/png": "[encoded data removed]",
            "text/plain": [
              "<Figure size 720x360 with 2 Axes>"
            ]
          },
          "metadata": {
            "tags": [],
            "needs_background": "light"
          }
        },
        {
          "output_type": "display_data",
          "data": {
            "image/png": "[encoded data removed]",
            "text/plain": [
              "<Figure size 720x360 with 2 Axes>"
            ]
          },
          "metadata": {
            "tags": [],
            "needs_background": "light"
          }
        },
        {
          "output_type": "display_data",
          "data": {
            "image/png": "[encoded data removed]",
            "text/plain": [
              "<Figure size 720x360 with 2 Axes>"
            ]
          },
          "metadata": {
            "tags": [],
            "needs_background": "light"
          }
        },
        {
          "output_type": "display_data",
          "data": {
            "image/png": "[encoded data removed]",
            "text/plain": [
              "<Figure size 720x360 with 2 Axes>"
            ]
          },
          "metadata": {
            "tags": [],
            "needs_background": "light"
          }
        }
      ]
    },
    {
      "cell_type": "markdown",
      "metadata": {
        "id": "CNcgMuEWd_m-",
        "colab_type": "text"
      },
      "source": [
        "# Extract feature"
      ]
    },
    {
      "cell_type": "code",
      "metadata": {
        "id": "yHA4zE6xmacQ",
        "colab_type": "code",
        "outputId": "ceba8329-cca6-4400-accf-fcaf9b821eb4",
        "colab": {
          "base_uri": "https://localhost:8080/",
          "height": 104
        }
      },
      "source": [
        "from keras import backend as K\n",
        "\n",
        "inp = model_digits.input                                           # input placeholder\n",
        "outputs = model_digits.layers[3].output         # all layer outputs\n",
        "functors = K.function([inp], [outputs])    # evaluation functions\n",
        "\n",
        "# Testing\n",
        "layer_outs = functors(x_test[:1])\n",
        "pl.imshow(layer_outs[0])"
      ],
      "execution_count": 44,
      "outputs": [
        {
          "output_type": "execute_result",
          "data": {
            "text/plain": [
              "<matplotlib.image.AxesImage at 0x7f8691e38c18>"
            ]
          },
          "metadata": {
            "tags": []
          },
          "execution_count": 44
        },
        {
          "output_type": "display_data",
          "data": {
            "image/png": "[encoded data removed]",
            "text/plain": [
              "<Figure size 720x360 with 1 Axes>"
            ]
          },
          "metadata": {
            "tags": [],
            "needs_background": "light"
          }
        }
      ]
    },
    {
      "cell_type": "code",
      "metadata": {
        "id": "QoT7vdpjWfk8",
        "colab_type": "code",
        "colab": {}
      },
      "source": [
        "def compareinout_encoded(i, outim, testimg, initialshape=(28,28)):\n",
        "  fig = pl.figure(figsize(10,5))\n",
        "  ax = fig.add_subplot(131) \n",
        "  ax.imshow(testimg[i].reshape(initialshape) , cmap=\"bone\")\n",
        "  ax.get_xaxis().set_visible(False)\n",
        "  ax.get_yaxis().set_visible(False)\n",
        "  ax = fig.add_subplot(132)\n",
        "  pl.imshow(functors(testimg[i:i+1])[0])\n",
        "  ax = fig.add_subplot(133) \n",
        "  ax.imshow(outim[i].reshape(initialshape) , cmap=\"bone\")\n",
        "  ax.get_xaxis().set_visible(False)\n",
        "  ax.get_yaxis().set_visible(False)\n"
      ],
      "execution_count": 0,
      "outputs": []
    },
    {
      "cell_type": "code",
      "metadata": {
        "id": "HvFp8cTbcdKa",
        "colab_type": "code",
        "outputId": "69bc2f0b-2f05-459b-bc2e-009b231703e9",
        "colab": {
          "base_uri": "https://localhost:8080/",
          "height": 1000
        }
      },
      "source": [
        "for i in range(10):\n",
        "  compareinout_encoded(i, output_image, x_test)"
      ],
      "execution_count": 0,
      "outputs": [
        {
          "output_type": "display_data",
          "data": {
            "image/png": "[encoded data removed]",
            "text/plain": [
              "<Figure size 720x360 with 3 Axes>"
            ]
          },
          "metadata": {
            "tags": [],
            "needs_background": "light"
          }
        },
        {
          "output_type": "display_data",
          "data": {
            "image/png": "[encoded data removed]",
            "text/plain": [
              "<Figure size 720x360 with 3 Axes>"
            ]
          },
          "metadata": {
            "tags": [],
            "needs_background": "light"
          }
        },
        {
          "output_type": "display_data",
          "data": {
            "image/png": "[encoded data removed]",
            "text/plain": [
              "<Figure size 720x360 with 3 Axes>"
            ]
          },
          "metadata": {
            "tags": [],
            "needs_background": "light"
          }
        },
        {
          "output_type": "display_data",
          "data": {
            "image/png": "[encoded data removed]",
            "text/plain": [
              "<Figure size 720x360 with 3 Axes>"
            ]
          },
          "metadata": {
            "tags": [],
            "needs_background": "light"
          }
        },
        {
          "output_type": "display_data",
          "data": {
            "image/png": "[encoded data removed]",
            "text/plain": [
              "<Figure size 720x360 with 3 Axes>"
            ]
          },
          "metadata": {
            "tags": [],
            "needs_background": "light"
          }
        },
        {
          "output_type": "display_data",
          "data": {
            "image/png": "[encoded data removed]",
            "text/plain": [
              "<Figure size 720x360 with 3 Axes>"
            ]
          },
          "metadata": {
            "tags": [],
            "needs_background": "light"
          }
        },
        {
          "output_type": "display_data",
          "data": {
            "image/png": "[encoded data removed]",
            "text/plain": [
              "<Figure size 720x360 with 3 Axes>"
            ]
          },
          "metadata": {
            "tags": [],
            "needs_background": "light"
          }
        },
        {
          "output_type": "display_data",
          "data": {
            "image/png": "[encoded data removed]",
            "text/plain": [
              "<Figure size 720x360 with 3 Axes>"
            ]
          },
          "metadata": {
            "tags": [],
            "needs_background": "light"
          }
        },
        {
          "output_type": "display_data",
          "data": {
            "image/png": "[encoded data removed]",
            "text/plain": [
              "<Figure size 720x360 with 3 Axes>"
            ]
          },
          "metadata": {
            "tags": [],
            "needs_background": "light"
          }
        },
        {
          "output_type": "display_data",
          "data": {
            "image/png": "[encoded data removed]",
            "text/plain": [
              "<Figure size 720x360 with 3 Axes>"
            ]
          },
          "metadata": {
            "tags": [],
            "needs_background": "light"
          }
        }
      ]
    },
    {
      "cell_type": "code",
      "metadata": {
        "id": "ivBrwoxqddZv",
        "colab_type": "code",
        "colab": {}
      },
      "source": [
        ""
      ],
      "execution_count": 0,
      "outputs": []
    }
  ]
}